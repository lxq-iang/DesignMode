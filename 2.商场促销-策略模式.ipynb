{
 "cells": [
  {
   "cell_type": "markdown",
   "metadata": {},
   "source": [
    "## 商场收银软件"
   ]
  },
  {
   "cell_type": "markdown",
   "metadata": {},
   "source": [
    "### 收银系统V1.0"
   ]
  },
  {
   "cell_type": "markdown",
   "metadata": {
    "dotnet_interactive": {
     "language": "value"
    },
    "polyglot_notebook": {
     "kernelName": "value"
    }
   },
   "source": [
    "```C#\n",
    "double total = 0.0d;\n",
    "\n",
    "private void btnOk_Click(object sender, EventArgs s)\n",
    "{\n",
    "    double totalPrices = Convert.ToDouble(textPrice.Text) * \n",
    "    Convert.ToDouble(textNum.Text);\n",
    "    total = total + totalPrices;\n",
    "    lblResult.Items.Add(\"单价\" + textPrice.Text + \"数量\" \n",
    "    + textNum.Text + \"合计\" + totalPrices.ToString();\n",
    "    lblResult.Text = total.ToString();\n",
    "}\n",
    "```"
   ]
  },
  {
   "cell_type": "markdown",
   "metadata": {},
   "source": [
    "### 收银系统V1.1"
   ]
  },
  {
   "cell_type": "markdown",
   "metadata": {},
   "source": [
    "```C#\n",
    "double total = 0.0d;\n",
    "\n",
    "private Form1_Load(object sender, EventArgs e)\n",
    "{\n",
    "    cbxType.Items.AddRange(new object[]{\"正常收费\",\"打八折\",\"打七折\",\"打五折\"});\n",
    "    cbxType.SelectedIndex = 0;\n",
    "}\n",
    "\n",
    "private void btnOk_Click(object sender, EventArgs s)\n",
    "{\n",
    "    double totalPrices = 0d;\n",
    "    switch(cbxType.SelectedIndex)\n",
    "    {\n",
    "        case 0:\n",
    "            totalPrices = Convert.ToDouble(textPrice.Text) * Convert.ToDouble(textNum.Text);\n",
    "            break;\n",
    "        case 1:\n",
    "            totalPrices = Convert.ToDouble(textPrice.Text) * Convert.ToDouble(textNum.Text) * 0.8;\n",
    "            break;\n",
    "        case 2:\n",
    "            totalPrices = Convert.ToDouble(textPrice.Text) * Convert.ToDouble(textNum.Text) * 0.7;\n",
    "            break;\n",
    "        case 3:\n",
    "            totalPrices = Convert.ToDouble(textPrice.Text) * Convert.ToDouble(textNum.Text) * 0.5;\n",
    "            break;\n",
    "    }\n",
    "    \n",
    "    total = total + totalPrices;\n",
    "    lblResult.Items.Add(\"单价\" + textPrice.Text + \"数量\" \n",
    "    + textNum.Text + \"合计\" + totalPrices.ToString();\n",
    "    lblResult.Text = total.ToString();\n",
    "}\n",
    "\n",
    "```"
   ]
  },
  {
   "cell_type": "markdown",
   "metadata": {},
   "source": [
    "### 简单工厂实现\n",
    "**面向对象编程，并不是类越多越好，类的划分是为了封装，但分类的基础是抽象，具有相同属性和功能的对象抽象几何才是类** 打一折和打九折只是形式不同，抽象分析出来，所有的打折算法都是一样的，所以打折算法应该算一个类。"
   ]
  },
  {
   "cell_type": "code",
   "execution_count": 12,
   "metadata": {
    "dotnet_interactive": {
     "language": "mermaid"
    },
    "polyglot_notebook": {
     "kernelName": "mermaid"
    },
    "vscode": {
     "languageId": "polyglot-notebook"
    }
   },
   "outputs": [
    {
     "data": {
      "text/html": [
       "<div class=\"mermaidMarkdownContainer\" style=\"background-color:white\">\r\n",
       "<link rel=\"stylesheet\" href=\"https://cdnjs.cloudflare.com/ajax/libs/font-awesome/6.2.0/css/all.min.css\">\r\n",
       "<div id=\"b5224a1fd9e041ef89ccfc9cafe30bb0\"></div>\r\n",
       "<script type=\"module\">\r\n",
       "\r\n",
       "            import mermaid from 'https://cdn.jsdelivr.net/npm/mermaid@10.6.1/dist/mermaid.esm.min.mjs';\r\n",
       "            let renderTarget = document.getElementById('b5224a1fd9e041ef89ccfc9cafe30bb0');\r\n",
       "            try {\r\n",
       "                const {svg, bindFunctions} = await mermaid.mermaidAPI.render( \r\n",
       "                    'mermaid_b5224a1fd9e041ef89ccfc9cafe30bb0', \r\n",
       "                    `---\r\n",
       "title: 简单工厂UML图\r\n",
       "---\r\n",
       "classDiagram\r\n",
       "    CashSuper <|-- CashNormal\r\n",
       "    CashSuper <|-- CashRebate\r\n",
       "    CashSuper <|-- CashReturn\r\n",
       "    CashNormal ..> CashFactory\r\n",
       "    CashRebate ..> CashFactory\r\n",
       "    CashReturn ..> CashFactory\r\n",
       "    class CashSuper{\r\n",
       "        <<abstract>>\r\n",
       "        +acceptCash() double\r\n",
       "    }\r\n",
       "    class CashNormal{\r\n",
       "        +acceptCash() double\r\n",
       "    }\r\n",
       "    class CashRebate{\r\n",
       "        +acceptCash() double\r\n",
       "    }\r\n",
       "    class CashReturn{\r\n",
       "        +acceptCash() double\r\n",
       "    }\r\n",
       "    class CashFactory{\r\n",
       "        +createCashAccept() CashSuper\r\n",
       "    }`);\r\n",
       "                renderTarget.innerHTML = svg;\r\n",
       "                bindFunctions?.(renderTarget);\r\n",
       "            }\r\n",
       "            catch (error) {\r\n",
       "                console.log(error);\r\n",
       "            }\r\n",
       "</script>\r\n",
       "</div>\r\n"
      ]
     },
     "metadata": {},
     "output_type": "display_data"
    }
   ],
   "source": [
    "---\n",
    "title: 简单工厂UML图\n",
    "---\n",
    "classDiagram\n",
    "    CashSuper <|-- CashNormal\n",
    "    CashSuper <|-- CashRebate\n",
    "    CashSuper <|-- CashReturn\n",
    "    CashNormal ..> CashFactory\n",
    "    CashRebate ..> CashFactory\n",
    "    CashReturn ..> CashFactory\n",
    "    class CashSuper{\n",
    "        <<abstract>>\n",
    "        +acceptCash() double\n",
    "    }\n",
    "    class CashNormal{\n",
    "        +acceptCash() double\n",
    "    }\n",
    "    class CashRebate{\n",
    "        +acceptCash() double\n",
    "    }\n",
    "    class CashReturn{\n",
    "        +acceptCash() double\n",
    "    }\n",
    "    class CashFactory{\n",
    "        +createCashAccept() CashSuper\n",
    "    }"
   ]
  },
  {
   "cell_type": "markdown",
   "metadata": {},
   "source": [
    "**现金收费抽象类**"
   ]
  },
  {
   "cell_type": "code",
   "execution_count": 13,
   "metadata": {
    "dotnet_interactive": {
     "language": "csharp"
    },
    "polyglot_notebook": {
     "kernelName": "csharp"
    },
    "vscode": {
     "languageId": "polyglot-notebook"
    }
   },
   "outputs": [],
   "source": [
    "abstract class CashSuper\n",
    "{\n",
    "    public abstract double acceptCash(double money);\n",
    "}"
   ]
  },
  {
   "cell_type": "markdown",
   "metadata": {},
   "source": [
    "**正常收费子类**"
   ]
  },
  {
   "cell_type": "code",
   "execution_count": 14,
   "metadata": {
    "dotnet_interactive": {
     "language": "csharp"
    },
    "polyglot_notebook": {
     "kernelName": "csharp"
    },
    "vscode": {
     "languageId": "polyglot-notebook"
    }
   },
   "outputs": [],
   "source": [
    "class CashNormal:CashSuper\n",
    "{\n",
    "    public override double acceptCash(double money)\n",
    "    {\n",
    "        return money;\n",
    "    }\n",
    "}"
   ]
  },
  {
   "cell_type": "markdown",
   "metadata": {},
   "source": [
    "**打折收费子类**"
   ]
  },
  {
   "cell_type": "code",
   "execution_count": 15,
   "metadata": {
    "dotnet_interactive": {
     "language": "csharp"
    },
    "polyglot_notebook": {
     "kernelName": "csharp"
    },
    "vscode": {
     "languageId": "polyglot-notebook"
    }
   },
   "outputs": [],
   "source": [
    "class CashRebate:CashSuper\n",
    "{\n",
    "    private double _moneyRebate = 1d;\n",
    "    public CashRebate(string moneyRebate)\n",
    "    {\n",
    "        _moneyRebate = double.Parse(moneyRebate);\n",
    "    }\n",
    "    public override double acceptCash(double money)\n",
    "    {\n",
    "        return money * _moneyRebate;\n",
    "    }\n",
    "}"
   ]
  },
  {
   "cell_type": "markdown",
   "metadata": {},
   "source": [
    "**返利收费子类**"
   ]
  },
  {
   "cell_type": "code",
   "execution_count": 16,
   "metadata": {
    "dotnet_interactive": {
     "language": "csharp"
    },
    "polyglot_notebook": {
     "kernelName": "csharp"
    },
    "vscode": {
     "languageId": "polyglot-notebook"
    }
   },
   "outputs": [],
   "source": [
    "class CashReturn:CashSuper\n",
    "{\n",
    "    private double _moneyCondition = 0.0d;\n",
    "    private double _moneyReturn = 0.0d;\n",
    "    public CashReturn(string moneyCondition, string moneyReturn)\n",
    "    {\n",
    "        _moneyCondition = double.Parse(moneyCondition);\n",
    "        _moneyReturn = double.Parse(moneyReturn);\n",
    "    }\n",
    "    public override double acceptCash(double money)\n",
    "    {\n",
    "        double result = money;\n",
    "        if(money > _moneyCondition)\n",
    "            result = money - Math.Floor(money / _moneyCondition) * _moneyReturn;\n",
    "        return result;\n",
    "    }\n",
    "}"
   ]
  },
  {
   "cell_type": "markdown",
   "metadata": {},
   "source": [
    "**现金收费工厂类**"
   ]
  },
  {
   "cell_type": "code",
   "execution_count": 17,
   "metadata": {
    "dotnet_interactive": {
     "language": "csharp"
    },
    "polyglot_notebook": {
     "kernelName": "csharp"
    },
    "vscode": {
     "languageId": "polyglot-notebook"
    }
   },
   "outputs": [],
   "source": [
    "class CashFactory\n",
    "{\n",
    "    public static CashSuper createCashAccept(string type)\n",
    "    {\n",
    "        CashSuper cs = null;\n",
    "        switch(type)\n",
    "        {\n",
    "            case \"正常收费\":\n",
    "                cs = new CashNormal();\n",
    "                break;\n",
    "            case \"满300返100\":\n",
    "                cs = new CashReturn(\"300\",\"100\");\n",
    "                break;\n",
    "            case \"打8折\":\n",
    "                cs = new CashRebate(\"0.8\");\n",
    "                break;\n",
    "        }\n",
    "        return cs;\n",
    "    }\n",
    "}"
   ]
  },
  {
   "cell_type": "markdown",
   "metadata": {},
   "source": [
    "**客户端程序主要部分**"
   ]
  },
  {
   "cell_type": "markdown",
   "metadata": {},
   "source": [
    "```C#\n",
    "double total = 0.0d;\n",
    "\n",
    "private void btnOk_Click(object sender, EventArgs s)\n",
    "{\n",
    "    CashSuper csuper = CashFactory.createCashAccept(cbxType.SelectedItem.ToString());\n",
    "    double totalPrices = csuper.acceptCash(Convert.ToDouble(txtPrice.Text) * Convert.ToDouble(txtNum.Text));\n",
    "    total = total + totalPrices;\n",
    "    lblResult.Items.Add(\"单价\" + textPrice.Text + \"数量\" \n",
    "    + textNum.Text + \"合计\" + totalPrices.ToString();\n",
    "    lblResult.Text = total.ToString();\n",
    "}\n",
    "```"
   ]
  },
  {
   "cell_type": "markdown",
   "metadata": {},
   "source": [
    "**面对算法的经常变动，经常改动工厂会导致代码经常编译部署**"
   ]
  },
  {
   "cell_type": "markdown",
   "metadata": {},
   "source": [
    "### 策略模式"
   ]
  },
  {
   "cell_type": "markdown",
   "metadata": {},
   "source": [
    ">策略模式（Strategy）：它定义了算法家族，分别封装起来，让它们之间可以相互替换，此模式让算法的变化不会影响到使用算法的客户。"
   ]
  },
  {
   "cell_type": "code",
   "execution_count": 5,
   "metadata": {
    "dotnet_interactive": {
     "language": "mermaid"
    },
    "polyglot_notebook": {
     "kernelName": "mermaid"
    },
    "vscode": {
     "languageId": "polyglot-notebook"
    }
   },
   "outputs": [
    {
     "data": {
      "text/html": [
       "<div class=\"mermaidMarkdownContainer\" style=\"background-color:white\">\r\n",
       "<link rel=\"stylesheet\" href=\"https://cdnjs.cloudflare.com/ajax/libs/font-awesome/6.2.0/css/all.min.css\">\r\n",
       "<div id=\"573adbf24cc84c46b63cf4d02ca55044\"></div>\r\n",
       "<script type=\"module\">\r\n",
       "\r\n",
       "            import mermaid from 'https://cdn.jsdelivr.net/npm/mermaid@10.6.1/dist/mermaid.esm.min.mjs';\r\n",
       "            let renderTarget = document.getElementById('573adbf24cc84c46b63cf4d02ca55044');\r\n",
       "            try {\r\n",
       "                const {svg, bindFunctions} = await mermaid.mermaidAPI.render( \r\n",
       "                    'mermaid_573adbf24cc84c46b63cf4d02ca55044', \r\n",
       "                    `---\r\n",
       "title: 策略模式（Strategy）结构图\r\n",
       "---\r\n",
       "classDiagram\r\n",
       "    class Context{\r\n",
       "        -Strategy\r\n",
       "        +ContextInterface()\r\n",
       "    }\r\n",
       "    class Strategy{\r\n",
       "        +Algorithmlnterface()\r\n",
       "    }\r\n",
       "    class ConcreteStrategyA{\r\n",
       "        +Algorithmlnterface()\r\n",
       "    }\r\n",
       "    class ConcreteStrategyB{\r\n",
       "        +Algorithmlnterface()\r\n",
       "    }\r\n",
       "    class ConcreteStrategyC{\r\n",
       "        +Algorithmlnterface()\r\n",
       "    }\r\n",
       "    Context o--> Strategy\r\n",
       "    Strategy <|-- ConcreteStrategyA\r\n",
       "    Strategy <|-- ConcreteStrategyB\r\n",
       "    Strategy <|-- ConcreteStrategyC\r\n",
       "    note for Context \"Context 上下文，用一个\\\\nConcreteStrategy来配置，\\\\n维护一个对Strategy对象的引用\"\r\n",
       "    note for Strategy \"策略类，定义所有支持\\\\n的算法的公共接口\"\r\n",
       "    note for ConcreteStrategyA \"具体策略类，封装了具体的算法或行为，继承于Strategy\"`);\r\n",
       "                renderTarget.innerHTML = svg;\r\n",
       "                bindFunctions?.(renderTarget);\r\n",
       "            }\r\n",
       "            catch (error) {\r\n",
       "                console.log(error);\r\n",
       "            }\r\n",
       "</script>\r\n",
       "</div>\r\n"
      ]
     },
     "metadata": {},
     "output_type": "display_data"
    }
   ],
   "source": [
    "---\n",
    "title: 策略模式（Strategy）结构图\n",
    "---\n",
    "classDiagram\n",
    "    class Context{\n",
    "        -Strategy\n",
    "        +ContextInterface()\n",
    "    }\n",
    "    class Strategy{\n",
    "        +Algorithmlnterface()\n",
    "    }\n",
    "    class ConcreteStrategyA{\n",
    "        +Algorithmlnterface()\n",
    "    }\n",
    "    class ConcreteStrategyB{\n",
    "        +Algorithmlnterface()\n",
    "    }\n",
    "    class ConcreteStrategyC{\n",
    "        +Algorithmlnterface()\n",
    "    }\n",
    "    Context o--> Strategy\n",
    "    Strategy <|-- ConcreteStrategyA\n",
    "    Strategy <|-- ConcreteStrategyB\n",
    "    Strategy <|-- ConcreteStrategyC\n",
    "    note for Context \"Context 上下文，用一个\\nConcreteStrategy来配置，\\n维护一个对Strategy对象的引用\"\n",
    "    note for Strategy \"策略类，定义所有支持\\n的算法的公共接口\"\n",
    "    note for ConcreteStrategyA \"具体策略类，封装了具体的算法或行为，继承于Strategy\""
   ]
  },
  {
   "cell_type": "markdown",
   "metadata": {},
   "source": [
    "**Strategy类，定义了所有支持算法的公共接口**"
   ]
  },
  {
   "cell_type": "code",
   "execution_count": 7,
   "metadata": {
    "vscode": {
     "languageId": "polyglot-notebook"
    }
   },
   "outputs": [],
   "source": [
    "//抽象算法类\n",
    "abstract class Strategy\n",
    "{\n",
    "    //算法方法\n",
    "    public abstract void Algorithmlnterface();\n",
    "}"
   ]
  },
  {
   "cell_type": "markdown",
   "metadata": {},
   "source": [
    "**ConcreteStragety,封装了具体的算法或行为，继承于Strategy**"
   ]
  },
  {
   "cell_type": "code",
   "execution_count": 8,
   "metadata": {
    "vscode": {
     "languageId": "polyglot-notebook"
    }
   },
   "outputs": [],
   "source": [
    "//具体算法A\n",
    "class ConcreteStrategyA:Strategy\n",
    "{\n",
    "    //算法A实现方法\n",
    "    public override void Algorithmlnterface()\n",
    "    {\n",
    "        Console.WriteLine(\"算法A实现\");\n",
    "    }\n",
    "}\n",
    "\n",
    "//具体算法B\n",
    "class ConcreteStrategyB:Strategy\n",
    "{\n",
    "    //算法A实现方法\n",
    "    public override void Algorithmlnterface()\n",
    "    {\n",
    "        Console.WriteLine(\"算法B实现\");\n",
    "    }\n",
    "}\n",
    "\n",
    "//具体算法C\n",
    "class ConcreteStrategyC:Strategy\n",
    "{\n",
    "    //算法A实现方法\n",
    "    public override void Algorithmlnterface()\n",
    "    {\n",
    "        Console.WriteLine(\"算法C实现\");\n",
    "    }\n",
    "}"
   ]
  },
  {
   "cell_type": "markdown",
   "metadata": {},
   "source": [
    "**Context, 用一个ConcreteStrategy来配置，维护一个对Strategy对象的引用**"
   ]
  },
  {
   "cell_type": "code",
   "execution_count": 9,
   "metadata": {
    "vscode": {
     "languageId": "polyglot-notebook"
    }
   },
   "outputs": [],
   "source": [
    "class Context\n",
    "{\n",
    "    Strategy _strategy;\n",
    "    //初始化时，传入具体的策略对象\n",
    "    public Context(Strategy strategy)\n",
    "    {\n",
    "        _strategy = strategy;\n",
    "    }\n",
    "\n",
    "    //上下文接口\n",
    "    public void ContextInterface()\n",
    "    {\n",
    "        _strategy.Algorithmlnterface();\n",
    "    }\n",
    "}"
   ]
  },
  {
   "cell_type": "markdown",
   "metadata": {},
   "source": [
    "**客户端代码**"
   ]
  },
  {
   "cell_type": "code",
   "execution_count": 11,
   "metadata": {
    "vscode": {
     "languageId": "polyglot-notebook"
    }
   },
   "outputs": [
    {
     "name": "stdout",
     "output_type": "stream",
     "text": [
      "算法A实现\n",
      "算法B实现\n",
      "算法C实现\n"
     ]
    }
   ],
   "source": [
    "Context context;\n",
    "//实例化时传入不同的策略，所以最终在调用context.ContextInterface();时，所获得的结果就不尽相同\n",
    "context = new Context(new ConcreteStrategyA());\n",
    "context.ContextInterface();\n",
    "\n",
    "context = new Context(new ConcreteStrategyB());\n",
    "context.ContextInterface();\n",
    "\n",
    "context = new Context(new ConcreteStrategyC());\n",
    "context.ContextInterface();\n"
   ]
  },
  {
   "cell_type": "markdown",
   "metadata": {},
   "source": [
    "### 策略模式实现"
   ]
  },
  {
   "cell_type": "code",
   "execution_count": 12,
   "metadata": {
    "dotnet_interactive": {
     "language": "mermaid"
    },
    "polyglot_notebook": {
     "kernelName": "mermaid"
    },
    "vscode": {
     "languageId": "polyglot-notebook"
    }
   },
   "outputs": [
    {
     "data": {
      "text/html": [
       "<div class=\"mermaidMarkdownContainer\" style=\"background-color:white\">\r\n",
       "<link rel=\"stylesheet\" href=\"https://cdnjs.cloudflare.com/ajax/libs/font-awesome/6.2.0/css/all.min.css\">\r\n",
       "<div id=\"afda95008849425491c4149c474a5beb\"></div>\r\n",
       "<script type=\"module\">\r\n",
       "\r\n",
       "            import mermaid from 'https://cdn.jsdelivr.net/npm/mermaid@10.6.1/dist/mermaid.esm.min.mjs';\r\n",
       "            let renderTarget = document.getElementById('afda95008849425491c4149c474a5beb');\r\n",
       "            try {\r\n",
       "                const {svg, bindFunctions} = await mermaid.mermaidAPI.render( \r\n",
       "                    'mermaid_afda95008849425491c4149c474a5beb', \r\n",
       "                    `---\r\n",
       "title: 策略模式\r\n",
       "---\r\n",
       "classDiagram\r\n",
       "    CashSuper <|-- CashNormal\r\n",
       "    CashSuper <|-- CashRebate\r\n",
       "    CashSuper <|-- CashReturn\r\n",
       "    CashContext o--> CashSuper\r\n",
       "    \r\n",
       "    class CashSuper{\r\n",
       "        <<abstract>>\r\n",
       "        +acceptCash() double\r\n",
       "    }\r\n",
       "    class CashNormal{\r\n",
       "        +acceptCash() double\r\n",
       "    }\r\n",
       "    class CashRebate{\r\n",
       "        +acceptCash() double\r\n",
       "    }\r\n",
       "    class CashReturn{\r\n",
       "        +acceptCash() double\r\n",
       "    }\r\n",
       "    class CashContext{\r\n",
       "        +GetResult() double\r\n",
       "    }`);\r\n",
       "                renderTarget.innerHTML = svg;\r\n",
       "                bindFunctions?.(renderTarget);\r\n",
       "            }\r\n",
       "            catch (error) {\r\n",
       "                console.log(error);\r\n",
       "            }\r\n",
       "</script>\r\n",
       "</div>\r\n"
      ]
     },
     "metadata": {},
     "output_type": "display_data"
    }
   ],
   "source": [
    "---\n",
    "title: 策略模式\n",
    "---\n",
    "classDiagram\n",
    "    CashSuper <|-- CashNormal\n",
    "    CashSuper <|-- CashRebate\n",
    "    CashSuper <|-- CashReturn\n",
    "    CashContext o--> CashSuper\n",
    "    \n",
    "    class CashSuper{\n",
    "        <<abstract>>\n",
    "        +acceptCash() double\n",
    "    }\n",
    "    class CashNormal{\n",
    "        +acceptCash() double\n",
    "    }\n",
    "    class CashRebate{\n",
    "        +acceptCash() double\n",
    "    }\n",
    "    class CashReturn{\n",
    "        +acceptCash() double\n",
    "    }\n",
    "    class CashContext{\n",
    "        +GetResult() double\n",
    "    }"
   ]
  },
  {
   "cell_type": "markdown",
   "metadata": {},
   "source": [
    "**在原来的基础上增加CashContext类**"
   ]
  },
  {
   "cell_type": "code",
   "execution_count": 14,
   "metadata": {
    "vscode": {
     "languageId": "polyglot-notebook"
    }
   },
   "outputs": [],
   "source": [
    "class CashContext\n",
    "{\n",
    "    //声明一个CashSuper对象\n",
    "    private CashSuper _cashSuper;\n",
    "    //通过构造方法，传入具体的收费策略\n",
    "    public CashContext(CashSuper cashSuper)\n",
    "    {\n",
    "        _cashSuper = cashSuper;\n",
    "    }\n",
    "    public double GetResult(double money)\n",
    "    {\n",
    "        //根据收费策略的不同，获得计算结果\n",
    "        return _cashSuper.acceptCash(money);\n",
    "    }\n",
    "}"
   ]
  },
  {
   "cell_type": "markdown",
   "metadata": {},
   "source": [
    "**客户端主要代码**"
   ]
  },
  {
   "cell_type": "markdown",
   "metadata": {
    "vscode": {
     "languageId": "polyglot-notebook"
    }
   },
   "source": [
    "```C#\n",
    "double total = 0.0d;\n",
    "\n",
    "private void btnOk_Click(object sender, EventArgs s)\n",
    "{\n",
    "    CashContext cc = null;\n",
    "    switch(cbxType.SelectedItem.ToString())\n",
    "    {\n",
    "        case \"正常收费\":\n",
    "            cc = new CashContext(new CashNormal());\n",
    "            break;\n",
    "        case \"满300返100\":\n",
    "            cc = new CashContext(new CashReturn(\"300\",\"100\"));\n",
    "            break;\n",
    "        case \"打8折\":\n",
    "            cc = new CashContext(new CashRebate(\"0.8\"));\n",
    "            break;\n",
    "    }\n",
    "\n",
    "    CashSuper csuper = CashFactory.createCashAccept(cbxType.SelectedItem.ToString());\n",
    "    double totalPrices = cc.GetResult(Convert.ToDouble(txtPrice.Text) * Convert.ToDouble(txtNum.Text));\n",
    "    total = total + totalPrices;\n",
    "    lblResult.Items.Add(\"单价\" + textPrice.Text + \"数量\" \n",
    "    + textNum.Text + \"合计\" + totalPrices.ToString();\n",
    "    lblResult.Text = total.ToString();\n",
    "}\n",
    "```"
   ]
  },
  {
   "cell_type": "markdown",
   "metadata": {},
   "source": [
    "### 策略与简单工厂结合"
   ]
  },
  {
   "cell_type": "markdown",
   "metadata": {},
   "source": [
    "**改造后的CashContext**"
   ]
  },
  {
   "cell_type": "code",
   "execution_count": 15,
   "metadata": {
    "dotnet_interactive": {
     "language": "csharp"
    },
    "polyglot_notebook": {
     "kernelName": "csharp"
    },
    "vscode": {
     "languageId": "polyglot-notebook"
    }
   },
   "outputs": [],
   "source": [
    "class CashContext\n",
    "{\n",
    "    //声明一个CashSuper对象\n",
    "    CashSuper cs = null;\n",
    "    //此时传入的参数不是具体的收费策略对象,而是一个字符串，表示收费类型\n",
    "    public CashContext(string type)\n",
    "    {\n",
    "        switch(type)\n",
    "        {\n",
    "            case \"正常收费\":\n",
    "                cs = new CashNormal();\n",
    "                break;\n",
    "            case \"满300返100\":\n",
    "                cs = new CashReturn(\"300\",\"100\");\n",
    "                break;\n",
    "            case \"打8折\":\n",
    "                cs = new CashRebate(\"0.8\");\n",
    "                break;\n",
    "        }\n",
    "    }\n",
    "    public double GetResult(double money)\n",
    "    {\n",
    "        //根据收费策略的不同，获得计算结果\n",
    "        return cs.acceptCash(money);\n",
    "    }\n",
    "}"
   ]
  },
  {
   "cell_type": "markdown",
   "metadata": {},
   "source": [
    "**客户端代码**"
   ]
  },
  {
   "cell_type": "markdown",
   "metadata": {
    "dotnet_interactive": {
     "language": "csharp"
    },
    "polyglot_notebook": {
     "kernelName": "csharp"
    }
   },
   "source": [
    "```C#\n",
    "double total = 0.0d;\n",
    "\n",
    "private void btnOk_Click(object sender, EventArgs s)\n",
    "{\n",
    "    //根据下拉选择框，将相应的散发类型字符串传入CashContext的对象中\n",
    "    CashContext csuper = new CashCOntext(cbxType.SelectedItem.ToString());\n",
    "    double totalPrices = csuper.GetResult(Convert.ToDouble(txtPrice.Text) * Convert.ToDouble(txtNum.Text));\n",
    "    total = total + totalPrices;\n",
    "    lblResult.Items.Add(\"单价\" + textPrice.Text + \"数量\" \n",
    "    + textNum.Text + \"合计\" + totalPrices.ToString();\n",
    "    lblResult.Text = total.ToString();\n",
    "}\n",
    "```"
   ]
  },
  {
   "cell_type": "markdown",
   "metadata": {},
   "source": [
    "***简单工厂与策略模式的对比***"
   ]
  },
  {
   "cell_type": "markdown",
   "metadata": {},
   "source": [
    "```C#\n",
    "//简单工厂模式的用法\n",
    "CashSuper csuper = CashFactory.createCashAccept(cbxType.SelectedItem.ToString());\n",
    "\n",
    "...=csuper.GetResult(...);\n",
    "\n",
    "//策略模式与简单工厂结合的用法\n",
    "CashContext csuper = new CashContext(cbxType.SelectedItem.ToString());\n",
    "\n",
    "...=csuper.GetResult(...);\n",
    "\n",
    "```"
   ]
  },
  {
   "cell_type": "markdown",
   "metadata": {},
   "source": [
    "<font color=\"green\">简单工厂模式需要让客户端认识两个类，CashSuper和CashFactory,而策略模式与简单工厂结合的用法，客户端的只需要认识一个类CashContext就可以了。耦合度更加降低。</font>"
   ]
  },
  {
   "cell_type": "markdown",
   "metadata": {},
   "source": [
    "### 策略模式解析"
   ]
  },
  {
   "cell_type": "markdown",
   "metadata": {},
   "source": [
    "策略模式是一种定义一系列算法的方法，从概念上来看，所有这些算法完成的都是相同的工作，只是实现不同，它可以以<font color=\"blue\">相同的方式调用</font>所有的算法，减少了各类算法类与使用算法类之间的耦合"
   ]
  },
  {
   "cell_type": "markdown",
   "metadata": {},
   "source": [
    "**策略模式的优点**\n",
    "1. 策略模式的Strategy类层次为Context定义了一系列的可供重用的算法或行为。继承有助于析取这些算法中的公共功能\n",
    "2. 简化了单元测试，因为每个算法都有自己的类，可以通过自己的接口单独测试"
   ]
  },
  {
   "cell_type": "markdown",
   "metadata": {},
   "source": [
    "策略模式在实践中可以用来封装几乎任何类型的规则，只要在分析中听到需要再不同时间应用不同的业务规则，就可以考虑使用策略模式处理这种变化的可能性"
   ]
  },
  {
   "cell_type": "markdown",
   "metadata": {},
   "source": []
  }
 ],
 "metadata": {
  "kernelspec": {
   "display_name": ".NET (C#)",
   "language": "C#",
   "name": ".net-csharp"
  },
  "language_info": {
   "name": "csharp"
  },
  "polyglot_notebook": {
   "kernelInfo": {
    "defaultKernelName": "csharp",
    "items": [
     {
      "aliases": [],
      "name": "csharp"
     }
    ]
   }
  }
 },
 "nbformat": 4,
 "nbformat_minor": 2
}
