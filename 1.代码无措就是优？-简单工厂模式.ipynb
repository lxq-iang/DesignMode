{
 "cells": [
  {
   "cell_type": "markdown",
   "metadata": {},
   "source": [
    "### 计算器控制台程序"
   ]
  },
  {
   "cell_type": "code",
   "execution_count": null,
   "metadata": {
    "dotnet_interactive": {
     "language": "csharp"
    },
    "polyglot_notebook": {
     "kernelName": "csharp"
    },
    "vscode": {
     "languageId": "polyglot-notebook"
    }
   },
   "outputs": [],
   "source": [
    "class Program\n",
    "{\n",
    "    static void Main(string[] args)\n",
    "    {\n",
    "        try\n",
    "        {\n",
    "            Console.Write(\"请输入数字A：\");\n",
    "            string strNumberA = Console.ReadLine();\n",
    "            Console.Write(\"请输入运算符号（+，-，*，/）: \");\n",
    "            string strOperate = Console.ReadLine();\n",
    "            Console.Write(\"请输入数字B：\");\n",
    "            string strNumberB = Console.ReadLine();\n",
    "            string strResult = \"\";\n",
    "            switch(strOperate)\n",
    "            {\n",
    "                case \"+\":\n",
    "                    strResult = Convert.ToString(Convert.ToDouble(strNumberA)\n",
    "                    + Convert.ToDouble(strNumberB));\n",
    "                    break;\n",
    "                case \"-\":\n",
    "                    strResult = Convert.ToString(Convert.ToDouble(strNumberA)\n",
    "                    - Convert.ToDouble(strNumberB));\n",
    "                    break;\n",
    "                case \"*\":\n",
    "                    strResult = Convert.ToString(Convert.ToDouble(strNumberA)\n",
    "                    * Convert.ToDouble(strNumberB));\n",
    "                    break;\n",
    "                case \"/\":\n",
    "                    if(strNumberB != \"0\"){\n",
    "                        strResult = Convert.ToString(Convert.ToDouble(strNumberA)\n",
    "                    / Convert.ToDouble(strNumberB));\n",
    "                    }else{\n",
    "                        strResult = \"除数不能为0\";\n",
    "                    }\n",
    "                    break;\n",
    "            }\n",
    "            Console.WriteLine(\"结果是：\" + strResult);\n",
    "            Console.ReadLine();\n",
    "        }\n",
    "        catch(Exception ex){\n",
    "            Console.WriteLine(\"您输入的值有误：\" + ex.Message);\n",
    "        }\n",
    "    }\n",
    "}"
   ]
  },
  {
   "cell_type": "markdown",
   "metadata": {
    "dotnet_interactive": {
     "language": "mermaid"
    },
    "polyglot_notebook": {
     "kernelName": "mermaid"
    },
    "vscode": {
     "languageId": "polyglot-notebook"
    }
   },
   "source": [
    "### 业务的封装"
   ]
  },
  {
   "cell_type": "markdown",
   "metadata": {},
   "source": [
    "#### Operation运算类"
   ]
  },
  {
   "cell_type": "code",
   "execution_count": null,
   "metadata": {
    "dotnet_interactive": {
     "language": "csharp"
    },
    "polyglot_notebook": {
     "kernelName": "csharp"
    },
    "vscode": {
     "languageId": "polyglot-notebook"
    }
   },
   "outputs": [],
   "source": [
    "public class Operation\n",
    "{\n",
    "    public static double GetResult(double numberA, double numberB, string operate)\n",
    "    {\n",
    "        double result = 0d;\n",
    "        switch(operate)\n",
    "        {\n",
    "            case \"+\":\n",
    "                result = numberA + numberB;\n",
    "                break;\n",
    "            case \"-\":\n",
    "                result = numberA - numberB;\n",
    "                break;\n",
    "            case \"*\":\n",
    "                result = numberA - numberB;\n",
    "                break;\n",
    "            case \"/\":\n",
    "                result = numberA / numberB;\n",
    "                break;\n",
    "        }\n",
    "        return result;\n",
    "    }\n",
    "}"
   ]
  },
  {
   "cell_type": "markdown",
   "metadata": {},
   "source": [
    "#### 客户端代码"
   ]
  },
  {
   "cell_type": "code",
   "execution_count": null,
   "metadata": {
    "dotnet_interactive": {
     "language": "csharp"
    },
    "polyglot_notebook": {
     "kernelName": "csharp"
    },
    "vscode": {
     "languageId": "polyglot-notebook"
    }
   },
   "outputs": [],
   "source": [
    "class Program\n",
    "{\n",
    "    static void Main(string[] args)\n",
    "    {\n",
    "        try\n",
    "        {\n",
    "            Console.Write(\"请输入数字A：\");\n",
    "            string strNumberA = Console.ReadLine();\n",
    "            Console.Write(\"请输入运算符号（+，-，*，/）: \");\n",
    "            string strOperate = Console.ReadLine();\n",
    "            Console.Write(\"请输入数字B：\");\n",
    "            string strNumberB = Console.ReadLine();\n",
    "            string strResult = \"\";\n",
    "            strResult = Convert.ToString(Operation.GetResult(Convert.ToDouble(strNumberA),\n",
    "            Convert.ToDouble(strNumberB), strOperate));\n",
    "            Console.WriteLine(\"结果是：\" + strResult);\n",
    "            Console.ReadLine();\n",
    "        }\n",
    "        catch(Exception ex){\n",
    "            Console.WriteLine(\"您输入的值有误：\" + ex.Message);\n",
    "        }\n",
    "    }\n",
    "}"
   ]
  },
  {
   "cell_type": "markdown",
   "metadata": {
    "vscode": {
     "languageId": "polyglot-notebook"
    }
   },
   "source": [
    "### 紧耦合 VS 松耦合"
   ]
  },
  {
   "cell_type": "markdown",
   "metadata": {},
   "source": [
    "#### Operation运算类"
   ]
  },
  {
   "cell_type": "code",
   "execution_count": null,
   "metadata": {
    "dotnet_interactive": {
     "language": "csharp"
    },
    "polyglot_notebook": {
     "kernelName": "csharp"
    },
    "vscode": {
     "languageId": "polyglot-notebook"
    }
   },
   "outputs": [],
   "source": [
    "public class Operation\n",
    "{\n",
    "    private double _numberA = 0;\n",
    "    private double _numberB = 0;\n",
    "\n",
    "    public double NumberA{\n",
    "        get{return _numberA;}\n",
    "        set{_numberA = value;}\n",
    "    }\n",
    "    public double NumberB{\n",
    "        get{return _numberB;}\n",
    "        set{_numberB = value;}\n",
    "    }\n",
    "\n",
    "    public virtual double GetResult(){\n",
    "        double result = 0;\n",
    "        return result;\n",
    "    }\n",
    "}"
   ]
  },
  {
   "cell_type": "markdown",
   "metadata": {},
   "source": [
    "#### 加减乘除类"
   ]
  },
  {
   "cell_type": "code",
   "execution_count": null,
   "metadata": {
    "dotnet_interactive": {
     "language": "csharp"
    },
    "polyglot_notebook": {
     "kernelName": "csharp"
    },
    "vscode": {
     "languageId": "polyglot-notebook"
    }
   },
   "outputs": [],
   "source": [
    "//加法类\n",
    "class OperationAdd : Operation\n",
    "{\n",
    "    public override double GetResult(){\n",
    "        double result = 0;\n",
    "        result = NumberA + NumberB;\n",
    "        return result;\n",
    "    }\n",
    "}"
   ]
  },
  {
   "cell_type": "code",
   "execution_count": null,
   "metadata": {
    "dotnet_interactive": {
     "language": "csharp"
    },
    "polyglot_notebook": {
     "kernelName": "csharp"
    },
    "vscode": {
     "languageId": "polyglot-notebook"
    }
   },
   "outputs": [],
   "source": [
    "//减法类\n",
    "class OperationSub : Operation\n",
    "{\n",
    "    public override double GetResult(){\n",
    "        double result = 0;\n",
    "        result = NumberA - NumberB;\n",
    "        return result;\n",
    "    }\n",
    "}"
   ]
  },
  {
   "cell_type": "code",
   "execution_count": null,
   "metadata": {
    "dotnet_interactive": {
     "language": "csharp"
    },
    "polyglot_notebook": {
     "kernelName": "csharp"
    },
    "vscode": {
     "languageId": "polyglot-notebook"
    }
   },
   "outputs": [],
   "source": [
    "//乘法类\n",
    "class OperationMul : Operation\n",
    "{\n",
    "    public override double GetResult(){\n",
    "        double result = 0;\n",
    "        result = NumberA * NumberB;\n",
    "        return result;\n",
    "    }\n",
    "}"
   ]
  },
  {
   "cell_type": "code",
   "execution_count": null,
   "metadata": {
    "dotnet_interactive": {
     "language": "csharp"
    },
    "polyglot_notebook": {
     "kernelName": "csharp"
    },
    "vscode": {
     "languageId": "polyglot-notebook"
    }
   },
   "outputs": [],
   "source": [
    "//除法类\n",
    "class OperationDiv : Operation\n",
    "{\n",
    "    public override double GetResult(){\n",
    "        double result = 0;\n",
    "        if(NumberB == 0) throw new Exception(\"除数不能为0.\");\n",
    "        result = NumberA / NumberB;\n",
    "        return result;\n",
    "    }\n",
    "}"
   ]
  },
  {
   "cell_type": "markdown",
   "metadata": {},
   "source": [
    "#### 简单工厂模式"
   ]
  },
  {
   "cell_type": "code",
   "execution_count": null,
   "metadata": {
    "dotnet_interactive": {
     "language": "csharp"
    },
    "polyglot_notebook": {
     "kernelName": "csharp"
    },
    "vscode": {
     "languageId": "polyglot-notebook"
    }
   },
   "outputs": [],
   "source": [
    "public class OperationFactory\n",
    "{\n",
    "    public static Operation createOperation(string operate)\n",
    "    {\n",
    "        Operation oper = null;\n",
    "        switch(operate)\n",
    "        {\n",
    "            case \"+\":\n",
    "                oper = new OperationAdd();\n",
    "                break;\n",
    "            case \"-\":\n",
    "                oper = new OperationSub();\n",
    "                break;\n",
    "            case \"*\":\n",
    "                oper = new OperationMul();\n",
    "                break;\n",
    "            case \"/\":\n",
    "                oper = new OperationDiv();\n",
    "                break;\n",
    "        }\n",
    "        return oper;\n",
    "    }\n",
    "}"
   ]
  },
  {
   "cell_type": "code",
   "execution_count": null,
   "metadata": {
    "dotnet_interactive": {
     "language": "csharp"
    },
    "polyglot_notebook": {
     "kernelName": "csharp"
    },
    "vscode": {
     "languageId": "polyglot-notebook"
    }
   },
   "outputs": [],
   "source": [
    "Operation oper;\n",
    "oper = OperationFactory.createOperation(\"+\");\n",
    "oper.NumberA = 1;\n",
    "oper.NumberB = 2;\n",
    "double result = oper.GetResult();\n",
    "Console.WriteLine(result);"
   ]
  },
  {
   "cell_type": "markdown",
   "metadata": {},
   "source": [
    "**使用工厂类，只需要输入运算符号，工厂就会实例化除合适的对象，通过多态，返回父类的方式实现计算器的结果**"
   ]
  },
  {
   "cell_type": "code",
   "execution_count": 2,
   "metadata": {
    "dotnet_interactive": {
     "language": "mermaid"
    },
    "polyglot_notebook": {
     "kernelName": "mermaid"
    },
    "vscode": {
     "languageId": "polyglot-notebook"
    }
   },
   "outputs": [
    {
     "data": {
      "text/html": [
       "<div class=\"mermaidMarkdownContainer\" style=\"background-color:white\">\r\n",
       "<link rel=\"stylesheet\" href=\"https://cdnjs.cloudflare.com/ajax/libs/font-awesome/6.2.0/css/all.min.css\">\r\n",
       "<div id=\"709f6e7816b04365956da95997c1f864\"></div>\r\n",
       "<script type=\"module\">\r\n",
       "\r\n",
       "            import mermaid from 'https://cdn.jsdelivr.net/npm/mermaid@10.6.1/dist/mermaid.esm.min.mjs';\r\n",
       "            let renderTarget = document.getElementById('709f6e7816b04365956da95997c1f864');\r\n",
       "            try {\r\n",
       "                const {svg, bindFunctions} = await mermaid.mermaidAPI.render( \r\n",
       "                    'mermaid_709f6e7816b04365956da95997c1f864', \r\n",
       "                    `classDiagram\n",
       "    class Operation{\n",
       "        +Double NumberA\n",
       "        +Double NumberB\n",
       "        +GetResult() double\n",
       "    }\n",
       "    class OperationAdd{\n",
       "        +GetResult() double\n",
       "    }\n",
       "    class OperationSub{\n",
       "        +GetResult() double\n",
       "    }\n",
       "    class OperationMul{\n",
       "        +GetResult() double\n",
       "    }\n",
       "    class OperationDiv{\n",
       "        +GetResult() double\n",
       "    }\n",
       "    class OperationFactory{\n",
       "        +createOperate() Operation\n",
       "    }\n",
       "    OperationFactory --> Operation\n",
       "    Operation <|-- OperationAdd\n",
       "    Operation <|-- OperationSub\n",
       "    Operation <|-- OperationMul\n",
       "    Operation <|-- OperationDiv\n",
       "`);\r\n",
       "                renderTarget.innerHTML = svg;\r\n",
       "                bindFunctions?.(renderTarget);\r\n",
       "            }\r\n",
       "            catch (error) {\r\n",
       "                console.log(error);\r\n",
       "            }\r\n",
       "</script>\r\n",
       "</div>\r\n"
      ]
     },
     "metadata": {},
     "output_type": "display_data"
    }
   ],
   "source": [
    "classDiagram\n",
    "    class Operation{\n",
    "        +Double NumberA\n",
    "        +Double NumberB\n",
    "        +GetResult() double\n",
    "    }\n",
    "    class OperationAdd{\n",
    "        +GetResult() double\n",
    "    }\n",
    "    class OperationSub{\n",
    "        +GetResult() double\n",
    "    }\n",
    "    class OperationMul{\n",
    "        +GetResult() double\n",
    "    }\n",
    "    class OperationDiv{\n",
    "        +GetResult() double\n",
    "    }\n",
    "    class OperationFactory{\n",
    "        +createOperate() Operation\n",
    "    }\n",
    "    OperationFactory --> Operation\n",
    "    Operation <|-- OperationAdd\n",
    "    Operation <|-- OperationSub\n",
    "    Operation <|-- OperationMul\n",
    "    Operation <|-- OperationDiv\n"
   ]
  },
  {
   "cell_type": "markdown",
   "metadata": {},
   "source": [
    "### UML类图"
   ]
  },
  {
   "cell_type": "code",
   "execution_count": 1,
   "metadata": {
    "dotnet_interactive": {
     "language": "mermaid"
    },
    "polyglot_notebook": {
     "kernelName": "mermaid"
    },
    "vscode": {
     "languageId": "polyglot-notebook"
    }
   },
   "outputs": [
    {
     "data": {
      "text/html": [
       "<div class=\"mermaidMarkdownContainer\" style=\"background-color:white\">\r\n",
       "<link rel=\"stylesheet\" href=\"https://cdnjs.cloudflare.com/ajax/libs/font-awesome/6.2.0/css/all.min.css\">\r\n",
       "<div id=\"198551ce2d2a409a9aaa858a16e9eb57\"></div>\r\n",
       "<script type=\"module\">\r\n",
       "\r\n",
       "            import mermaid from 'https://cdn.jsdelivr.net/npm/mermaid@10.6.1/dist/mermaid.esm.min.mjs';\r\n",
       "            let renderTarget = document.getElementById('198551ce2d2a409a9aaa858a16e9eb57');\r\n",
       "            try {\r\n",
       "                const {svg, bindFunctions} = await mermaid.mermaidAPI.render( \r\n",
       "                    'mermaid_198551ce2d2a409a9aaa858a16e9eb57', \r\n",
       "                    `---\n",
       "title: UML类图图示样例\n",
       "---\n",
       "classDiagram\n",
       "    鸟 \"1\" *--> \"2\" 翅膀:合成（组合）关系\n",
       "    鸟 <|-- 大雁\n",
       "    雁群 o--> 大雁:聚合关系\n",
       "    大雁 ..|> 飞翔:实现接口\n",
       "    note for 飞翔 \"接口 \\\\n矩形表示法 顶端有interface \\\\n第一行：接口名称 \\\\n第二行：方法名称\"\n",
       "    鸟 <|-- 鸭\n",
       "    鸟 <|-- 企鹅\n",
       "    企鹅 --> 气候:关联关系\n",
       "    动物 <|-- 鸟\n",
       "    note for 动物 \"类 \\\\n第一行：类名称 \\\\n第二行：特性（字段或属性） \\\\n第三行：操作（方法或行为） \\\\n\\n注意若类名称为斜体字 \\\\n则此类为抽象类\"\n",
       "    氧气 ..|> 动物:依赖关系\n",
       "    水 ..|> 动物:依赖关系\n",
       "    鸭 <|-- 唐老鸭:继承关系\n",
       "    class 动物{\n",
       "        <<Abstract>>\n",
       "        +有生命\n",
       "        +新陈代谢(in 02:氧气, in water:水)\n",
       "        +繁殖()\n",
       "    }\n",
       "    class 鸟{\n",
       "        <<Abstract>>\n",
       "        +有羽毛\n",
       "        +有角质喙没有牙齿\n",
       "        +下蛋()\n",
       "    }\n",
       "    class 翅膀{\n",
       "    }\n",
       "    class 大雁{\n",
       "        +下蛋()\n",
       "        +飞()\n",
       "    }\n",
       "    class 雁群{\n",
       "        +V形飞行()\n",
       "        +一形飞行()\n",
       "    }\n",
       "    class 氧气{\n",
       "    }\n",
       "    class 水{\n",
       "    }\n",
       "    class 鸭{\n",
       "        +下蛋()\n",
       "    }\n",
       "    class 企鹅{\n",
       "        +下蛋()\n",
       "    }\n",
       "    class 气候{\n",
       "    }\n",
       "    class 飞翔{\n",
       "        <<interface>>\n",
       "        +飞()\n",
       "    }\n",
       "    class 唐老鸭{\n",
       "        +讲人话()\n",
       "    }`);\r\n",
       "                renderTarget.innerHTML = svg;\r\n",
       "                bindFunctions?.(renderTarget);\r\n",
       "            }\r\n",
       "            catch (error) {\r\n",
       "                console.log(error);\r\n",
       "            }\r\n",
       "</script>\r\n",
       "</div>\r\n"
      ]
     },
     "metadata": {},
     "output_type": "display_data"
    }
   ],
   "source": [
    "---\n",
    "title: UML类图图示样例\n",
    "---\n",
    "classDiagram\n",
    "    鸟 \"1\" *--> \"2\" 翅膀:合成（组合）关系\n",
    "    鸟 <|-- 大雁\n",
    "    雁群 o--> 大雁:聚合关系\n",
    "    大雁 ..|> 飞翔:实现接口\n",
    "    note for 飞翔 \"接口 \\n矩形表示法 顶端有interface \\n第一行：接口名称 \\n第二行：方法名称\"\n",
    "    鸟 <|-- 鸭\n",
    "    鸟 <|-- 企鹅\n",
    "    企鹅 --> 气候:关联关系\n",
    "    动物 <|-- 鸟\n",
    "    note for 动物 \"类 \\n第一行：类名称 \\n第二行：特性（字段或属性） \\n第三行：操作（方法或行为） \\n\\n注意若类名称为斜体字 \\n则此类为抽象类\"\n",
    "    氧气 ..|> 动物:依赖关系\n",
    "    水 ..|> 动物:依赖关系\n",
    "    鸭 <|-- 唐老鸭:继承关系\n",
    "    class 动物{\n",
    "        <<Abstract>>\n",
    "        +有生命\n",
    "        +新陈代谢(in 02:氧气, in water:水)\n",
    "        +繁殖()\n",
    "    }\n",
    "    class 鸟{\n",
    "        <<Abstract>>\n",
    "        +有羽毛\n",
    "        +有角质喙没有牙齿\n",
    "        +下蛋()\n",
    "    }\n",
    "    class 翅膀{\n",
    "    }\n",
    "    class 大雁{\n",
    "        +下蛋()\n",
    "        +飞()\n",
    "    }\n",
    "    class 雁群{\n",
    "        +V形飞行()\n",
    "        +一形飞行()\n",
    "    }\n",
    "    class 氧气{\n",
    "    }\n",
    "    class 水{\n",
    "    }\n",
    "    class 鸭{\n",
    "        +下蛋()\n",
    "    }\n",
    "    class 企鹅{\n",
    "        +下蛋()\n",
    "    }\n",
    "    class 气候{\n",
    "    }\n",
    "    class 飞翔{\n",
    "        <<interface>>\n",
    "        +飞()\n",
    "    }\n",
    "    class 唐老鸭{\n",
    "        +讲人话()\n",
    "    }"
   ]
  },
  {
   "cell_type": "code",
   "execution_count": null,
   "metadata": {
    "dotnet_interactive": {
     "language": "csharp"
    },
    "polyglot_notebook": {
     "kernelName": "csharp"
    },
    "vscode": {
     "languageId": "polyglot-notebook"
    }
   },
   "outputs": [],
   "source": []
  }
 ],
 "metadata": {
  "kernelspec": {
   "display_name": ".NET (C#)",
   "language": "C#",
   "name": ".net-csharp"
  },
  "language_info": {
   "name": "C#"
  },
  "polyglot_notebook": {
   "kernelInfo": {
    "defaultKernelName": "csharp",
    "items": [
     {
      "aliases": [],
      "name": "csharp"
     }
    ]
   }
  }
 },
 "nbformat": 4,
 "nbformat_minor": 2
}
