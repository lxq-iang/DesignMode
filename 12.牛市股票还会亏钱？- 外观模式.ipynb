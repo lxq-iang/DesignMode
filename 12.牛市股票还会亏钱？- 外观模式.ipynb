{
 "cells": [
  {
   "cell_type": "markdown",
   "metadata": {},
   "source": [
    "### 股民炒股代码"
   ]
  },
  {
   "cell_type": "code",
   "execution_count": 1,
   "metadata": {
    "dotnet_interactive": {
     "language": "mermaid"
    },
    "polyglot_notebook": {
     "kernelName": "mermaid"
    },
    "vscode": {
     "languageId": "polyglot-notebook"
    }
   },
   "outputs": [
    {
     "data": {
      "text/html": [
       "<div class=\"mermaidMarkdownContainer\" style=\"background-color:white\">\r\n",
       "<link rel=\"stylesheet\" href=\"https://cdnjs.cloudflare.com/ajax/libs/font-awesome/6.2.0/css/all.min.css\">\r\n",
       "<div id=\"14e3c85506f04508a056affcaee95c72\"></div>\r\n",
       "<script type=\"module\">\r\n",
       "\r\n",
       "            import mermaid from 'https://cdn.jsdelivr.net/npm/mermaid@10.6.1/dist/mermaid.esm.min.mjs';\r\n",
       "            let renderTarget = document.getElementById('14e3c85506f04508a056affcaee95c72');\r\n",
       "            try {\r\n",
       "                const {svg, bindFunctions} = await mermaid.mermaidAPI.render( \r\n",
       "                    'mermaid_14e3c85506f04508a056affcaee95c72', \r\n",
       "                    `classDiagram\r\n",
       "    class 客户{\r\n",
       "\r\n",
       "    }\r\n",
       "    class 股票1{\r\n",
       "        +买()\r\n",
       "        +卖()\r\n",
       "    }\r\n",
       "    class 股票2{\r\n",
       "        +买()\r\n",
       "        +卖()\r\n",
       "    }\r\n",
       "    class 股票3{\r\n",
       "        +买()\r\n",
       "        +卖()\r\n",
       "    }\r\n",
       "    class 国债1{\r\n",
       "        +买()\r\n",
       "        +卖()\r\n",
       "    }\r\n",
       "    class 房地产1{\r\n",
       "        +买()\r\n",
       "        +卖()\r\n",
       "    }\r\n",
       "    客户 --> 股票1\r\n",
       "    客户 --> 股票2\r\n",
       "    客户 --> 股票3\r\n",
       "    客户 --> 国债1\r\n",
       "    客户 --> 房地产1`);\r\n",
       "                renderTarget.innerHTML = svg;\r\n",
       "                bindFunctions?.(renderTarget);\r\n",
       "            }\r\n",
       "            catch (error) {\r\n",
       "                console.log(error);\r\n",
       "            }\r\n",
       "</script>\r\n",
       "</div>\r\n"
      ]
     },
     "metadata": {},
     "output_type": "display_data"
    }
   ],
   "source": [
    "classDiagram\n",
    "    class 客户{\n",
    "\n",
    "    }\n",
    "    class 股票1{\n",
    "        +买()\n",
    "        +卖()\n",
    "    }\n",
    "    class 股票2{\n",
    "        +买()\n",
    "        +卖()\n",
    "    }\n",
    "    class 股票3{\n",
    "        +买()\n",
    "        +卖()\n",
    "    }\n",
    "    class 国债1{\n",
    "        +买()\n",
    "        +卖()\n",
    "    }\n",
    "    class 房地产1{\n",
    "        +买()\n",
    "        +卖()\n",
    "    }\n",
    "    客户 --> 股票1\n",
    "    客户 --> 股票2\n",
    "    客户 --> 股票3\n",
    "    客户 --> 国债1\n",
    "    客户 --> 房地产1"
   ]
  },
  {
   "cell_type": "markdown",
   "metadata": {},
   "source": [
    "<font color=\"orange\">具体股票、国债、房产类</font>"
   ]
  },
  {
   "cell_type": "code",
   "execution_count": 2,
   "metadata": {
    "vscode": {
     "languageId": "polyglot-notebook"
    }
   },
   "outputs": [],
   "source": [
    "class Stock1\n",
    "{\n",
    "    public void Sell()\n",
    "    {\n",
    "        Console.WriteLine(\"股票1卖出\");\n",
    "    }\n",
    "    public void Buy()\n",
    "    {\n",
    "        Console.WriteLine(\"股票1买入\");\n",
    "    }\n",
    "}\n",
    "class Stock2\n",
    "{\n",
    "    public void Sell()\n",
    "    {\n",
    "        Console.WriteLine(\"股票2卖出\");\n",
    "    }\n",
    "    public void Buy()\n",
    "    {\n",
    "        Console.WriteLine(\"股票2买入\");\n",
    "    }\n",
    "}\n",
    "class Stock3\n",
    "{\n",
    "    public void Sell()\n",
    "    {\n",
    "        Console.WriteLine(\"股票3卖出\");\n",
    "    }\n",
    "    public void Buy()\n",
    "    {\n",
    "        Console.WriteLine(\"股票3买入\");\n",
    "    }\n",
    "}\n",
    "class NationalDebt1\n",
    "{\n",
    "    public void Sell()\n",
    "    {\n",
    "        Console.WriteLine(\"国债1卖出\");\n",
    "    }\n",
    "    public void Buy()\n",
    "    {\n",
    "        Console.WriteLine(\"国债1买入\");\n",
    "    }\n",
    "}\n",
    "class Realty1\n",
    "{\n",
    "    public void Sell()\n",
    "    {\n",
    "        Console.WriteLine(\"房地产1卖出\");\n",
    "    }\n",
    "    public void Buy()\n",
    "    {\n",
    "        Console.WriteLine(\"房地产1买入\");\n",
    "    }\n",
    "}"
   ]
  },
  {
   "cell_type": "code",
   "execution_count": 4,
   "metadata": {
    "vscode": {
     "languageId": "polyglot-notebook"
    }
   },
   "outputs": [
    {
     "name": "stdout",
     "output_type": "stream",
     "text": [
      "股票1买入\n",
      "股票2买入\n",
      "股票3买入\n",
      "国债1买入\n",
      "房地产1买入\n",
      "股票1卖出\n",
      "股票2卖出\n",
      "股票3卖出\n",
      "国债1卖出\n",
      "房地产1卖出\n"
     ]
    }
   ],
   "source": [
    "Stock1 gu1 = new Stock1();\n",
    "Stock2 gu2 = new Stock2();\n",
    "Stock3 gu3 = new Stock3();\n",
    "NationalDebt1 nd1 = new NationalDebt1();\n",
    "Realty1 rt1 = new Realty1();\n",
    "//用户需要了解股票、国债、房产情况，需要参与这些项目的具体买和卖。耦合性很高\n",
    "gu1.Buy();\n",
    "gu2.Buy();\n",
    "gu3.Buy();\n",
    "nd1.Buy();\n",
    "rt1.Buy();\n",
    "\n",
    "gu1.Sell();\n",
    "gu2.Sell();\n",
    "gu3.Sell();\n",
    "nd1.Sell();\n",
    "rt1.Sell();\n"
   ]
  },
  {
   "cell_type": "markdown",
   "metadata": {},
   "source": [
    "### 投资基金代码"
   ]
  },
  {
   "cell_type": "code",
   "execution_count": 5,
   "metadata": {
    "dotnet_interactive": {
     "language": "mermaid"
    },
    "polyglot_notebook": {
     "kernelName": "mermaid"
    },
    "vscode": {
     "languageId": "polyglot-notebook"
    }
   },
   "outputs": [
    {
     "data": {
      "text/html": [
       "<div class=\"mermaidMarkdownContainer\" style=\"background-color:white\">\r\n",
       "<link rel=\"stylesheet\" href=\"https://cdnjs.cloudflare.com/ajax/libs/font-awesome/6.2.0/css/all.min.css\">\r\n",
       "<div id=\"3bc9343872844b659d0ad7f6d675c123\"></div>\r\n",
       "<script type=\"module\">\r\n",
       "\r\n",
       "            import mermaid from 'https://cdn.jsdelivr.net/npm/mermaid@10.6.1/dist/mermaid.esm.min.mjs';\r\n",
       "            let renderTarget = document.getElementById('3bc9343872844b659d0ad7f6d675c123');\r\n",
       "            try {\r\n",
       "                const {svg, bindFunctions} = await mermaid.mermaidAPI.render( \r\n",
       "                    'mermaid_3bc9343872844b659d0ad7f6d675c123', \r\n",
       "                    `classDiagram\r\n",
       "    class 客户{\r\n",
       "\r\n",
       "    }\r\n",
       "    class 基金{\r\n",
       "        +购买()\r\n",
       "        +赎回()\r\n",
       "    }\r\n",
       "    class 股票1{\r\n",
       "        +买()\r\n",
       "        +卖()\r\n",
       "    }\r\n",
       "    class 股票2{\r\n",
       "        +买()\r\n",
       "        +卖()\r\n",
       "    }\r\n",
       "    class 股票3{\r\n",
       "        +买()\r\n",
       "        +卖()\r\n",
       "    }\r\n",
       "    class 国债1{\r\n",
       "        +买()\r\n",
       "        +卖()\r\n",
       "    }\r\n",
       "    class 房地产1{\r\n",
       "        +买()\r\n",
       "        +卖()\r\n",
       "    }\r\n",
       "    基金 o--> 股票1\r\n",
       "    基金 o--> 股票2\r\n",
       "    基金 o--> 股票3\r\n",
       "    基金 o--> 国债1\r\n",
       "    基金 o--> 房地产1\r\n",
       "    客户 --> 基金`);\r\n",
       "                renderTarget.innerHTML = svg;\r\n",
       "                bindFunctions?.(renderTarget);\r\n",
       "            }\r\n",
       "            catch (error) {\r\n",
       "                console.log(error);\r\n",
       "            }\r\n",
       "</script>\r\n",
       "</div>\r\n"
      ]
     },
     "metadata": {},
     "output_type": "display_data"
    }
   ],
   "source": [
    "classDiagram\n",
    "    class 客户{\n",
    "\n",
    "    }\n",
    "    class 基金{\n",
    "        +购买()\n",
    "        +赎回()\n",
    "    }\n",
    "    class 股票1{\n",
    "        +买()\n",
    "        +卖()\n",
    "    }\n",
    "    class 股票2{\n",
    "        +买()\n",
    "        +卖()\n",
    "    }\n",
    "    class 股票3{\n",
    "        +买()\n",
    "        +卖()\n",
    "    }\n",
    "    class 国债1{\n",
    "        +买()\n",
    "        +卖()\n",
    "    }\n",
    "    class 房地产1{\n",
    "        +买()\n",
    "        +卖()\n",
    "    }\n",
    "    基金 o--> 股票1\n",
    "    基金 o--> 股票2\n",
    "    基金 o--> 股票3\n",
    "    基金 o--> 国债1\n",
    "    基金 o--> 房地产1\n",
    "    客户 --> 基金"
   ]
  },
  {
   "cell_type": "markdown",
   "metadata": {},
   "source": [
    "基金类如下"
   ]
  },
  {
   "cell_type": "code",
   "execution_count": 6,
   "metadata": {
    "vscode": {
     "languageId": "polyglot-notebook"
    }
   },
   "outputs": [],
   "source": [
    "class Fund\n",
    "{\n",
    "    Stock1 gu1;\n",
    "    Stock2 gu2; \n",
    "    Stock3 gu3; \n",
    "    NationalDebt1 nd1;\n",
    "    Realty1 rt1;\n",
    "\n",
    "    public Fund()\n",
    "    {\n",
    "        gu1 = new Stock1();\n",
    "        gu2 = new Stock2();\n",
    "        gu3 = new Stock3();\n",
    "        nd1 = new NationalDebt1();\n",
    "        rt1 = new Realty1();\n",
    "    }\n",
    "    public void BuyFund()\n",
    "    {\n",
    "        gu1.Buy();\n",
    "        gu2.Buy();\n",
    "        gu3.Buy();\n",
    "        nd1.Buy();\n",
    "        rt1.Buy();\n",
    "    }\n",
    "    public void SellFund()\n",
    "    {\n",
    "        gu1.Sell();\n",
    "        gu2.Sell();\n",
    "        gu3.Sell();\n",
    "        nd1.Sell();\n",
    "        rt1.Sell();\n",
    "    }\n",
    "}"
   ]
  },
  {
   "cell_type": "code",
   "execution_count": 7,
   "metadata": {
    "vscode": {
     "languageId": "polyglot-notebook"
    }
   },
   "outputs": [
    {
     "name": "stdout",
     "output_type": "stream",
     "text": [
      "股票1买入\n",
      "股票2买入\n",
      "股票3买入\n",
      "国债1买入\n",
      "房地产1买入\n",
      "股票1卖出\n",
      "股票2卖出\n",
      "股票3卖出\n",
      "国债1卖出\n",
      "房地产1卖出\n"
     ]
    }
   ],
   "source": [
    "Fund jijin = new Fund();\n",
    "\n",
    "jijin.BuyFund();\n",
    "jijin.SellFund();\n"
   ]
  },
  {
   "cell_type": "code",
   "execution_count": null,
   "metadata": {
    "vscode": {
     "languageId": "polyglot-notebook"
    }
   },
   "outputs": [],
   "source": []
  }
 ],
 "metadata": {
  "kernelspec": {
   "display_name": ".NET (C#)",
   "language": "C#",
   "name": ".net-csharp"
  },
  "language_info": {
   "name": "csharp"
  },
  "polyglot_notebook": {
   "kernelInfo": {
    "defaultKernelName": "csharp",
    "items": [
     {
      "aliases": [],
      "name": "csharp"
     }
    ]
   }
  }
 },
 "nbformat": 4,
 "nbformat_minor": 2
}
