{
 "cells": [
  {
   "cell_type": "markdown",
   "metadata": {},
   "source": [
    "### 股民炒股代码"
   ]
  },
  {
   "cell_type": "code",
   "execution_count": 1,
   "metadata": {
    "dotnet_interactive": {
     "language": "mermaid"
    },
    "polyglot_notebook": {
     "kernelName": "mermaid"
    },
    "vscode": {
     "languageId": "polyglot-notebook"
    }
   },
   "outputs": [
    {
     "data": {
      "text/html": [
       "<div class=\"mermaidMarkdownContainer\" style=\"background-color:white\">\r\n",
       "<link rel=\"stylesheet\" href=\"https://cdnjs.cloudflare.com/ajax/libs/font-awesome/6.2.0/css/all.min.css\">\r\n",
       "<div id=\"14e3c85506f04508a056affcaee95c72\"></div>\r\n",
       "<script type=\"module\">\r\n",
       "\r\n",
       "            import mermaid from 'https://cdn.jsdelivr.net/npm/mermaid@10.6.1/dist/mermaid.esm.min.mjs';\r\n",
       "            let renderTarget = document.getElementById('14e3c85506f04508a056affcaee95c72');\r\n",
       "            try {\r\n",
       "                const {svg, bindFunctions} = await mermaid.mermaidAPI.render( \r\n",
       "                    'mermaid_14e3c85506f04508a056affcaee95c72', \r\n",
       "                    `classDiagram\r\n",
       "    class 客户{\r\n",
       "\r\n",
       "    }\r\n",
       "    class 股票1{\r\n",
       "        +买()\r\n",
       "        +卖()\r\n",
       "    }\r\n",
       "    class 股票2{\r\n",
       "        +买()\r\n",
       "        +卖()\r\n",
       "    }\r\n",
       "    class 股票3{\r\n",
       "        +买()\r\n",
       "        +卖()\r\n",
       "    }\r\n",
       "    class 国债1{\r\n",
       "        +买()\r\n",
       "        +卖()\r\n",
       "    }\r\n",
       "    class 房地产1{\r\n",
       "        +买()\r\n",
       "        +卖()\r\n",
       "    }\r\n",
       "    客户 --> 股票1\r\n",
       "    客户 --> 股票2\r\n",
       "    客户 --> 股票3\r\n",
       "    客户 --> 国债1\r\n",
       "    客户 --> 房地产1`);\r\n",
       "                renderTarget.innerHTML = svg;\r\n",
       "                bindFunctions?.(renderTarget);\r\n",
       "            }\r\n",
       "            catch (error) {\r\n",
       "                console.log(error);\r\n",
       "            }\r\n",
       "</script>\r\n",
       "</div>\r\n"
      ]
     },
     "metadata": {},
     "output_type": "display_data"
    }
   ],
   "source": [
    "classDiagram\n",
    "    class 客户{\n",
    "\n",
    "    }\n",
    "    class 股票1{\n",
    "        +买()\n",
    "        +卖()\n",
    "    }\n",
    "    class 股票2{\n",
    "        +买()\n",
    "        +卖()\n",
    "    }\n",
    "    class 股票3{\n",
    "        +买()\n",
    "        +卖()\n",
    "    }\n",
    "    class 国债1{\n",
    "        +买()\n",
    "        +卖()\n",
    "    }\n",
    "    class 房地产1{\n",
    "        +买()\n",
    "        +卖()\n",
    "    }\n",
    "    客户 --> 股票1\n",
    "    客户 --> 股票2\n",
    "    客户 --> 股票3\n",
    "    客户 --> 国债1\n",
    "    客户 --> 房地产1"
   ]
  },
  {
   "cell_type": "markdown",
   "metadata": {},
   "source": [
    "<font color=\"orange\">具体股票、国债、房产类</font>"
   ]
  },
  {
   "cell_type": "code",
   "execution_count": 2,
   "metadata": {
    "dotnet_interactive": {
     "language": "csharp"
    },
    "polyglot_notebook": {
     "kernelName": "csharp"
    },
    "vscode": {
     "languageId": "polyglot-notebook"
    }
   },
   "outputs": [],
   "source": [
    "class Stock1\n",
    "{\n",
    "    public void Sell()\n",
    "    {\n",
    "        Console.WriteLine(\"股票1卖出\");\n",
    "    }\n",
    "    public void Buy()\n",
    "    {\n",
    "        Console.WriteLine(\"股票1买入\");\n",
    "    }\n",
    "}\n",
    "class Stock2\n",
    "{\n",
    "    public void Sell()\n",
    "    {\n",
    "        Console.WriteLine(\"股票2卖出\");\n",
    "    }\n",
    "    public void Buy()\n",
    "    {\n",
    "        Console.WriteLine(\"股票2买入\");\n",
    "    }\n",
    "}\n",
    "class Stock3\n",
    "{\n",
    "    public void Sell()\n",
    "    {\n",
    "        Console.WriteLine(\"股票3卖出\");\n",
    "    }\n",
    "    public void Buy()\n",
    "    {\n",
    "        Console.WriteLine(\"股票3买入\");\n",
    "    }\n",
    "}\n",
    "class NationalDebt1\n",
    "{\n",
    "    public void Sell()\n",
    "    {\n",
    "        Console.WriteLine(\"国债1卖出\");\n",
    "    }\n",
    "    public void Buy()\n",
    "    {\n",
    "        Console.WriteLine(\"国债1买入\");\n",
    "    }\n",
    "}\n",
    "class Realty1\n",
    "{\n",
    "    public void Sell()\n",
    "    {\n",
    "        Console.WriteLine(\"房地产1卖出\");\n",
    "    }\n",
    "    public void Buy()\n",
    "    {\n",
    "        Console.WriteLine(\"房地产1买入\");\n",
    "    }\n",
    "}"
   ]
  },
  {
   "cell_type": "code",
   "execution_count": 4,
   "metadata": {
    "dotnet_interactive": {
     "language": "csharp"
    },
    "polyglot_notebook": {
     "kernelName": "csharp"
    },
    "vscode": {
     "languageId": "polyglot-notebook"
    }
   },
   "outputs": [
    {
     "name": "stdout",
     "output_type": "stream",
     "text": [
      "股票1买入\n",
      "股票2买入\n",
      "股票3买入\n",
      "国债1买入\n",
      "房地产1买入\n",
      "股票1卖出\n",
      "股票2卖出\n",
      "股票3卖出\n",
      "国债1卖出\n",
      "房地产1卖出\n"
     ]
    }
   ],
   "source": [
    "Stock1 gu1 = new Stock1();\n",
    "Stock2 gu2 = new Stock2();\n",
    "Stock3 gu3 = new Stock3();\n",
    "NationalDebt1 nd1 = new NationalDebt1();\n",
    "Realty1 rt1 = new Realty1();\n",
    "//用户需要了解股票、国债、房产情况，需要参与这些项目的具体买和卖。耦合性很高\n",
    "gu1.Buy();\n",
    "gu2.Buy();\n",
    "gu3.Buy();\n",
    "nd1.Buy();\n",
    "rt1.Buy();\n",
    "\n",
    "gu1.Sell();\n",
    "gu2.Sell();\n",
    "gu3.Sell();\n",
    "nd1.Sell();\n",
    "rt1.Sell();\n"
   ]
  },
  {
   "cell_type": "markdown",
   "metadata": {},
   "source": [
    "### 投资基金代码"
   ]
  },
  {
   "cell_type": "code",
   "execution_count": 5,
   "metadata": {
    "dotnet_interactive": {
     "language": "mermaid"
    },
    "polyglot_notebook": {
     "kernelName": "mermaid"
    },
    "vscode": {
     "languageId": "polyglot-notebook"
    }
   },
   "outputs": [
    {
     "data": {
      "text/html": [
       "<div class=\"mermaidMarkdownContainer\" style=\"background-color:white\">\r\n",
       "<link rel=\"stylesheet\" href=\"https://cdnjs.cloudflare.com/ajax/libs/font-awesome/6.2.0/css/all.min.css\">\r\n",
       "<div id=\"3bc9343872844b659d0ad7f6d675c123\"></div>\r\n",
       "<script type=\"module\">\r\n",
       "\r\n",
       "            import mermaid from 'https://cdn.jsdelivr.net/npm/mermaid@10.6.1/dist/mermaid.esm.min.mjs';\r\n",
       "            let renderTarget = document.getElementById('3bc9343872844b659d0ad7f6d675c123');\r\n",
       "            try {\r\n",
       "                const {svg, bindFunctions} = await mermaid.mermaidAPI.render( \r\n",
       "                    'mermaid_3bc9343872844b659d0ad7f6d675c123', \r\n",
       "                    `classDiagram\r\n",
       "    class 客户{\r\n",
       "\r\n",
       "    }\r\n",
       "    class 基金{\r\n",
       "        +购买()\r\n",
       "        +赎回()\r\n",
       "    }\r\n",
       "    class 股票1{\r\n",
       "        +买()\r\n",
       "        +卖()\r\n",
       "    }\r\n",
       "    class 股票2{\r\n",
       "        +买()\r\n",
       "        +卖()\r\n",
       "    }\r\n",
       "    class 股票3{\r\n",
       "        +买()\r\n",
       "        +卖()\r\n",
       "    }\r\n",
       "    class 国债1{\r\n",
       "        +买()\r\n",
       "        +卖()\r\n",
       "    }\r\n",
       "    class 房地产1{\r\n",
       "        +买()\r\n",
       "        +卖()\r\n",
       "    }\r\n",
       "    基金 o--> 股票1\r\n",
       "    基金 o--> 股票2\r\n",
       "    基金 o--> 股票3\r\n",
       "    基金 o--> 国债1\r\n",
       "    基金 o--> 房地产1\r\n",
       "    客户 --> 基金`);\r\n",
       "                renderTarget.innerHTML = svg;\r\n",
       "                bindFunctions?.(renderTarget);\r\n",
       "            }\r\n",
       "            catch (error) {\r\n",
       "                console.log(error);\r\n",
       "            }\r\n",
       "</script>\r\n",
       "</div>\r\n"
      ]
     },
     "metadata": {},
     "output_type": "display_data"
    }
   ],
   "source": [
    "classDiagram\n",
    "    class 客户{\n",
    "\n",
    "    }\n",
    "    class 基金{\n",
    "        +购买()\n",
    "        +赎回()\n",
    "    }\n",
    "    class 股票1{\n",
    "        +买()\n",
    "        +卖()\n",
    "    }\n",
    "    class 股票2{\n",
    "        +买()\n",
    "        +卖()\n",
    "    }\n",
    "    class 股票3{\n",
    "        +买()\n",
    "        +卖()\n",
    "    }\n",
    "    class 国债1{\n",
    "        +买()\n",
    "        +卖()\n",
    "    }\n",
    "    class 房地产1{\n",
    "        +买()\n",
    "        +卖()\n",
    "    }\n",
    "    基金 o--> 股票1\n",
    "    基金 o--> 股票2\n",
    "    基金 o--> 股票3\n",
    "    基金 o--> 国债1\n",
    "    基金 o--> 房地产1\n",
    "    客户 --> 基金"
   ]
  },
  {
   "cell_type": "markdown",
   "metadata": {},
   "source": [
    "基金类如下"
   ]
  },
  {
   "cell_type": "code",
   "execution_count": 6,
   "metadata": {
    "dotnet_interactive": {
     "language": "csharp"
    },
    "polyglot_notebook": {
     "kernelName": "csharp"
    },
    "vscode": {
     "languageId": "polyglot-notebook"
    }
   },
   "outputs": [],
   "source": [
    "class Fund\n",
    "{\n",
    "    Stock1 gu1;\n",
    "    Stock2 gu2; \n",
    "    Stock3 gu3; \n",
    "    NationalDebt1 nd1;\n",
    "    Realty1 rt1;\n",
    "\n",
    "    public Fund()\n",
    "    {\n",
    "        gu1 = new Stock1();\n",
    "        gu2 = new Stock2();\n",
    "        gu3 = new Stock3();\n",
    "        nd1 = new NationalDebt1();\n",
    "        rt1 = new Realty1();\n",
    "    }\n",
    "    public void BuyFund()\n",
    "    {\n",
    "        gu1.Buy();\n",
    "        gu2.Buy();\n",
    "        gu3.Buy();\n",
    "        nd1.Buy();\n",
    "        rt1.Buy();\n",
    "    }\n",
    "    public void SellFund()\n",
    "    {\n",
    "        gu1.Sell();\n",
    "        gu2.Sell();\n",
    "        gu3.Sell();\n",
    "        nd1.Sell();\n",
    "        rt1.Sell();\n",
    "    }\n",
    "}"
   ]
  },
  {
   "cell_type": "code",
   "execution_count": 7,
   "metadata": {
    "dotnet_interactive": {
     "language": "csharp"
    },
    "polyglot_notebook": {
     "kernelName": "csharp"
    },
    "vscode": {
     "languageId": "polyglot-notebook"
    }
   },
   "outputs": [
    {
     "name": "stdout",
     "output_type": "stream",
     "text": [
      "股票1买入\n",
      "股票2买入\n",
      "股票3买入\n",
      "国债1买入\n",
      "房地产1买入\n",
      "股票1卖出\n",
      "股票2卖出\n",
      "股票3卖出\n",
      "国债1卖出\n",
      "房地产1卖出\n"
     ]
    }
   ],
   "source": [
    "Fund jijin = new Fund();\n",
    "\n",
    "jijin.BuyFund();\n",
    "jijin.SellFund();\n"
   ]
  },
  {
   "cell_type": "markdown",
   "metadata": {},
   "source": [
    "### 外观模式"
   ]
  },
  {
   "cell_type": "markdown",
   "metadata": {},
   "source": [
    "> 外观模式为子系统中的一组接口提供了一个一致的界面，此模式定义了一个高层接口，这个接口使得这一子系统的调用更加容易"
   ]
  },
  {
   "cell_type": "code",
   "execution_count": 1,
   "metadata": {
    "dotnet_interactive": {
     "language": "mermaid"
    },
    "polyglot_notebook": {
     "kernelName": "mermaid"
    },
    "vscode": {
     "languageId": "polyglot-notebook"
    }
   },
   "outputs": [
    {
     "data": {
      "text/html": [
       "<div class=\"mermaidMarkdownContainer\" style=\"background-color:white\">\r\n",
       "<link rel=\"stylesheet\" href=\"https://cdnjs.cloudflare.com/ajax/libs/font-awesome/6.2.0/css/all.min.css\">\r\n",
       "<div id=\"67c3ea93ddce4d7f81eb399555666e20\"></div>\r\n",
       "<script type=\"module\">\r\n",
       "\r\n",
       "            import mermaid from 'https://cdn.jsdelivr.net/npm/mermaid@10.6.1/dist/mermaid.esm.min.mjs';\r\n",
       "            let renderTarget = document.getElementById('67c3ea93ddce4d7f81eb399555666e20');\r\n",
       "            try {\r\n",
       "                const {svg, bindFunctions} = await mermaid.mermaidAPI.render( \r\n",
       "                    'mermaid_67c3ea93ddce4d7f81eb399555666e20', \r\n",
       "                    `---\r\n",
       "title: 外观模式(Facade)结构图\r\n",
       "---\r\n",
       "classDiagram\r\n",
       "    class Client{\r\n",
       "    }\r\n",
       "    class Facade{\r\n",
       "        +MethodA()\r\n",
       "        +MethodB()\r\n",
       "    }\r\n",
       "    class SubSystemOne{\r\n",
       "       +MethodOne()   \r\n",
       "    } \r\n",
       "    class SubSystemTwo{\r\n",
       "       +MethodTwo()   \r\n",
       "    } \r\n",
       "    class SubSystemThree{\r\n",
       "       +MethodThree()   \r\n",
       "    } \r\n",
       "    class SubSystemFour{\r\n",
       "       +MethodFour()   \r\n",
       "    } \r\n",
       "    Facade --> SubSystemOne\r\n",
       "    Facade --> SubSystemTwo\r\n",
       "    Facade --> SubSystemThree\r\n",
       "    Facade --> SubSystemFour\r\n",
       "    Client --> Facade\r\n",
       "    note for Facade \"Facade外观类，知道哪些子系统类负责处理请求，\\\\n 将客户端的请求代理给适当的子系统对象\"\r\n",
       "    note for SubSystemTwo \"SubSystem 子系统类集合 实现子系统的功能，处理Facade对象指派的任务\\\\n注意子类中没有Facade的任何信息，即没有对Facade对象的引用\"`);\r\n",
       "                renderTarget.innerHTML = svg;\r\n",
       "                bindFunctions?.(renderTarget);\r\n",
       "            }\r\n",
       "            catch (error) {\r\n",
       "                console.log(error);\r\n",
       "            }\r\n",
       "</script>\r\n",
       "</div>\r\n"
      ]
     },
     "metadata": {},
     "output_type": "display_data"
    }
   ],
   "source": [
    "---\n",
    "title: 外观模式(Facade)结构图\n",
    "---\n",
    "classDiagram\n",
    "    class Client{\n",
    "    }\n",
    "    class Facade{\n",
    "        +MethodA()\n",
    "        +MethodB()\n",
    "    }\n",
    "    class SubSystemOne{\n",
    "       +MethodOne()   \n",
    "    } \n",
    "    class SubSystemTwo{\n",
    "       +MethodTwo()   \n",
    "    } \n",
    "    class SubSystemThree{\n",
    "       +MethodThree()   \n",
    "    } \n",
    "    class SubSystemFour{\n",
    "       +MethodFour()   \n",
    "    } \n",
    "    Facade --> SubSystemOne\n",
    "    Facade --> SubSystemTwo\n",
    "    Facade --> SubSystemThree\n",
    "    Facade --> SubSystemFour\n",
    "    Client --> Facade\n",
    "    note for Facade \"Facade外观类，知道哪些子系统类负责处理请求，\\n 将客户端的请求代理给适当的子系统对象\"\n",
    "    note for SubSystemTwo \"SubSystem 子系统类集合 实现子系统的功能，处理Facade对象指派的任务\\n注意子类中没有Facade的任何信息，即没有对Facade对象的引用\""
   ]
  },
  {
   "cell_type": "markdown",
   "metadata": {},
   "source": [
    "<font color=\"orange\">子系统类</font>"
   ]
  },
  {
   "cell_type": "code",
   "execution_count": 3,
   "metadata": {
    "vscode": {
     "languageId": "polyglot-notebook"
    }
   },
   "outputs": [],
   "source": [
    "class SubSystemOne\n",
    "{\n",
    "    public void MethodOne()\n",
    "    {\n",
    "        Console.WriteLine(\"子系统方法一\");\n",
    "    }\n",
    "}\n",
    "class SubSystemTwo\n",
    "{\n",
    "    public void MethodTwo()\n",
    "    {\n",
    "        Console.WriteLine(\"子系统方法二\");\n",
    "    }\n",
    "}\n",
    "class SubSystemThree\n",
    "{\n",
    "    public void MethodThree()\n",
    "    {\n",
    "        Console.WriteLine(\"子系统方法三\");\n",
    "    }\n",
    "}\n",
    "class SubSystemFour\n",
    "{\n",
    "    public void MethodFour()\n",
    "    {\n",
    "        Console.WriteLine(\"子系统方法四\");\n",
    "    }\n",
    "}"
   ]
  },
  {
   "cell_type": "markdown",
   "metadata": {},
   "source": [
    "<font color=\"orange\">外观类</font>"
   ]
  },
  {
   "cell_type": "code",
   "execution_count": 4,
   "metadata": {
    "vscode": {
     "languageId": "polyglot-notebook"
    }
   },
   "outputs": [],
   "source": [
    "class Facade\n",
    "{\n",
    "    SubSystemOne one;\n",
    "    SubSystemTwo two;\n",
    "    SubSystemThree three;\n",
    "    SubSystemFour four;\n",
    "\n",
    "    public Facade()\n",
    "    {\n",
    "        one = new SubSystemOne();\n",
    "        two = new SubSystemTwo();\n",
    "        three = new SubSystemThree();\n",
    "        four = new SubSystemFour();\n",
    "    }\n",
    "\n",
    "    public void MethodA()\n",
    "    {  \n",
    "        Console.WriteLine(\"\\n方法组A() ---------\");\n",
    "        one.MethodOne();\n",
    "        two.MethodTwo();\n",
    "        four.MethodFour();\n",
    "    }\n",
    "\n",
    "    public void MethodB()\n",
    "    {  \n",
    "        Console.WriteLine(\"\\n方法组B() ---------\");\n",
    "        two.MethodTwo();\n",
    "        three.MethodThree();\n",
    "    }\n",
    "}"
   ]
  },
  {
   "cell_type": "markdown",
   "metadata": {},
   "source": [
    "<font color=\"orange\">客户端调用</font>"
   ]
  },
  {
   "cell_type": "code",
   "execution_count": 5,
   "metadata": {
    "vscode": {
     "languageId": "polyglot-notebook"
    }
   },
   "outputs": [
    {
     "name": "stdout",
     "output_type": "stream",
     "text": [
      "\n",
      "方法组A() ---------\n",
      "子系统方法一\n",
      "子系统方法二\n",
      "子系统方法四\n",
      "\n",
      "方法组B() ---------\n",
      "子系统方法二\n",
      "子系统方法三\n"
     ]
    }
   ],
   "source": [
    "Facade facade = new Facade();\n",
    "facade.MethodA();\n",
    "facade.MethodB();\n"
   ]
  },
  {
   "cell_type": "markdown",
   "metadata": {},
   "source": [
    "### 何时使用外观模式"
   ]
  },
  {
   "cell_type": "markdown",
   "metadata": {},
   "source": [
    "<font color=\"orange\">分三个阶段来说</font>\n",
    "- 首先在设计初期阶段，应该有意识的将不同的两个层分离，比如经典的三层架构，就需要考虑在数据访问层和业务逻辑层、业务逻辑层和表示层的层与层之间建立外观Facade，这样可以为复杂的子系统提供一个简单接口\n",
    "- 其次在开发阶段，子系统往往因为不断地重构演化而变得越来越复杂，大多数的模式使用时也都会产生很多很小的类，这本是好事，但也给外部调用它们的用户程序带来了使用上的困难，增加外观Facade可以提供一个简单的接口，减少他们之间的依赖\n",
    "- 第三，在维护一个遗留的大型系统时，可能这个系统已经非常难以维护和扩展了，但是因为它包含非常重要的功能，新的需求开发必须依赖于它。此时用外观模式Facade也是非常合适的。你可以为新系统开发一个外观Facade类，来提供实际粗糙或者高度复杂的遗留代码的比较清晰简单的接口，让新系统与Facade对象交互，Facade与遗留代码交互所有复杂的工作。"
   ]
  },
  {
   "cell_type": "markdown",
   "metadata": {},
   "source": []
  }
 ],
 "metadata": {
  "kernelspec": {
   "display_name": ".NET (C#)",
   "language": "C#",
   "name": ".net-csharp"
  },
  "language_info": {
   "name": "csharp"
  },
  "polyglot_notebook": {
   "kernelInfo": {
    "defaultKernelName": "csharp",
    "items": [
     {
      "aliases": [],
      "name": "csharp"
     }
    ]
   }
  }
 },
 "nbformat": 4,
 "nbformat_minor": 2
}
