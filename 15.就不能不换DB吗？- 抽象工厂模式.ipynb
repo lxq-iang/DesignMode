{
 "cells": [
  {
   "cell_type": "markdown",
   "metadata": {},
   "source": [
    "## 抽象工厂模式"
   ]
  },
  {
   "cell_type": "markdown",
   "metadata": {},
   "source": [
    "### 就不能不换DB吗"
   ]
  },
  {
   "cell_type": "markdown",
   "metadata": {},
   "source": [
    "**最基本的数据访问程序**"
   ]
  },
  {
   "cell_type": "code",
   "execution_count": 1,
   "metadata": {
    "dotnet_interactive": {
     "language": "csharp"
    },
    "polyglot_notebook": {
     "kernelName": "csharp"
    },
    "vscode": {
     "languageId": "polyglot-notebook"
    }
   },
   "outputs": [],
   "source": [
    "class User\n",
    "{\n",
    "    private int _id;\n",
    "    public int ID{\n",
    "        get{return _id;}\n",
    "        set{_id = value;}\n",
    "    }\n",
    "\n",
    "    private string _name;\n",
    "    public string Name{\n",
    "        get{return _name;}\n",
    "        set{_name = value;}\n",
    "    }\n",
    "}\n",
    "\n",
    "class SqlServerUser\n",
    "{\n",
    "    public void Insert(User user)\n",
    "    {\n",
    "        \"在SQL Server中给User表增加一条记录\".Display();\n",
    "    }\n",
    "\n",
    "    public User GetUser(int id)\n",
    "    {\n",
    "        \"在SQL Server中根据ID得到User表一条记录\".Display();\n",
    "        return null;\n",
    "    }\n",
    "}"
   ]
  },
  {
   "cell_type": "code",
   "execution_count": 2,
   "metadata": {
    "dotnet_interactive": {
     "language": "csharp"
    },
    "polyglot_notebook": {
     "kernelName": "csharp"
    },
    "vscode": {
     "languageId": "polyglot-notebook"
    }
   },
   "outputs": [
    {
     "data": {
      "text/plain": [
       "在SQL Server中给User表增加一条记录"
      ]
     },
     "metadata": {},
     "output_type": "display_data"
    },
    {
     "data": {
      "text/plain": [
       "在SQL Server中根据ID得到User表一条记录"
      ]
     },
     "metadata": {},
     "output_type": "display_data"
    }
   ],
   "source": [
    "User user = new User();\n",
    "SqlServerUser su = new SqlServerUser();\n",
    "\n",
    "su.Insert(user);\n",
    "\n",
    "su.GetUser(1);\n"
   ]
  },
  {
   "cell_type": "markdown",
   "metadata": {},
   "source": [
    "### 用了工厂方法模型的数据访问程序"
   ]
  },
  {
   "cell_type": "code",
   "execution_count": 3,
   "metadata": {
    "dotnet_interactive": {
     "language": "mermaid"
    },
    "polyglot_notebook": {
     "kernelName": "mermaid"
    },
    "vscode": {
     "languageId": "polyglot-notebook"
    }
   },
   "outputs": [
    {
     "data": {
      "text/html": [
       "<div class=\"mermaidMarkdownContainer\" style=\"background-color:white\">\r\n",
       "<link rel=\"stylesheet\" href=\"https://cdnjs.cloudflare.com/ajax/libs/font-awesome/6.2.0/css/all.min.css\">\r\n",
       "<div id=\"ff733facab31435b9379bc5df1331f17\"></div>\r\n",
       "<script type=\"module\">\r\n",
       "\r\n",
       "            import mermaid from 'https://cdn.jsdelivr.net/npm/mermaid@10.6.1/dist/mermaid.esm.min.mjs';\r\n",
       "            let renderTarget = document.getElementById('ff733facab31435b9379bc5df1331f17');\r\n",
       "            try {\r\n",
       "                const {svg, bindFunctions} = await mermaid.mermaidAPI.render( \r\n",
       "                    'mermaid_ff733facab31435b9379bc5df1331f17', \r\n",
       "                    `classDiagram\n",
       "    class IFactory{\n",
       "        <<interface>>\n",
       "        +CreateUser()\n",
       "    }\n",
       "    class SqlServerFactory{\n",
       "        +CreateUser()\n",
       "    }\n",
       "    class AccessFactory{\n",
       "        +CreateUser()\n",
       "    }\n",
       "    class IUser{\n",
       "        <<interface>>\n",
       "    }\n",
       "    class SqlServerUser{\n",
       "    }\n",
       "    class AccessUser{\n",
       "    }\n",
       "    IFactory <|.. SqlServerFactory\n",
       "    IFactory <|.. AccessFactory\n",
       "    SqlServerUser ..|> IUser\n",
       "    AccessUser ..|> IUser\n",
       "    SqlServerFactory ..> SqlServerUser\n",
       "    AccessFactory ..> AccessUser\n",
       "`);\r\n",
       "                renderTarget.innerHTML = svg;\r\n",
       "                bindFunctions?.(renderTarget);\r\n",
       "            }\r\n",
       "            catch (error) {\r\n",
       "                console.log(error);\r\n",
       "            }\r\n",
       "</script>\r\n",
       "</div>\r\n"
      ]
     },
     "metadata": {},
     "output_type": "display_data"
    }
   ],
   "source": [
    "classDiagram\n",
    "    class IFactory{\n",
    "        <<interface>>\n",
    "        +CreateUser()\n",
    "    }\n",
    "    class SqlServerFactory{\n",
    "        +CreateUser()\n",
    "    }\n",
    "    class AccessFactory{\n",
    "        +CreateUser()\n",
    "    }\n",
    "    class IUser{\n",
    "        <<interface>>\n",
    "    }\n",
    "    class SqlServerUser{\n",
    "    }\n",
    "    class AccessUser{\n",
    "    }\n",
    "    IFactory <|.. SqlServerFactory\n",
    "    IFactory <|.. AccessFactory\n",
    "    SqlServerUser ..|> IUser\n",
    "    AccessUser ..|> IUser\n",
    "    SqlServerFactory ..> SqlServerUser\n",
    "    AccessFactory ..> AccessUser\n"
   ]
  },
  {
   "cell_type": "code",
   "execution_count": 4,
   "metadata": {
    "dotnet_interactive": {
     "language": "csharp"
    },
    "polyglot_notebook": {
     "kernelName": "csharp"
    },
    "vscode": {
     "languageId": "polyglot-notebook"
    }
   },
   "outputs": [],
   "source": [
    "//IUser接口，用于客户端访问，解除与具体数据库访问的耦合\n",
    "interface IUser\n",
    "{\n",
    "    void Insert(User user);\n",
    "    User GetUser(int id);\n",
    "}\n",
    "//SqlServerUser类，用于访问SQL Server的User。\n",
    "class SqlServerUser:IUser\n",
    "{\n",
    "    public void Insert(User user)\n",
    "    {\n",
    "        \"在SQL Server中给User表增加一条记录\".Display();\n",
    "    }\n",
    "\n",
    "    public User GetUser(int id)\n",
    "    {\n",
    "        \"在SQL Server中根据ID得到User表一条记录\".Display();\n",
    "        return null;\n",
    "    }\n",
    "}\n",
    "\n",
    "//AccessUser类，用于访问Access的User\n",
    "class AccessUser : IUser\n",
    "{\n",
    "    public void Insert(User user)\n",
    "    {\n",
    "        \"在Access中给User表增加一条记录\".Display();\n",
    "    }\n",
    "\n",
    "    public User GetUser(int id)\n",
    "    {\n",
    "        \"在Access中根据ID得到User表一条记录\".Display();\n",
    "        return null;\n",
    "    }\n",
    "}\n",
    "\n",
    "//IFactory接口，定义一个创建访问User表对象的抽象的工厂接口\n",
    "interface IFactory\n",
    "{\n",
    "    IUser CreateUser();\n",
    "}\n",
    "\n",
    "//SqlServerFactory类，实现IFactory接口，实例化SqlServerUser\n",
    "class SqlServerFactory:IFactory\n",
    "{\n",
    "    public IUser CreateUser()\n",
    "    {\n",
    "        return new SqlServerUser();\n",
    "    }\n",
    "}\n",
    "//AccessFactory类，实现IFactory接口，实例化AccessUser\n",
    "class AccessFactory:IFactory\n",
    "{\n",
    "    public IUser CreateUser()\n",
    "    {\n",
    "        return new AccessUser();\n",
    "    }\n",
    "}"
   ]
  },
  {
   "cell_type": "code",
   "execution_count": 5,
   "metadata": {
    "dotnet_interactive": {
     "language": "csharp"
    },
    "polyglot_notebook": {
     "kernelName": "csharp"
    },
    "vscode": {
     "languageId": "polyglot-notebook"
    }
   },
   "outputs": [
    {
     "data": {
      "text/plain": [
       "在SQL Server中给User表增加一条记录"
      ]
     },
     "metadata": {},
     "output_type": "display_data"
    },
    {
     "data": {
      "text/plain": [
       "在SQL Server中根据ID得到User表一条记录"
      ]
     },
     "metadata": {},
     "output_type": "display_data"
    }
   ],
   "source": [
    "User user = new User();\n",
    "\n",
    "IFactory factory = new SqlServerFactory();\n",
    "\n",
    "IUser iu = factory.CreateUser();\n",
    "iu.Insert(user);\n",
    "iu.GetUser(1);"
   ]
  },
  {
   "cell_type": "markdown",
   "metadata": {},
   "source": [
    "### 用了抽象工厂模式的数据访问程序"
   ]
  },
  {
   "cell_type": "markdown",
   "metadata": {},
   "source": [
    "**增加Department表**"
   ]
  },
  {
   "cell_type": "code",
   "execution_count": 6,
   "metadata": {
    "dotnet_interactive": {
     "language": "mermaid"
    },
    "polyglot_notebook": {
     "kernelName": "mermaid"
    },
    "vscode": {
     "languageId": "polyglot-notebook"
    }
   },
   "outputs": [
    {
     "data": {
      "text/html": [
       "<div class=\"mermaidMarkdownContainer\" style=\"background-color:white\">\r\n",
       "<link rel=\"stylesheet\" href=\"https://cdnjs.cloudflare.com/ajax/libs/font-awesome/6.2.0/css/all.min.css\">\r\n",
       "<div id=\"8d0b25ad54cd4a4680162ea0e00cda5c\"></div>\r\n",
       "<script type=\"module\">\r\n",
       "\r\n",
       "            import mermaid from 'https://cdn.jsdelivr.net/npm/mermaid@10.6.1/dist/mermaid.esm.min.mjs';\r\n",
       "            let renderTarget = document.getElementById('8d0b25ad54cd4a4680162ea0e00cda5c');\r\n",
       "            try {\r\n",
       "                const {svg, bindFunctions} = await mermaid.mermaidAPI.render( \r\n",
       "                    'mermaid_8d0b25ad54cd4a4680162ea0e00cda5c', \r\n",
       "                    `classDiagram\n",
       "    class IFactory{\n",
       "        <<interface>>\n",
       "        +CreateUser()\n",
       "        +CreateDepartment()\n",
       "    }\n",
       "    class SqlServerFactory{\n",
       "        +CreateUser()\n",
       "        +CreateDepartment()\n",
       "    }\n",
       "    class AccessFactory{\n",
       "        +CreateUser()\n",
       "        +CreateDepartment()\n",
       "    }\n",
       "    class IUser{\n",
       "        <<interface>>\n",
       "    }\n",
       "    class SqlServerUser{\n",
       "    }\n",
       "    class AccessUser{\n",
       "    }\n",
       "    class IDepartment{\n",
       "        <<interface>>\n",
       "    }\n",
       "    class SqlServerDepartment{\n",
       "    }\n",
       "    class AccessDepartment{\n",
       "    }\n",
       "    IFactory <|.. SqlServerFactory\n",
       "    IFactory <|.. AccessFactory\n",
       "    SqlServerUser ..|> IUser\n",
       "    AccessUser ..|> IUser\n",
       "    SqlServerFactory ..> SqlServerUser\n",
       "    AccessFactory ..> AccessUser\n",
       "    SqlServerDepartment ..|> IDepartment\n",
       "    AccessDepartment ..|> IDepartment\n",
       "    SqlServerFactory ..> SqlServerDepartment\n",
       "    AccessFactory ..> AccessDepartment`);\r\n",
       "                renderTarget.innerHTML = svg;\r\n",
       "                bindFunctions?.(renderTarget);\r\n",
       "            }\r\n",
       "            catch (error) {\r\n",
       "                console.log(error);\r\n",
       "            }\r\n",
       "</script>\r\n",
       "</div>\r\n"
      ]
     },
     "metadata": {},
     "output_type": "display_data"
    }
   ],
   "source": [
    "classDiagram\n",
    "    class IFactory{\n",
    "        <<interface>>\n",
    "        +CreateUser()\n",
    "        +CreateDepartment()\n",
    "    }\n",
    "    class SqlServerFactory{\n",
    "        +CreateUser()\n",
    "        +CreateDepartment()\n",
    "    }\n",
    "    class AccessFactory{\n",
    "        +CreateUser()\n",
    "        +CreateDepartment()\n",
    "    }\n",
    "    class IUser{\n",
    "        <<interface>>\n",
    "    }\n",
    "    class SqlServerUser{\n",
    "    }\n",
    "    class AccessUser{\n",
    "    }\n",
    "    class IDepartment{\n",
    "        <<interface>>\n",
    "    }\n",
    "    class SqlServerDepartment{\n",
    "    }\n",
    "    class AccessDepartment{\n",
    "    }\n",
    "    IFactory <|.. SqlServerFactory\n",
    "    IFactory <|.. AccessFactory\n",
    "    SqlServerUser ..|> IUser\n",
    "    AccessUser ..|> IUser\n",
    "    SqlServerFactory ..> SqlServerUser\n",
    "    AccessFactory ..> AccessUser\n",
    "    SqlServerDepartment ..|> IDepartment\n",
    "    AccessDepartment ..|> IDepartment\n",
    "    SqlServerFactory ..> SqlServerDepartment\n",
    "    AccessFactory ..> AccessDepartment"
   ]
  },
  {
   "cell_type": "code",
   "execution_count": 7,
   "metadata": {
    "dotnet_interactive": {
     "language": "csharp"
    },
    "polyglot_notebook": {
     "kernelName": "csharp"
    },
    "vscode": {
     "languageId": "polyglot-notebook"
    }
   },
   "outputs": [],
   "source": [
    "class Department{}\n",
    "interface IDepartment\n",
    "{\n",
    "    void Insert(Department department);\n",
    "    Department GetDepartment(int id);\n",
    "}\n",
    "\n",
    "class SqlServerDepartment:IDepartment\n",
    "{\n",
    "    public void Insert(Department user)\n",
    "    {\n",
    "        \"在SQL Server中给User表增加一条记录\".Display();\n",
    "    }\n",
    "\n",
    "    public Department GetDepartment(int id)\n",
    "    {\n",
    "        \"在SQL Server中根据ID得到User表一条记录\".Display();\n",
    "        return null;\n",
    "    }\n",
    "}\n",
    "\n",
    "class AccessDepartment:IDepartment\n",
    "{\n",
    "    public void Insert(Department user)\n",
    "    {\n",
    "        \"在Access中给User表增加一条记录\".Display();\n",
    "    }\n",
    "\n",
    "    public Department GetDepartment(int id)\n",
    "    {\n",
    "        \"在Access中根据ID得到User表一条记录\".Display();\n",
    "        return null;\n",
    "    }\n",
    "}\n",
    "\n",
    "//IFactory接口，定义一个创建访问User表对象的抽象工厂接口\n",
    "interface IFactory\n",
    "{\n",
    "    IUser CreateUser();\n",
    "    //增加的接口方法\n",
    "    IDepartment CreateDepartment();\n",
    "}\n",
    "//SqlServerFactory类，实现IFactory接口，实例化SqlServerUser和SqlServerDepartment\n",
    "class SqlServerFactory: IFactory\n",
    "{\n",
    "    public IUser CreateUser()\n",
    "    {\n",
    "        return new SqlServerUser();\n",
    "    }\n",
    "    //增加了SqlServerDepartment工厂\n",
    "    public IDepartment CreateDepartment()\n",
    "    {\n",
    "        return new SqlServerDepartment();\n",
    "    }\n",
    "}\n",
    "//AccessFactory类，实现IFactory接口，实例化AccessUser和AccessDepartment\n",
    "class AccessFactory: IFactory\n",
    "{\n",
    "    public IUser CreateUser()\n",
    "    {\n",
    "        return new AccessUser();\n",
    "    }\n",
    "    //增加了AccessDepartment工厂\n",
    "    public IDepartment CreateDepartment()\n",
    "    {\n",
    "        return new AccessDepartment();\n",
    "    }\n",
    "}\n"
   ]
  },
  {
   "cell_type": "code",
   "execution_count": 8,
   "metadata": {
    "dotnet_interactive": {
     "language": "csharp"
    },
    "polyglot_notebook": {
     "kernelName": "csharp"
    },
    "vscode": {
     "languageId": "polyglot-notebook"
    }
   },
   "outputs": [
    {
     "data": {
      "text/plain": [
       "在Access中给User表增加一条记录"
      ]
     },
     "metadata": {},
     "output_type": "display_data"
    },
    {
     "data": {
      "text/plain": [
       "在Access中根据ID得到User表一条记录"
      ]
     },
     "metadata": {},
     "output_type": "display_data"
    },
    {
     "data": {
      "text/plain": [
       "在Access中给User表增加一条记录"
      ]
     },
     "metadata": {},
     "output_type": "display_data"
    },
    {
     "data": {
      "text/plain": [
       "在Access中根据ID得到User表一条记录"
      ]
     },
     "metadata": {},
     "output_type": "display_data"
    }
   ],
   "source": [
    "User user = new User();\n",
    "Department dept = new Department();\n",
    "\n",
    "IFactory factory = new AccessFactory();\n",
    "\n",
    "IUser iu = factory.CreateUser();\n",
    "\n",
    "iu.Insert(user);\n",
    "iu.GetUser(1);\n",
    "\n",
    "IDepartment id = factory.CreateDepartment();\n",
    "id.Insert(dept);\n",
    "id.GetDepartment(1);\n"
   ]
  },
  {
   "cell_type": "markdown",
   "metadata": {},
   "source": [
    "只有一个User类和User操作类的时候，是只需要工厂方法模式的，但现在显然数据库中有很多的表，而SQL Server与Access又属于两大不同的分类，所以解决这种涉及到多个产品系列的问题，有一个专门的工厂模式叫抽象工厂模式"
   ]
  },
  {
   "cell_type": "markdown",
   "metadata": {},
   "source": [
    "### 抽象工厂模式"
   ]
  },
  {
   "cell_type": "markdown",
   "metadata": {},
   "source": [
    "> **抽象工厂模式（Abstract Factory）**，提供了一个创建一系列相关或相互依赖对象的接口，而无需指定它们具体的类"
   ]
  },
  {
   "cell_type": "code",
   "execution_count": 9,
   "metadata": {
    "dotnet_interactive": {
     "language": "mermaid"
    },
    "polyglot_notebook": {
     "kernelName": "mermaid"
    },
    "vscode": {
     "languageId": "polyglot-notebook"
    }
   },
   "outputs": [
    {
     "data": {
      "text/html": [
       "<div class=\"mermaidMarkdownContainer\" style=\"background-color:white\">\r\n",
       "<link rel=\"stylesheet\" href=\"https://cdnjs.cloudflare.com/ajax/libs/font-awesome/6.2.0/css/all.min.css\">\r\n",
       "<div id=\"30303f5735ae476f8f61dd6ad00b64e4\"></div>\r\n",
       "<script type=\"module\">\r\n",
       "\r\n",
       "            import mermaid from 'https://cdn.jsdelivr.net/npm/mermaid@10.6.1/dist/mermaid.esm.min.mjs';\r\n",
       "            let renderTarget = document.getElementById('30303f5735ae476f8f61dd6ad00b64e4');\r\n",
       "            try {\r\n",
       "                const {svg, bindFunctions} = await mermaid.mermaidAPI.render( \r\n",
       "                    'mermaid_30303f5735ae476f8f61dd6ad00b64e4', \r\n",
       "                    `---\n",
       "title: \"抽象工厂模式（Abstract Factory）结构图\"\n",
       "---\n",
       "classDiagram\n",
       "    class AbstractProductA{\n",
       "    }\n",
       "    class ProductA1{\n",
       "    }\n",
       "    class ProductA2{\n",
       "    }\n",
       "    class AbstractProductB{\n",
       "    }\n",
       "    class ProductB1{\n",
       "    }\n",
       "    class ProductB2{\n",
       "    }\n",
       "    class AbstractFactory{\n",
       "        +CreateProductA()\n",
       "        +CreateProductB()\n",
       "    }\n",
       "    class ConcreteFactory1{\n",
       "        +CreateProductA()\n",
       "        +CreateProductB()\n",
       "    }\n",
       "    class ConcreteFactory2{\n",
       "        +CreateProductA()\n",
       "        +CreateProductB()\n",
       "    }\n",
       "    AbstractFactory <|.. ConcreteFactory1\n",
       "    AbstractFactory <|.. ConcreteFactory2\n",
       "    ProductA1 ..|> AbstractProductA\n",
       "    ProductA2 ..|> AbstractProductA\n",
       "    ProductB1 ..|> AbstractProductB\n",
       "    ProductB2 ..|> AbstractProductB\n",
       "    ConcreteFactory1 ..> ProductA1\n",
       "    ConcreteFactory2 ..> ProductA2\n",
       "    ConcreteFactory1 ..> ProductB1\n",
       "    ConcreteFactory2 ..> ProductB2\n",
       "    note for AbstractFactory \"抽象工厂接口，它里面应该包含\\\\n所有产品创建的抽象方法\"\n",
       "    note for AbstractProductA \"抽象产品A 有两种不同的表现\"\n",
       "    note for AbstractProductB \"抽象产品B 有两种不同的表现\"`);\r\n",
       "                renderTarget.innerHTML = svg;\r\n",
       "                bindFunctions?.(renderTarget);\r\n",
       "            }\r\n",
       "            catch (error) {\r\n",
       "                console.log(error);\r\n",
       "            }\r\n",
       "</script>\r\n",
       "</div>\r\n"
      ]
     },
     "metadata": {},
     "output_type": "display_data"
    }
   ],
   "source": [
    "---\n",
    "title: \"抽象工厂模式（Abstract Factory）结构图\"\n",
    "---\n",
    "classDiagram\n",
    "    class AbstractProductA{\n",
    "    }\n",
    "    class ProductA1{\n",
    "    }\n",
    "    class ProductA2{\n",
    "    }\n",
    "    class AbstractProductB{\n",
    "    }\n",
    "    class ProductB1{\n",
    "    }\n",
    "    class ProductB2{\n",
    "    }\n",
    "    class AbstractFactory{\n",
    "        +CreateProductA()\n",
    "        +CreateProductB()\n",
    "    }\n",
    "    class ConcreteFactory1{\n",
    "        +CreateProductA()\n",
    "        +CreateProductB()\n",
    "    }\n",
    "    class ConcreteFactory2{\n",
    "        +CreateProductA()\n",
    "        +CreateProductB()\n",
    "    }\n",
    "    AbstractFactory <|.. ConcreteFactory1\n",
    "    AbstractFactory <|.. ConcreteFactory2\n",
    "    ProductA1 ..|> AbstractProductA\n",
    "    ProductA2 ..|> AbstractProductA\n",
    "    ProductB1 ..|> AbstractProductB\n",
    "    ProductB2 ..|> AbstractProductB\n",
    "    ConcreteFactory1 ..> ProductA1\n",
    "    ConcreteFactory2 ..> ProductA2\n",
    "    ConcreteFactory1 ..> ProductB1\n",
    "    ConcreteFactory2 ..> ProductB2\n",
    "    note for AbstractFactory \"抽象工厂接口，它里面应该包含\\n所有产品创建的抽象方法\"\n",
    "    note for AbstractProductA \"抽象产品A 有两种不同的表现\"\n",
    "    note for AbstractProductB \"抽象产品B 有两种不同的表现\""
   ]
  },
  {
   "cell_type": "markdown",
   "metadata": {},
   "source": [
    "AbstractProductA 和 AbstractProductB 是两个抽象产品，之所以成为抽象，是因为它们都有可能有两种不同的表现，就刚才的例子来说就是User和Department,而ProductA1、ProductA2和ProductB1、ProductB2就是对两个抽象产品的具体分类的实现，比如ProductA1可以理解为是SqlServerUser,而ProductB1是AccessUser。\n",
    "\n",
    "这么说，IFactory是一个抽象工厂接口，它里面应该包含所有的产品创建的抽象方法。而ConcreteFactory1和ConcreteFactory2就是具体的工厂了。就像SqlServerFactory和AccessFactory一样。\n",
    "\n",
    "通常在运行时刻再创建一个ConcreteFactory类的实例，这个具体的工厂再创建具有特定实现的产品对象，也就是说，为创建不同的产品对象，客户端应使用不同的具体工厂"
   ]
  },
  {
   "cell_type": "markdown",
   "metadata": {},
   "source": [
    "### 抽象工厂模式的优点与缺点"
   ]
  },
  {
   "cell_type": "markdown",
   "metadata": {
    "vscode": {
     "languageId": "polyglot-notebook"
    }
   },
   "source": [
    "使用抽象工厂的最大好处是便于交换产品系列，由于具体工厂类，例如IFactory factory = new AccessFactory(), 在一个应用中只需要初始化的时候出现一次，这就使得改变一个英勇的具体工厂变得非常容易，它只需要改变具体工厂即可使用不同的产品配置。我们的设计不能去放置需求的改变，那么我们的理想便是让改动变得最小，现在如果你要更改数据库访问，我们只需要更改具体工厂就可以做到。第二大好处是，它让具体的创建实例过程与客户端分离，客户端是通过他们的抽象接口操纵实例，产品的具体类名也被具体工厂的实现分离，不会出现在客户端代码中。\n",
    "\n",
    "抽象工厂模式也有缺点，虽然它可以很方便的切换两个数据库访问代码，但是如果你的需求来自增加功能，比如我们现在要增加项目表Project，就至少需要增加三个类，IProject、SqlServerProject、AccessProject,还需要更改IFactory、SqlServerFactory和AccessFactory才可以完全实现。另外客户端程序类显然不只会有一个，有很多地方都在使用IUser或IDepartment,而这样的设计，其实在每一个类的开始都需要声明IFactory factory = new AccessFactory() 如果我有100个调用数据库访问的类，是不是就要更改100次IFactory factory = new SqlServerFactory()这样的代码才行，这样就不能达到改动一次就完全更改的需求\n",
    "\n",
    "编程是门艺术，这样大批量的改动，显然是非常丑陋的做法"
   ]
  },
  {
   "cell_type": "markdown",
   "metadata": {},
   "source": [
    "### 用简单工厂来改进抽象工厂"
   ]
  },
  {
   "cell_type": "markdown",
   "metadata": {},
   "source": [
    "去除IFactory 、 SqlServerFactory 和 AccessFactory三个工厂类，取而代之的是DataAccess类，用一个简单工厂模式来实现"
   ]
  },
  {
   "cell_type": "code",
   "execution_count": 10,
   "metadata": {
    "dotnet_interactive": {
     "language": "mermaid"
    },
    "polyglot_notebook": {
     "kernelName": "mermaid"
    },
    "vscode": {
     "languageId": "polyglot-notebook"
    }
   },
   "outputs": [
    {
     "data": {
      "text/html": [
       "<div class=\"mermaidMarkdownContainer\" style=\"background-color:white\">\r\n",
       "<link rel=\"stylesheet\" href=\"https://cdnjs.cloudflare.com/ajax/libs/font-awesome/6.2.0/css/all.min.css\">\r\n",
       "<div id=\"178c96b8a3674a8fabfc85a74d4d0743\"></div>\r\n",
       "<script type=\"module\">\r\n",
       "\r\n",
       "            import mermaid from 'https://cdn.jsdelivr.net/npm/mermaid@10.6.1/dist/mermaid.esm.min.mjs';\r\n",
       "            let renderTarget = document.getElementById('178c96b8a3674a8fabfc85a74d4d0743');\r\n",
       "            try {\r\n",
       "                const {svg, bindFunctions} = await mermaid.mermaidAPI.render( \r\n",
       "                    'mermaid_178c96b8a3674a8fabfc85a74d4d0743', \r\n",
       "                    `classDiagram\n",
       "    class IUser{\n",
       "        <<interface>>\n",
       "    }\n",
       "    class SqlServerUser{\n",
       "    }\n",
       "    class AccessUser{\n",
       "    }\n",
       "    class DataAccess{\n",
       "        -db : string\n",
       "        +CreateUser() : IUser\n",
       "        +CreateDepartment() : IDepartment\n",
       "    }\n",
       "    class IDepartment{\n",
       "        <<interface>>\n",
       "    }\n",
       "    class SqlServerDepartment{\n",
       "    }\n",
       "    class AccessDepartment{\n",
       "    }\n",
       "    SqlServerDepartment ..|> IDepartment\n",
       "    AccessDepartment ..|> IDepartment\n",
       "    IUser <|.. SqlServerUser\n",
       "    IUser <|.. AccessUser\n",
       "    DataAccess ..> IUser\n",
       "    IDepartment <.. DataAccess`);\r\n",
       "                renderTarget.innerHTML = svg;\r\n",
       "                bindFunctions?.(renderTarget);\r\n",
       "            }\r\n",
       "            catch (error) {\r\n",
       "                console.log(error);\r\n",
       "            }\r\n",
       "</script>\r\n",
       "</div>\r\n"
      ]
     },
     "metadata": {},
     "output_type": "display_data"
    }
   ],
   "source": [
    "classDiagram\n",
    "    class IUser{\n",
    "        <<interface>>\n",
    "    }\n",
    "    class SqlServerUser{\n",
    "    }\n",
    "    class AccessUser{\n",
    "    }\n",
    "    class DataAccess{\n",
    "        -db : string\n",
    "        +CreateUser() : IUser\n",
    "        +CreateDepartment() : IDepartment\n",
    "    }\n",
    "    class IDepartment{\n",
    "        <<interface>>\n",
    "    }\n",
    "    class SqlServerDepartment{\n",
    "    }\n",
    "    class AccessDepartment{\n",
    "    }\n",
    "    SqlServerDepartment ..|> IDepartment\n",
    "    AccessDepartment ..|> IDepartment\n",
    "    IUser <|.. SqlServerUser\n",
    "    IUser <|.. AccessUser\n",
    "    DataAccess ..> IUser\n",
    "    IDepartment <.. DataAccess"
   ]
  },
  {
   "cell_type": "code",
   "execution_count": 11,
   "metadata": {
    "dotnet_interactive": {
     "language": "csharp"
    },
    "polyglot_notebook": {
     "kernelName": "csharp"
    },
    "vscode": {
     "languageId": "polyglot-notebook"
    }
   },
   "outputs": [],
   "source": [
    "class DataAccess\n",
    "{\n",
    "    private static readonly string db = \"SqlServer\";\n",
    "\n",
    "    public static IUser CreateUser()\n",
    "    {\n",
    "        IUser result = null;\n",
    "        switch(db)\n",
    "        {\n",
    "            case \"SqlServer\":\n",
    "                result = new SqlServerUser();\n",
    "                break;\n",
    "            case \"Access\":\n",
    "                result = new AccessUser();\n",
    "                break;\n",
    "        }\n",
    "        return result;\n",
    "    }\n",
    "\n",
    "    public static IDepartment CreateDepartment()\n",
    "    {\n",
    "        IDepartment result = null;\n",
    "        switch(db)\n",
    "        {\n",
    "            case \"SqlServer\":\n",
    "                result = new SqlServerDepartment();\n",
    "                break;\n",
    "            case \"Access\":\n",
    "                result = new AccessDepartment();\n",
    "                break;\n",
    "        }\n",
    "        return result;\n",
    "    }\n",
    "}"
   ]
  },
  {
   "cell_type": "code",
   "execution_count": 12,
   "metadata": {
    "dotnet_interactive": {
     "language": "csharp"
    },
    "polyglot_notebook": {
     "kernelName": "csharp"
    },
    "vscode": {
     "languageId": "polyglot-notebook"
    }
   },
   "outputs": [
    {
     "data": {
      "text/plain": [
       "在SQL Server中给User表增加一条记录"
      ]
     },
     "metadata": {},
     "output_type": "display_data"
    },
    {
     "data": {
      "text/plain": [
       "在SQL Server中根据ID得到User表一条记录"
      ]
     },
     "metadata": {},
     "output_type": "display_data"
    },
    {
     "data": {
      "text/plain": [
       "在SQL Server中给User表增加一条记录"
      ]
     },
     "metadata": {},
     "output_type": "display_data"
    },
    {
     "data": {
      "text/plain": [
       "在SQL Server中根据ID得到User表一条记录"
      ]
     },
     "metadata": {},
     "output_type": "display_data"
    }
   ],
   "source": [
    "User user =  new User();\n",
    "Department dept = new Department();\n",
    "IUser iu = DataAccess.CreateUser();\n",
    "\n",
    "iu.Insert(user);\n",
    "iu.GetUser(1);\n",
    "\n",
    "IDepartment id = DataAccess.CreateDepartment();\n",
    "id.Insert(dept);\n",
    "id.GetDepartment(1);\n"
   ]
  },
  {
   "cell_type": "markdown",
   "metadata": {},
   "source": [
    "### 用反射+抽象工厂的数据访问程序"
   ]
  },
  {
   "cell_type": "markdown",
   "metadata": {},
   "source": [
    "> Assembly.Load(\"程序集名称\").CreateInstance(\"命名空间.类名称\")"
   ]
  },
  {
   "cell_type": "markdown",
   "metadata": {},
   "source": [
    "只要在程序顶端写上using System.Reflection;用来引用Reflection，就可以使用反射来帮我们克服抽象工厂模式的先天不足了。"
   ]
  },
  {
   "cell_type": "code",
   "execution_count": 13,
   "metadata": {
    "dotnet_interactive": {
     "language": "csharp"
    },
    "polyglot_notebook": {
     "kernelName": "csharp"
    },
    "vscode": {
     "languageId": "polyglot-notebook"
    }
   },
   "outputs": [],
   "source": [
    "//常规写法\n",
    "IUser result = new SqlServerUser();\n",
    "\n"
   ]
  },
  {
   "cell_type": "markdown",
   "metadata": {
    "dotnet_interactive": {
     "language": "csharp"
    },
    "polyglot_notebook": {
     "kernelName": "csharp"
    },
    "vscode": {
     "languageId": "polyglot-notebook"
    }
   },
   "source": [
    "```C#\n",
    "//反射的写法\n",
    "using System.Reflection;\n",
    "\n",
    "IUser result = (IUser)Assembly.Load(\"抽象工厂模式\").GetInstance(\"抽象工厂模式.SqlServerUser\");\n",
    "```"
   ]
  },
  {
   "cell_type": "code",
   "execution_count": 14,
   "metadata": {
    "dotnet_interactive": {
     "language": "mermaid"
    },
    "polyglot_notebook": {
     "kernelName": "mermaid"
    },
    "vscode": {
     "languageId": "polyglot-notebook"
    }
   },
   "outputs": [
    {
     "data": {
      "text/html": [
       "<div class=\"mermaidMarkdownContainer\" style=\"background-color:white\">\r\n",
       "<link rel=\"stylesheet\" href=\"https://cdnjs.cloudflare.com/ajax/libs/font-awesome/6.2.0/css/all.min.css\">\r\n",
       "<div id=\"7237118e5a2240978c06f8a6cc1360b2\"></div>\r\n",
       "<script type=\"module\">\r\n",
       "\r\n",
       "            import mermaid from 'https://cdn.jsdelivr.net/npm/mermaid@10.6.1/dist/mermaid.esm.min.mjs';\r\n",
       "            let renderTarget = document.getElementById('7237118e5a2240978c06f8a6cc1360b2');\r\n",
       "            try {\r\n",
       "                const {svg, bindFunctions} = await mermaid.mermaidAPI.render( \r\n",
       "                    'mermaid_7237118e5a2240978c06f8a6cc1360b2', \r\n",
       "                    `classDiagram\r\n",
       "    class DataAccess{\r\n",
       "        -db : string\r\n",
       "        +CreateUser() : IUser\r\n",
       "        +CreateDepartment() : IDepartment\r\n",
       "    }\r\n",
       "    class IUser{\r\n",
       "        <<interface>>\r\n",
       "    }\r\n",
       "    class SqlServerUser{\r\n",
       "    }\r\n",
       "    class AccessUser{\r\n",
       "    }\r\n",
       "    class IDepartment{\r\n",
       "        <<interface>>\r\n",
       "    }\r\n",
       "    class SqlServerDepartment{\r\n",
       "    }\r\n",
       "    class AccessDepartment{\r\n",
       "    }\r\n",
       "    SqlServerUser ..|> IUser\r\n",
       "    AccessUser ..|> IUser\r\n",
       "    IDepartment <|.. SqlServerDepartment\r\n",
       "    IDepartment <|.. AccessDepartment\r\n",
       "    DataAccess ..> IUser\r\n",
       "    DataAccess ..> IDepartment`);\r\n",
       "                renderTarget.innerHTML = svg;\r\n",
       "                bindFunctions?.(renderTarget);\r\n",
       "            }\r\n",
       "            catch (error) {\r\n",
       "                console.log(error);\r\n",
       "            }\r\n",
       "</script>\r\n",
       "</div>\r\n"
      ]
     },
     "metadata": {},
     "output_type": "display_data"
    }
   ],
   "source": [
    "classDiagram\n",
    "    class DataAccess{\n",
    "        -db : string\n",
    "        +CreateUser() : IUser\n",
    "        +CreateDepartment() : IDepartment\n",
    "    }\n",
    "    class IUser{\n",
    "        <<interface>>\n",
    "    }\n",
    "    class SqlServerUser{\n",
    "    }\n",
    "    class AccessUser{\n",
    "    }\n",
    "    class IDepartment{\n",
    "        <<interface>>\n",
    "    }\n",
    "    class SqlServerDepartment{\n",
    "    }\n",
    "    class AccessDepartment{\n",
    "    }\n",
    "    SqlServerUser ..|> IUser\n",
    "    AccessUser ..|> IUser\n",
    "    IDepartment <|.. SqlServerDepartment\n",
    "    IDepartment <|.. AccessDepartment\n",
    "    DataAccess ..> IUser\n",
    "    DataAccess ..> IDepartment"
   ]
  },
  {
   "cell_type": "markdown",
   "metadata": {},
   "source": [
    "DataAccess类，用反射技术，取代IFactory、SqlServerFactory和AccessFactory."
   ]
  },
  {
   "cell_type": "code",
   "execution_count": 17,
   "metadata": {
    "dotnet_interactive": {
     "language": "csharp"
    },
    "polyglot_notebook": {
     "kernelName": "csharp"
    },
    "vscode": {
     "languageId": "polyglot-notebook"
    }
   },
   "outputs": [],
   "source": [
    "using System.Reflection;\n",
    "\n",
    "class DataAccess\n",
    "{\n",
    "    private static readonly string AssemblyName = \"Submission#4\";\n",
    "    private static readonly string db = \"SqlServer\";\n",
    "\n",
    "    public static IUser CreateUser()\n",
    "    {\n",
    "        string className = AssemblyName + \"+\" + db + \"User\";\n",
    "        return (IUser)Assembly.Load(AssemblyName).CreateInstance(className);\n",
    "    }\n",
    "    public static IDepartment CreateDepartment()\n",
    "    {\n",
    "        string className = AssemblyName + \"+\" + db + \"Department\";\n",
    "        return (IDepartment)Assembly.Load(AssemblyName).CreateInstance(className);\n",
    "    }\n",
    "}"
   ]
  },
  {
   "cell_type": "code",
   "execution_count": 16,
   "metadata": {
    "dotnet_interactive": {
     "language": "csharp"
    },
    "polyglot_notebook": {
     "kernelName": "csharp"
    },
    "vscode": {
     "languageId": "polyglot-notebook"
    }
   },
   "outputs": [
    {
     "data": {
      "text/html": [
       "Submission#4+SqlServerUser"
      ]
     },
     "metadata": {},
     "output_type": "display_data"
    }
   ],
   "source": [
    "typeof(SqlServerUser)"
   ]
  },
  {
   "cell_type": "code",
   "execution_count": null,
   "metadata": {
    "dotnet_interactive": {
     "language": "csharp"
    },
    "polyglot_notebook": {
     "kernelName": "csharp"
    },
    "vscode": {
     "languageId": "polyglot-notebook"
    }
   },
   "outputs": [],
   "source": []
  }
 ],
 "metadata": {
  "kernelspec": {
   "display_name": ".NET (C#)",
   "language": "C#",
   "name": ".net-csharp"
  },
  "language_info": {
   "name": "csharp"
  },
  "polyglot_notebook": {
   "kernelInfo": {
    "defaultKernelName": "csharp",
    "items": [
     {
      "aliases": [],
      "name": "csharp"
     }
    ]
   }
  }
 },
 "nbformat": 4,
 "nbformat_minor": 2
}
