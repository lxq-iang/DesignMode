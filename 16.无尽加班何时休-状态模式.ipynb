{
 "cells": [
  {
   "cell_type": "markdown",
   "metadata": {},
   "source": [
    "### 1. 工作状态-函数版"
   ]
  },
  {
   "cell_type": "code",
   "execution_count": 1,
   "metadata": {
    "vscode": {
     "languageId": "polyglot-notebook"
    }
   },
   "outputs": [],
   "source": [
    "static int Hour = 0;\n",
    "static bool WorkFinished = false;\n",
    "\n",
    "public static void WriteProgram()\n",
    "{\n",
    "    if(Hour < 12)\n",
    "    {\n",
    "        $\"当前时间：{Hour}点 上午工作，精神百倍\".Display();\n",
    "    }\n",
    "    else if(Hour < 13)\n",
    "    {\n",
    "        $\"当前时间：{Hour}点 饿了，午饭；犯困，午休。\".Display();\n",
    "    }\n",
    "    else if(Hour < 17)\n",
    "    {\n",
    "        $\"当前时间：{Hour}点 下午状态还不错，继续努力\".Display();\n",
    "    }\n",
    "    else\n",
    "    {\n",
    "        if(WorkFinished)\n",
    "        {\n",
    "            $\"当前时间：{Hour}点 下班回家了\".Display();\n",
    "        }\n",
    "        else\n",
    "        {\n",
    "            if(Hour < 21)\n",
    "            {\n",
    "                $\"当前时间：{Hour}点 加班哦，疲累之极\".Display();\n",
    "            }\n",
    "            else\n",
    "            {\n",
    "                $\"当前时间：{Hour}点 不行了，睡着了。\".Display();\n",
    "            }\n",
    "        }\n",
    "    }\n",
    "}"
   ]
  },
  {
   "cell_type": "code",
   "execution_count": null,
   "metadata": {
    "vscode": {
     "languageId": "polyglot-notebook"
    }
   },
   "outputs": [],
   "source": [
    "Hour = 9;\n",
    "WriteProgram();\n",
    "Hour = 10;\n",
    "WriteProgram();\n",
    "Hour = 12;\n",
    "WriteProgram();\n",
    "Hour = 13;\n",
    "WriteProgram();\n",
    "Hour = 14;\n",
    "WriteProgram();\n",
    "Hour = 17;\n",
    "WriteProgram();\n",
    "\n",
    "WorkFinished = false;\n",
    "WriteProgram();\n",
    "\n",
    "Hour = 19;\n",
    "WriteProgram();\n",
    "Hour = 22;\n",
    "WriteProgram();"
   ]
  },
  {
   "cell_type": "markdown",
   "metadata": {},
   "source": [
    "### 2. 重构，面向对象版"
   ]
  },
  {
   "cell_type": "code",
   "execution_count": 4,
   "metadata": {
    "vscode": {
     "languageId": "polyglot-notebook"
    }
   },
   "outputs": [],
   "source": [
    "public class Work\n",
    "{\n",
    "    private int hour;\n",
    "    public int Hour{get{return hour;} set{hour = value;}}\n",
    "\n",
    "    private bool finish = false;\n",
    "    public bool TaskFinished{get{return finish;} set{finish = value;}}\n",
    "\n",
    "    public void WriteProgram()\n",
    "    {\n",
    "        if(hour < 12)\n",
    "        {\n",
    "            $\"当前时间：{hour}点 上午工作，精神百倍\".Display();\n",
    "        }\n",
    "        else if(hour < 13)\n",
    "        {\n",
    "            $\"当前时间：{hour}点 饿了，午饭；犯困，午休。\".Display();\n",
    "        }\n",
    "        else if(hour < 17)\n",
    "        {\n",
    "            $\"当前时间：{hour}点 下午状态还不错，继续努力\".Display();\n",
    "        }\n",
    "        else\n",
    "        {\n",
    "            if(finish)\n",
    "            {\n",
    "                $\"当前时间：{hour}点 下班回家了\".Display();\n",
    "            }\n",
    "            else\n",
    "            {\n",
    "                if(hour < 21)\n",
    "                {\n",
    "                    $\"当前时间：{hour}点 加班哦，疲累之极\".Display();\n",
    "                }\n",
    "                else\n",
    "                {\n",
    "                    $\"当前时间：{hour}点 不行了，睡着了。\".Display();\n",
    "                }\n",
    "            }\n",
    "        }\n",
    "    }\n",
    "\n",
    "}"
   ]
  },
  {
   "cell_type": "code",
   "execution_count": null,
   "metadata": {
    "vscode": {
     "languageId": "polyglot-notebook"
    }
   },
   "outputs": [],
   "source": [
    "Work emergencyProjectys = new Work();\n",
    "emergencyProjectys.Hour = 9;\n",
    "emergencyProjectys.WriteProgram();\n",
    "emergencyProjectys.Hour = 10;\n",
    "emergencyProjectys.WriteProgram();\n",
    "emergencyProjectys.Hour = 12;\n",
    "emergencyProjectys.WriteProgram();\n",
    "emergencyProjectys.Hour = 13;\n",
    "emergencyProjectys.WriteProgram();\n",
    "emergencyProjectys.Hour = 14;\n",
    "emergencyProjectys.WriteProgram();\n",
    "emergencyProjectys.Hour = 17;\n",
    "emergencyProjectys.WriteProgram();\n",
    "\n",
    "emergencyProjectys.TaskFinished = false;\n",
    "\n",
    "emergencyProjectys.Hour = 19;\n",
    "emergencyProjectys.WriteProgram();\n",
    "emergencyProjectys.Hour = 22;\n",
    "emergencyProjectys.WriteProgram();"
   ]
  },
  {
   "cell_type": "markdown",
   "metadata": {},
   "source": [
    "### 3. 状态模式"
   ]
  },
  {
   "cell_type": "markdown",
   "metadata": {},
   "source": [
    "> 状态模式（State）：当一个对象的内在状态改变时允许改变其行为，这个对象看起来像是改变了其类"
   ]
  },
  {
   "cell_type": "markdown",
   "metadata": {},
   "source": [
    "状态模式主要解决的是当控制一个对象状态转换的条件表达式过于复杂的情况。把状态的判断逻辑转移到表示不同状态的一系列类当中，可以把复杂的逻辑简单化。"
   ]
  },
  {
   "cell_type": "code",
   "execution_count": null,
   "metadata": {
    "dotnet_interactive": {
     "language": "mermaid"
    },
    "polyglot_notebook": {
     "kernelName": "mermaid"
    },
    "vscode": {
     "languageId": "polyglot-notebook"
    }
   },
   "outputs": [],
   "source": [
    "---\n",
    "title: 状态模式（State）结构图\n",
    "---\n",
    "classDiagram\n",
    "    class Context{\n",
    "        +Request()\n",
    "    }\n",
    "    class State{\n",
    "        +Handle()\n",
    "    }\n",
    "    class ConcreateStateA{\n",
    "        +Handle()\n",
    "    }\n",
    "    class ConcreateStateB{\n",
    "        +Handle()\n",
    "    }\n",
    "    class ConcreateStateC{\n",
    "        +Handle()\n",
    "    }\n",
    "    note for Context \"维护一个ConcreteState子类的实例，这个实例定义当前的状态\"\n",
    "    note for State \"抽象状态类，定义一个接口以封装与Context的一个特定状态相关的行为\"\n",
    "    note for ConcreateStateA \"具体状态，每一个子类实现一个与Context的一个状态相关的行为\"\n",
    "    Context o--> State\n",
    "    ConcreateStateA --|> State\n",
    "    ConcreateStateB --|> State\n",
    "    ConcreateStateC --|> State"
   ]
  },
  {
   "cell_type": "code",
   "execution_count": 29,
   "metadata": {
    "dotnet_interactive": {
     "language": "csharp"
    },
    "polyglot_notebook": {
     "kernelName": "csharp"
    },
    "vscode": {
     "languageId": "polyglot-notebook"
    }
   },
   "outputs": [],
   "source": [
    "//State类，抽象状态类，定义一个接口以封装与Context的一个特定状态相关的行为\n",
    "abstract class State\n",
    "{\n",
    "    public abstract void Handle(Context context);\n",
    "}\n",
    "\n",
    "//Context类，维护一个ConcreteState子类的实例，这个实例定义当前的状态\n",
    "class Context\n",
    "{\n",
    "    private State _state;\n",
    "    public Context(State state)\n",
    "    {\n",
    "        _state = state;\n",
    "    }\n",
    "\n",
    "    public State State\n",
    "    {\n",
    "        get{return _state;}\n",
    "        set\n",
    "        {\n",
    "            _state = value;\n",
    "            $\"当前状态: {_state.GetType().Name}\".Display();    \n",
    "        }\n",
    "    }\n",
    "    public void Request()\n",
    "    {\n",
    "        _state.Handle(this);\n",
    "    }\n",
    "}\n",
    "//ConcreteState类，具体状态，每一个子类实现一个与Context的一个状态相关的行为\n",
    "class ConcreteStateA: State\n",
    "{\n",
    "    public override void Handle(Context context)\n",
    "    {\n",
    "        context.State = new ConcreteStateB();//设置ConcreteStateA的下一个状态是ConcreteStateB\n",
    "    }\n",
    "}\n",
    "class ConcreteStateB: State\n",
    "{\n",
    "    public override void Handle(Context context)\n",
    "    {\n",
    "        context.State = new ConcreteStateA();\n",
    "    }\n",
    "}"
   ]
  },
  {
   "cell_type": "code",
   "execution_count": 30,
   "metadata": {
    "vscode": {
     "languageId": "polyglot-notebook"
    }
   },
   "outputs": [
    {
     "data": {
      "text/plain": [
       "当前状态: ConcreteStateB"
      ]
     },
     "metadata": {},
     "output_type": "display_data"
    },
    {
     "data": {
      "text/plain": [
       "当前状态: ConcreteStateA"
      ]
     },
     "metadata": {},
     "output_type": "display_data"
    },
    {
     "data": {
      "text/plain": [
       "当前状态: ConcreteStateB"
      ]
     },
     "metadata": {},
     "output_type": "display_data"
    },
    {
     "data": {
      "text/plain": [
       "当前状态: ConcreteStateA"
      ]
     },
     "metadata": {},
     "output_type": "display_data"
    }
   ],
   "source": [
    "Context c = new Context(new ConcreteStateA());\n",
    "\n",
    "c.Request();\n",
    "c.Request();\n",
    "c.Request();\n",
    "c.Request();"
   ]
  },
  {
   "cell_type": "markdown",
   "metadata": {},
   "source": [
    "- 状态模式的好处就是将与特定状态的相关行为进行局部化，并且将不同状态的行为分割开来。\n",
    "- 目的是为了消除庞大的条件分支语句。状态模式通过把各种状态转移逻辑分布到State的子类之间，来减少相互间的依赖\n",
    "- 当一个对象的行为取决于它的状态，并且必须在运行时刻根据状态改变它的行为时，就可以考虑使用状态模式了"
   ]
  },
  {
   "cell_type": "markdown",
   "metadata": {},
   "source": [
    "### 4. 工作状态-状态模式版"
   ]
  },
  {
   "cell_type": "code",
   "execution_count": 32,
   "metadata": {
    "dotnet_interactive": {
     "language": "mermaid"
    },
    "polyglot_notebook": {
     "kernelName": "mermaid"
    },
    "vscode": {
     "languageId": "polyglot-notebook"
    }
   },
   "outputs": [
    {
     "data": {
      "text/html": [
       "<div class=\"mermaidMarkdownContainer\" style=\"background-color:white\">\r\n",
       "<link rel=\"stylesheet\" href=\"https://cdnjs.cloudflare.com/ajax/libs/font-awesome/6.2.0/css/all.min.css\">\r\n",
       "<div id=\"fd14682985ee4ddfa21f1696bcea3a90\"></div>\r\n",
       "<script type=\"module\">\r\n",
       "\r\n",
       "            import mermaid from 'https://cdn.jsdelivr.net/npm/mermaid@10.6.1/dist/mermaid.esm.min.mjs';\r\n",
       "            let renderTarget = document.getElementById('fd14682985ee4ddfa21f1696bcea3a90');\r\n",
       "            try {\r\n",
       "                const {svg, bindFunctions} = await mermaid.mermaidAPI.render( \r\n",
       "                    'mermaid_fd14682985ee4ddfa21f1696bcea3a90', \r\n",
       "                    `classDiagram\r\n",
       "    class 工作{\r\n",
       "        +钟点 : double\r\n",
       "        +任务完成 : bool\r\n",
       "        +设置状态(in s : 状态)\r\n",
       "        +写程序(in w : 工作)\r\n",
       "    }\r\n",
       "    class 状态{\r\n",
       "        +写程序(in w : 工作)\r\n",
       "    }\r\n",
       "    class 上午工作状态{\r\n",
       "        +写程序(in w : 工作)\r\n",
       "    }\r\n",
       "    class 上午工作状态{\r\n",
       "        +写程序(in w : 工作)\r\n",
       "    }\r\n",
       "    class 中午工作状态{\r\n",
       "        +写程序(in w : 工作)\r\n",
       "    }\r\n",
       "    class 下午工作状态{\r\n",
       "        +写程序(in w : 工作)\r\n",
       "    }\r\n",
       "    class 傍晚工作状态{\r\n",
       "        +写程序(in w : 工作)\r\n",
       "    }\r\n",
       "    class 下班工作状态{\r\n",
       "        +写程序(in w : 工作)\r\n",
       "    }\r\n",
       "    class 睡眠工作状态{\r\n",
       "        +写程序(in w : 工作)\r\n",
       "    }\r\n",
       "    工作 o--> 状态\r\n",
       "    状态 --> 工作\r\n",
       "    上午工作状态 --|> 状态\r\n",
       "    中午工作状态 --|> 状态\r\n",
       "    下午工作状态 --|> 状态\r\n",
       "    傍晚工作状态 --|> 状态\r\n",
       "    下班工作状态 --|> 状态\r\n",
       "    睡眠工作状态 --|> 状态\r\n",
       "`);\r\n",
       "                renderTarget.innerHTML = svg;\r\n",
       "                bindFunctions?.(renderTarget);\r\n",
       "            }\r\n",
       "            catch (error) {\r\n",
       "                console.log(error);\r\n",
       "            }\r\n",
       "</script>\r\n",
       "</div>\r\n"
      ]
     },
     "metadata": {},
     "output_type": "display_data"
    }
   ],
   "source": [
    "classDiagram\n",
    "    class 工作{\n",
    "        +钟点 : double\n",
    "        +任务完成 : bool\n",
    "        +设置状态(in s : 状态)\n",
    "        +写程序(in w : 工作)\n",
    "    }\n",
    "    class 状态{\n",
    "        +写程序(in w : 工作)\n",
    "    }\n",
    "    class 上午工作状态{\n",
    "        +写程序(in w : 工作)\n",
    "    }\n",
    "    class 上午工作状态{\n",
    "        +写程序(in w : 工作)\n",
    "    }\n",
    "    class 中午工作状态{\n",
    "        +写程序(in w : 工作)\n",
    "    }\n",
    "    class 下午工作状态{\n",
    "        +写程序(in w : 工作)\n",
    "    }\n",
    "    class 傍晚工作状态{\n",
    "        +写程序(in w : 工作)\n",
    "    }\n",
    "    class 下班工作状态{\n",
    "        +写程序(in w : 工作)\n",
    "    }\n",
    "    class 睡眠工作状态{\n",
    "        +写程序(in w : 工作)\n",
    "    }\n",
    "    工作 o--> 状态\n",
    "    状态 --> 工作\n",
    "    上午工作状态 --|> 状态\n",
    "    中午工作状态 --|> 状态\n",
    "    下午工作状态 --|> 状态\n",
    "    傍晚工作状态 --|> 状态\n",
    "    下班工作状态 --|> 状态\n",
    "    睡眠工作状态 --|> 状态\n"
   ]
  },
  {
   "cell_type": "code",
   "execution_count": 1,
   "metadata": {
    "vscode": {
     "languageId": "polyglot-notebook"
    }
   },
   "outputs": [],
   "source": [
    "//抽象状态\n",
    "public abstract class State\n",
    "{\n",
    "    public abstract void WriteProgram(Work w);\n",
    "}\n",
    "//上午和中午工作状态类 \n",
    "public class ForenoonState : State\n",
    "{\n",
    "    public override void WriteProgram(Work w)\n",
    "    {\n",
    "        if(w.Hour < 12)\n",
    "        {\n",
    "            $\"当前时间：{w.Hour}点 上午工作，精神百倍\".Display();\n",
    "        }\n",
    "        else\n",
    "        {\n",
    "            w.SetState(new NoonState());\n",
    "            w.WriteProgram();\n",
    "        }\n",
    "    }\n",
    "}\n",
    "\n",
    "//中午工作状态\n",
    "public class NoonState : State\n",
    "{\n",
    "    public override void WriteProgram(Work w)\n",
    "    {\n",
    "        if(w.Hour < 13)\n",
    "        {\n",
    "            $\"当前时间：{w.Hour}点 饿了，午饭；犯困，午休\".Display();\n",
    "        }\n",
    "        else\n",
    "        {\n",
    "            w.SetState(new AfternoonState());\n",
    "            w.WriteProgram();\n",
    "        }\n",
    "    }\n",
    "}\n",
    "\n",
    "//下午工作状态\n",
    "public class AfternoonState : State\n",
    "{\n",
    "    public override void WriteProgram(Work w)\n",
    "    {\n",
    "        if(w.Hour < 17)\n",
    "        {\n",
    "            $\"当前时间：{w.Hour}点 下午状态不错，继续努力\".Display();\n",
    "        }\n",
    "        else\n",
    "        {\n",
    "            w.SetState(new EveningState());\n",
    "            w.WriteProgram();\n",
    "        }\n",
    "    }\n",
    "}\n",
    "\n",
    "//晚间工作状态\n",
    "public class EveningState : State\n",
    "{\n",
    "    public override void WriteProgram(Work w)\n",
    "    {\n",
    "        if(w.TaskFinished)\n",
    "        {\n",
    "            w.SetState(new RestState());\n",
    "            w.WriteProgram();\n",
    "        }\n",
    "        else\n",
    "        {\n",
    "            if(w.Hour < 21)\n",
    "            {\n",
    "                $\"当前时间：{w.Hour}点 加班哦，疲累之极\".Display();\n",
    "            }\n",
    "            else\n",
    "            {\n",
    "                w.SetState(new SleepingSate());\n",
    "                w.WriteProgram();\n",
    "            }\n",
    "        }\n",
    "        \n",
    "    }\n",
    "}\n",
    "\n",
    "//睡眠状态\n",
    "public class SleepingSate : State\n",
    "{\n",
    "    public override void WriteProgram(Work w)\n",
    "    {\n",
    "        $\"当前时间：{w.Hour}点 不行了，睡着了\".Display();\n",
    "    }\n",
    "}\n",
    "\n",
    "//下班休息状态\n",
    "public class RestState : State\n",
    "{\n",
    "    public override void WriteProgram(Work w)\n",
    "    {\n",
    "        $\"当前时间：{w.Hour}点 下班回家了\".Display();\n",
    "    }\n",
    "}\n",
    "\n",
    "public class Work\n",
    "{\n",
    "    private State current;\n",
    "    public Work()\n",
    "    {\n",
    "        current = new ForenoonState();\n",
    "    }\n",
    "    private double hour;\n",
    "    public double Hour\n",
    "    {\n",
    "        get{return hour;}\n",
    "        set{hour = value;}\n",
    "    }\n",
    "\n",
    "    private bool finish = false;\n",
    "    public bool TaskFinished\n",
    "    {\n",
    "        get{return finish;}\n",
    "        set{finish = value;}\n",
    "    }\n",
    "\n",
    "    public void SetState(State s)\n",
    "    {\n",
    "        current = s;\n",
    "    }\n",
    "    public void WriteProgram()\n",
    "    {\n",
    "        current.WriteProgram(this);\n",
    "    }\n",
    "}"
   ]
  },
  {
   "cell_type": "code",
   "execution_count": 2,
   "metadata": {
    "vscode": {
     "languageId": "polyglot-notebook"
    }
   },
   "outputs": [
    {
     "data": {
      "text/plain": [
       "当前时间：9点 上午工作，精神百倍"
      ]
     },
     "metadata": {},
     "output_type": "display_data"
    },
    {
     "data": {
      "text/plain": [
       "当前时间：10点 上午工作，精神百倍"
      ]
     },
     "metadata": {},
     "output_type": "display_data"
    },
    {
     "data": {
      "text/plain": [
       "当前时间：12点 饿了，午饭；犯困，午休"
      ]
     },
     "metadata": {},
     "output_type": "display_data"
    },
    {
     "data": {
      "text/plain": [
       "当前时间：13点 下午状态不错，继续努力"
      ]
     },
     "metadata": {},
     "output_type": "display_data"
    },
    {
     "data": {
      "text/plain": [
       "当前时间：14点 下午状态不错，继续努力"
      ]
     },
     "metadata": {},
     "output_type": "display_data"
    },
    {
     "data": {
      "text/plain": [
       "当前时间：17点 加班哦，疲累之极"
      ]
     },
     "metadata": {},
     "output_type": "display_data"
    },
    {
     "data": {
      "text/plain": [
       "当前时间：19点 加班哦，疲累之极"
      ]
     },
     "metadata": {},
     "output_type": "display_data"
    },
    {
     "data": {
      "text/plain": [
       "当前时间：22点 不行了，睡着了"
      ]
     },
     "metadata": {},
     "output_type": "display_data"
    }
   ],
   "source": [
    "Work emergencyProjectys = new Work();\n",
    "emergencyProjectys.Hour = 9;\n",
    "emergencyProjectys.WriteProgram();\n",
    "emergencyProjectys.Hour = 10;\n",
    "emergencyProjectys.WriteProgram();\n",
    "emergencyProjectys.Hour = 12;\n",
    "emergencyProjectys.WriteProgram();\n",
    "emergencyProjectys.Hour = 13;\n",
    "emergencyProjectys.WriteProgram();\n",
    "emergencyProjectys.Hour = 14;\n",
    "emergencyProjectys.WriteProgram();\n",
    "emergencyProjectys.Hour = 17;\n",
    "emergencyProjectys.WriteProgram();\n",
    "\n",
    "emergencyProjectys.TaskFinished = false;\n",
    "\n",
    "emergencyProjectys.Hour = 19;\n",
    "emergencyProjectys.WriteProgram();\n",
    "emergencyProjectys.Hour = 22;\n",
    "emergencyProjectys.WriteProgram();"
   ]
  },
  {
   "cell_type": "code",
   "execution_count": null,
   "metadata": {
    "vscode": {
     "languageId": "polyglot-notebook"
    }
   },
   "outputs": [],
   "source": []
  }
 ],
 "metadata": {
  "kernelspec": {
   "display_name": ".NET (C#)",
   "language": "C#",
   "name": ".net-csharp"
  },
  "language_info": {
   "name": "csharp"
  },
  "polyglot_notebook": {
   "kernelInfo": {
    "defaultKernelName": "csharp",
    "items": [
     {
      "aliases": [],
      "name": "csharp"
     }
    ]
   }
  }
 },
 "nbformat": 4,
 "nbformat_minor": 2
}
