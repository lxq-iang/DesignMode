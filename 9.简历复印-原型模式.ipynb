{
 "cells": [
  {
   "cell_type": "markdown",
   "metadata": {},
   "source": [
    "### 简历代码初步实现"
   ]
  },
  {
   "cell_type": "markdown",
   "metadata": {},
   "source": [
    "<font color=\"orange\">简历类</font>"
   ]
  },
  {
   "cell_type": "code",
   "execution_count": 1,
   "metadata": {
    "vscode": {
     "languageId": "polyglot-notebook"
    }
   },
   "outputs": [],
   "source": [
    "class Resume\n",
    "{\n",
    "    private string _name;\n",
    "    private string _sex;\n",
    "    private string _age;\n",
    "    private string _timeArea;\n",
    "    private string _company;\n",
    "\n",
    "    public Resume(string name)\n",
    "    {\n",
    "        _name = name;\n",
    "    }\n",
    "    //设置个人信息\n",
    "    public void SetPersonalInfo(string sex, string age)\n",
    "    {\n",
    "        _sex = sex;\n",
    "        _age = age;\n",
    "    }\n",
    "\n",
    "    public void SetWorkExperience(string timeArea, string company)\n",
    "    {\n",
    "        _timeArea = timeArea;\n",
    "        _company = company;\n",
    "    }\n",
    "\n",
    "    public void Display()\n",
    "    {\n",
    "        Console.WriteLine($\"{_name} {_sex} {_age}\");\n",
    "        Console.WriteLine($\"工作经历：{_timeArea} {_company}\");\n",
    "    }\n",
    "}"
   ]
  },
  {
   "cell_type": "markdown",
   "metadata": {},
   "source": [
    "<font color=\"orange\">客户端调用代码</font>"
   ]
  },
  {
   "cell_type": "code",
   "execution_count": 2,
   "metadata": {
    "vscode": {
     "languageId": "polyglot-notebook"
    }
   },
   "outputs": [
    {
     "name": "stdout",
     "output_type": "stream",
     "text": [
      "大鸟 男 29\n",
      "工作经历：1998-2000 XX公司\n",
      "大鸟 男 29\n",
      "工作经历：1998-2000 XX公司\n",
      "大鸟 男 29\n",
      "工作经历：1998-2000 XX公司\n"
     ]
    }
   ],
   "source": [
    "Resume a = new Resume(\"大鸟\");\n",
    "a.SetPersonalInfo(\"男\", \"29\");\n",
    "a.SetWorkExperience(\"1998-2000\", \"XX公司\");\n",
    "Resume b = new Resume(\"大鸟\");\n",
    "b.SetPersonalInfo(\"男\", \"29\");\n",
    "b.SetWorkExperience(\"1998-2000\", \"XX公司\");\n",
    "Resume c = new Resume(\"大鸟\");\n",
    "c.SetPersonalInfo(\"男\", \"29\");\n",
    "c.SetWorkExperience(\"1998-2000\", \"XX公司\");\n",
    "\n",
    "a.Display();\n",
    "b.Display();\n",
    "c.Display();"
   ]
  },
  {
   "cell_type": "markdown",
   "metadata": {},
   "source": [
    "类似于手写简历，三份简历需要三次实例化，导致客户端代码变得麻烦"
   ]
  },
  {
   "cell_type": "markdown",
   "metadata": {},
   "source": [
    "### 原型模式"
   ]
  },
  {
   "cell_type": "markdown",
   "metadata": {},
   "source": [
    "> <font color=\"yellow\">原型模式(Prototype): 用原型实例指定创建对象的种类，并且通过拷贝这些原型创建新的对象</font>"
   ]
  },
  {
   "cell_type": "code",
   "execution_count": 6,
   "metadata": {
    "dotnet_interactive": {
     "language": "mermaid"
    },
    "polyglot_notebook": {
     "kernelName": "mermaid"
    },
    "vscode": {
     "languageId": "polyglot-notebook"
    }
   },
   "outputs": [
    {
     "data": {
      "text/html": [
       "<div class=\"mermaidMarkdownContainer\" style=\"background-color:white\">\r\n",
       "<link rel=\"stylesheet\" href=\"https://cdnjs.cloudflare.com/ajax/libs/font-awesome/6.2.0/css/all.min.css\">\r\n",
       "<div id=\"e0243f341b5a42459de735686aac758c\"></div>\r\n",
       "<script type=\"module\">\r\n",
       "\r\n",
       "            import mermaid from 'https://cdn.jsdelivr.net/npm/mermaid@10.6.1/dist/mermaid.esm.min.mjs';\r\n",
       "            let renderTarget = document.getElementById('e0243f341b5a42459de735686aac758c');\r\n",
       "            try {\r\n",
       "                const {svg, bindFunctions} = await mermaid.mermaidAPI.render( \r\n",
       "                    'mermaid_e0243f341b5a42459de735686aac758c', \r\n",
       "                    `---\r\n",
       "title: \"原型模式（Prototype）结构图\"\r\n",
       "---\r\n",
       "classDiagram\r\n",
       "    class Client{\r\n",
       "        -prototype\r\n",
       "    }\r\n",
       "    class Prototype{\r\n",
       "        <<interface>>\r\n",
       "        +Clone()\r\n",
       "    }\r\n",
       "    class ConcretePrototype1{\r\n",
       "        +Clone()\r\n",
       "    }\r\n",
       "    class ConcretePrototype2{\r\n",
       "        +Clone()\r\n",
       "    }\r\n",
       "    note for Client \"让一个原型克隆自身从而创建一个新的对象\"\r\n",
       "    note for Prototype \"原型类，声明一个克隆自身的接口\"\r\n",
       "    note for ConcretePrototype1 \"具体原型类，实现一个克隆自身的操作\"\r\n",
       "\r\n",
       "    Prototype --> Client\r\n",
       "    ConcretePrototype1 --|> Prototype\r\n",
       "    ConcretePrototype2 --|> Prototype`);\r\n",
       "                renderTarget.innerHTML = svg;\r\n",
       "                bindFunctions?.(renderTarget);\r\n",
       "            }\r\n",
       "            catch (error) {\r\n",
       "                console.log(error);\r\n",
       "            }\r\n",
       "</script>\r\n",
       "</div>\r\n"
      ]
     },
     "metadata": {},
     "output_type": "display_data"
    }
   ],
   "source": [
    "---\n",
    "title: \"原型模式（Prototype）结构图\"\n",
    "---\n",
    "classDiagram\n",
    "    class Client{\n",
    "        -prototype\n",
    "    }\n",
    "    class Prototype{\n",
    "        <<interface>>\n",
    "        +Clone()\n",
    "    }\n",
    "    class ConcretePrototype1{\n",
    "        +Clone()\n",
    "    }\n",
    "    class ConcretePrototype2{\n",
    "        +Clone()\n",
    "    }\n",
    "    note for Client \"让一个原型克隆自身从而创建一个新的对象\"\n",
    "    note for Prototype \"原型类，声明一个克隆自身的接口\"\n",
    "    note for ConcretePrototype1 \"具体原型类，实现一个克隆自身的操作\"\n",
    "\n",
    "    Prototype --> Client\n",
    "    ConcretePrototype1 --|> Prototype\n",
    "    ConcretePrototype2 --|> Prototype"
   ]
  },
  {
   "cell_type": "markdown",
   "metadata": {},
   "source": [
    "<font color=\"orange\">原型模式其实就是从一个对象再创建另外一个可定制的对象，而不需要知道任何创建的细节</font>"
   ]
  },
  {
   "cell_type": "markdown",
   "metadata": {},
   "source": [
    "原型类"
   ]
  },
  {
   "cell_type": "code",
   "execution_count": 8,
   "metadata": {
    "vscode": {
     "languageId": "polyglot-notebook"
    }
   },
   "outputs": [],
   "source": [
    "abstract class Prototype\n",
    "{\n",
    "    private string _id;\n",
    "    public Prototype(string id)\n",
    "    {\n",
    "        _id = id;\n",
    "    }\n",
    "\n",
    "    public string Id\n",
    "    {\n",
    "        get {return _id;}\n",
    "    }\n",
    "\n",
    "    public abstract Prototype Clone();\n",
    "}"
   ]
  },
  {
   "cell_type": "markdown",
   "metadata": {},
   "source": [
    "具体原型类"
   ]
  },
  {
   "cell_type": "code",
   "execution_count": 9,
   "metadata": {
    "vscode": {
     "languageId": "polyglot-notebook"
    }
   },
   "outputs": [],
   "source": [
    "class ConcretePrototype1:Prototype\n",
    "{\n",
    "    public ConcretePrototype1(string id): base(id){}\n",
    "\n",
    "    public override Prototype Clone()\n",
    "    {\n",
    "        //创建当前对象的浅表副本。方法是创建一个新对象，然后将当前对象的非静态字段复制到该新对象。\n",
    "        //如果字段是值类型的，则对该字段进行逐位复制。如果字段是引用类型，则复制引用但不复制引用的对象；\n",
    "        //因此，原始对象及其副本引用同一对象\n",
    "        return (Prototype)this.MemberwiseClone();\n",
    "    }\n",
    "}"
   ]
  },
  {
   "cell_type": "markdown",
   "metadata": {},
   "source": [
    "客户端代码"
   ]
  },
  {
   "cell_type": "code",
   "execution_count": 10,
   "metadata": {
    "vscode": {
     "languageId": "polyglot-notebook"
    }
   },
   "outputs": [
    {
     "name": "stdout",
     "output_type": "stream",
     "text": [
      "Cloned: I\r\n"
     ]
    }
   ],
   "source": [
    "ConcretePrototype1 p1 = new ConcretePrototype1(\"I\");\n",
    "//克隆类ConcretePrototype1的对象p1就能得到新的实例c1\n",
    "ConcretePrototype1 c1 = (ConcretePrototype1)p1.Clone();\n",
    "Console.WriteLine($\"Cloned: {c1.Id}\");\n"
   ]
  },
  {
   "cell_type": "markdown",
   "metadata": {},
   "source": [
    "通过克隆类的方式就不用实例化ConcretePrototype1了，直接克隆就行了。对于.NET 而言，原型抽象类Prototype是用不着的，因为克隆实在是太常用了，所以.NET在System命名空间中提供了ICloneable接口，其中就有一个唯一的方法Clone()这样就只需要实现这个接口就可以完成原型模式了。"
   ]
  },
  {
   "cell_type": "markdown",
   "metadata": {
    "vscode": {
     "languageId": "polyglot-notebook"
    }
   },
   "source": [
    "### 简历的原型实现"
   ]
  },
  {
   "cell_type": "code",
   "execution_count": 13,
   "metadata": {
    "dotnet_interactive": {
     "language": "mermaid"
    },
    "polyglot_notebook": {
     "kernelName": "mermaid"
    },
    "vscode": {
     "languageId": "polyglot-notebook"
    }
   },
   "outputs": [
    {
     "data": {
      "text/html": [
       "<div class=\"mermaidMarkdownContainer\" style=\"background-color:white\">\r\n",
       "<link rel=\"stylesheet\" href=\"https://cdnjs.cloudflare.com/ajax/libs/font-awesome/6.2.0/css/all.min.css\">\r\n",
       "<div id=\"2d7259e9c40b42d0bf900a969cad0cdb\"></div>\r\n",
       "<script type=\"module\">\r\n",
       "\r\n",
       "            import mermaid from 'https://cdn.jsdelivr.net/npm/mermaid@10.6.1/dist/mermaid.esm.min.mjs';\r\n",
       "            let renderTarget = document.getElementById('2d7259e9c40b42d0bf900a969cad0cdb');\r\n",
       "            try {\r\n",
       "                const {svg, bindFunctions} = await mermaid.mermaidAPI.render( \r\n",
       "                    'mermaid_2d7259e9c40b42d0bf900a969cad0cdb', \r\n",
       "                    `classDiagram\r\n",
       "    class 简历{\r\n",
       "        +Clone() object\r\n",
       "        +设置个人信息(in sex string, in age string)\r\n",
       "        +设置工作经历(in timeArea string, in company string)\r\n",
       "        +显示()\r\n",
       "    }\r\n",
       "    class ICloneable{\r\n",
       "        +Clone() object\r\n",
       "    }\r\n",
       "     ICloneable <|-- 简历`);\r\n",
       "                renderTarget.innerHTML = svg;\r\n",
       "                bindFunctions?.(renderTarget);\r\n",
       "            }\r\n",
       "            catch (error) {\r\n",
       "                console.log(error);\r\n",
       "            }\r\n",
       "</script>\r\n",
       "</div>\r\n"
      ]
     },
     "metadata": {},
     "output_type": "display_data"
    }
   ],
   "source": [
    "classDiagram\n",
    "    class 简历{\n",
    "        +Clone() object\n",
    "        +设置个人信息(in sex string, in age string)\n",
    "        +设置工作经历(in timeArea string, in company string)\n",
    "        +显示()\n",
    "    }\n",
    "    class ICloneable{\n",
    "        +Clone() object\n",
    "    }\n",
    "    ICloneable <|-- 简历"
   ]
  },
  {
   "cell_type": "markdown",
   "metadata": {
    "vscode": {
     "languageId": "polyglot-notebook"
    }
   },
   "source": [
    "<font color=\"orange\">简历类</font>"
   ]
  },
  {
   "cell_type": "code",
   "execution_count": 14,
   "metadata": {
    "dotnet_interactive": {
     "language": "csharp"
    },
    "polyglot_notebook": {
     "kernelName": "csharp"
    },
    "vscode": {
     "languageId": "polyglot-notebook"
    }
   },
   "outputs": [],
   "source": [
    "class Resume: ICloneable\n",
    "{\n",
    "    private string _name;\n",
    "    private string _sex;\n",
    "    private string _age;\n",
    "    private string _timeArea;\n",
    "    private string _company;\n",
    "\n",
    "    public Resume(string name)\n",
    "    {\n",
    "        _name = name;\n",
    "    }\n",
    "    //设置个人信息\n",
    "    public void SetPersonalInfo(string sex, string age)\n",
    "    {\n",
    "        _sex = sex;\n",
    "        _age = age;\n",
    "    }\n",
    "\n",
    "    public void SetWorkExperience(string timeArea, string company)\n",
    "    {\n",
    "        _timeArea = timeArea;\n",
    "        _company = company;\n",
    "    }\n",
    "\n",
    "    public void Display()\n",
    "    {\n",
    "        Console.WriteLine($\"{_name} {_sex} {_age}\");\n",
    "        Console.WriteLine($\"工作经历：{_timeArea} {_company}\");\n",
    "    }\n",
    "\n",
    "    public object Clone()\n",
    "    {\n",
    "        return (object)this.MemberwiseClone();\n",
    "    }\n",
    "}"
   ]
  },
  {
   "cell_type": "markdown",
   "metadata": {},
   "source": [
    "<font color=\"orange\">客户端代码</font>"
   ]
  },
  {
   "cell_type": "code",
   "execution_count": 15,
   "metadata": {
    "vscode": {
     "languageId": "polyglot-notebook"
    }
   },
   "outputs": [
    {
     "name": "stdout",
     "output_type": "stream",
     "text": [
      "大鸟 男 29\n",
      "工作经历：1998-2000 XX公司\n",
      "大鸟 男 29\n",
      "工作经历：1998-2006 YY企业\n",
      "大鸟 男 24\n",
      "工作经历：1998-2000 XX公司\n"
     ]
    }
   ],
   "source": [
    "Resume a = new Resume(\"大鸟\");\n",
    "a.SetPersonalInfo(\"男\", \"29\");\n",
    "a.SetWorkExperience(\"1998-2000\", \"XX公司\");\n",
    "Resume b = (Resume)a.Clone();\n",
    "b.SetWorkExperience(\"1998-2006\",\"YY企业\");\n",
    "Resume c = (Resume)a.Clone();\n",
    "c.SetPersonalInfo(\"男\",\"24\");\n",
    "\n",
    "a.Display();\n",
    "b.Display();\n",
    "c.Display();"
   ]
  },
  {
   "cell_type": "markdown",
   "metadata": {},
   "source": [
    "使用原型模式可以让客户端代码清爽很多，如果想改某份简历，只需要对这份简历做一定的修改就可以了，不会影响到其它简历，相同的部分就不用再重复了。并且对性能也会有很大提高，每NEW一次，都需要执行一次构造函数，如果构造函数的执行时间很长，那么多次执行这个初始化操作就实在太低效了。一般在初始化信息不发生变化的额情况下，克隆是最好的办法。这即隐藏了对象创建的细节，又对性能是大大的提高。"
   ]
  },
  {
   "cell_type": "markdown",
   "metadata": {},
   "source": [
    "### 浅复制与深复制"
   ]
  },
  {
   "cell_type": "markdown",
   "metadata": {},
   "source": [
    "MemberwiseClone()方法是这样的，创建当前对象的浅表副本。方法是创建一个新对象，然后将当前对象的非静态字段复制到该新对象。如果字段是值类型的，则对该字段进行逐位复制。如果字段是引用类型，则复制引用但不复制引用的对象；因此，原始对象及其副本引用同一对象"
   ]
  },
  {
   "cell_type": "code",
   "execution_count": 17,
   "metadata": {
    "dotnet_interactive": {
     "language": "mermaid"
    },
    "polyglot_notebook": {
     "kernelName": "mermaid"
    },
    "vscode": {
     "languageId": "polyglot-notebook"
    }
   },
   "outputs": [
    {
     "data": {
      "text/html": [
       "<div class=\"mermaidMarkdownContainer\" style=\"background-color:white\">\r\n",
       "<link rel=\"stylesheet\" href=\"https://cdnjs.cloudflare.com/ajax/libs/font-awesome/6.2.0/css/all.min.css\">\r\n",
       "<div id=\"d4187675e8da4acc83fda9931fe098e0\"></div>\r\n",
       "<script type=\"module\">\r\n",
       "\r\n",
       "            import mermaid from 'https://cdn.jsdelivr.net/npm/mermaid@10.6.1/dist/mermaid.esm.min.mjs';\r\n",
       "            let renderTarget = document.getElementById('d4187675e8da4acc83fda9931fe098e0');\r\n",
       "            try {\r\n",
       "                const {svg, bindFunctions} = await mermaid.mermaidAPI.render( \r\n",
       "                    'mermaid_d4187675e8da4acc83fda9931fe098e0', \r\n",
       "                    `classDiagram\r\n",
       "    class 工作经历{\r\n",
       "        +时间区间 string\r\n",
       "        +公司 string\r\n",
       "    }\r\n",
       "    class 简历{\r\n",
       "        +Clone() object\r\n",
       "        +设置个人信息(in sex string, in age string)\r\n",
       "        +设置工作经历(in timeArea string, in company string)\r\n",
       "        +显示()\r\n",
       "    }\r\n",
       "    class ICloneable{\r\n",
       "        +Clone() object\r\n",
       "    }\r\n",
       "    ICloneable <|-- 简历\r\n",
       "    简历 \"1\" *--> \"*\" 工作经历`);\r\n",
       "                renderTarget.innerHTML = svg;\r\n",
       "                bindFunctions?.(renderTarget);\r\n",
       "            }\r\n",
       "            catch (error) {\r\n",
       "                console.log(error);\r\n",
       "            }\r\n",
       "</script>\r\n",
       "</div>\r\n"
      ]
     },
     "metadata": {},
     "output_type": "display_data"
    }
   ],
   "source": [
    "classDiagram\n",
    "    class 工作经历{\n",
    "        +时间区间 string\n",
    "        +公司 string\n",
    "    }\n",
    "    class 简历{\n",
    "        +Clone() object\n",
    "        +设置个人信息(in sex string, in age string)\n",
    "        +设置工作经历(in timeArea string, in company string)\n",
    "        +显示()\n",
    "    }\n",
    "    class ICloneable{\n",
    "        +Clone() object\n",
    "    }\n",
    "    ICloneable <|-- 简历\n",
    "    简历 \"1\" *--> \"*\" 工作经历"
   ]
  },
  {
   "cell_type": "markdown",
   "metadata": {},
   "source": [
    "<font color=\"orange\">工作经历类</font>"
   ]
  },
  {
   "cell_type": "code",
   "execution_count": 19,
   "metadata": {
    "vscode": {
     "languageId": "polyglot-notebook"
    }
   },
   "outputs": [],
   "source": [
    "class WorkExperience\n",
    "{\n",
    "    private string workDate;\n",
    "    public string WorkDate\n",
    "    {\n",
    "        get{return workDate;}\n",
    "        set{workDate = value;}\n",
    "    }\n",
    "    private string company;\n",
    "    public string Company\n",
    "    {\n",
    "        get{return company;}\n",
    "        set{company = value;}\n",
    "    }\n",
    "}"
   ]
  },
  {
   "cell_type": "markdown",
   "metadata": {},
   "source": [
    "<font color=\"orange\">简历类</font>"
   ]
  },
  {
   "cell_type": "code",
   "execution_count": 20,
   "metadata": {
    "vscode": {
     "languageId": "polyglot-notebook"
    }
   },
   "outputs": [],
   "source": [
    "class Resume: ICloneable\n",
    "{\n",
    "    private string _name;\n",
    "    private string _sex;\n",
    "    private string _age;\n",
    "    \n",
    "    private WorkExperience _work;\n",
    "\n",
    "    public Resume(string name)\n",
    "    {\n",
    "        _name = name;\n",
    "        _work = new WorkExperience();\n",
    "    }\n",
    "    //设置个人信息\n",
    "    public void SetPersonalInfo(string sex, string age)\n",
    "    {\n",
    "        _sex = sex;\n",
    "        _age = age;\n",
    "    }\n",
    "\n",
    "    public void SetWorkExperience(string timeArea, string company)\n",
    "    {\n",
    "        _work.WorkDate = timeArea;\n",
    "        _work.Company = company;\n",
    "    }\n",
    "\n",
    "    public void Display()\n",
    "    {\n",
    "        Console.WriteLine($\"{_name} {_sex} {_age}\");\n",
    "        Console.WriteLine($\"工作经历：{_work.WorkDate} {_work.Company}\");\n",
    "    }\n",
    "\n",
    "    public object Clone()\n",
    "    {\n",
    "        return (object)this.MemberwiseClone();\n",
    "    }\n",
    "}"
   ]
  },
  {
   "cell_type": "markdown",
   "metadata": {},
   "source": [
    "<font color=\"orange\">客户端代码</font>"
   ]
  },
  {
   "cell_type": "code",
   "execution_count": 21,
   "metadata": {
    "vscode": {
     "languageId": "polyglot-notebook"
    }
   },
   "outputs": [
    {
     "name": "stdout",
     "output_type": "stream",
     "text": [
      "大鸟 男 29\n",
      "工作经历：1998-2006 YY企业\n",
      "大鸟 男 29\n",
      "工作经历：1998-2006 YY企业\n",
      "大鸟 男 24\n",
      "工作经历：1998-2006 YY企业\n"
     ]
    }
   ],
   "source": [
    "Resume a = new Resume(\"大鸟\");\n",
    "a.SetPersonalInfo(\"男\", \"29\");\n",
    "a.SetWorkExperience(\"1998-2000\", \"XX公司\");\n",
    "Resume b = (Resume)a.Clone();\n",
    "b.SetWorkExperience(\"1998-2006\",\"YY企业\");\n",
    "Resume c = (Resume)a.Clone();\n",
    "c.SetPersonalInfo(\"男\",\"24\");\n",
    "\n",
    "a.Display();\n",
    "b.Display();\n",
    "c.Display();"
   ]
  },
  {
   "cell_type": "markdown",
   "metadata": {
    "vscode": {
     "languageId": "polyglot-notebook"
    }
   },
   "source": [
    "浅复制，被复制对象的所有变量都含有与原来的对象相同的值，而所有的对其他对象的引用都仍指向原来的对象。深复制把引用对象的变量指向复制过得新对象，而不是原有的被引用的对象"
   ]
  },
  {
   "cell_type": "markdown",
   "metadata": {},
   "source": [
    "### 简历的深复制实现"
   ]
  },
  {
   "cell_type": "code",
   "execution_count": 25,
   "metadata": {
    "dotnet_interactive": {
     "language": "mermaid"
    },
    "polyglot_notebook": {
     "kernelName": "mermaid"
    },
    "vscode": {
     "languageId": "polyglot-notebook"
    }
   },
   "outputs": [
    {
     "data": {
      "text/html": [
       "<div class=\"mermaidMarkdownContainer\" style=\"background-color:white\">\r\n",
       "<link rel=\"stylesheet\" href=\"https://cdnjs.cloudflare.com/ajax/libs/font-awesome/6.2.0/css/all.min.css\">\r\n",
       "<div id=\"790fbba59fb745a3baa564f3be405826\"></div>\r\n",
       "<script type=\"module\">\r\n",
       "\r\n",
       "            import mermaid from 'https://cdn.jsdelivr.net/npm/mermaid@10.6.1/dist/mermaid.esm.min.mjs';\r\n",
       "            let renderTarget = document.getElementById('790fbba59fb745a3baa564f3be405826');\r\n",
       "            try {\r\n",
       "                const {svg, bindFunctions} = await mermaid.mermaidAPI.render( \r\n",
       "                    'mermaid_790fbba59fb745a3baa564f3be405826', \r\n",
       "                    `classDiagram\r\n",
       "    class 工作经历{\r\n",
       "        +时间区间 string\r\n",
       "        +公司 string\r\n",
       "        +Clone() object\r\n",
       "    }\r\n",
       "    class 简历{\r\n",
       "        +Clone() object\r\n",
       "        +设置个人信息(in sex string, in age string)\r\n",
       "        +设置工作经历(in timeArea string, in company string)\r\n",
       "        +显示()\r\n",
       "    }\r\n",
       "    class ICloneable{\r\n",
       "        <<interface>>\r\n",
       "        +Clone() object\r\n",
       "    }\r\n",
       "    ICloneable <|-- 简历\r\n",
       "    ICloneable <|-- 工作经历\r\n",
       "    工作经历 \"*\" <--* \"1\" 简历`);\r\n",
       "                renderTarget.innerHTML = svg;\r\n",
       "                bindFunctions?.(renderTarget);\r\n",
       "            }\r\n",
       "            catch (error) {\r\n",
       "                console.log(error);\r\n",
       "            }\r\n",
       "</script>\r\n",
       "</div>\r\n"
      ]
     },
     "metadata": {},
     "output_type": "display_data"
    }
   ],
   "source": [
    "classDiagram\n",
    "    class 工作经历{\n",
    "        +时间区间 string\n",
    "        +公司 string\n",
    "        +Clone() object\n",
    "    }\n",
    "    class 简历{\n",
    "        +Clone() object\n",
    "        +设置个人信息(in sex string, in age string)\n",
    "        +设置工作经历(in timeArea string, in company string)\n",
    "        +显示()\n",
    "    }\n",
    "    class ICloneable{\n",
    "        <<interface>>\n",
    "        +Clone() object\n",
    "    }\n",
    "    ICloneable <|-- 简历\n",
    "    ICloneable <|-- 工作经历\n",
    "    工作经历 \"*\" <--* \"1\" 简历"
   ]
  },
  {
   "cell_type": "markdown",
   "metadata": {},
   "source": [
    "<font color=\"orange\">工作经历类</font>"
   ]
  },
  {
   "cell_type": "code",
   "execution_count": 29,
   "metadata": {
    "vscode": {
     "languageId": "polyglot-notebook"
    }
   },
   "outputs": [],
   "source": [
    "class WorkExperience: ICloneable\n",
    "{\n",
    "    private string workDate;\n",
    "    public string WorkDate\n",
    "    {\n",
    "        get{return workDate;}\n",
    "        set{workDate = value;}\n",
    "    }\n",
    "    private string company;\n",
    "    public string Company\n",
    "    {\n",
    "        get{return company;}\n",
    "        set{company = value;}\n",
    "    }\n",
    "    //工作经历实现克隆方法\n",
    "    public object Clone()\n",
    "    {\n",
    "        return (object)this.MemberwiseClone();\n",
    "    }\n",
    "}"
   ]
  },
  {
   "cell_type": "markdown",
   "metadata": {},
   "source": [
    "<font color=\"orange\">简历类</font>"
   ]
  },
  {
   "cell_type": "code",
   "execution_count": 31,
   "metadata": {
    "vscode": {
     "languageId": "polyglot-notebook"
    }
   },
   "outputs": [],
   "source": [
    "class Resume: ICloneable\n",
    "{\n",
    "    private string _name;\n",
    "    private string _sex;\n",
    "    private string _age;\n",
    "    \n",
    "    private WorkExperience _work;\n",
    "\n",
    "    public Resume(string name)\n",
    "    {\n",
    "        _name = name;\n",
    "        _work = new WorkExperience();\n",
    "    }\n",
    "    private Resume(WorkExperience work)\n",
    "    {\n",
    "        _work = (WorkExperience)work.Clone();\n",
    "    }\n",
    "    //设置个人信息\n",
    "    public void SetPersonalInfo(string sex, string age)\n",
    "    {\n",
    "        _sex = sex;\n",
    "        _age = age;\n",
    "    }\n",
    "\n",
    "    public void SetWorkExperience(string timeArea, string company)\n",
    "    {\n",
    "        _work.WorkDate = timeArea;\n",
    "        _work.Company = company;\n",
    "    }\n",
    "\n",
    "    public void Display()\n",
    "    {\n",
    "        Console.WriteLine($\"{_name} {_sex} {_age}\");\n",
    "        Console.WriteLine($\"工作经历：{_work.WorkDate} {_work.Company}\");\n",
    "    }\n",
    "\n",
    "    public object Clone()\n",
    "    {\n",
    "        Resume obj = new Resume(_work);\n",
    "        obj._name = _name;\n",
    "        obj._sex = _sex;\n",
    "        obj._age = _age;\n",
    "        return obj;\n",
    "    }\n",
    "}"
   ]
  },
  {
   "cell_type": "markdown",
   "metadata": {},
   "source": [
    "<font color=\"orange\">客户端代码</font>"
   ]
  },
  {
   "cell_type": "code",
   "execution_count": 32,
   "metadata": {
    "vscode": {
     "languageId": "polyglot-notebook"
    }
   },
   "outputs": [
    {
     "name": "stdout",
     "output_type": "stream",
     "text": [
      "大鸟 男 29\n",
      "工作经历：1998-2000 XX公司\n",
      "大鸟 男 29\n",
      "工作经历：1998-2006 YY企业\n",
      "大鸟 男 24\n",
      "工作经历：1998-2000 XX公司\n"
     ]
    }
   ],
   "source": [
    "Resume a = new Resume(\"大鸟\");\n",
    "a.SetPersonalInfo(\"男\", \"29\");\n",
    "a.SetWorkExperience(\"1998-2000\", \"XX公司\");\n",
    "Resume b = (Resume)a.Clone();\n",
    "b.SetWorkExperience(\"1998-2006\",\"YY企业\");\n",
    "Resume c = (Resume)a.Clone();\n",
    "c.SetPersonalInfo(\"男\",\"24\");\n",
    "\n",
    "a.Display();\n",
    "b.Display();\n",
    "c.Display();"
   ]
  },
  {
   "cell_type": "code",
   "execution_count": null,
   "metadata": {
    "vscode": {
     "languageId": "polyglot-notebook"
    }
   },
   "outputs": [],
   "source": []
  }
 ],
 "metadata": {
  "kernelspec": {
   "display_name": ".NET (C#)",
   "language": "C#",
   "name": ".net-csharp"
  },
  "language_info": {
   "name": "csharp"
  },
  "polyglot_notebook": {
   "kernelInfo": {
    "defaultKernelName": "csharp",
    "items": [
     {
      "aliases": [],
      "name": "csharp"
     }
    ]
   }
  }
 },
 "nbformat": 4,
 "nbformat_minor": 2
}
