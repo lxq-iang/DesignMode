{
 "cells": [
  {
   "cell_type": "markdown",
   "metadata": {
    "dotnet_interactive": {
     "language": "csharp"
    },
    "polyglot_notebook": {
     "kernelName": "csharp"
    }
   },
   "source": [
    "## 简单工厂模式实现"
   ]
  },
  {
   "cell_type": "code",
   "execution_count": 1,
   "metadata": {
    "dotnet_interactive": {
     "language": "mermaid"
    },
    "polyglot_notebook": {
     "kernelName": "mermaid"
    },
    "vscode": {
     "languageId": "polyglot-notebook"
    }
   },
   "outputs": [
    {
     "data": {
      "text/html": [
       "<div class=\"mermaidMarkdownContainer\" style=\"background-color:white\">\r\n",
       "<link rel=\"stylesheet\" href=\"https://cdnjs.cloudflare.com/ajax/libs/font-awesome/6.2.0/css/all.min.css\">\r\n",
       "<div id=\"a637f0584f644cbcb0839b2eb8ed355e\"></div>\r\n",
       "<script type=\"module\">\r\n",
       "\r\n",
       "            import mermaid from 'https://cdn.jsdelivr.net/npm/mermaid@10.6.1/dist/mermaid.esm.min.mjs';\r\n",
       "            let renderTarget = document.getElementById('a637f0584f644cbcb0839b2eb8ed355e');\r\n",
       "            try {\r\n",
       "                const {svg, bindFunctions} = await mermaid.mermaidAPI.render( \r\n",
       "                    'mermaid_a637f0584f644cbcb0839b2eb8ed355e', \r\n",
       "                    `classDiagram\r\n",
       "    class Operation{\r\n",
       "        +Double NumberA\r\n",
       "        +Double NumberB\r\n",
       "        +GetResult() double\r\n",
       "    }\r\n",
       "    class OperationAdd{\r\n",
       "        +GetResult() double\r\n",
       "    }\r\n",
       "    class OperationSub{\r\n",
       "        +GetResult() double\r\n",
       "    }\r\n",
       "    class OperationMul{\r\n",
       "        +GetResult() double\r\n",
       "    }\r\n",
       "    class OperationDiv{\r\n",
       "        +GetResult() double\r\n",
       "    }\r\n",
       "    class OperationFactory{\r\n",
       "        +createOperate() Operation\r\n",
       "    }\r\n",
       "    OperationFactory --> Operation\r\n",
       "    Operation <|-- OperationAdd\r\n",
       "    Operation <|-- OperationSub\r\n",
       "    Operation <|-- OperationMul\r\n",
       "    Operation <|-- OperationDiv`);\r\n",
       "                renderTarget.innerHTML = svg;\r\n",
       "                bindFunctions?.(renderTarget);\r\n",
       "            }\r\n",
       "            catch (error) {\r\n",
       "                console.log(error);\r\n",
       "            }\r\n",
       "</script>\r\n",
       "</div>\r\n"
      ]
     },
     "metadata": {},
     "output_type": "display_data"
    }
   ],
   "source": [
    "classDiagram\n",
    "    class Operation{\n",
    "        +Double NumberA\n",
    "        +Double NumberB\n",
    "        +GetResult() double\n",
    "    }\n",
    "    class OperationAdd{\n",
    "        +GetResult() double\n",
    "    }\n",
    "    class OperationSub{\n",
    "        +GetResult() double\n",
    "    }\n",
    "    class OperationMul{\n",
    "        +GetResult() double\n",
    "    }\n",
    "    class OperationDiv{\n",
    "        +GetResult() double\n",
    "    }\n",
    "    class OperationFactory{\n",
    "        +createOperate() Operation\n",
    "    }\n",
    "    OperationFactory --> Operation\n",
    "    Operation <|-- OperationAdd\n",
    "    Operation <|-- OperationSub\n",
    "    Operation <|-- OperationMul\n",
    "    Operation <|-- OperationDiv"
   ]
  },
  {
   "cell_type": "markdown",
   "metadata": {
    "vscode": {
     "languageId": "polyglot-notebook"
    }
   },
   "source": [
    "**Operation运算类**"
   ]
  },
  {
   "cell_type": "code",
   "execution_count": 2,
   "metadata": {
    "dotnet_interactive": {
     "language": "csharp"
    },
    "polyglot_notebook": {
     "kernelName": "csharp"
    },
    "vscode": {
     "languageId": "polyglot-notebook"
    }
   },
   "outputs": [],
   "source": [
    "public class Operation\n",
    "{\n",
    "    private double _numberA = 0;\n",
    "    private double _numberB = 0;\n",
    "\n",
    "    public double NumberA{\n",
    "        get{return _numberA;}\n",
    "        set{_numberA = value;}\n",
    "    }\n",
    "    public double NumberB{\n",
    "        get{return _numberB;}\n",
    "        set{_numberB = value;}\n",
    "    }\n",
    "\n",
    "    public virtual double GetResult(){\n",
    "        double result = 0;\n",
    "        return result;\n",
    "    }\n",
    "}"
   ]
  },
  {
   "cell_type": "markdown",
   "metadata": {},
   "source": [
    "**加减乘除类**"
   ]
  },
  {
   "cell_type": "code",
   "execution_count": 3,
   "metadata": {
    "vscode": {
     "languageId": "polyglot-notebook"
    }
   },
   "outputs": [],
   "source": [
    "//加法类\n",
    "class OperationAdd : Operation\n",
    "{\n",
    "    public override double GetResult(){\n",
    "        double result = 0;\n",
    "        result = NumberA + NumberB;\n",
    "        return result;\n",
    "    }\n",
    "}\n",
    "//减法类\n",
    "class OperationSub : Operation\n",
    "{\n",
    "    public override double GetResult(){\n",
    "        double result = 0;\n",
    "        result = NumberA - NumberB;\n",
    "        return result;\n",
    "    }\n",
    "}\n",
    "//乘法类\n",
    "class OperationMul : Operation\n",
    "{\n",
    "    public override double GetResult(){\n",
    "        double result = 0;\n",
    "        result = NumberA * NumberB;\n",
    "        return result;\n",
    "    }\n",
    "}\n",
    "//除法类\n",
    "class OperationDiv : Operation\n",
    "{\n",
    "    public override double GetResult(){\n",
    "        double result = 0;\n",
    "        if(NumberB == 0) throw new Exception(\"除数不能为0.\");\n",
    "        result = NumberA / NumberB;\n",
    "        return result;\n",
    "    }\n",
    "}"
   ]
  },
  {
   "cell_type": "markdown",
   "metadata": {},
   "source": [
    "**简单工厂模式**"
   ]
  },
  {
   "cell_type": "code",
   "execution_count": 4,
   "metadata": {
    "vscode": {
     "languageId": "polyglot-notebook"
    }
   },
   "outputs": [],
   "source": [
    "public class OperationFactory\n",
    "{\n",
    "    public static Operation createOperation(string operate)\n",
    "    {\n",
    "        Operation oper = null;\n",
    "        switch(operate)\n",
    "        {\n",
    "            case \"+\":\n",
    "                oper = new OperationAdd();\n",
    "                break;\n",
    "            case \"-\":\n",
    "                oper = new OperationSub();\n",
    "                break;\n",
    "            case \"*\":\n",
    "                oper = new OperationMul();\n",
    "                break;\n",
    "            case \"/\":\n",
    "                oper = new OperationDiv();\n",
    "                break;\n",
    "        }\n",
    "        return oper;\n",
    "    }\n",
    "}"
   ]
  },
  {
   "cell_type": "markdown",
   "metadata": {},
   "source": [
    "**客户端代码**"
   ]
  },
  {
   "cell_type": "code",
   "execution_count": 5,
   "metadata": {
    "vscode": {
     "languageId": "polyglot-notebook"
    }
   },
   "outputs": [
    {
     "name": "stdout",
     "output_type": "stream",
     "text": [
      "3\r\n"
     ]
    }
   ],
   "source": [
    "Operation oper;\n",
    "oper = OperationFactory.createOperation(\"+\");\n",
    "oper.NumberA = 1;\n",
    "oper.NumberB = 2;\n",
    "double result = oper.GetResult();\n",
    "Console.WriteLine(result);"
   ]
  },
  {
   "cell_type": "markdown",
   "metadata": {},
   "source": [
    "## 工厂方法模式实现"
   ]
  },
  {
   "cell_type": "code",
   "execution_count": 16,
   "metadata": {
    "dotnet_interactive": {
     "language": "mermaid"
    },
    "polyglot_notebook": {
     "kernelName": "mermaid"
    },
    "vscode": {
     "languageId": "polyglot-notebook"
    }
   },
   "outputs": [
    {
     "data": {
      "text/html": [
       "<div class=\"mermaidMarkdownContainer\" style=\"background-color:white\">\r\n",
       "<link rel=\"stylesheet\" href=\"https://cdnjs.cloudflare.com/ajax/libs/font-awesome/6.2.0/css/all.min.css\">\r\n",
       "<div id=\"bbfe8618f53b44d0abbe6a955f99523d\"></div>\r\n",
       "<script type=\"module\">\r\n",
       "\r\n",
       "            import mermaid from 'https://cdn.jsdelivr.net/npm/mermaid@10.6.1/dist/mermaid.esm.min.mjs';\r\n",
       "            let renderTarget = document.getElementById('bbfe8618f53b44d0abbe6a955f99523d');\r\n",
       "            try {\r\n",
       "                const {svg, bindFunctions} = await mermaid.mermaidAPI.render( \r\n",
       "                    'mermaid_bbfe8618f53b44d0abbe6a955f99523d', \r\n",
       "                    `---\r\n",
       "title: 工厂方法模式\r\n",
       "---\r\n",
       "classDiagram\r\n",
       "    class Operation{\r\n",
       "        +Double NumberA\r\n",
       "        +Double NumberB\r\n",
       "        +GetResult() double\r\n",
       "    }\r\n",
       "    class OperationAdd{\r\n",
       "        +GetResult() double\r\n",
       "    }\r\n",
       "    class OperationSub{\r\n",
       "        +GetResult() double\r\n",
       "    }\r\n",
       "    class OperationMul{\r\n",
       "        +GetResult() double\r\n",
       "    }\r\n",
       "    class OperationDiv{\r\n",
       "        +GetResult() double\r\n",
       "    }\r\n",
       "    class IFactory{\r\n",
       "        <<interface>>\r\n",
       "        +CreateOperation() Operation\r\n",
       "    }\r\n",
       "    class AddFactory{\r\n",
       "        +createOperate() Operation\r\n",
       "    }\r\n",
       "    class SubFactory{\r\n",
       "        +createOperate() Operation\r\n",
       "    }\r\n",
       "    class MulFactory{\r\n",
       "        +createOperate() Operation\r\n",
       "    }\r\n",
       "    class DivFactory{\r\n",
       "        +createOperate() Operation\r\n",
       "    }\r\n",
       "    IFactory ..> Operation\r\n",
       "    Operation <|-- OperationAdd\r\n",
       "    Operation <|-- OperationSub\r\n",
       "    Operation <|-- OperationMul\r\n",
       "    Operation <|-- OperationDiv\r\n",
       "    AddFactory ..|> IFactory\r\n",
       "    SubFactory ..|> IFactory\r\n",
       "    MulFactory ..|> IFactory\r\n",
       "    DivFactory ..|> IFactory\r\n",
       "    OperationAdd ..> AddFactory\r\n",
       "    OperationSub ..> SubFactory\r\n",
       "    OperationMul ..> MulFactory\r\n",
       "    OperationDiv ..> DivFactory\r\n",
       "`);\r\n",
       "                renderTarget.innerHTML = svg;\r\n",
       "                bindFunctions?.(renderTarget);\r\n",
       "            }\r\n",
       "            catch (error) {\r\n",
       "                console.log(error);\r\n",
       "            }\r\n",
       "</script>\r\n",
       "</div>\r\n"
      ]
     },
     "metadata": {},
     "output_type": "display_data"
    }
   ],
   "source": [
    "---\n",
    "title: 工厂方法模式\n",
    "---\n",
    "classDiagram\n",
    "    class Operation{\n",
    "        +Double NumberA\n",
    "        +Double NumberB\n",
    "        +GetResult() double\n",
    "    }\n",
    "    class OperationAdd{\n",
    "        +GetResult() double\n",
    "    }\n",
    "    class OperationSub{\n",
    "        +GetResult() double\n",
    "    }\n",
    "    class OperationMul{\n",
    "        +GetResult() double\n",
    "    }\n",
    "    class OperationDiv{\n",
    "        +GetResult() double\n",
    "    }\n",
    "    class IFactory{\n",
    "        <<interface>>\n",
    "        +CreateOperation() Operation\n",
    "    }\n",
    "    class AddFactory{\n",
    "        +createOperate() Operation\n",
    "    }\n",
    "    class SubFactory{\n",
    "        +createOperate() Operation\n",
    "    }\n",
    "    class MulFactory{\n",
    "        +createOperate() Operation\n",
    "    }\n",
    "    class DivFactory{\n",
    "        +createOperate() Operation\n",
    "    }\n",
    "    IFactory ..> Operation\n",
    "    Operation <|-- OperationAdd\n",
    "    Operation <|-- OperationSub\n",
    "    Operation <|-- OperationMul\n",
    "    Operation <|-- OperationDiv\n",
    "    AddFactory ..|> IFactory\n",
    "    SubFactory ..|> IFactory\n",
    "    MulFactory ..|> IFactory\n",
    "    DivFactory ..|> IFactory\n",
    "    OperationAdd ..> AddFactory\n",
    "    OperationSub ..> SubFactory\n",
    "    OperationMul ..> MulFactory\n",
    "    OperationDiv ..> DivFactory\n"
   ]
  },
  {
   "cell_type": "markdown",
   "metadata": {},
   "source": [
    "**先建一个工厂接口**"
   ]
  },
  {
   "cell_type": "code",
   "execution_count": 17,
   "metadata": {
    "vscode": {
     "languageId": "polyglot-notebook"
    }
   },
   "outputs": [],
   "source": [
    "interface IFactory\n",
    "{\n",
    "    Operation CreateOperation();\n",
    "}"
   ]
  },
  {
   "cell_type": "markdown",
   "metadata": {},
   "source": [
    "**然后加减乘除各建一个具体工厂区实现这个接口**"
   ]
  },
  {
   "cell_type": "code",
   "execution_count": 18,
   "metadata": {
    "vscode": {
     "languageId": "polyglot-notebook"
    }
   },
   "outputs": [],
   "source": [
    "//加法工厂\n",
    "class AddFactory : IFactory\n",
    "{\n",
    "    public Operation CreateOperation()\n",
    "    {\n",
    "        return new OperationAdd();\n",
    "    }\n",
    "}\n",
    "//减法工厂\n",
    "class SubFactory : IFactory\n",
    "{\n",
    "    public Operation CreateOperation()\n",
    "    {\n",
    "        return new OperationSub();\n",
    "    }\n",
    "}\n",
    "//乘法工厂\n",
    "class MulFactory : IFactory\n",
    "{\n",
    "    public Operation CreateOperation()\n",
    "    {\n",
    "        return new OperationMul();\n",
    "    }\n",
    "}\n",
    "//除法工厂\n",
    "class DivFactory : IFactory\n",
    "{\n",
    "    public Operation CreateOperation()\n",
    "    {\n",
    "        return new OperationDiv();\n",
    "    }\n",
    "}"
   ]
  },
  {
   "cell_type": "markdown",
   "metadata": {},
   "source": [
    "**客户端代码**"
   ]
  },
  {
   "cell_type": "code",
   "execution_count": 20,
   "metadata": {
    "vscode": {
     "languageId": "polyglot-notebook"
    }
   },
   "outputs": [
    {
     "data": {
      "text/html": [
       "<div class=\"dni-plaintext\"><pre>3</pre></div><style>\r\n",
       ".dni-code-hint {\r\n",
       "    font-style: italic;\r\n",
       "    overflow: hidden;\r\n",
       "    white-space: nowrap;\r\n",
       "}\r\n",
       ".dni-treeview {\r\n",
       "    white-space: nowrap;\r\n",
       "}\r\n",
       ".dni-treeview td {\r\n",
       "    vertical-align: top;\r\n",
       "    text-align: start;\r\n",
       "}\r\n",
       "details.dni-treeview {\r\n",
       "    padding-left: 1em;\r\n",
       "}\r\n",
       "table td {\r\n",
       "    text-align: start;\r\n",
       "}\r\n",
       "table tr { \r\n",
       "    vertical-align: top; \r\n",
       "    margin: 0em 0px;\r\n",
       "}\r\n",
       "table tr td pre \r\n",
       "{ \r\n",
       "    vertical-align: top !important; \r\n",
       "    margin: 0em 0px !important;\r\n",
       "} \r\n",
       "table th {\r\n",
       "    text-align: start;\r\n",
       "}\r\n",
       "</style>"
      ]
     },
     "metadata": {},
     "output_type": "display_data"
    }
   ],
   "source": [
    "IFactory operFactory = new AddFactory();\n",
    "Operation oper = operFactory.CreateOperation();\n",
    "oper.NumberA = 1;\n",
    "oper.NumberB = 2;\n",
    "oper.GetResult().Display();"
   ]
  },
  {
   "cell_type": "markdown",
   "metadata": {},
   "source": [
    "## 简单工厂 VS. 工厂方法"
   ]
  },
  {
   "cell_type": "markdown",
   "metadata": {},
   "source": [
    "简单工厂模式的最大优点在于工厂类中包含了必要的逻辑判断，根据客户端的选择动态实例化相关的类，对于客户端来说，去除了与具体产品的依赖\n",
    "但是如果要增加功能，就需要区修改工厂类增加Case条件判断，违反了开放-封闭原则"
   ]
  },
  {
   "cell_type": "markdown",
   "metadata": {
    "vscode": {
     "languageId": "polyglot-notebook"
    }
   },
   "source": [
    "><font color=\"green\">工厂方法模式：</font> 定义一个用于创建对象的接口，让子类决定实例化哪一个类。工厂方法使一个类的实例化延伸到其子类。"
   ]
  },
  {
   "cell_type": "code",
   "execution_count": 23,
   "metadata": {
    "dotnet_interactive": {
     "language": "mermaid"
    },
    "polyglot_notebook": {
     "kernelName": "mermaid"
    },
    "vscode": {
     "languageId": "polyglot-notebook"
    }
   },
   "outputs": [
    {
     "data": {
      "text/html": [
       "<div class=\"mermaidMarkdownContainer\" style=\"background-color:white\">\r\n",
       "<link rel=\"stylesheet\" href=\"https://cdnjs.cloudflare.com/ajax/libs/font-awesome/6.2.0/css/all.min.css\">\r\n",
       "<div id=\"4b5514a34ef34e7caca16ac2b3d3fe55\"></div>\r\n",
       "<script type=\"module\">\r\n",
       "\r\n",
       "            import mermaid from 'https://cdn.jsdelivr.net/npm/mermaid@10.6.1/dist/mermaid.esm.min.mjs';\r\n",
       "            let renderTarget = document.getElementById('4b5514a34ef34e7caca16ac2b3d3fe55');\r\n",
       "            try {\r\n",
       "                const {svg, bindFunctions} = await mermaid.mermaidAPI.render( \r\n",
       "                    'mermaid_4b5514a34ef34e7caca16ac2b3d3fe55', \r\n",
       "                    `---\r\n",
       "title: 工厂方法模式（Factory Method）结构图\r\n",
       "---\r\n",
       "classDiagram\r\n",
       "    class Product{\r\n",
       "    }\r\n",
       "    class ConcreteProduct{\r\n",
       "    }\r\n",
       "    class ConcreteCreator{\r\n",
       "        +FactoryMethod()\r\n",
       "    }\r\n",
       "    class Creator{\r\n",
       "        +FactoryMethod()\r\n",
       "    }\r\n",
       "    note for Product \"定义工厂方法所创建对象的接口\"\r\n",
       "    note for ConcreteProduct \"具体的产品，实现了Product接口\"\r\n",
       "    note for ConcreteCreator \"重定义工厂方法以返回一个ConcreteProduct实例\"\r\n",
       "    note for Creator \"声明工厂方法，该方法返回一个Product类型对象\"\r\n",
       "    Product <|-- ConcreteProduct\r\n",
       "    ConcreteProduct <.. ConcreteCreator\r\n",
       "     Creator <|-- ConcreteCreator`);\r\n",
       "                renderTarget.innerHTML = svg;\r\n",
       "                bindFunctions?.(renderTarget);\r\n",
       "            }\r\n",
       "            catch (error) {\r\n",
       "                console.log(error);\r\n",
       "            }\r\n",
       "</script>\r\n",
       "</div>\r\n"
      ]
     },
     "metadata": {},
     "output_type": "display_data"
    }
   ],
   "source": [
    "---\n",
    "title: 工厂方法模式（Factory Method）结构图\n",
    "---\n",
    "classDiagram\n",
    "    class Product{\n",
    "    }\n",
    "    class ConcreteProduct{\n",
    "    }\n",
    "    class ConcreteCreator{\n",
    "        +FactoryMethod()\n",
    "    }\n",
    "    class Creator{\n",
    "        +FactoryMethod()\n",
    "    }\n",
    "    note for Product \"定义工厂方法所创建对象的接口\"\n",
    "    note for ConcreteProduct \"具体的产品，实现了Product接口\"\n",
    "    note for ConcreteCreator \"重定义工厂方法以返回一个ConcreteProduct实例\"\n",
    "    note for Creator \"声明工厂方法，该方法返回一个Product类型对象\"\n",
    "    Product <|-- ConcreteProduct\n",
    "    ConcreteProduct <.. ConcreteCreator\n",
    "     Creator <|-- ConcreteCreator"
   ]
  },
  {
   "cell_type": "markdown",
   "metadata": {
    "vscode": {
     "languageId": "polyglot-notebook"
    }
   },
   "source": [
    "**使用工厂方法模式整个工厂和产品体系都没有修改的变化，而只有扩展的变化，这就完全符合了开放-封闭原则的精神\n",
    "- - -\n",
    "其实仔细观察就会发现，工厂方法模式实现时，客户端需要决定实例化哪一个工厂来实现运算类，选择判断的问题还是存在的，也就是说，工厂方法把简单工厂的内部逻辑判断移到了客户端代码来进行。你想要加功能，本来是改工厂类，而现在是修改客户端"
   ]
  },
  {
   "cell_type": "markdown",
   "metadata": {},
   "source": [
    "### 雷锋工厂"
   ]
  },
  {
   "cell_type": "markdown",
   "metadata": {},
   "source": [
    "**雷锋类**"
   ]
  },
  {
   "cell_type": "code",
   "execution_count": 24,
   "metadata": {
    "dotnet_interactive": {
     "language": "csharp"
    },
    "polyglot_notebook": {
     "kernelName": "csharp"
    },
    "vscode": {
     "languageId": "polyglot-notebook"
    }
   },
   "outputs": [],
   "source": [
    "class LeiFeng\n",
    "{\n",
    "    public void Sweep()\n",
    "    {\n",
    "        Console.WriteLine(\"扫地\");\n",
    "    }\n",
    "    public void Wash()\n",
    "    {\n",
    "        Console.WriteLine(\"洗衣\");\n",
    "    }\n",
    "    public void ByRice()\n",
    "    {\n",
    "        Console.WriteLine(\"买米\");\n",
    "    }\n",
    "}"
   ]
  },
  {
   "cell_type": "markdown",
   "metadata": {},
   "source": [
    "**学雷锋的大学生**"
   ]
  },
  {
   "cell_type": "code",
   "execution_count": 25,
   "metadata": {
    "vscode": {
     "languageId": "polyglot-notebook"
    }
   },
   "outputs": [],
   "source": [
    "class Undergraduate: LeiFeng\n",
    "{}"
   ]
  },
  {
   "cell_type": "code",
   "execution_count": 26,
   "metadata": {
    "vscode": {
     "languageId": "polyglot-notebook"
    }
   },
   "outputs": [
    {
     "name": "stdout",
     "output_type": "stream",
     "text": [
      "买米\n",
      "扫地\n",
      "洗衣\n"
     ]
    }
   ],
   "source": [
    "LeiFeng xueleifeng = new Undergraduate();\n",
    "\n",
    "xueleifeng.ByRice();\n",
    "xueleifeng.Sweep();\n",
    "xueleifeng.Wash();"
   ]
  },
  {
   "cell_type": "markdown",
   "metadata": {},
   "source": [
    "**社区志愿者**"
   ]
  },
  {
   "cell_type": "code",
   "execution_count": 27,
   "metadata": {
    "vscode": {
     "languageId": "polyglot-notebook"
    }
   },
   "outputs": [],
   "source": [
    "class Volunteer: LeiFeng\n",
    "{}"
   ]
  },
  {
   "cell_type": "markdown",
   "metadata": {},
   "source": [
    "**简单雷锋工厂**"
   ]
  },
  {
   "cell_type": "code",
   "execution_count": 28,
   "metadata": {
    "vscode": {
     "languageId": "polyglot-notebook"
    }
   },
   "outputs": [],
   "source": [
    "class SimpleFactory\n",
    "{\n",
    "    public static LeiFeng CreateLeiFeng(string type)\n",
    "    {\n",
    "        LeiFeng result = null;\n",
    "        switch(type)\n",
    "        {\n",
    "            case \"学雷锋的大学生\":\n",
    "                result = new Undergraduate();\n",
    "                break;\n",
    "            case \"社区志愿者\":\n",
    "                result = new Volunteer();\n",
    "                break;\n",
    "        }\n",
    "        return result;\n",
    "    }\n",
    "}"
   ]
  },
  {
   "cell_type": "markdown",
   "metadata": {},
   "source": [
    "**客户端代码**"
   ]
  },
  {
   "cell_type": "code",
   "execution_count": 29,
   "metadata": {
    "vscode": {
     "languageId": "polyglot-notebook"
    }
   },
   "outputs": [
    {
     "name": "stdout",
     "output_type": "stream",
     "text": [
      "买米\n",
      "扫地\n",
      "洗衣\n"
     ]
    }
   ],
   "source": [
    "LeiFeng studentA = SimpleFactory.CreateLeiFeng(\"学雷锋的大学生\");\n",
    "studentA.ByRice();\n",
    "LeiFeng studentB = SimpleFactory.CreateLeiFeng(\"学雷锋的大学生\");\n",
    "studentB.Sweep();\n",
    "LeiFeng studentC = SimpleFactory.CreateLeiFeng(\"学雷锋的大学生\");\n",
    "studentC.Wash();"
   ]
  },
  {
   "cell_type": "markdown",
   "metadata": {},
   "source": [
    "简单工厂需要再任何实例化的时候写出这个工厂的代码，重复过多"
   ]
  },
  {
   "cell_type": "code",
   "execution_count": 30,
   "metadata": {
    "vscode": {
     "languageId": "polyglot-notebook"
    }
   },
   "outputs": [],
   "source": [
    "interface IFactory\n",
    "{\n",
    "    LeiFeng CreateLeiFeng();\n",
    "}\n",
    "\n",
    "class UndergraduateFactory : IFactory\n",
    "{\n",
    "    public LeiFeng CreateLeiFeng()\n",
    "    {\n",
    "        return new Undergraduate();\n",
    "    }\n",
    "}\n",
    "\n",
    "class VolunteerFactory :IFactory\n",
    "{\n",
    "    public LeiFeng CreateLeiFeng()\n",
    "    {\n",
    "        return new Volunteer();\n",
    "    }\n",
    "}"
   ]
  },
  {
   "cell_type": "code",
   "execution_count": 32,
   "metadata": {
    "vscode": {
     "languageId": "polyglot-notebook"
    }
   },
   "outputs": [
    {
     "name": "stdout",
     "output_type": "stream",
     "text": [
      "扫地\n",
      "洗衣\n",
      "买米\n"
     ]
    }
   ],
   "source": [
    "IFactory factory = new UndergraduateFactory();//要换成社区志愿者，只需修改这一处\n",
    "LeiFeng student = factory.CreateLeiFeng();\n",
    "\n",
    "student.Sweep();\n",
    "student.Wash();\n",
    "student.ByRice();"
   ]
  },
  {
   "cell_type": "code",
   "execution_count": null,
   "metadata": {
    "vscode": {
     "languageId": "polyglot-notebook"
    }
   },
   "outputs": [],
   "source": []
  }
 ],
 "metadata": {
  "kernelspec": {
   "display_name": ".NET (C#)",
   "language": "C#",
   "name": ".net-csharp"
  },
  "language_info": {
   "name": "csharp"
  },
  "polyglot_notebook": {
   "kernelInfo": {
    "defaultKernelName": "csharp",
    "items": [
     {
      "aliases": [],
      "name": "csharp"
     }
    ]
   }
  }
 },
 "nbformat": 4,
 "nbformat_minor": 2
}
