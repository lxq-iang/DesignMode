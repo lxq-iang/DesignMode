{
 "cells": [
  {
   "cell_type": "markdown",
   "metadata": {},
   "source": [
    "## 适配器模式"
   ]
  },
  {
   "cell_type": "markdown",
   "metadata": {},
   "source": [
    "> **适配器模式（Adapter）**.将一个类的接口转换成客户需要的另外一个接口，Adapter模式使得原本由于接口不兼容而不能一起工作的那些类可以一起工作。"
   ]
  },
  {
   "cell_type": "markdown",
   "metadata": {},
   "source": [
    "在软件开发中，也就是系统的数据和行为都正确，但接口不符时，我们应该考虑使用适配器，目的是使控制范围之外的一个原有对象与某个接口匹配。适配器模式主要应用于希望复用一些现存的类，但是接口又与复用环境要求不一致的情况，比如在需要对早期代码复用一些功能等应用上很有实际价值"
   ]
  },
  {
   "cell_type": "code",
   "execution_count": 7,
   "metadata": {
    "dotnet_interactive": {
     "language": "mermaid"
    },
    "polyglot_notebook": {
     "kernelName": "mermaid"
    },
    "vscode": {
     "languageId": "polyglot-notebook"
    }
   },
   "outputs": [
    {
     "data": {
      "text/html": [
       "<div class=\"mermaidMarkdownContainer\" style=\"background-color:white\">\r\n",
       "<link rel=\"stylesheet\" href=\"https://cdnjs.cloudflare.com/ajax/libs/font-awesome/6.2.0/css/all.min.css\">\r\n",
       "<div id=\"da8c381a95a748478946fb7d7d3be9e3\"></div>\r\n",
       "<script type=\"module\">\r\n",
       "\r\n",
       "            import mermaid from 'https://cdn.jsdelivr.net/npm/mermaid@10.6.1/dist/mermaid.esm.min.mjs';\r\n",
       "            let renderTarget = document.getElementById('da8c381a95a748478946fb7d7d3be9e3');\r\n",
       "            try {\r\n",
       "                const {svg, bindFunctions} = await mermaid.mermaidAPI.render( \r\n",
       "                    'mermaid_da8c381a95a748478946fb7d7d3be9e3', \r\n",
       "                    `---\r\n",
       "title: \"适配器模式（Adapter）结构图\"\r\n",
       "---\r\n",
       "classDiagram\r\n",
       "    class Client{\r\n",
       "        -target\r\n",
       "    }\r\n",
       "    class Target{\r\n",
       "        +Request()\r\n",
       "    }\r\n",
       "    class Adapter{\r\n",
       "        +Request()\r\n",
       "    }\r\n",
       "    class Adaptee{\r\n",
       "        +SpecificRequest()\r\n",
       "    }\r\n",
       "    note for Target \"这是客户所期待的接口。目标可以是\\\\n具体的或抽象的类，也可以是接口\"\r\n",
       "    note for Adapter \"通过在内部包装一个Adaptee对象，\\\\n把源接口转换成目标接口\"\r\n",
       "    note for Adaptee \"需要适配的类\"\r\n",
       "    Client --> Target\r\n",
       "    Target <|-- Adapter\r\n",
       "    Adaptee --> Adapter`);\r\n",
       "                renderTarget.innerHTML = svg;\r\n",
       "                bindFunctions?.(renderTarget);\r\n",
       "            }\r\n",
       "            catch (error) {\r\n",
       "                console.log(error);\r\n",
       "            }\r\n",
       "</script>\r\n",
       "</div>\r\n"
      ]
     },
     "metadata": {},
     "output_type": "display_data"
    }
   ],
   "source": [
    "---\n",
    "title: \"适配器模式（Adapter）结构图\"\n",
    "---\n",
    "classDiagram\n",
    "    class Client{\n",
    "        -target\n",
    "    }\n",
    "    class Target{\n",
    "        +Request()\n",
    "    }\n",
    "    class Adapter{\n",
    "        +Request()\n",
    "    }\n",
    "    class Adaptee{\n",
    "        +SpecificRequest()\n",
    "    }\n",
    "    note for Target \"这是客户所期待的接口。目标可以是\\n具体的或抽象的类，也可以是接口\"\n",
    "    note for Adapter \"通过在内部包装一个Adaptee对象，\\n把源接口转换成目标接口\"\n",
    "    note for Adaptee \"需要适配的类\"\n",
    "    Client --> Target\n",
    "    Target <|-- Adapter\n",
    "    Adaptee --> Adapter"
   ]
  },
  {
   "cell_type": "code",
   "execution_count": 8,
   "metadata": {
    "vscode": {
     "languageId": "polyglot-notebook"
    }
   },
   "outputs": [],
   "source": [
    "//Target 这是客户所期待的接口。目标可以是具体的或抽象的类，也可以是接口 代码如下\n",
    "class Target\n",
    "{\n",
    "    public virtual void Request()\n",
    "    {\n",
    "        \"普通请求！\".Display();\n",
    "    }\n",
    "}\n",
    "\n",
    "//Adaptee 需要适配的类 代码如下\n",
    "class Adaptee\n",
    "{\n",
    "    public void SpecialRequest()\n",
    "    {\n",
    "        \"特殊请求！\".Display();\n",
    "    }\n",
    "}\n",
    "\n",
    "//Adapter 通过在内部包装一个Adaptee对象，把原接口转换成目标接口 代码如下\n",
    "class Adapter: Target\n",
    "{\n",
    "    //建立一个私有的Adaptee对象\n",
    "    private Adaptee adaptee = new Adaptee();\n",
    "    \n",
    "    public override void Request()\n",
    "    {\n",
    "        //这样就可以把表面上调用Request()方法变成实际调用SpecialRequest()\n",
    "        adaptee.SpecialRequest();\n",
    "    }\n",
    "}"
   ]
  },
  {
   "cell_type": "code",
   "execution_count": 9,
   "metadata": {
    "vscode": {
     "languageId": "polyglot-notebook"
    }
   },
   "outputs": [
    {
     "data": {
      "text/plain": [
       "特殊请求！"
      ]
     },
     "metadata": {},
     "output_type": "display_data"
    }
   ],
   "source": [
    "Target target = new Adapter();\n",
    "target.Request();\n"
   ]
  },
  {
   "cell_type": "markdown",
   "metadata": {},
   "source": [
    "### 何时使用适配器模式"
   ]
  },
  {
   "cell_type": "markdown",
   "metadata": {},
   "source": [
    "在想使用一个已经存在的类，但如果他的接口，也就是他的方法和你要求的不相同时，就应该去考虑适配器模式\n",
    "\n",
    "对于两个类所做的事情相同或相似，但是具有不同的接口时要使用它，客户可以调用统一的接口就行了，这样可以更简单、更直接、更紧凑"
   ]
  },
  {
   "cell_type": "markdown",
   "metadata": {},
   "source": [
    "### 篮球适配器"
   ]
  },
  {
   "cell_type": "code",
   "execution_count": 10,
   "metadata": {
    "vscode": {
     "languageId": "polyglot-notebook"
    }
   },
   "outputs": [],
   "source": [
    "//球员\n",
    "abstract class Player\n",
    "{\n",
    "    protected string _name;\n",
    "    public Player(string name)\n",
    "    {\n",
    "        _name = name;\n",
    "    }\n",
    "    //进攻\n",
    "    public abstract void Attack();\n",
    "    //防守\n",
    "    public abstract void Defense();\n",
    "}\n",
    "\n",
    "//前锋\n",
    "class Forwards : Player\n",
    "{\n",
    "    public Forwards(string name) : base(name)\n",
    "    {\n",
    "    }\n",
    "    public override void Attack()\n",
    "    {\n",
    "        $\"前锋{_name}进攻\".Display();\n",
    "    }\n",
    "    public override void Defense()\n",
    "    {\n",
    "        $\"前锋{_name}防守\".Display();\n",
    "    }\n",
    "}\n",
    "\n",
    "//中锋\n",
    "class Center : Player\n",
    "{\n",
    "    public Center(string name) : base(name)\n",
    "    {\n",
    "    }\n",
    "    public override void Attack()\n",
    "    {\n",
    "        $\"中锋{_name}进攻\".Display();\n",
    "    }\n",
    "    public override void Defense()\n",
    "    {\n",
    "        $\"中锋{_name}防守\".Display();\n",
    "    }\n",
    "}\n",
    "\n",
    "//后卫\n",
    "class Guards : Player\n",
    "{\n",
    "    public Guards(string name) : base(name)\n",
    "    {\n",
    "    }\n",
    "    public override void Attack()\n",
    "    {\n",
    "        $\"后卫{_name}进攻\".Display();\n",
    "    }\n",
    "    public override void Defense()\n",
    "    {\n",
    "        $\"后卫{_name}防守\".Display();\n",
    "    }\n",
    "}"
   ]
  },
  {
   "cell_type": "code",
   "execution_count": 12,
   "metadata": {
    "vscode": {
     "languageId": "polyglot-notebook"
    }
   },
   "outputs": [
    {
     "data": {
      "text/plain": [
       "前锋巴蒂尔进攻"
      ]
     },
     "metadata": {},
     "output_type": "display_data"
    },
    {
     "data": {
      "text/plain": [
       "后卫麦克格雷迪进攻"
      ]
     },
     "metadata": {},
     "output_type": "display_data"
    },
    {
     "data": {
      "text/plain": [
       "中锋姚明进攻"
      ]
     },
     "metadata": {},
     "output_type": "display_data"
    },
    {
     "data": {
      "text/plain": [
       "中锋姚明防守"
      ]
     },
     "metadata": {},
     "output_type": "display_data"
    }
   ],
   "source": [
    "Player b = new Forwards(\"巴蒂尔\");\n",
    "b.Attack();\n",
    "Player m = new Guards(\"麦克格雷迪\");\n",
    "m.Attack();\n",
    "Player ym = new Center(\"姚明\");\n",
    "//姚明是中国人，无法理解Attack和Defense是什么意思\n",
    "ym.Attack();\n",
    "ym.Defense();\n",
    "\n"
   ]
  },
  {
   "cell_type": "code",
   "execution_count": 14,
   "metadata": {
    "vscode": {
     "languageId": "polyglot-notebook"
    }
   },
   "outputs": [],
   "source": [
    "//外籍中锋\n",
    "class ForeignCenter\n",
    "{\n",
    "    private string name;\n",
    "    public string Name\n",
    "    {\n",
    "        get{return name;}\n",
    "        set{name = value;}\n",
    "    }\n",
    "    public void 进攻()\n",
    "    {\n",
    "        $\"外籍中锋{name}进攻\".Display();\n",
    "    }\n",
    "    public void 防守()\n",
    "    {\n",
    "        $\"外籍中锋{name}防守\".Display();\n",
    "    }\n",
    "}"
   ]
  },
  {
   "cell_type": "code",
   "execution_count": 15,
   "metadata": {
    "vscode": {
     "languageId": "polyglot-notebook"
    }
   },
   "outputs": [],
   "source": [
    "//翻译者\n",
    "class Translator: Player\n",
    "{\n",
    "    //声明并实例化一个内部‘外籍中锋’对象，表明翻译者与外籍球员有关联\n",
    "    private ForeignCenter wjzf = new ForeignCenter();\n",
    "    public Translator(string name):base(name)\n",
    "    {\n",
    "        wjzf.Name = name;\n",
    "    }\n",
    "    public override void Attack()\n",
    "    {\n",
    "        wjzf.进攻();\n",
    "    }\n",
    "    public override void Defense()\n",
    "    {\n",
    "        wjzf.防守();\n",
    "    }\n",
    "}"
   ]
  },
  {
   "cell_type": "code",
   "execution_count": 17,
   "metadata": {
    "vscode": {
     "languageId": "polyglot-notebook"
    }
   },
   "outputs": [
    {
     "data": {
      "text/plain": [
       "前锋巴蒂尔进攻"
      ]
     },
     "metadata": {},
     "output_type": "display_data"
    },
    {
     "data": {
      "text/plain": [
       "后卫麦克格雷迪进攻"
      ]
     },
     "metadata": {},
     "output_type": "display_data"
    },
    {
     "data": {
      "text/plain": [
       "外籍中锋姚明进攻"
      ]
     },
     "metadata": {},
     "output_type": "display_data"
    },
    {
     "data": {
      "text/plain": [
       "外籍中锋姚明防守"
      ]
     },
     "metadata": {},
     "output_type": "display_data"
    }
   ],
   "source": [
    "Player b = new Forwards(\"巴蒂尔\");\n",
    "b.Attack();\n",
    "Player m = new Guards(\"麦克格雷迪\");\n",
    "m.Attack();\n",
    "Player ym = new Translator(\"姚明\");\n",
    "//姚明是中国人，无法理解Attack和Defense是什么意思\n",
    "ym.Attack();\n",
    "ym.Defense();"
   ]
  },
  {
   "cell_type": "code",
   "execution_count": 18,
   "metadata": {
    "dotnet_interactive": {
     "language": "mermaid"
    },
    "polyglot_notebook": {
     "kernelName": "mermaid"
    },
    "vscode": {
     "languageId": "polyglot-notebook"
    }
   },
   "outputs": [
    {
     "data": {
      "text/html": [
       "<div class=\"mermaidMarkdownContainer\" style=\"background-color:white\">\r\n",
       "<link rel=\"stylesheet\" href=\"https://cdnjs.cloudflare.com/ajax/libs/font-awesome/6.2.0/css/all.min.css\">\r\n",
       "<div id=\"7235cba9300c4dc19b65c95c1d35168a\"></div>\r\n",
       "<script type=\"module\">\r\n",
       "\r\n",
       "            import mermaid from 'https://cdn.jsdelivr.net/npm/mermaid@10.6.1/dist/mermaid.esm.min.mjs';\r\n",
       "            let renderTarget = document.getElementById('7235cba9300c4dc19b65c95c1d35168a');\r\n",
       "            try {\r\n",
       "                const {svg, bindFunctions} = await mermaid.mermaidAPI.render( \r\n",
       "                    'mermaid_7235cba9300c4dc19b65c95c1d35168a', \r\n",
       "                    `classDiagram\r\n",
       "    class 球员{\r\n",
       "        <<abstract>>\r\n",
       "        +Attack()\r\n",
       "        +Defense()\r\n",
       "    }\r\n",
       "    class 前锋{\r\n",
       "        +Attack()\r\n",
       "        +Defense()\r\n",
       "    }\r\n",
       "    class 中锋{\r\n",
       "        +Attack()\r\n",
       "        +Defense()\r\n",
       "    }\r\n",
       "    class 后卫{\r\n",
       "        +Attack()\r\n",
       "        +Defense()\r\n",
       "    }\r\n",
       "    class 翻译者{\r\n",
       "        +Attack()\r\n",
       "        +Defense()\r\n",
       "    }\r\n",
       "    class 外籍中锋{\r\n",
       "        +Attack()\r\n",
       "        +Defense()\r\n",
       "    }\r\n",
       "    球员 <|-- 前锋\r\n",
       "    球员 <|-- 中锋\r\n",
       "    球员 <|-- 后卫\r\n",
       "    球员 <|-- 翻译者\r\n",
       "    翻译者 --> 外籍中锋`);\r\n",
       "                renderTarget.innerHTML = svg;\r\n",
       "                bindFunctions?.(renderTarget);\r\n",
       "            }\r\n",
       "            catch (error) {\r\n",
       "                console.log(error);\r\n",
       "            }\r\n",
       "</script>\r\n",
       "</div>\r\n"
      ]
     },
     "metadata": {},
     "output_type": "display_data"
    }
   ],
   "source": [
    "classDiagram\n",
    "    class 球员{\n",
    "        <<abstract>>\n",
    "        +Attack()\n",
    "        +Defense()\n",
    "    }\n",
    "    class 前锋{\n",
    "        +Attack()\n",
    "        +Defense()\n",
    "    }\n",
    "    class 中锋{\n",
    "        +Attack()\n",
    "        +Defense()\n",
    "    }\n",
    "    class 后卫{\n",
    "        +Attack()\n",
    "        +Defense()\n",
    "    }\n",
    "    class 翻译者{\n",
    "        +Attack()\n",
    "        +Defense()\n",
    "    }\n",
    "    class 外籍中锋{\n",
    "        +Attack()\n",
    "        +Defense()\n",
    "    }\n",
    "    球员 <|-- 前锋\n",
    "    球员 <|-- 中锋\n",
    "    球员 <|-- 后卫\n",
    "    球员 <|-- 翻译者\n",
    "    翻译者 --> 外籍中锋"
   ]
  },
  {
   "cell_type": "markdown",
   "metadata": {},
   "source": [
    "当然，比如在.Net中有一个类库已经实现的、非常重要的适配器，那就是DataAdapter,DataAdapter用作DataSet和数据源之间的适配器以便检索和保存数据。DataAdapter通过映射Fill(这更改了DataSet中数据以便与数据源中的数据相匹配)和Update(这更改了数据源中的数据以便与DataSet中的数据相匹配)来提供这一适配器。\n",
    "\n",
    "由于数据源可能是来自SQL Server可能来自Oracle(实质是XML数据)，此时用DataAdapter就是非常好的手段，我们不必关注不同数据库中的数据细节，就可以灵活的使用数据。"
   ]
  },
  {
   "cell_type": "markdown",
   "metadata": {},
   "source": []
  }
 ],
 "metadata": {
  "kernelspec": {
   "display_name": ".NET (C#)",
   "language": "C#",
   "name": ".net-csharp"
  },
  "language_info": {
   "name": "csharp"
  },
  "polyglot_notebook": {
   "kernelInfo": {
    "defaultKernelName": "csharp",
    "items": [
     {
      "aliases": [],
      "name": "csharp"
     }
    ]
   }
  }
 },
 "nbformat": 4,
 "nbformat_minor": 2
}
