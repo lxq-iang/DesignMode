{
 "cells": [
  {
   "cell_type": "markdown",
   "metadata": {},
   "source": [
    "### 依赖倒转原则"
   ]
  },
  {
   "cell_type": "markdown",
   "metadata": {},
   "source": [
    "1. 高层模块不英爱依赖低层模块。两个都应该依赖抽象\n",
    "2. 抽象不应该依赖细节。细节应该依赖抽象"
   ]
  },
  {
   "cell_type": "markdown",
   "metadata": {},
   "source": [
    "### 里氏代换原则（LSP）"
   ]
  },
  {
   "cell_type": "markdown",
   "metadata": {},
   "source": [
    "一个软件实体如果使用的使用的是一个父类的话，那么一定适用于其子类，而且它察觉不出父类对象和子类对象的区别。也就是说，在软件里面，把父类替换成它的子类，程序中行为没有变化，简单说 <font color=\"red\">子类型必须能够替换掉他们的父类型</font>"
   ]
  },
  {
   "cell_type": "markdown",
   "metadata": {},
   "source": [
    "> 里氏代换原则（LSP）：子类型必须能够替换掉他们的父类型"
   ]
  },
  {
   "cell_type": "markdown",
   "metadata": {},
   "source": [
    "<font color=\"pink\">企鹅与鸟：在面向对象设计时，如果鸟类是可以飞的，但是企鹅不能飞则企鹅不能继承鸟类，因为企鹅不能飞，不能以其父类——鸟的身份出现  在进行设计时应该将飞翔功能抽象成一个接口，会飞的鸟类实现这个接口，不会飞的鸟类不实现飞翔接口。</pink>"
   ]
  },
  {
   "cell_type": "markdown",
   "metadata": {},
   "source": [
    "有了里氏代换原则后，使继承复用成为了可能，只有当子类可以替换掉父类，软件单位的功能不受影响时，父类才能真正的被复用，而子类也能够在父类的基础上增加新的行为。"
   ]
  },
  {
   "cell_type": "markdown",
   "metadata": {},
   "source": [
    "正是由于子类型的可替换性才使得使用父类型的模块在无需修改的情况下就可以扩展。"
   ]
  },
  {
   "cell_type": "code",
   "execution_count": 5,
   "metadata": {
    "dotnet_interactive": {
     "language": "mermaid"
    },
    "polyglot_notebook": {
     "kernelName": "mermaid"
    },
    "vscode": {
     "languageId": "polyglot-notebook"
    }
   },
   "outputs": [
    {
     "data": {
      "text/html": [
       "<div class=\"mermaidMarkdownContainer\" style=\"background-color:white\">\r\n",
       "<link rel=\"stylesheet\" href=\"https://cdnjs.cloudflare.com/ajax/libs/font-awesome/6.2.0/css/all.min.css\">\r\n",
       "<div id=\"002a13f70d8f41aebd23fd53df6eab5f\"></div>\r\n",
       "<script type=\"module\">\r\n",
       "\r\n",
       "            import mermaid from 'https://cdn.jsdelivr.net/npm/mermaid@10.6.1/dist/mermaid.esm.min.mjs';\r\n",
       "            let renderTarget = document.getElementById('002a13f70d8f41aebd23fd53df6eab5f');\r\n",
       "            try {\r\n",
       "                const {svg, bindFunctions} = await mermaid.mermaidAPI.render( \r\n",
       "                    'mermaid_002a13f70d8f41aebd23fd53df6eab5f', \r\n",
       "                    `---\r\n",
       "title: 高层模块不依赖低层模块，两个都依赖抽象\r\n",
       "---\r\n",
       "classDiagram\r\n",
       "    高层模块 --> 接口或抽象类\r\n",
       "    接口或抽象类 <|-- 低层模块\r\n",
       "    class 高层模块{\r\n",
       "    }\r\n",
       "    class 接口或抽象类{\r\n",
       "        <<interface>>\r\n",
       "    }\r\n",
       "    class 低层模块{\r\n",
       "    }`);\r\n",
       "                renderTarget.innerHTML = svg;\r\n",
       "                bindFunctions?.(renderTarget);\r\n",
       "            }\r\n",
       "            catch (error) {\r\n",
       "                console.log(error);\r\n",
       "            }\r\n",
       "</script>\r\n",
       "</div>\r\n"
      ]
     },
     "metadata": {},
     "output_type": "display_data"
    }
   ],
   "source": [
    "---\n",
    "title: 高层模块不依赖低层模块，两个都依赖抽象\n",
    "---\n",
    "classDiagram\n",
    "    高层模块 --> 接口或抽象类\n",
    "    接口或抽象类 <|-- 低层模块\n",
    "    class 高层模块{\n",
    "    }\n",
    "    class 接口或抽象类{\n",
    "        <<interface>>\n",
    "    }\n",
    "    class 低层模块{\n",
    "    }"
   ]
  },
  {
   "cell_type": "markdown",
   "metadata": {
    "vscode": {
     "languageId": "polyglot-notebook"
    }
   },
   "source": [
    "依赖倒转其实可以说是面向对象设计的标志，用哪种语言来编写程序不重要，如果编写时考虑的都是如何针对抽象编程而不是针对细节编程，即程序中所有依赖关系都是终止于抽象类或者接口，那就是面向对象的设计，反之那就是过程化的设计了"
   ]
  },
  {
   "cell_type": "markdown",
   "metadata": {},
   "source": []
  }
 ],
 "metadata": {
  "kernelspec": {
   "display_name": ".NET (C#)",
   "language": "C#",
   "name": ".net-csharp"
  },
  "language_info": {
   "name": "csharp"
  },
  "polyglot_notebook": {
   "kernelInfo": {
    "defaultKernelName": "csharp",
    "items": [
     {
      "aliases": [],
      "name": "csharp"
     }
    ]
   }
  }
 },
 "nbformat": 4,
 "nbformat_minor": 2
}
