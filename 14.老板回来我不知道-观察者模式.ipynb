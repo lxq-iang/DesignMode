{
 "cells": [
  {
   "cell_type": "markdown",
   "metadata": {},
   "source": [
    "## 双向耦合的代码"
   ]
  },
  {
   "cell_type": "markdown",
   "metadata": {},
   "source": [
    "**前台秘书类**"
   ]
  },
  {
   "cell_type": "code",
   "execution_count": 18,
   "metadata": {
    "dotnet_interactive": {
     "language": "csharp"
    },
    "polyglot_notebook": {
     "kernelName": "csharp"
    },
    "vscode": {
     "languageId": "polyglot-notebook"
    }
   },
   "outputs": [],
   "source": [
    "class Secretary\n",
    "{\n",
    "    //同事列表\n",
    "    private List<StockObserver> observers = new List<StockObserver>();\n",
    "    private string action;\n",
    "    //增加\n",
    "    public void Attach(StockObserver observer)\n",
    "    {\n",
    "        observers.Add(observer);\n",
    "    }\n",
    "    //通知\n",
    "    public void Notify()\n",
    "    {\n",
    "        foreach(var o in observers)\n",
    "        {\n",
    "            o.Update();\n",
    "        }\n",
    "    }\n",
    "    //前台状态\n",
    "    public string SecretetaryAction\n",
    "    {\n",
    "        get{return action;}\n",
    "        set{action = value;}\n",
    "    }\n",
    "}"
   ]
  },
  {
   "cell_type": "markdown",
   "metadata": {},
   "source": [
    "**看股票的同事类**"
   ]
  },
  {
   "cell_type": "code",
   "execution_count": 17,
   "metadata": {
    "dotnet_interactive": {
     "language": "csharp"
    },
    "polyglot_notebook": {
     "kernelName": "csharp"
    },
    "vscode": {
     "languageId": "polyglot-notebook"
    }
   },
   "outputs": [],
   "source": [
    "class StockObserver\n",
    "{\n",
    "    private string _name;\n",
    "    private Secretary _sub;\n",
    "    public StockObserver(string name, Secretary sub)\n",
    "    {\n",
    "        _name = name;\n",
    "        _sub = sub;\n",
    "    }\n",
    "    public void Update()\n",
    "    {\n",
    "        Console.WriteLine($\"{_sub.SecretetaryAction} {_name} 关闭股票行情，继续工作！\");\n",
    "    }\n",
    "}"
   ]
  },
  {
   "cell_type": "markdown",
   "metadata": {},
   "source": [
    "**客户端代码**"
   ]
  },
  {
   "cell_type": "code",
   "execution_count": 19,
   "metadata": {
    "dotnet_interactive": {
     "language": "csharp"
    },
    "polyglot_notebook": {
     "kernelName": "csharp"
    },
    "vscode": {
     "languageId": "polyglot-notebook"
    }
   },
   "outputs": [
    {
     "ename": "Error",
     "evalue": "(3,51): error CS1503: Argument 2: cannot convert from 'Secretary [ℛ*83fabed0-3e6c-4278-806b-e905d7e92ad4#1-19, Version=0.0.0.0, Culture=neutral, PublicKeyToken=null]' to 'Secretary [ℛ*83fabed0-3e6c-4278-806b-e905d7e92ad4#1-15, Version=0.0.0.0, Culture=neutral, PublicKeyToken=null]'\r\n(4,51): error CS1503: Argument 2: cannot convert from 'Secretary [ℛ*83fabed0-3e6c-4278-806b-e905d7e92ad4#1-19, Version=0.0.0.0, Culture=neutral, PublicKeyToken=null]' to 'Secretary [ℛ*83fabed0-3e6c-4278-806b-e905d7e92ad4#1-15, Version=0.0.0.0, Culture=neutral, PublicKeyToken=null]'",
     "output_type": "error",
     "traceback": [
      "(3,51): error CS1503: Argument 2: cannot convert from 'Secretary [ℛ*83fabed0-3e6c-4278-806b-e905d7e92ad4#1-19, Version=0.0.0.0, Culture=neutral, PublicKeyToken=null]' to 'Secretary [ℛ*83fabed0-3e6c-4278-806b-e905d7e92ad4#1-15, Version=0.0.0.0, Culture=neutral, PublicKeyToken=null]'\r\n",
      "(4,51): error CS1503: Argument 2: cannot convert from 'Secretary [ℛ*83fabed0-3e6c-4278-806b-e905d7e92ad4#1-19, Version=0.0.0.0, Culture=neutral, PublicKeyToken=null]' to 'Secretary [ℛ*83fabed0-3e6c-4278-806b-e905d7e92ad4#1-15, Version=0.0.0.0, Culture=neutral, PublicKeyToken=null]'"
     ]
    }
   ],
   "source": [
    "Secretary tongzhizhe = new Secretary();\n",
    "\n",
    "StockObserver tongshi1 = new StockObserver(\"魏关姹\", tongzhizhe);\n",
    "StockObserver tongshi2 = new StockObserver(\"易管查\", tongzhizhe);\n",
    "\n",
    "tongzhizhe.Attach(tongshi1);\n",
    "tongzhizhe.Attach(tongshi2);\n",
    "\n",
    "tongzhizhe.SecretetaryAction = \"老板回来了！\";\n",
    "\n",
    "tongzhizhe.Notify();\n"
   ]
  },
  {
   "cell_type": "code",
   "execution_count": null,
   "metadata": {
    "dotnet_interactive": {
     "language": "csharp"
    },
    "polyglot_notebook": {
     "kernelName": "csharp"
    },
    "vscode": {
     "languageId": "polyglot-notebook"
    }
   },
   "outputs": [],
   "source": []
  }
 ],
 "metadata": {
  "kernelspec": {
   "display_name": ".NET (C#)",
   "language": "C#",
   "name": ".net-csharp"
  },
  "language_info": {
   "name": "csharp"
  },
  "polyglot_notebook": {
   "kernelInfo": {
    "defaultKernelName": "csharp",
    "items": [
     {
      "aliases": [],
      "name": "csharp"
     }
    ]
   }
  }
 },
 "nbformat": 4,
 "nbformat_minor": 2
}
