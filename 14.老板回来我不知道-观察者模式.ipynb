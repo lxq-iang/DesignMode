{
 "cells": [
  {
   "cell_type": "markdown",
   "metadata": {},
   "source": [
<<<<<<< HEAD
    "## 双向耦合的代码"
=======
    "## 观察者模式"
>>>>>>> 3eed7c9a8a775c03ff14ae157b6bb8ad2eeb6d65
   ]
  },
  {
   "cell_type": "markdown",
   "metadata": {},
   "source": [
<<<<<<< HEAD
    "**前台秘书类**"
=======
    "### 双向耦合代码"
>>>>>>> 3eed7c9a8a775c03ff14ae157b6bb8ad2eeb6d65
   ]
  },
  {
   "cell_type": "code",
<<<<<<< HEAD
   "execution_count": 18,
=======
   "execution_count": 1,
>>>>>>> 3eed7c9a8a775c03ff14ae157b6bb8ad2eeb6d65
   "metadata": {
    "dotnet_interactive": {
     "language": "csharp"
    },
    "polyglot_notebook": {
     "kernelName": "csharp"
    },
    "vscode": {
     "languageId": "polyglot-notebook"
    }
   },
   "outputs": [],
   "source": [
<<<<<<< HEAD
    "class Secretary\n",
    "{\n",
    "    //同事列表\n",
    "    private List<StockObserver> observers = new List<StockObserver>();\n",
=======
    "class Secretatry\n",
    "{\n",
    "    //同事列表\n",
    "    private IList<StockObserver> observers = new List<StockObserver>();\n",
>>>>>>> 3eed7c9a8a775c03ff14ae157b6bb8ad2eeb6d65
    "    private string action;\n",
    "    //增加\n",
    "    public void Attach(StockObserver observer)\n",
    "    {\n",
<<<<<<< HEAD
=======
    "        //有几个同事请前台帮忙，就给集合增加几个对象\n",
>>>>>>> 3eed7c9a8a775c03ff14ae157b6bb8ad2eeb6d65
    "        observers.Add(observer);\n",
    "    }\n",
    "    //通知\n",
    "    public void Notify()\n",
    "    {\n",
<<<<<<< HEAD
    "        foreach(var o in observers)\n",
    "        {\n",
    "            o.Update();\n",
    "        }\n",
    "    }\n",
    "    //前台状态\n",
    "    public string SecretetaryAction\n",
=======
    "        //待老板来时，就给所有的登记的同事们发通知，“老板来了”\n",
    "        foreach(StockObserver o in observers) o.Update();\n",
    "    }\n",
    "    //前台状态\n",
    "    public string SecretatryAction\n",
>>>>>>> 3eed7c9a8a775c03ff14ae157b6bb8ad2eeb6d65
    "    {\n",
    "        get{return action;}\n",
    "        set{action = value;}\n",
    "    }\n",
<<<<<<< HEAD
    "}"
   ]
  },
  {
   "cell_type": "markdown",
   "metadata": {},
   "source": [
    "**看股票的同事类**"
   ]
  },
  {
   "cell_type": "code",
   "execution_count": 17,
   "metadata": {
    "dotnet_interactive": {
     "language": "csharp"
    },
    "polyglot_notebook": {
     "kernelName": "csharp"
    },
    "vscode": {
     "languageId": "polyglot-notebook"
    }
   },
   "outputs": [],
   "source": [
    "class StockObserver\n",
    "{\n",
    "    private string _name;\n",
    "    private Secretary _sub;\n",
    "    public StockObserver(string name, Secretary sub)\n",
=======
    "}\n",
    "\n",
    "class StockObserver\n",
    "{\n",
    "    private string _name;\n",
    "    public Secretatry _sub;\n",
    "\n",
    "    public StockObserver(string name, Secretatry sub)\n",
>>>>>>> 3eed7c9a8a775c03ff14ae157b6bb8ad2eeb6d65
    "    {\n",
    "        _name = name;\n",
    "        _sub = sub;\n",
    "    }\n",
<<<<<<< HEAD
    "    public void Update()\n",
    "    {\n",
    "        Console.WriteLine($\"{_sub.SecretetaryAction} {_name} 关闭股票行情，继续工作！\");\n",
=======
    "    //得到前台的通知，赶快采取行动\n",
    "    public void Update()\n",
    "    {\n",
    "        Console.WriteLine($\"{_sub.SecretatryAction},{_name} 关闭股票行情，继续工作\");\n",
>>>>>>> 3eed7c9a8a775c03ff14ae157b6bb8ad2eeb6d65
    "    }\n",
    "}"
   ]
  },
  {
<<<<<<< HEAD
   "cell_type": "markdown",
   "metadata": {},
   "source": [
    "**客户端代码**"
   ]
  },
  {
   "cell_type": "code",
   "execution_count": 19,
=======
   "cell_type": "code",
   "execution_count": 3,
>>>>>>> 3eed7c9a8a775c03ff14ae157b6bb8ad2eeb6d65
   "metadata": {
    "dotnet_interactive": {
     "language": "csharp"
    },
    "polyglot_notebook": {
     "kernelName": "csharp"
    },
    "vscode": {
     "languageId": "polyglot-notebook"
    }
   },
   "outputs": [
    {
<<<<<<< HEAD
     "ename": "Error",
     "evalue": "(3,51): error CS1503: Argument 2: cannot convert from 'Secretary [ℛ*83fabed0-3e6c-4278-806b-e905d7e92ad4#1-19, Version=0.0.0.0, Culture=neutral, PublicKeyToken=null]' to 'Secretary [ℛ*83fabed0-3e6c-4278-806b-e905d7e92ad4#1-15, Version=0.0.0.0, Culture=neutral, PublicKeyToken=null]'\r\n(4,51): error CS1503: Argument 2: cannot convert from 'Secretary [ℛ*83fabed0-3e6c-4278-806b-e905d7e92ad4#1-19, Version=0.0.0.0, Culture=neutral, PublicKeyToken=null]' to 'Secretary [ℛ*83fabed0-3e6c-4278-806b-e905d7e92ad4#1-15, Version=0.0.0.0, Culture=neutral, PublicKeyToken=null]'",
     "output_type": "error",
     "traceback": [
      "(3,51): error CS1503: Argument 2: cannot convert from 'Secretary [ℛ*83fabed0-3e6c-4278-806b-e905d7e92ad4#1-19, Version=0.0.0.0, Culture=neutral, PublicKeyToken=null]' to 'Secretary [ℛ*83fabed0-3e6c-4278-806b-e905d7e92ad4#1-15, Version=0.0.0.0, Culture=neutral, PublicKeyToken=null]'\r\n",
      "(4,51): error CS1503: Argument 2: cannot convert from 'Secretary [ℛ*83fabed0-3e6c-4278-806b-e905d7e92ad4#1-19, Version=0.0.0.0, Culture=neutral, PublicKeyToken=null]' to 'Secretary [ℛ*83fabed0-3e6c-4278-806b-e905d7e92ad4#1-15, Version=0.0.0.0, Culture=neutral, PublicKeyToken=null]'"
=======
     "name": "stdout",
     "output_type": "stream",
     "text": [
      "老板回来了！,魏关姹 关闭股票行情，继续工作\n",
      "老板回来了！,易管查 关闭股票行情，继续工作\n"
>>>>>>> 3eed7c9a8a775c03ff14ae157b6bb8ad2eeb6d65
     ]
    }
   ],
   "source": [
<<<<<<< HEAD
    "Secretary tongzhizhe = new Secretary();\n",
    "\n",
    "StockObserver tongshi1 = new StockObserver(\"魏关姹\", tongzhizhe);\n",
    "StockObserver tongshi2 = new StockObserver(\"易管查\", tongzhizhe);\n",
    "\n",
    "tongzhizhe.Attach(tongshi1);\n",
    "tongzhizhe.Attach(tongshi2);\n",
    "\n",
    "tongzhizhe.SecretetaryAction = \"老板回来了！\";\n",
    "\n",
    "tongzhizhe.Notify();\n"
=======
    "//前台小姐童子喆\n",
    "Secretatry tongzizhe = new Secretatry();\n",
    "//看股票的同事\n",
    "StockObserver tongshi1 = new StockObserver(\"魏关姹\",tongzizhe);\n",
    "StockObserver tongshi2 = new StockObserver(\"易管查\",tongzizhe);\n",
    "\n",
    "//前台记录下了两位同事\n",
    "tongzizhe.Attach(tongshi1);\n",
    "tongzizhe.Attach(tongshi2);\n",
    "//发现老板回来\n",
    "tongzizhe.SecretatryAction = \"老板回来了！\";\n",
    "//通知两个同事\n",
    "tongzizhe.Notify();\n"
   ]
  },
  {
   "cell_type": "markdown",
   "metadata": {},
   "source": [
    "### 解耦实践一"
>>>>>>> 3eed7c9a8a775c03ff14ae157b6bb8ad2eeb6d65
   ]
  },
  {
   "cell_type": "code",
<<<<<<< HEAD
   "execution_count": null,
=======
   "execution_count": 3,
>>>>>>> 3eed7c9a8a775c03ff14ae157b6bb8ad2eeb6d65
   "metadata": {
    "dotnet_interactive": {
     "language": "csharp"
    },
    "polyglot_notebook": {
     "kernelName": "csharp"
    },
    "vscode": {
     "languageId": "polyglot-notebook"
    }
   },
   "outputs": [],
<<<<<<< HEAD
=======
   "source": [
    "\n",
    "//增加抽象观察者\n",
    "abstract class Observer\n",
    "{\n",
    "    protected string _name;\n",
    "    protected Secretary _sub;\n",
    "    \n",
    "    public Observer(string name, Secretary sub)\n",
    "    {\n",
    "        _name = name;\n",
    "        _sub = sub;\n",
    "    }\n",
    "\n",
    "    public abstract void Update();\n",
    "}\n",
    "\n",
    "//看股票的同事\n",
    "class StockObserver : Observer\n",
    "{\n",
    "    public StockObserver(string name, Secretary sub) : base(name, sub)\n",
    "    {\n",
    "\n",
    "    }\n",
    "    public override void Update()\n",
    "    {\n",
    "        Console.WriteLine($\"{_sub.SecretatryAction},{_name} 关闭股票行情，继续工作\");\n",
    "    }\n",
    "    \n",
    "}\n",
    "//看NBA的同事\n",
    "class NBAObserver : Observer\n",
    "{\n",
    "    public NBAObserver(string name, Secretary sub) : base(name, sub)\n",
    "    {\n",
    "\n",
    "    }\n",
    "    public override void Update()\n",
    "    {\n",
    "        Console.WriteLine($\"{_sub.SecretatryAction},{_name} 关闭NBA直播，继续工作\");\n",
    "    }\n",
    "    \n",
    "}\n",
    "\n",
    "//前台秘书类\n",
    "class Secretary\n",
    "{\n",
    "    //同事列表\n",
    "    private IList<Observer> observers = new List<Observer>();\n",
    "    private string action;\n",
    "    //增加  针对抽象编程，减少了与具体类的耦合\n",
    "    public void Attach(Observer observer)\n",
    "    {\n",
    "        //有几个同事请前台帮忙，就给集合增加几个对象\n",
    "        observers.Add(observer);\n",
    "    }\n",
    "\n",
    "    //减少 针对抽象编程，减少了与具体类的耦合\n",
    "    public void Detach(Observer observer)\n",
    "    {\n",
    "        observers.Remove(observer);\n",
    "    }\n",
    "\n",
    "    //通知\n",
    "    public void Notify()\n",
    "    {\n",
    "        //待老板来时，就给所有的登记的同事们发通知，“老板来了”\n",
    "        foreach(Observer o in observers) o.Update();\n",
    "    }\n",
    "    //前台状态\n",
    "    public string SecretatryAction\n",
    "    {\n",
    "        get{return action;}\n",
    "        set{action = value;}\n",
    "    }\n",
    "}"
   ]
  },
  {
   "cell_type": "markdown",
   "metadata": {},
   "source": [
    "### 解耦实践二"
   ]
  },
  {
   "cell_type": "markdown",
   "metadata": {},
   "source": [
    "具体的观察者与前台秘书类耦合，也应该抽象出来"
   ]
  },
  {
   "cell_type": "code",
   "execution_count": 5,
   "metadata": {
    "vscode": {
     "languageId": "polyglot-notebook"
    }
   },
   "outputs": [],
   "source": [
    "//通知者接口\n",
    "interface Subject\n",
    "{\n",
    "    void Attach(Observer observer);\n",
    "    void Detach(Observer observer);\n",
    "    void Notify();\n",
    "    string SubjectState{get;set;}\n",
    "}\n",
    "\n",
    "//具体通知者类可能是前台，也可能是老板，它们也许有自己的一些方法，\n",
    "//但对于通知者来说，他们是一样的，所以他们都去实现这个接口\n",
    "//老板类\n",
    "class Boss: Subject \n",
    "{\n",
    "    //同事列表\n",
    "    private IList<Observer> observers = new List<Observer>();\n",
    "    private string action;\n",
    "    //增加  针对抽象编程，减少了与具体类的耦合\n",
    "    public void Attach(Observer observer)\n",
    "    {\n",
    "        //有几个同事请前台帮忙，就给集合增加几个对象\n",
    "        observers.Add(observer);\n",
    "    }\n",
    "\n",
    "    //减少 针对抽象编程，减少了与具体类的耦合\n",
    "    public void Detach(Observer observer)\n",
    "    {\n",
    "        observers.Remove(observer);\n",
    "    }\n",
    "\n",
    "    //通知\n",
    "    public void Notify()\n",
    "    {\n",
    "        //待老板来时，就给所有的登记的同事们发通知，“老板来了”\n",
    "        foreach(Observer o in observers) o.Update();\n",
    "    }\n",
    "    //老板状态\n",
    "    public string SubjectState\n",
    "    {\n",
    "        get{return action;}\n",
    "        set{action = value;}\n",
    "    }\n",
    "}\n",
    "\n",
    "//前台秘书类\n",
    "class Secretary:Subject\n",
    "{\n",
    "    //同事列表\n",
    "    private IList<Observer> observers = new List<Observer>();\n",
    "    private string action;\n",
    "    //增加  针对抽象编程，减少了与具体类的耦合\n",
    "    public void Attach(Observer observer)\n",
    "    {\n",
    "        //有几个同事请前台帮忙，就给集合增加几个对象\n",
    "        observers.Add(observer);\n",
    "    }\n",
    "\n",
    "    //减少 针对抽象编程，减少了与具体类的耦合\n",
    "    public void Detach(Observer observer)\n",
    "    {\n",
    "        observers.Remove(observer);\n",
    "    }\n",
    "\n",
    "    //通知\n",
    "    public void Notify()\n",
    "    {\n",
    "        //待老板来时，就给所有的登记的同事们发通知，“老板来了”\n",
    "        foreach(Observer o in observers) o.Update();\n",
    "    }\n",
    "    //前台状态\n",
    "    public string SubjectState\n",
    "    {\n",
    "        get{return action;}\n",
    "        set{action = value;}\n",
    "    }\n",
    "}\n",
    "\n",
    "//增加抽象观察者\n",
    "abstract class Observer\n",
    "{\n",
    "    protected string _name;\n",
    "    protected Subject _sub; // 原来是前台，现在改成抽象通知者\n",
    "    \n",
    "    public Observer(string name, Subject sub)\n",
    "    {\n",
    "        _name = name;\n",
    "        _sub = sub;\n",
    "    }\n",
    "\n",
    "    public abstract void Update();\n",
    "}\n",
    "\n",
    "//看股票的同事\n",
    "class StockObserver : Observer\n",
    "{\n",
    "    // 原来是前台，现在改成抽象通知者\n",
    "    public StockObserver(string name, Subject sub) : base(name, sub)\n",
    "    {\n",
    "\n",
    "    }\n",
    "\n",
    "    public override void Update()\n",
    "    {\n",
    "        Console.WriteLine($\"{_sub.SubjectState},{_name} 关闭股票行情，继续工作\");\n",
    "    }\n",
    "    \n",
    "}\n",
    "\n",
    "//看NBA的同事\n",
    "class NBAObserver : Observer\n",
    "{\n",
    "    // 原来是前台，现在改成抽象通知者\n",
    "    public NBAObserver(string name, Subject sub) : base(name, sub)\n",
    "    {\n",
    "\n",
    "    }\n",
    "    public override void Update()\n",
    "    {\n",
    "        Console.WriteLine($\"{_sub.SubjectState},{_name} 关闭NBA直播，继续工作\");\n",
    "    }\n",
    "    \n",
    "}"
   ]
  },
  {
   "cell_type": "code",
   "execution_count": 7,
   "metadata": {
    "vscode": {
     "languageId": "polyglot-notebook"
    }
   },
   "outputs": [
    {
     "name": "stdout",
     "output_type": "stream",
     "text": [
      "我胡汉三回来了！,易管查 关闭NBA直播，继续工作\r\n"
     ]
    }
   ],
   "source": [
    "//老板胡汉三\n",
    "Boss huhansan = new Boss();\n",
    "\n",
    "//看股票的同事\n",
    "StockObserver tongshi1 = new StockObserver(\"魏关姹\",huhansan);\n",
    "//看NBA的同事\n",
    "NBAObserver tongshi2 = new NBAObserver(\"易管查\",huhansan);\n",
    "\n",
    "huhansan.Attach(tongshi1);\n",
    "huhansan.Attach(tongshi2);\n",
    "\n",
    "huhansan.Detach(tongshi1);\n",
    "\n",
    "//老板回来\n",
    "huhansan.SubjectState = \"我胡汉三回来了！\";\n",
    "\n",
    "//发出通知\n",
    "huhansan.Notify();\n"
   ]
  },
  {
   "cell_type": "markdown",
   "metadata": {},
   "source": [
    "代码结构图"
   ]
  },
  {
   "cell_type": "code",
   "execution_count": 21,
   "metadata": {
    "dotnet_interactive": {
     "language": "mermaid"
    },
    "polyglot_notebook": {
     "kernelName": "mermaid"
    },
    "vscode": {
     "languageId": "polyglot-notebook"
    }
   },
   "outputs": [
    {
     "data": {
      "text/html": [
       "<div class=\"mermaidMarkdownContainer\" style=\"background-color:white\">\r\n",
       "<link rel=\"stylesheet\" href=\"https://cdnjs.cloudflare.com/ajax/libs/font-awesome/6.2.0/css/all.min.css\">\r\n",
       "<div id=\"bbc11d9738234625b5eabc17c96b0e78\"></div>\r\n",
       "<script type=\"module\">\r\n",
       "\r\n",
       "            import mermaid from 'https://cdn.jsdelivr.net/npm/mermaid@10.6.1/dist/mermaid.esm.min.mjs';\r\n",
       "            let renderTarget = document.getElementById('bbc11d9738234625b5eabc17c96b0e78');\r\n",
       "            try {\r\n",
       "                const {svg, bindFunctions} = await mermaid.mermaidAPI.render( \r\n",
       "                    'mermaid_bbc11d9738234625b5eabc17c96b0e78', \r\n",
       "                    `classDiagram\r\n",
       "    class 抽象通知者{\r\n",
       "        <<interface>>\r\n",
       "        +增加(in 观察者： 抽象观察者)\r\n",
       "        +减少(in 观察者： 抽象观察者)\r\n",
       "        +通知()\r\n",
       "        +通知者状态() : string\r\n",
       "    }\r\n",
       "    class 抽象观察者{\r\n",
       "        <<interface>>\r\n",
       "        +更新()\r\n",
       "    }\r\n",
       "    class 老板{\r\n",
       "        +增加(in 观察者： 抽象观察者)\r\n",
       "        +减少(in 观察者： 抽象观察者)\r\n",
       "        +通知()\r\n",
       "        +通知者状态() : string\r\n",
       "    }\r\n",
       "    class 前台{\r\n",
       "        +增加(in 观察者： 抽象观察者)\r\n",
       "        +减少(in 观察者： 抽象观察者)\r\n",
       "        +通知()\r\n",
       "        +通知者状态() : string\r\n",
       "    }\r\n",
       "    class 看股票观察者{\r\n",
       "        +更新()\r\n",
       "    }\r\n",
       "    class 看NBA观察者{\r\n",
       "        +更新()\r\n",
       "    }\r\n",
       "    抽象通知者 <|.. 老板\r\n",
       "    抽象通知者 <|.. 前台\r\n",
       "    抽象观察者 <.. 抽象通知者\r\n",
       "    抽象观察者 <|.. 看股票观察者\r\n",
       "    抽象观察者 <|.. 看NBA观察者\r\n",
       "    看股票观察者 ..> 抽象通知者\r\n",
       "    看NBA观察者 ..> 抽象通知者`);\r\n",
       "                renderTarget.innerHTML = svg;\r\n",
       "                bindFunctions?.(renderTarget);\r\n",
       "            }\r\n",
       "            catch (error) {\r\n",
       "                console.log(error);\r\n",
       "            }\r\n",
       "</script>\r\n",
       "</div>\r\n"
      ]
     },
     "metadata": {},
     "output_type": "display_data"
    }
   ],
   "source": [
    "classDiagram\n",
    "    class 抽象通知者{\n",
    "        <<interface>>\n",
    "        +增加(in 观察者： 抽象观察者)\n",
    "        +减少(in 观察者： 抽象观察者)\n",
    "        +通知()\n",
    "        +通知者状态() : string\n",
    "    }\n",
    "    class 抽象观察者{\n",
    "        <<interface>>\n",
    "        +更新()\n",
    "    }\n",
    "    class 老板{\n",
    "        +增加(in 观察者： 抽象观察者)\n",
    "        +减少(in 观察者： 抽象观察者)\n",
    "        +通知()\n",
    "        +通知者状态() : string\n",
    "    }\n",
    "    class 前台{\n",
    "        +增加(in 观察者： 抽象观察者)\n",
    "        +减少(in 观察者： 抽象观察者)\n",
    "        +通知()\n",
    "        +通知者状态() : string\n",
    "    }\n",
    "    class 看股票观察者{\n",
    "        +更新()\n",
    "    }\n",
    "    class 看NBA观察者{\n",
    "        +更新()\n",
    "    }\n",
    "    抽象通知者 <|.. 老板\n",
    "    抽象通知者 <|.. 前台\n",
    "    抽象观察者 <.. 抽象通知者\n",
    "    抽象观察者 <|.. 看股票观察者\n",
    "    抽象观察者 <|.. 看NBA观察者\n",
    "    看股票观察者 ..> 抽象通知者\n",
    "    看NBA观察者 ..> 抽象通知者"
   ]
  },
  {
   "cell_type": "markdown",
   "metadata": {},
   "source": [
    "### 观察者模式"
   ]
  },
  {
   "cell_type": "markdown",
   "metadata": {},
   "source": [
    "观察者模式又叫做发布-订阅（Publish/Subscribe）模式\n",
    "> **观察者模式**定义了一种一对多的依赖关系，让多个观察者对象同时监听某一个主题对象。这个主题对象在状态发生变化时，会通知所有观察者对象，使他们能够自动更新自己"
   ]
  },
  {
   "cell_type": "code",
   "execution_count": 31,
   "metadata": {
    "dotnet_interactive": {
     "language": "mermaid"
    },
    "polyglot_notebook": {
     "kernelName": "mermaid"
    },
    "vscode": {
     "languageId": "polyglot-notebook"
    }
   },
   "outputs": [
    {
     "data": {
      "text/html": [
       "<div class=\"mermaidMarkdownContainer\" style=\"background-color:white\">\r\n",
       "<link rel=\"stylesheet\" href=\"https://cdnjs.cloudflare.com/ajax/libs/font-awesome/6.2.0/css/all.min.css\">\r\n",
       "<div id=\"701ef14733614031b9f1412c0ec7526d\"></div>\r\n",
       "<script type=\"module\">\r\n",
       "\r\n",
       "            import mermaid from 'https://cdn.jsdelivr.net/npm/mermaid@10.6.1/dist/mermaid.esm.min.mjs';\r\n",
       "            let renderTarget = document.getElementById('701ef14733614031b9f1412c0ec7526d');\r\n",
       "            try {\r\n",
       "                const {svg, bindFunctions} = await mermaid.mermaidAPI.render( \r\n",
       "                    'mermaid_701ef14733614031b9f1412c0ec7526d', \r\n",
       "                    `classDiagram\r\n",
       "    class Subject{\r\n",
       "        +Attach(in : Observer)\r\n",
       "        +Detach(in : Observer)\r\n",
       "        +Notify()\r\n",
       "    }\r\n",
       "    class Observer{\r\n",
       "        +Update()\r\n",
       "    }\r\n",
       "    class ConcreteSubject{\r\n",
       "        +SubjectState\r\n",
       "    }\r\n",
       "    class ConcreteServer{\r\n",
       "        -observerState\r\n",
       "        +Update()\r\n",
       "    }\r\n",
       "    note for Subject \"Subject类，它把所有观察者对象的\\\\n引用保存在一个聚集里，每个主题都可以\\\\n有任何数量的观察者，抽象主题提供一个\\\\n接口，可以增加和删除现有观察者对象\"\r\n",
       "    note for Observer \"Observer类，抽象观察者，为所有的\\\\n具体观察者定义一个接口，在得到主题\\\\n的通知时更新自己\"\r\n",
       "    note for ConcreteSubject \"ConcreteSubject类，具体主题，\\\\n将有关状态存入具体观察者对象；\\\\n在具体主题的内部状态改变时，\\\\n给所有登记过的观察者发出通知\"\r\n",
       "    note for ConcreteServer \"ConcreteServer类，具体观察者，实现\\\\n抽象观察者角色所要求的更新接口，以便\\\\n使本身的状态与主题的状态相协调\"\r\n",
       "    Subject --> Observer\r\n",
       "    ConcreteSubject --|> Subject\r\n",
       "    ConcreteServer --|> Observer\r\n",
       "    ConcreteSubject <-- ConcreteServer`);\r\n",
       "                renderTarget.innerHTML = svg;\r\n",
       "                bindFunctions?.(renderTarget);\r\n",
       "            }\r\n",
       "            catch (error) {\r\n",
       "                console.log(error);\r\n",
       "            }\r\n",
       "</script>\r\n",
       "</div>\r\n"
      ]
     },
     "metadata": {},
     "output_type": "display_data"
    }
   ],
   "source": [
    "classDiagram\n",
    "    class Subject{\n",
    "        +Attach(in : Observer)\n",
    "        +Detach(in : Observer)\n",
    "        +Notify()\n",
    "    }\n",
    "    class Observer{\n",
    "        +Update()\n",
    "    }\n",
    "    class ConcreteSubject{\n",
    "        +SubjectState\n",
    "    }\n",
    "    class ConcreteServer{\n",
    "        -observerState\n",
    "        +Update()\n",
    "    }\n",
    "    note for Subject \"Subject类，它把所有观察者对象的\\n引用保存在一个聚集里，每个主题都可以\\n有任何数量的观察者，抽象主题提供一个\\n接口，可以增加和删除现有观察者对象\"\n",
    "    note for Observer \"Observer类，抽象观察者，为所有的\\n具体观察者定义一个接口，在得到主题\\n的通知时更新自己\"\n",
    "    note for ConcreteSubject \"ConcreteSubject类，具体主题，\\n将有关状态存入具体观察者对象；\\n在具体主题的内部状态改变时，\\n给所有登记过的观察者发出通知\"\n",
    "    note for ConcreteServer \"ConcreteServer类，具体观察者，实现\\n抽象观察者角色所要求的更新接口，以便\\n使本身的状态与主题的状态相协调\"\n",
    "    Subject --> Observer\n",
    "    ConcreteSubject --|> Subject\n",
    "    ConcreteServer --|> Observer\n",
    "    ConcreteSubject <-- ConcreteServer"
   ]
  },
  {
   "cell_type": "markdown",
   "metadata": {},
   "source": [
    "### 事件委托实现"
   ]
  },
  {
   "cell_type": "code",
   "execution_count": 35,
   "metadata": {
    "vscode": {
     "languageId": "polyglot-notebook"
    }
   },
   "outputs": [],
   "source": [
    "class StockObserver\n",
    "{\n",
    "    private string _name;\n",
    "    private Subject _sub;\n",
    "    public StockObserver(string name, Subject sub)\n",
    "    {\n",
    "        _name = name;\n",
    "        _sub = sub;\n",
    "    }\n",
    "\n",
    "    //关闭股票行情，继续工作\n",
    "    public void CloseStockMarket()\n",
    "    {\n",
    "        Console.WriteLine($\"{_sub.SubjectState},{_name} 关闭股票行情，继续工作\");\n",
    "        \n",
    "    }\n",
    "}\n",
    "\n",
    "class NBAObserver\n",
    "{\n",
    "    private string _name;\n",
    "    private Subject _sub;\n",
    "    public NBAObserver(string name, Subject sub)\n",
    "    {\n",
    "        _name = name;\n",
    "        _sub = sub;\n",
    "    }\n",
    "\n",
    "    //关闭股票行情，继续工作\n",
    "    public void CloseNBADirectSeeding()\n",
    "    {\n",
    "        Console.WriteLine($\"{_sub.SubjectState},{_name} 关闭NBA直播，继续工作\");\n",
    "        \n",
    "    }\n",
    "}\n",
    "\n",
    "//声明一个委托，名字叫EventHandler\n",
    "delegate void EventHandler();\n",
    "\n",
    "//通知者接口\n",
    "interface Subject\n",
    "{\n",
    "    void Notify();\n",
    "    string SubjectState{get;set;}\n",
    "}\n",
    "\n",
    "//老板类\n",
    "class Boss : Subject\n",
    "{\n",
    "    //声明一个事件Update，类型为委托EventHandler\n",
    "    public event EventHandler Update;\n",
    "\n",
    "    private string action;\n",
    "\n",
    "    public void Notify()\n",
    "    {\n",
    "        Update?.Invoke();\n",
    "    }\n",
    "    public string SubjectState\n",
    "    {\n",
    "        get{return action;}\n",
    "        set{action = value;}\n",
    "    }\n",
    "\n",
    "}"
   ]
  },
  {
   "cell_type": "code",
   "execution_count": 36,
   "metadata": {
    "vscode": {
     "languageId": "polyglot-notebook"
    }
   },
   "outputs": [],
   "source": [
    "Boss huhansan = new Boss();\n",
    "\n",
    "StockObserver tongshi1 = new StockObserver(\"魏关姹\", huhansan);\n",
    "NBAObserver tongshi2 = new NBAObserver(\"易管查\", huhansan);\n",
    "\n",
    "//huhansan.Update += tongshi1.CloseStockMarket;\n",
    "//huhansan.Update += tongshi2.CloseNBADirectSeeding;\n",
    "\n",
    "huhansan.SubjectState = \"我胡汉三回来了！\";\n",
    "\n",
    "huhansan.Notify();"
   ]
  },
  {
   "cell_type": "code",
   "execution_count": null,
   "metadata": {
    "vscode": {
     "languageId": "polyglot-notebook"
    }
   },
   "outputs": [],
>>>>>>> 3eed7c9a8a775c03ff14ae157b6bb8ad2eeb6d65
   "source": []
  }
 ],
 "metadata": {
  "kernelspec": {
   "display_name": ".NET (C#)",
   "language": "C#",
   "name": ".net-csharp"
  },
  "language_info": {
<<<<<<< HEAD
   "name": "csharp"
=======
   "name": "C#"
>>>>>>> 3eed7c9a8a775c03ff14ae157b6bb8ad2eeb6d65
  },
  "polyglot_notebook": {
   "kernelInfo": {
    "defaultKernelName": "csharp",
    "items": [
     {
      "aliases": [],
      "name": "csharp"
     }
    ]
   }
  }
 },
 "nbformat": 4,
 "nbformat_minor": 2
}
