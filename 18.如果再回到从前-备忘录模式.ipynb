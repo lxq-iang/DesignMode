{
 "cells": [
  {
   "cell_type": "markdown",
   "metadata": {},
   "source": [
    "## 备忘录模式"
   ]
  },
  {
   "cell_type": "markdown",
   "metadata": {},
   "source": [
    "### 游戏进度"
   ]
  },
  {
   "cell_type": "markdown",
   "metadata": {},
   "source": [
    "游戏角色，用来存储角色的生命力、攻击力、防御力的数据"
   ]
  },
  {
   "cell_type": "code",
   "execution_count": 1,
   "metadata": {
    "dotnet_interactive": {
     "language": "csharp"
    },
    "polyglot_notebook": {
     "kernelName": "csharp"
    },
    "vscode": {
     "languageId": "polyglot-notebook"
    }
   },
   "outputs": [],
   "source": [
    "class GameRole\n",
    "{\n",
    "    //生命力\n",
    "    private int vit;\n",
    "    public int Vitality\n",
    "    {\n",
    "        get{return vit;}\n",
    "        set{vit = value;}\n",
    "    }\n",
    "    private int atk;\n",
    "    public int Attack\n",
    "    {\n",
    "        get{return atk;}\n",
    "        set{atk = value;}\n",
    "    }\n",
    "    //防御力\n",
    "    private int def;\n",
    "    public int Defense\n",
    "    {\n",
    "        get{return def;}\n",
    "        set{def = value;}\n",
    "    }\n",
    "    //状态显示\n",
    "    public void StateDisplay()\n",
    "    {\n",
    "        \"角色当前状态：\".Display();\n",
    "        $\"体力：{vit}\".Display();\n",
    "        $\"攻击力：{atk}\".Display();\n",
    "        $\"防御力：{def}\".Display();\n",
    "    }\n",
    "\n",
    "    //获得初始状态\n",
    "    public void GetInitState()\n",
    "    {\n",
    "        vit = 100;\n",
    "        atk = 100;\n",
    "        def = 100;\n",
    "    }\n",
    "    //战斗\n",
    "    public void Fight()\n",
    "    {\n",
    "        vit = 0;\n",
    "        atk = 0;\n",
    "        def = 0;\n",
    "    }\n",
    "}"
   ]
  },
  {
   "cell_type": "code",
   "execution_count": 2,
   "metadata": {
    "dotnet_interactive": {
     "language": "csharp"
    },
    "polyglot_notebook": {
     "kernelName": "csharp"
    },
    "vscode": {
     "languageId": "polyglot-notebook"
    }
   },
   "outputs": [
    {
     "data": {
      "text/plain": [
       "角色当前状态："
      ]
     },
     "metadata": {},
     "output_type": "display_data"
    },
    {
     "data": {
      "text/plain": [
       "体力：100"
      ]
     },
     "metadata": {},
     "output_type": "display_data"
    },
    {
     "data": {
      "text/plain": [
       "攻击力：100"
      ]
     },
     "metadata": {},
     "output_type": "display_data"
    },
    {
     "data": {
      "text/plain": [
       "防御力：100"
      ]
     },
     "metadata": {},
     "output_type": "display_data"
    },
    {
     "data": {
      "text/plain": [
       "角色当前状态："
      ]
     },
     "metadata": {},
     "output_type": "display_data"
    },
    {
     "data": {
      "text/plain": [
       "体力：0"
      ]
     },
     "metadata": {},
     "output_type": "display_data"
    },
    {
     "data": {
      "text/plain": [
       "攻击力：0"
      ]
     },
     "metadata": {},
     "output_type": "display_data"
    },
    {
     "data": {
      "text/plain": [
       "防御力：0"
      ]
     },
     "metadata": {},
     "output_type": "display_data"
    },
    {
     "data": {
      "text/plain": [
       "角色当前状态："
      ]
     },
     "metadata": {},
     "output_type": "display_data"
    },
    {
     "data": {
      "text/plain": [
       "体力：100"
      ]
     },
     "metadata": {},
     "output_type": "display_data"
    },
    {
     "data": {
      "text/plain": [
       "攻击力：100"
      ]
     },
     "metadata": {},
     "output_type": "display_data"
    },
    {
     "data": {
      "text/plain": [
       "防御力：100"
      ]
     },
     "metadata": {},
     "output_type": "display_data"
    }
   ],
   "source": [
    "GameRole lixiaoyao = new GameRole();\n",
    "lixiaoyao.GetInitState();\n",
    "lixiaoyao.StateDisplay();\n",
    "\n",
    "//保存进度\n",
    "GameRole backup = new GameRole();\n",
    "backup.Vitality = lixiaoyao.Vitality;\n",
    "backup.Attack = lixiaoyao.Attack;\n",
    "backup.Defense = lixiaoyao.Defense;\n",
    "\n",
    "//大战Boss时候，损耗严重\n",
    "lixiaoyao.Fight();\n",
    "lixiaoyao.StateDisplay();\n",
    "\n",
    "//恢复之前状态\n",
    "lixiaoyao.Vitality = backup.Vitality;\n",
    "lixiaoyao.Attack = backup.Attack;\n",
    "lixiaoyao.Defense = backup.Defense;\n",
    "\n",
    "lixiaoyao.StateDisplay();"
   ]
  },
  {
   "cell_type": "markdown",
   "metadata": {},
   "source": [
    "### 备忘录模式"
   ]
  },
  {
   "cell_type": "markdown",
   "metadata": {},
   "source": [
    "> **备忘录（Memento）**：在不破坏封装性的前提下，捕获一个对象的内部状态，并在该对象之外保存这个状态。这样以后就可以将该对象恢复到原先保存的状态"
   ]
  },
  {
   "cell_type": "code",
   "execution_count": 4,
   "metadata": {
    "dotnet_interactive": {
     "language": "mermaid"
    },
    "polyglot_notebook": {
     "kernelName": "mermaid"
    },
    "vscode": {
     "languageId": "polyglot-notebook"
    }
   },
   "outputs": [
    {
     "data": {
      "text/html": [
       "<div class=\"mermaidMarkdownContainer\" style=\"background-color:white\">\r\n",
       "<link rel=\"stylesheet\" href=\"https://cdnjs.cloudflare.com/ajax/libs/font-awesome/6.2.0/css/all.min.css\">\r\n",
       "<div id=\"06ecc0d5a3fb42e3866d91a764b32bc7\"></div>\r\n",
       "<script type=\"module\">\r\n",
       "\r\n",
       "            import mermaid from 'https://cdn.jsdelivr.net/npm/mermaid@10.6.1/dist/mermaid.esm.min.mjs';\r\n",
       "            let renderTarget = document.getElementById('06ecc0d5a3fb42e3866d91a764b32bc7');\r\n",
       "            try {\r\n",
       "                const {svg, bindFunctions} = await mermaid.mermaidAPI.render( \r\n",
       "                    'mermaid_06ecc0d5a3fb42e3866d91a764b32bc7', \r\n",
       "                    `---\r\n",
       "title:\"备忘录模式(Memento)结构图\"\r\n",
       "---\r\n",
       "classDiagram\r\n",
       "    class Originator{\r\n",
       "        +State\r\n",
       "        +SetMemento(in m : Memento)\r\n",
       "        +CreateMemento()\r\n",
       "    }\r\n",
       "    class Memento{\r\n",
       "        +State\r\n",
       "    }\r\n",
       "    class Caretaker{\r\n",
       "        -Memento : Memento\r\n",
       "    }\r\n",
       "    Originator ..> Memento\r\n",
       "    Memento <--o Caretaker\r\n",
       "    note for Originator \"负责创建一个备忘录Memento\\\\n 用以记录当前时刻它的内部状态，\\\\n并可使用备忘录恢复内部状态\"\r\n",
       "    note for Memento \"负责存储Originator对象的内部状态，\\\\n并可以放置Originator以外的其它对象\\\\n访问备忘录Memento\"\r\n",
       "    note for Caretaker \"负责保存好备忘录Memento\"`);\r\n",
       "                renderTarget.innerHTML = svg;\r\n",
       "                bindFunctions?.(renderTarget);\r\n",
       "            }\r\n",
       "            catch (error) {\r\n",
       "                console.log(error);\r\n",
       "            }\r\n",
       "</script>\r\n",
       "</div>\r\n"
      ]
     },
     "metadata": {},
     "output_type": "display_data"
    }
   ],
   "source": [
    "---\n",
    "title:\"备忘录模式(Memento)结构图\"\n",
    "---\n",
    "classDiagram\n",
    "    class Originator{\n",
    "        +State\n",
    "        +SetMemento(in m : Memento)\n",
    "        +CreateMemento()\n",
    "    }\n",
    "    class Memento{\n",
    "        +State\n",
    "    }\n",
    "    class Caretaker{\n",
    "        -Memento : Memento\n",
    "    }\n",
    "    Originator ..> Memento\n",
    "    Memento <--o Caretaker\n",
    "    note for Originator \"负责创建一个备忘录Memento\\n 用以记录当前时刻它的内部状态，\\n并可使用备忘录恢复内部状态\"\n",
    "    note for Memento \"负责存储Originator对象的内部状态，\\n并可以放置Originator以外的其它对象\\n访问备忘录Memento\"\n",
    "    note for Caretaker \"负责保存好备忘录Memento\""
   ]
  },
  {
   "cell_type": "markdown",
   "metadata": {},
   "source": [
    "Originator(发起人)：负责创建一个备忘录Memento，泳衣记录当前时刻它的内部状态，并可以使用备忘录恢复内部状态。Originator可以根据需要决定Memento存储Originator的那些状态\n",
    "\n",
    "Memento(备忘录)：负责存储Originator对象的内部状态，并可以防止Originator以外的其它对象访问备忘录Memento。备忘录有两个接口，Caretaker只能看到备忘录的窄接口，它只能将备忘录传递给其他对象。Originator能够看到一个宽接口，允许它访问返回先前状态所需的所有数据。\n",
    "\n",
    "Caretaker(管理者)：负责保存好备忘录Memento，不能对备忘录的内容进行操作或检查。"
   ]
  },
  {
   "cell_type": "markdown",
   "metadata": {},
   "source": [
    "### 备忘录模式基本代码"
   ]
  },
  {
   "cell_type": "code",
   "execution_count": 5,
   "metadata": {
    "dotnet_interactive": {
     "language": "csharp"
    },
    "polyglot_notebook": {
     "kernelName": "csharp"
    },
    "vscode": {
     "languageId": "polyglot-notebook"
    }
   },
   "outputs": [],
   "source": [
    "//发起人（Originator）类\n",
    "class Originator\n",
    "{\n",
    "    private string state;\n",
    "    //需要保存的属性，可能有多个\n",
    "    public string State\n",
    "    {\n",
    "        get{return state;}\n",
    "        set{state = value;}\n",
    "    }\n",
    "    //创建备忘录，将当前需要保存的信息导入并实例化出一个Memento对象\n",
    "    public Memento CreateMemento()\n",
    "    {\n",
    "        return new Memento(state);\n",
    "    }\n",
    "    //恢复备忘录，将Memento导入并将相关数据恢复\n",
    "    public void SetMemento(Memento memento)\n",
    "    {\n",
    "        state = memento.State;\n",
    "    }\n",
    "    //显示数据\n",
    "    public void Show()\n",
    "    {\n",
    "        $\"State={State}\".Display();\n",
    "    }\n",
    "}\n",
    "//备忘录(Memento)类\n",
    "class Memento \n",
    "{\n",
    "    private string _state;\n",
    "    //构造方法，将相关数据导入\n",
    "    public Memento(string state)\n",
    "    {\n",
    "        _state = state;\n",
    "    }\n",
    "    //需要保存的数据属性，可以是多个\n",
    "    public string State{get{return _state;}}\n",
    "}\n",
    "\n",
    "//管理者(Caretaker)类\n",
    "class Caretaker\n",
    "{\n",
    "    //得到或设置备忘录\n",
    "    private Memento memento;\n",
    "    public Memento Memento\n",
    "    {\n",
    "        get{return memento;}\n",
    "        set{memento = value;}\n",
    "    }\n",
    "}"
   ]
  },
  {
   "cell_type": "code",
   "execution_count": 6,
   "metadata": {
    "dotnet_interactive": {
     "language": "csharp"
    },
    "polyglot_notebook": {
     "kernelName": "csharp"
    },
    "vscode": {
     "languageId": "polyglot-notebook"
    }
   },
   "outputs": [
    {
     "data": {
      "text/plain": [
       "State=Off"
      ]
     },
     "metadata": {},
     "output_type": "display_data"
    },
    {
     "data": {
      "text/plain": [
       "State=On"
      ]
     },
     "metadata": {},
     "output_type": "display_data"
    }
   ],
   "source": [
    "Originator o = new Originator();\n",
    "o.State = \"On\";//Originator初始状态，状态属性为\"On\"\n",
    "\n",
    "Caretaker c = new Caretaker();\n",
    "//保存状态时，由于有了很好的封装，可以隐藏Originator的实现细节\n",
    "c.Memento = o.CreateMemento();\n",
    "//Originator改变了状态属性为\"Off\"\n",
    "o.State = \"Off\";\n",
    "o.Show();\n",
    "//恢复初始状态\n",
    "o.SetMemento(c.Memento);\n",
    "o.Show();"
   ]
  },
  {
   "cell_type": "markdown",
   "metadata": {},
   "source": [
    "把要保存的细节封装到Memento中，哪一天要更改保存的细节也不用影响客户端了\n",
    "\n",
    "Memento模式比较适用于功能比较复杂的，但需要维护或记录属性历史的类，或者需要保存的属性只是众多属性中的一小部分时，Originator可以根据保存的Memento信息还原到前一状态\n",
    "\n",
    "如果再某个系统中使用命令模式时，需要实现命令的撤销功能，那么命令模式可以使用备忘录模式来存储可撤销操作的状态"
   ]
  },
  {
   "cell_type": "markdown",
   "metadata": {},
   "source": [
    "### 游戏进度备忘录"
   ]
  },
  {
   "cell_type": "code",
   "execution_count": 1,
   "metadata": {
    "dotnet_interactive": {
     "language": "mermaid"
    },
    "polyglot_notebook": {
     "kernelName": "mermaid"
    },
    "vscode": {
     "languageId": "polyglot-notebook"
    }
   },
   "outputs": [
    {
     "data": {
      "text/html": [
       "<div class=\"mermaidMarkdownContainer\" style=\"background-color:white\">\r\n",
       "<link rel=\"stylesheet\" href=\"https://cdnjs.cloudflare.com/ajax/libs/font-awesome/6.2.0/css/all.min.css\">\r\n",
       "<div id=\"1ff1ce839d9e42f9a4f1660e4280968e\"></div>\r\n",
       "<script type=\"module\">\r\n",
       "\r\n",
       "            import mermaid from 'https://cdn.jsdelivr.net/npm/mermaid@10.6.1/dist/mermaid.esm.min.mjs';\r\n",
       "            let renderTarget = document.getElementById('1ff1ce839d9e42f9a4f1660e4280968e');\r\n",
       "            try {\r\n",
       "                const {svg, bindFunctions} = await mermaid.mermaidAPI.render( \r\n",
       "                    'mermaid_1ff1ce839d9e42f9a4f1660e4280968e', \r\n",
       "                    `classDiagram\r\n",
       "    class 游戏角色{\r\n",
       "        +生命力 : in\r\n",
       "        +攻击力 : in\r\n",
       "        +防御力 : in\r\n",
       "        +状态查看()\r\n",
       "        +保存角色状态() : 角色状态存储箱\r\n",
       "        +恢复角色状态(in memento : 角色状态存储箱)\r\n",
       "    }\r\n",
       "    class 角色状态存储箱{\r\n",
       "        +生命力 : in\r\n",
       "        +攻击力 : in\r\n",
       "        +防御力 : in\r\n",
       "    }\r\n",
       "    class 角色状态管理者{\r\n",
       "        +角色状态存储箱 : 角色状态存储箱\r\n",
       "    }\r\n",
       "    游戏角色 ..> 角色状态存储箱\r\n",
       "    角色状态存储箱 <..o 角色状态管理者`);\r\n",
       "                renderTarget.innerHTML = svg;\r\n",
       "                bindFunctions?.(renderTarget);\r\n",
       "            }\r\n",
       "            catch (error) {\r\n",
       "                console.log(error);\r\n",
       "            }\r\n",
       "</script>\r\n",
       "</div>\r\n"
      ]
     },
     "metadata": {},
     "output_type": "display_data"
    }
   ],
   "source": [
    "classDiagram\n",
    "    class 游戏角色{\n",
    "        +生命力 : in\n",
    "        +攻击力 : in\n",
    "        +防御力 : in\n",
    "        +状态查看()\n",
    "        +保存角色状态() : 角色状态存储箱\n",
    "        +恢复角色状态(in memento : 角色状态存储箱)\n",
    "    }\n",
    "    class 角色状态存储箱{\n",
    "        +生命力 : in\n",
    "        +攻击力 : in\n",
    "        +防御力 : in\n",
    "    }\n",
    "    class 角色状态管理者{\n",
    "        +角色状态存储箱 : 角色状态存储箱\n",
    "    }\n",
    "    游戏角色 ..> 角色状态存储箱\n",
    "    角色状态存储箱 <..o 角色状态管理者"
   ]
  },
  {
   "cell_type": "code",
   "execution_count": 3,
   "metadata": {
    "vscode": {
     "languageId": "polyglot-notebook"
    }
   },
   "outputs": [],
   "source": [
    "//游戏角色类\n",
    "class GameRole\n",
    "{\n",
    "    //生命力\n",
    "    private int vit;\n",
    "    public int Vitality\n",
    "    {\n",
    "        get{return vit;}\n",
    "        set{vit = value;}\n",
    "    }\n",
    "    private int atk;\n",
    "    public int Attack\n",
    "    {\n",
    "        get{return atk;}\n",
    "        set{atk = value;}\n",
    "    }\n",
    "    //防御力\n",
    "    private int def;\n",
    "    public int Defense\n",
    "    {\n",
    "        get{return def;}\n",
    "        set{def = value;}\n",
    "    }\n",
    "    //状态显示\n",
    "    public void StateDisplay()\n",
    "    {\n",
    "        \"角色当前状态：\".Display();\n",
    "        $\"体力：{vit}\".Display();\n",
    "        $\"攻击力：{atk}\".Display();\n",
    "        $\"防御力：{def}\".Display();\n",
    "    }\n",
    "    //获得初始状态\n",
    "    public void GetInitState()\n",
    "    {\n",
    "        vit = 100;\n",
    "        atk = 100;\n",
    "        def = 100;\n",
    "    }\n",
    "    //战斗\n",
    "    public void Fight()\n",
    "    {\n",
    "        vit = 0;\n",
    "        atk = 0;\n",
    "        def = 0;\n",
    "    }\n",
    "    //保存角色状态\n",
    "    public RoleStateMemento SaveState()\n",
    "    {\n",
    "        return new RoleStateMemento(vit, atk, def);\n",
    "    }\n",
    "    //恢复角色状态\n",
    "    public void RecoveryState(RoleStateMemento memento)\n",
    "    {\n",
    "        this.vit = memento.Vitality;\n",
    "        this.atk = memento.Attack;\n",
    "        this.def = memento.Defense;\n",
    "    }\n",
    "}\n",
    "\n",
    "class RoleStateMemento\n",
    "{\n",
    "    private int vit;\n",
    "    private int atk;\n",
    "    private int def;\n",
    "    public RoleStateMemento(int vit, int atk, int def)\n",
    "    {\n",
    "        this.vit = vit;\n",
    "        this.atk = atk;\n",
    "        this.def = def;\n",
    "    }\n",
    "    //生命力\n",
    "    public int Vitality\n",
    "    {\n",
    "        get{return vit;}\n",
    "        set{vit = value;}\n",
    "    }\n",
    "    public int Attack\n",
    "    {\n",
    "        get{return atk;}\n",
    "        set{atk = value;}\n",
    "    }\n",
    "    //防御力\n",
    "    public int Defense\n",
    "    {\n",
    "        get{return def;}\n",
    "        set{def = value;}\n",
    "    }\n",
    "}\n",
    "\n",
    "class RoleStateCaretaker\n",
    "{\n",
    "    private RoleStateMemento memento;\n",
    "    public RoleStateMemento Memento\n",
    "    {\n",
    "        get{return memento;}\n",
    "        set{memento = value;}\n",
    "    }\n",
    "}"
   ]
  },
  {
   "cell_type": "code",
   "execution_count": 4,
   "metadata": {
    "vscode": {
     "languageId": "polyglot-notebook"
    }
   },
   "outputs": [
    {
     "data": {
      "text/plain": [
       "角色当前状态："
      ]
     },
     "metadata": {},
     "output_type": "display_data"
    },
    {
     "data": {
      "text/plain": [
       "体力：100"
      ]
     },
     "metadata": {},
     "output_type": "display_data"
    },
    {
     "data": {
      "text/plain": [
       "攻击力：100"
      ]
     },
     "metadata": {},
     "output_type": "display_data"
    },
    {
     "data": {
      "text/plain": [
       "防御力：100"
      ]
     },
     "metadata": {},
     "output_type": "display_data"
    },
    {
     "data": {
      "text/plain": [
       "角色当前状态："
      ]
     },
     "metadata": {},
     "output_type": "display_data"
    },
    {
     "data": {
      "text/plain": [
       "体力：0"
      ]
     },
     "metadata": {},
     "output_type": "display_data"
    },
    {
     "data": {
      "text/plain": [
       "攻击力：0"
      ]
     },
     "metadata": {},
     "output_type": "display_data"
    },
    {
     "data": {
      "text/plain": [
       "防御力：0"
      ]
     },
     "metadata": {},
     "output_type": "display_data"
    },
    {
     "data": {
      "text/plain": [
       "角色当前状态："
      ]
     },
     "metadata": {},
     "output_type": "display_data"
    },
    {
     "data": {
      "text/plain": [
       "体力：100"
      ]
     },
     "metadata": {},
     "output_type": "display_data"
    },
    {
     "data": {
      "text/plain": [
       "攻击力：100"
      ]
     },
     "metadata": {},
     "output_type": "display_data"
    },
    {
     "data": {
      "text/plain": [
       "防御力：100"
      ]
     },
     "metadata": {},
     "output_type": "display_data"
    }
   ],
   "source": [
    "//大战Boss前\n",
    "GameRole lixiaoyao = new GameRole();\n",
    "lixiaoyao.GetInitState();\n",
    "lixiaoyao.StateDisplay();\n",
    "//保存进度时，由于封装在Memento中，因此我们并不知道保存了哪些具体的角色数据\n",
    "RoleStateCaretaker stateAdmin = new RoleStateCaretaker();\n",
    "stateAdmin.Memento = lixiaoyao.SaveState();\n",
    "\n",
    "//大战Boss时损失惨重\n",
    "lixiaoyao.Fight();\n",
    "lixiaoyao.StateDisplay();\n",
    "\n",
    "//恢复之前的状态\n",
    "lixiaoyao.RecoveryState(stateAdmin.Memento);\n",
    "lixiaoyao.StateDisplay();\n"
   ]
  },
  {
   "cell_type": "code",
   "execution_count": null,
   "metadata": {
    "vscode": {
     "languageId": "polyglot-notebook"
    }
   },
   "outputs": [],
   "source": []
  }
 ],
 "metadata": {
  "kernelspec": {
   "display_name": ".NET (C#)",
   "language": "C#",
   "name": ".net-csharp"
  },
  "language_info": {
   "name": "csharp"
  },
  "polyglot_notebook": {
   "kernelInfo": {
    "defaultKernelName": "csharp",
    "items": [
     {
      "aliases": [],
      "name": "csharp"
     }
    ]
   }
  }
 },
 "nbformat": 4,
 "nbformat_minor": 2
}
