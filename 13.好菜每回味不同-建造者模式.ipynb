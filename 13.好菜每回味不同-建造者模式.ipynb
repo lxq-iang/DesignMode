{
 "cells": [
  {
   "cell_type": "markdown",
   "metadata": {},
   "source": [
    "### 建造者模式"
   ]
  },
  {
   "cell_type": "markdown",
   "metadata": {},
   "source": [
    "如果你需要将一个复杂对象的构建与它的表示分离，使得同样的构建过程可以创建不同的表示的示意图时，我们需要应用一个设计模式，建造者（Builder）模式,又叫生成器模式。建造者可以将一个产品的内部表象与产品的生乘过程分割开来，从而可以使一个建造过程生成具有不同的内部表象的产品对象。如果使用了建造者模式，那么用户就只需要制定需要建造的类型就可以得到他们，而具体的建造过程和细节就不需要知道了"
   ]
  },
  {
   "cell_type": "markdown",
   "metadata": {},
   "source": [
    "> 建造者模式(Builder)：将一个复杂对象的构建与它的表示分离，使得同样的构建过程可以创建不同的表示"
   ]
  },
  {
   "cell_type": "markdown",
   "metadata": {},
   "source": [
    "### 建造者模式的使用"
   ]
  },
  {
   "cell_type": "markdown",
   "metadata": {},
   "source": [
    "对于画小人，我们需要画“头、身体、左手、右手、左脚、右脚”，我们可以定义一个抽象的建造人的类，来把这个过程给稳定住，不让任何人遗忘当中的任何一步\n",
    "```C#\n",
    "abstract class PersonBuilder\n",
    "{\n",
    "    protected Graphics _g;\n",
    "    protected Pen _p;\n",
    "    public PersonBuilder(Graphics g, Pen p)\n",
    "    {\n",
    "        _g = g;\n",
    "        _p = p;\n",
    "    }\n",
    "    public abstract void BuildHead();\n",
    "    public abstract void BuildBody();\n",
    "    public abstract void BuildArmLeft();\n",
    "    public abstract void BuildArmRight();\n",
    "    public abstract void BuildLegLeft();\n",
    "    public abstract void BuildLegRight();\n",
    "}\n",
    "```"
   ]
  },
  {
   "cell_type": "markdown",
   "metadata": {},
   "source": [
    "然后我们需要建造一个瘦的小人，则让这个瘦子类去继承这个抽象类，那就必须去重写这些抽象方法了，否则编译器会报错\n",
    "```C#\n",
    "class PersonThinBuilder : PersonBuilder\n",
    "{\n",
    "    public PersonThinBuilder(Graphics g, Pen p): base(g,p)\n",
    "    {}\n",
    "    public override void BuildHead()\n",
    "    {\n",
    "        g.DrawEllipse(p,50,20,30,30);\n",
    "    }\n",
    "    public override void BuildBody()\n",
    "    {\n",
    "        g.DrawRectangle(p,60,50,10,50);\n",
    "    }\n",
    "    public override void BuildArmLeft()\n",
    "    {\n",
    "        g.DrawLine(p,60,50,40,100);\n",
    "    }\n",
    "    public override void BuildArmRight()\n",
    "    {\n",
    "        g.DrawLine(p,50,20,30,30);\n",
    "    }\n",
    "    public override void BuildLegLeft()\n",
    "    {\n",
    "        g.DrawLine(p,60,100,45,150);\n",
    "    }\n",
    "    public override void BuildLegRight()\n",
    "    {\n",
    "        g.DrawLine(p,70,100,85,150);\n",
    "    }\n",
    "}\n",
    "```"
   ]
  },
  {
   "cell_type": "markdown",
   "metadata": {},
   "source": [
    "现在还缺建造者模式中一个很重要的类，指挥者（Director），用它来控制建造过程，也用它来隔离用户与建造者的关联\n",
    "```C#\n",
    "class PersonDirector\n",
    "{\n",
    "    private PersonBuilder _pb;\n",
    "    public PersonDirector(PersonBuilder pb)\n",
    "    {\n",
    "        _pb = pb;\n",
    "    }\n",
    "    public void CreatePerson()\n",
    "    {\n",
    "        pb.BuildHead();\n",
    "        pb.BuildBody();\n",
    "        pb.BuildArmLeft();\n",
    "        pb.BuildArmRight();\n",
    "        pb.BuildLegLeft();\n",
    "        pb.BuildLegRight();\n",
    "    }\n",
    "}\n",
    "```"
   ]
  },
  {
   "cell_type": "markdown",
   "metadata": {},
   "source": [
    "代码结构如下"
   ]
  },
  {
   "cell_type": "code",
   "execution_count": 5,
   "metadata": {
    "dotnet_interactive": {
     "language": "mermaid"
    },
    "polyglot_notebook": {
     "kernelName": "mermaid"
    },
    "vscode": {
     "languageId": "polyglot-notebook"
    }
   },
   "outputs": [
    {
     "data": {
      "text/html": [
       "<div class=\"mermaidMarkdownContainer\" style=\"background-color:white\">\r\n",
       "<link rel=\"stylesheet\" href=\"https://cdnjs.cloudflare.com/ajax/libs/font-awesome/6.2.0/css/all.min.css\">\r\n",
       "<div id=\"bad027e9674c4fd39a37ddd36f87012a\"></div>\r\n",
       "<script type=\"module\">\r\n",
       "\r\n",
       "            import mermaid from 'https://cdn.jsdelivr.net/npm/mermaid@10.6.1/dist/mermaid.esm.min.mjs';\r\n",
       "            let renderTarget = document.getElementById('bad027e9674c4fd39a37ddd36f87012a');\r\n",
       "            try {\r\n",
       "                const {svg, bindFunctions} = await mermaid.mermaidAPI.render( \r\n",
       "                    'mermaid_bad027e9674c4fd39a37ddd36f87012a', \r\n",
       "                    `classDiagram\r\n",
       "    class PersonDirector{\r\n",
       "        +CreatePerson()\r\n",
       "    }\r\n",
       "    class PersonBuilder{\r\n",
       "        <<abstract>>\r\n",
       "        +BuildHead()\r\n",
       "        +BuildBody()\r\n",
       "        +BuildArmLeft()\r\n",
       "        +BuildArmRight()\r\n",
       "        +BuildLegLeft()\r\n",
       "        +BuildLegRight()\r\n",
       "    }\r\n",
       "    class PersonThinBuilder{\r\n",
       "        +BuildHead()\r\n",
       "        +BuildBody()\r\n",
       "        +BuildArmLeft()\r\n",
       "        +BuildArmRight()\r\n",
       "        +BuildLegLeft()\r\n",
       "        +BuildLegRight()\r\n",
       "    }\r\n",
       "    class PersonFatBuilder{\r\n",
       "        +BuildHead()\r\n",
       "        +BuildBody()\r\n",
       "        +BuildArmLeft()\r\n",
       "        +BuildArmRight()\r\n",
       "        +BuildLegLeft()\r\n",
       "        +BuildLegRight()\r\n",
       "    }\r\n",
       "    PersonDirector o--> PersonBuilder\r\n",
       "    PersonBuilder <|-- PersonThinBuilder\r\n",
       "    PersonBuilder <|-- PersonFatBuilder`);\r\n",
       "                renderTarget.innerHTML = svg;\r\n",
       "                bindFunctions?.(renderTarget);\r\n",
       "            }\r\n",
       "            catch (error) {\r\n",
       "                console.log(error);\r\n",
       "            }\r\n",
       "</script>\r\n",
       "</div>\r\n"
      ]
     },
     "metadata": {},
     "output_type": "display_data"
    }
   ],
   "source": [
    "classDiagram\n",
    "    class PersonDirector{\n",
    "        +CreatePerson()\n",
    "    }\n",
    "    class PersonBuilder{\n",
    "        <<abstract>>\n",
    "        +BuildHead()\n",
    "        +BuildBody()\n",
    "        +BuildArmLeft()\n",
    "        +BuildArmRight()\n",
    "        +BuildLegLeft()\n",
    "        +BuildLegRight()\n",
    "    }\n",
    "    class PersonThinBuilder{\n",
    "        +BuildHead()\n",
    "        +BuildBody()\n",
    "        +BuildArmLeft()\n",
    "        +BuildArmRight()\n",
    "        +BuildLegLeft()\n",
    "        +BuildLegRight()\n",
    "    }\n",
    "    class PersonFatBuilder{\n",
    "        +BuildHead()\n",
    "        +BuildBody()\n",
    "        +BuildArmLeft()\n",
    "        +BuildArmRight()\n",
    "        +BuildLegLeft()\n",
    "        +BuildLegRight()\n",
    "    }\n",
    "    PersonDirector o--> PersonBuilder\n",
    "    PersonBuilder <|-- PersonThinBuilder\n",
    "    PersonBuilder <|-- PersonFatBuilder"
   ]
  },
  {
   "cell_type": "markdown",
   "metadata": {},
   "source": [
    "### 建造者模式"
   ]
  },
  {
   "cell_type": "code",
   "execution_count": 6,
   "metadata": {
    "dotnet_interactive": {
     "language": "mermaid"
    },
    "polyglot_notebook": {
     "kernelName": "mermaid"
    },
    "vscode": {
     "languageId": "polyglot-notebook"
    }
   },
   "outputs": [
    {
     "data": {
      "text/html": [
       "<div class=\"mermaidMarkdownContainer\" style=\"background-color:white\">\r\n",
       "<link rel=\"stylesheet\" href=\"https://cdnjs.cloudflare.com/ajax/libs/font-awesome/6.2.0/css/all.min.css\">\r\n",
       "<div id=\"dad566d7593e498a8c9c4ba9bdc37883\"></div>\r\n",
       "<script type=\"module\">\r\n",
       "\r\n",
       "            import mermaid from 'https://cdn.jsdelivr.net/npm/mermaid@10.6.1/dist/mermaid.esm.min.mjs';\r\n",
       "            let renderTarget = document.getElementById('dad566d7593e498a8c9c4ba9bdc37883');\r\n",
       "            try {\r\n",
       "                const {svg, bindFunctions} = await mermaid.mermaidAPI.render( \r\n",
       "                    'mermaid_dad566d7593e498a8c9c4ba9bdc37883', \r\n",
       "                    `---\r\n",
       "title: 建造者模式（Builder）结构图\r\n",
       "---\r\n",
       "classDiagram\r\n",
       "    class Director{\r\n",
       "        +Constract()\r\n",
       "    }\r\n",
       "    class Builder{\r\n",
       "        +BuildPart()\r\n",
       "    }\r\n",
       "    class ConcreteBuilder{\r\n",
       "        +BuildPart()\r\n",
       "        +GetResult()\r\n",
       "    }\r\n",
       "    class Product{\r\n",
       "    }\r\n",
       "    note for Director \"指挥者，是构建一个使用Builder接口的对象\"\r\n",
       "    note for Builder \"Builder是为创建一个Product对象的各个部件指定的抽象接口\"\r\n",
       "    note for ConcreteBuilder \"j具体建造者，实现Builder接口，构造和装配各个部件\"\r\n",
       "    note for Product \"具体产品\"\r\n",
       "    Director o--> Builder\r\n",
       "    Builder <|-- ConcreteBuilder\r\n",
       "    ConcreteBuilder ..> Product`);\r\n",
       "                renderTarget.innerHTML = svg;\r\n",
       "                bindFunctions?.(renderTarget);\r\n",
       "            }\r\n",
       "            catch (error) {\r\n",
       "                console.log(error);\r\n",
       "            }\r\n",
       "</script>\r\n",
       "</div>\r\n"
      ]
     },
     "metadata": {},
     "output_type": "display_data"
    }
   ],
   "source": [
    "---\n",
    "title: 建造者模式（Builder）结构图\n",
    "---\n",
    "classDiagram\n",
    "    class Director{\n",
    "        +Constract()\n",
    "    }\n",
    "    class Builder{\n",
    "        +BuildPart()\n",
    "    }\n",
    "    class ConcreteBuilder{\n",
    "        +BuildPart()\n",
    "        +GetResult()\n",
    "    }\n",
    "    class Product{\n",
    "    }\n",
    "    note for Director \"指挥者，是构建一个使用Builder接口的对象\"\n",
    "    note for Builder \"Builder是为创建一个Product对象的各个部件指定的抽象接口\"\n",
    "    note for ConcreteBuilder \"j具体建造者，实现Builder接口，构造和装配各个部件\"\n",
    "    note for Product \"具体产品\"\n",
    "    Director o--> Builder\n",
    "    Builder <|-- ConcreteBuilder\n",
    "    ConcreteBuilder ..> Product"
   ]
  },
  {
   "cell_type": "markdown",
   "metadata": {},
   "source": [
    "Builder是为创建一个Product对象的各个部件指定的抽象接口。ConcreteBuilder是具体建造者，实现Builder的接口，构造和装配各个部件。Product是具体的产品角色，Director是指挥者，用来根据用户的需求来创建小人对象，构建一个使用Builder接口的对象。\n",
    "- - -\n",
    "建造者模式主要用于创建一些复杂的对象，这些对象内部构建的建造顺序通常是稳定的，但对象内部的构建通常面临着复杂的变化。\n",
    "- - -\n",
    "建造者模式的好处是使得建造代码与表示代码分离，由于建造者隐藏了该产品是如何组装的，所以若需要改变一个产品的内部表示，只需要再定义一个具体的建造者就可以了。"
   ]
  },
  {
   "cell_type": "markdown",
   "metadata": {},
   "source": [
    "### 建造者模式基本代码"
   ]
  },
  {
   "cell_type": "markdown",
   "metadata": {},
   "source": [
    "Product类————产品类，由多个部件组成"
   ]
  },
  {
   "cell_type": "code",
   "execution_count": 8,
   "metadata": {
    "dotnet_interactive": {
     "language": "csharp"
    },
    "polyglot_notebook": {
     "kernelName": "csharp"
    },
    "vscode": {
     "languageId": "polyglot-notebook"
    }
   },
   "outputs": [],
   "source": [
    "class Product\n",
    "{\n",
    "    IList<string> parts = new List<string>();\n",
    "\n",
    "    public void Add(string part)\n",
    "    {\n",
    "        parts.Add(part);\n",
    "    }\n",
    "\n",
    "    public void Show()\n",
    "    {\n",
    "        Console.WriteLine(\"\\n产品 创建 ------\");\n",
    "        foreach(string part in parts)\n",
    "        {\n",
    "            Console.WriteLine(part);\n",
    "        }\n",
    "    }\n",
    "}"
   ]
  },
  {
   "cell_type": "markdown",
   "metadata": {},
   "source": [
    "Builder类————抽象建造者类，确定产品由两个部件PartA和PartB组成，并声明一个得到产品建造者后果的方法GetResult。"
   ]
  },
  {
   "cell_type": "code",
   "execution_count": 9,
   "metadata": {
    "dotnet_interactive": {
     "language": "csharp"
    },
    "polyglot_notebook": {
     "kernelName": "csharp"
    },
    "vscode": {
     "languageId": "polyglot-notebook"
    }
   },
   "outputs": [],
   "source": [
    "abstract class Builder\n",
    "{\n",
    "    public abstract void BuilderPartA();\n",
    "    public abstract void BuilderPartB();\n",
    "    public abstract Product GetResult();\n",
    "}"
   ]
  },
  {
   "cell_type": "markdown",
   "metadata": {},
   "source": [
    "ConcreteBuilder类————具体建造者类"
   ]
  },
  {
   "cell_type": "code",
   "execution_count": 11,
   "metadata": {
    "dotnet_interactive": {
     "language": "csharp"
    },
    "polyglot_notebook": {
     "kernelName": "csharp"
    },
    "vscode": {
     "languageId": "polyglot-notebook"
    }
   },
   "outputs": [],
   "source": [
    "class ConcreteBuilder1: Builder\n",
    "{\n",
    "    private Product product = new Product();\n",
    "\n",
    "    public override void BuilderPartA()\n",
    "    {\n",
    "        product.Add(\"部件A\");\n",
    "    }\n",
    "    public override void BuilderPartB()\n",
    "    {\n",
    "        product.Add(\"部件B\");\n",
    "    }\n",
    "    public override Product GetResult()\n",
    "    {\n",
    "        return product;\n",
    "    }\n",
    "} "
   ]
  },
  {
   "cell_type": "code",
   "execution_count": 12,
   "metadata": {
    "dotnet_interactive": {
     "language": "csharp"
    },
    "polyglot_notebook": {
     "kernelName": "csharp"
    },
    "vscode": {
     "languageId": "polyglot-notebook"
    }
   },
   "outputs": [],
   "source": [
    "class ConcreteBuilder2: Builder\n",
    "{\n",
    "    private Product product = new Product();\n",
    "\n",
    "    public override void BuilderPartA()\n",
    "    {\n",
    "        product.Add(\"部件X\");\n",
    "    }\n",
    "    public override void BuilderPartB()\n",
    "    {\n",
    "        product.Add(\"部件Y\");\n",
    "    }\n",
    "    public override Product GetResult()\n",
    "    {\n",
    "        return product;\n",
    "    }\n",
    "} "
   ]
  },
  {
   "cell_type": "markdown",
   "metadata": {},
   "source": [
    "Director类————指挥者类"
   ]
  },
  {
   "cell_type": "code",
   "execution_count": 13,
   "metadata": {
    "dotnet_interactive": {
     "language": "csharp"
    },
    "polyglot_notebook": {
     "kernelName": "csharp"
    },
    "vscode": {
     "languageId": "polyglot-notebook"
    }
   },
   "outputs": [],
   "source": [
    "class Director\n",
    "{\n",
    "    public void Construct(Builder builder)\n",
    "    {\n",
    "        builder.BuilderPartA();\n",
    "        builder.BuilderPartB();\n",
    "    }\n",
    "}"
   ]
  },
  {
   "cell_type": "markdown",
   "metadata": {},
   "source": [
    "客户端代码，客户并不知道具体的建造过程"
   ]
  },
  {
   "cell_type": "code",
   "execution_count": 14,
   "metadata": {
    "dotnet_interactive": {
     "language": "csharp"
    },
    "polyglot_notebook": {
     "kernelName": "csharp"
    },
    "vscode": {
     "languageId": "polyglot-notebook"
    }
   },
   "outputs": [
    {
     "name": "stdout",
     "output_type": "stream",
     "text": [
      "\n",
      "产品 创建 ------\n",
      "部件A\n",
      "部件B\n",
      "\n",
      "产品 创建 ------\n",
      "部件X\n",
      "部件Y\n"
     ]
    }
   ],
   "source": [
    "Director director = new Director();\n",
    "\n",
    "Builder b1 = new ConcreteBuilder1();\n",
    "Builder b2 = new ConcreteBuilder2();\n",
    "\n",
    "director.Construct(b1);\n",
    "Product p1 = b1.GetResult();\n",
    "p1.Show();\n",
    "\n",
    "director.Construct(b2);\n",
    "Product p2 = b2.GetResult();\n",
    "p2.Show();\n"
   ]
  },
  {
   "cell_type": "code",
   "execution_count": null,
   "metadata": {
    "dotnet_interactive": {
     "language": "csharp"
    },
    "polyglot_notebook": {
     "kernelName": "csharp"
    },
    "vscode": {
     "languageId": "polyglot-notebook"
    }
   },
   "outputs": [],
   "source": []
  }
 ],
 "metadata": {
  "kernelspec": {
   "display_name": ".NET (C#)",
   "language": "C#",
   "name": ".net-csharp"
  },
  "language_info": {
   "name": "csharp"
  },
  "polyglot_notebook": {
   "kernelInfo": {
    "defaultKernelName": "csharp",
    "items": [
     {
      "aliases": [],
      "name": "csharp"
     }
    ]
   }
  }
 },
 "nbformat": 4,
 "nbformat_minor": 2
}
