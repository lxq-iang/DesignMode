{
 "cells": [
  {
   "cell_type": "markdown",
   "metadata": {},
   "source": [
    "## 商场收银软件"
   ]
  },
  {
   "cell_type": "markdown",
   "metadata": {},
   "source": [
    "### 收银系统V1.0"
   ]
  },
  {
   "cell_type": "markdown",
   "metadata": {
    "dotnet_interactive": {
     "language": "value"
    },
    "polyglot_notebook": {
     "kernelName": "value"
    }
   },
   "source": [
    "```C#\n",
    "double total = 0.0d;\n",
    "\n",
    "private void btnOk_Click(object sender, EventArgs s)\n",
    "{\n",
    "    double totalPrices = Convert.ToDouble(textPrice.Text) * \n",
    "    Convert.ToDouble(textNum.Text);\n",
    "    total = total + totalPrices;\n",
    "    lblResult.Items.Add(\"单价\" + textPrice.Text + \"数量\" \n",
    "    + textNum.Text + \"合计\" + totalPrices.ToString();\n",
    "    lblResult.Text = total.ToString();\n",
    "}\n",
    "```"
   ]
  },
  {
   "cell_type": "markdown",
   "metadata": {},
   "source": [
    "### 收银系统V1.1"
   ]
  },
  {
   "cell_type": "markdown",
   "metadata": {},
   "source": [
    "```C#\n",
    "double total = 0.0d;\n",
    "\n",
    "private Form1_Load(object sender, EventArgs e)\n",
    "{\n",
    "    cbxType.Items.AddRange(new object[]{\"正常收费\",\"打八折\",\"打七折\",\"打五折\"});\n",
    "    cbxType.SelectedIndex = 0;\n",
    "}\n",
    "\n",
    "private void btnOk_Click(object sender, EventArgs s)\n",
    "{\n",
    "    double totalPrices = 0d;\n",
    "    switch(cbxType.SelectedIndex)\n",
    "    {\n",
    "        case 0:\n",
    "            totalPrices = Convert.ToDouble(textPrice.Text) * Convert.ToDouble(textNum.Text);\n",
    "            break;\n",
    "        case 1:\n",
    "            totalPrices = Convert.ToDouble(textPrice.Text) * Convert.ToDouble(textNum.Text) * 0.8;\n",
    "            break;\n",
    "        case 2:\n",
    "            totalPrices = Convert.ToDouble(textPrice.Text) * Convert.ToDouble(textNum.Text) * 0.7;\n",
    "            break;\n",
    "        case 3:\n",
    "            totalPrices = Convert.ToDouble(textPrice.Text) * Convert.ToDouble(textNum.Text) * 0.5;\n",
    "            break;\n",
    "    }\n",
    "    \n",
    "    total = total + totalPrices;\n",
    "    lblResult.Items.Add(\"单价\" + textPrice.Text + \"数量\" \n",
    "    + textNum.Text + \"合计\" + totalPrices.ToString();\n",
    "    lblResult.Text = total.ToString();\n",
    "}\n",
    "\n",
    "```"
   ]
  },
  {
   "cell_type": "markdown",
   "metadata": {},
   "source": [
    "### 简单工厂实现\n",
    "**面向对象编程，并不是类越多越好，类的划分是为了封装，但分类的基础是抽象，具有相同属性和功能的对象抽象几何才是类** 打一折和打九折只是形式不同，抽象分析出来，所有的打折算法都是一样的，所以打折算法应该算一个类。"
   ]
  },
  {
   "cell_type": "code",
   "execution_count": 12,
   "metadata": {
    "dotnet_interactive": {
     "language": "mermaid"
    },
    "polyglot_notebook": {
     "kernelName": "mermaid"
    },
    "vscode": {
     "languageId": "polyglot-notebook"
    }
   },
   "outputs": [
    {
     "data": {
      "text/html": [
       "<div class=\"mermaidMarkdownContainer\" style=\"background-color:white\">\r\n",
       "<link rel=\"stylesheet\" href=\"https://cdnjs.cloudflare.com/ajax/libs/font-awesome/6.2.0/css/all.min.css\">\r\n",
       "<div id=\"b5224a1fd9e041ef89ccfc9cafe30bb0\"></div>\r\n",
       "<script type=\"module\">\r\n",
       "\r\n",
       "            import mermaid from 'https://cdn.jsdelivr.net/npm/mermaid@10.6.1/dist/mermaid.esm.min.mjs';\r\n",
       "            let renderTarget = document.getElementById('b5224a1fd9e041ef89ccfc9cafe30bb0');\r\n",
       "            try {\r\n",
       "                const {svg, bindFunctions} = await mermaid.mermaidAPI.render( \r\n",
       "                    'mermaid_b5224a1fd9e041ef89ccfc9cafe30bb0', \r\n",
       "                    `---\r\n",
       "title: 简单工厂UML图\r\n",
       "---\r\n",
       "classDiagram\r\n",
       "    CashSuper <|-- CashNormal\r\n",
       "    CashSuper <|-- CashRebate\r\n",
       "    CashSuper <|-- CashReturn\r\n",
       "    CashNormal ..> CashFactory\r\n",
       "    CashRebate ..> CashFactory\r\n",
       "    CashReturn ..> CashFactory\r\n",
       "    class CashSuper{\r\n",
       "        <<abstract>>\r\n",
       "        +acceptCash() double\r\n",
       "    }\r\n",
       "    class CashNormal{\r\n",
       "        +acceptCash() double\r\n",
       "    }\r\n",
       "    class CashRebate{\r\n",
       "        +acceptCash() double\r\n",
       "    }\r\n",
       "    class CashReturn{\r\n",
       "        +acceptCash() double\r\n",
       "    }\r\n",
       "    class CashFactory{\r\n",
       "        +createCashAccept() CashSuper\r\n",
       "    }`);\r\n",
       "                renderTarget.innerHTML = svg;\r\n",
       "                bindFunctions?.(renderTarget);\r\n",
       "            }\r\n",
       "            catch (error) {\r\n",
       "                console.log(error);\r\n",
       "            }\r\n",
       "</script>\r\n",
       "</div>\r\n"
      ]
     },
     "metadata": {},
     "output_type": "display_data"
    }
   ],
   "source": [
    "---\n",
    "title: 简单工厂UML图\n",
    "---\n",
    "classDiagram\n",
    "    CashSuper <|-- CashNormal\n",
    "    CashSuper <|-- CashRebate\n",
    "    CashSuper <|-- CashReturn\n",
    "    CashNormal ..> CashFactory\n",
    "    CashRebate ..> CashFactory\n",
    "    CashReturn ..> CashFactory\n",
    "    class CashSuper{\n",
    "        <<abstract>>\n",
    "        +acceptCash() double\n",
    "    }\n",
    "    class CashNormal{\n",
    "        +acceptCash() double\n",
    "    }\n",
    "    class CashRebate{\n",
    "        +acceptCash() double\n",
    "    }\n",
    "    class CashReturn{\n",
    "        +acceptCash() double\n",
    "    }\n",
    "    class CashFactory{\n",
    "        +createCashAccept() CashSuper\n",
    "    }"
   ]
  },
  {
   "cell_type": "markdown",
   "metadata": {},
   "source": [
    "**现金收费抽象类**"
   ]
  },
  {
   "cell_type": "code",
   "execution_count": 13,
   "metadata": {
    "dotnet_interactive": {
     "language": "csharp"
    },
    "polyglot_notebook": {
     "kernelName": "csharp"
    },
    "vscode": {
     "languageId": "polyglot-notebook"
    }
   },
   "outputs": [],
   "source": [
    "abstract class CashSuper\n",
    "{\n",
    "    public abstract double acceptCash(double money);\n",
    "}"
   ]
  },
  {
   "cell_type": "markdown",
   "metadata": {},
   "source": [
    "**正常收费子类**"
   ]
  },
  {
   "cell_type": "code",
   "execution_count": 14,
   "metadata": {
    "dotnet_interactive": {
     "language": "csharp"
    },
    "polyglot_notebook": {
     "kernelName": "csharp"
    },
    "vscode": {
     "languageId": "polyglot-notebook"
    }
   },
   "outputs": [],
   "source": [
    "class CashNormal:CashSuper\n",
    "{\n",
    "    public override double acceptCash(double money)\n",
    "    {\n",
    "        return money;\n",
    "    }\n",
    "}"
   ]
  },
  {
   "cell_type": "markdown",
   "metadata": {},
   "source": [
    "**打折收费子类**"
   ]
  },
  {
   "cell_type": "code",
   "execution_count": 15,
   "metadata": {
    "dotnet_interactive": {
     "language": "csharp"
    },
    "polyglot_notebook": {
     "kernelName": "csharp"
    },
    "vscode": {
     "languageId": "polyglot-notebook"
    }
   },
   "outputs": [],
   "source": [
    "class CashRebate:CashSuper\n",
    "{\n",
    "    private double _moneyRebate = 1d;\n",
    "    public CashRebate(string moneyRebate)\n",
    "    {\n",
    "        _moneyRebate = double.Parse(moneyRebate);\n",
    "    }\n",
    "    public override double acceptCash(double money)\n",
    "    {\n",
    "        return money * _moneyRebate;\n",
    "    }\n",
    "}"
   ]
  },
  {
   "cell_type": "markdown",
   "metadata": {},
   "source": [
    "**返利收费子类**"
   ]
  },
  {
   "cell_type": "code",
   "execution_count": 16,
   "metadata": {
    "dotnet_interactive": {
     "language": "csharp"
    },
    "polyglot_notebook": {
     "kernelName": "csharp"
    },
    "vscode": {
     "languageId": "polyglot-notebook"
    }
   },
   "outputs": [],
   "source": [
    "class CashReturn:CashSuper\n",
    "{\n",
    "    private double _moneyCondition = 0.0d;\n",
    "    private double _moneyReturn = 0.0d;\n",
    "    public CashReturn(string moneyCondition, string moneyReturn)\n",
    "    {\n",
    "        _moneyCondition = double.Parse(moneyCondition);\n",
    "        _moneyReturn = double.Parse(moneyReturn);\n",
    "    }\n",
    "    public override double acceptCash(double money)\n",
    "    {\n",
    "        double result = money;\n",
    "        if(money > _moneyCondition)\n",
    "            result = money - Math.Floor(money / _moneyCondition) * _moneyReturn;\n",
    "        return result;\n",
    "    }\n",
    "}"
   ]
  },
  {
   "cell_type": "markdown",
   "metadata": {},
   "source": [
    "**现金收费工厂类**"
   ]
  },
  {
   "cell_type": "code",
   "execution_count": 17,
   "metadata": {
    "dotnet_interactive": {
     "language": "csharp"
    },
    "polyglot_notebook": {
     "kernelName": "csharp"
    },
    "vscode": {
     "languageId": "polyglot-notebook"
    }
   },
   "outputs": [],
   "source": [
    "class CashFactory\n",
    "{\n",
    "    public static CashSuper createCashAccept(string type)\n",
    "    {\n",
    "        CashSuper cs = null;\n",
    "        switch(type)\n",
    "        {\n",
    "            case \"正常收费\":\n",
    "                cs = new CashNormal();\n",
    "                break;\n",
    "            case \"满300返100\":\n",
    "                cs = new CashReturn(\"300\",\"100\");\n",
    "                break;\n",
    "            case \"打8折\":\n",
    "                cs = new CashRebate(\"0.8\");\n",
    "                break;\n",
    "        }\n",
    "        return cs;\n",
    "    }\n",
    "}"
   ]
  },
  {
   "cell_type": "markdown",
   "metadata": {},
   "source": [
    "**客户端程序主要部分**"
   ]
  },
  {
   "cell_type": "markdown",
   "metadata": {},
   "source": [
    "```C#\n",
    "double total = 0.0d;\n",
    "\n",
    "private void btnOk_Click(object sender, EventArgs s)\n",
    "{\n",
    "    CashSuper csuper = CashFactory.createCashAccept(cbxType.SelectedItem.ToString());\n",
    "    double totalPrices = csuper.acceptCash(Convert.ToDouble(txtPrice.Text) * Convert.ToDouble(txtNum.Text));\n",
    "    total = total + totalPrices;\n",
    "    lblResult.Items.Add(\"单价\" + textPrice.Text + \"数量\" \n",
    "    + textNum.Text + \"合计\" + totalPrices.ToString();\n",
    "    lblResult.Text = total.ToString();\n",
    "}\n",
    "```"
   ]
  },
  {
   "cell_type": "markdown",
   "metadata": {},
   "source": []
  }
 ],
 "metadata": {
  "kernelspec": {
   "display_name": ".NET (C#)",
   "language": "C#",
   "name": ".net-csharp"
  },
  "language_info": {
   "name": "csharp"
  },
  "polyglot_notebook": {
   "kernelInfo": {
    "defaultKernelName": "csharp",
    "items": [
     {
      "aliases": [],
      "name": "csharp"
     }
    ]
   }
  }
 },
 "nbformat": 4,
 "nbformat_minor": 2
}
