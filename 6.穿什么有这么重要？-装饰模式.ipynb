{
 "cells": [
  {
   "cell_type": "markdown",
   "metadata": {},
   "source": [
    "### 装饰模式"
   ]
  },
  {
   "cell_type": "markdown",
   "metadata": {},
   "source": [
    "#### 小菜扮靓V1.0 "
   ]
  },
  {
   "cell_type": "markdown",
   "metadata": {},
   "source": [
    "一个可以给人搭配不同服饰的系统"
   ]
  },
  {
   "cell_type": "code",
   "execution_count": 5,
   "metadata": {
    "dotnet_interactive": {
     "language": "csharp"
    },
    "polyglot_notebook": {
     "kernelName": "csharp"
    },
    "vscode": {
     "languageId": "polyglot-notebook"
    }
   },
   "outputs": [],
   "source": [
    "class Person\n",
    "{\n",
    "    private string _name;\n",
    "    public Person(string name)\n",
    "    {\n",
    "        _name = name;\n",
    "    }\n",
    "    public void WearTShirts()\n",
    "    {\n",
    "        Console.Write(\"大T恤 \");\n",
    "    }\n",
    "    public void WearBigTrouser()\n",
    "    {\n",
    "        Console.Write(\"垮裤 \");\n",
    "    }\n",
    "    public void WearSneakers()\n",
    "    {\n",
    "        Console.Write(\"破球鞋 \");\n",
    "    }\n",
    "    public void WearSuit()\n",
    "    {\n",
    "        Console.Write(\"西装 \");\n",
    "    }\n",
    "    public void WearTie()\n",
    "    {\n",
    "        Console.Write(\"领带 \");\n",
    "    }\n",
    "    public void WearLeatherShoes()\n",
    "    {\n",
    "        Console.Write(\"皮鞋 \");\n",
    "    }\n",
    "    public void Show()\n",
    "    {\n",
    "        Console.WriteLine($\"装扮的{_name}\");\n",
    "    }\n",
    "}"
   ]
  },
  {
   "cell_type": "code",
   "execution_count": 6,
   "metadata": {
    "vscode": {
     "languageId": "polyglot-notebook"
    }
   },
   "outputs": [
    {
     "name": "stdout",
     "output_type": "stream",
     "text": [
      "\n",
      "第一种装扮\n",
      "大T恤 垮裤 破球鞋 装扮的小菜\n",
      "\n",
      "第二种装扮\n",
      "西装 领带 皮鞋 装扮的小菜\n"
     ]
    }
   ],
   "source": [
    "\n",
    "Person xc = new Person(\"小菜\");\n",
    "Console.WriteLine(\"\\n第一种装扮\");\n",
    "xc.WearTShirts();\n",
    "xc.WearBigTrouser();\n",
    "xc.WearSneakers();\n",
    "xc.Show();\n",
    "Console.WriteLine(\"\\n第二种装扮\");\n",
    "xc.WearSuit();\n",
    "xc.WearTie();\n",
    "xc.WearLeatherShoes();\n",
    "xc.Show();\n"
   ]
  },
  {
   "cell_type": "markdown",
   "metadata": {
    "vscode": {
     "languageId": "polyglot-notebook"
    }
   },
   "source": [
    "***V1.0违背了开放封闭原则***"
   ]
  },
  {
   "cell_type": "markdown",
   "metadata": {},
   "source": [
    "#### 小菜扮靓V2.0 "
   ]
  },
  {
   "cell_type": "code",
   "execution_count": 12,
   "metadata": {
    "dotnet_interactive": {
     "language": "mermaid"
    },
    "polyglot_notebook": {
     "kernelName": "mermaid"
    },
    "vscode": {
     "languageId": "polyglot-notebook"
    }
   },
   "outputs": [
    {
     "data": {
      "text/html": [
       "<div class=\"mermaidMarkdownContainer\" style=\"background-color:white\">\r\n",
       "<link rel=\"stylesheet\" href=\"https://cdnjs.cloudflare.com/ajax/libs/font-awesome/6.2.0/css/all.min.css\">\r\n",
       "<div id=\"1e665c2f656d4e2484bb6b6b11c6c8c5\"></div>\r\n",
       "<script type=\"module\">\r\n",
       "\r\n",
       "            import mermaid from 'https://cdn.jsdelivr.net/npm/mermaid@10.6.1/dist/mermaid.esm.min.mjs';\r\n",
       "            let renderTarget = document.getElementById('1e665c2f656d4e2484bb6b6b11c6c8c5');\r\n",
       "            try {\r\n",
       "                const {svg, bindFunctions} = await mermaid.mermaidAPI.render( \r\n",
       "                    'mermaid_1e665c2f656d4e2484bb6b6b11c6c8c5', \r\n",
       "                    `classDiagram\r\n",
       "    class 人{\r\n",
       "        +形象展示()\r\n",
       "    }\r\n",
       "    class 服饰{\r\n",
       "        <<abstract>>\r\n",
       "        +形象展示()\r\n",
       "    }\r\n",
       "    class 大T恤{\r\n",
       "        +形象展示()\r\n",
       "    }\r\n",
       "    class 垮裤{\r\n",
       "        +形象展示()\r\n",
       "    }\r\n",
       "    class 破球鞋{\r\n",
       "        +形象展示()\r\n",
       "    }\r\n",
       "    class 西装{\r\n",
       "        +形象展示()\r\n",
       "    }\r\n",
       "    class 领带{\r\n",
       "        +形象展示()\r\n",
       "    }\r\n",
       "    class 皮鞋{\r\n",
       "        +形象展示()\r\n",
       "    }\r\n",
       "    \r\n",
       "    服饰 <|-- 大T恤\r\n",
       "    服饰 <|-- 垮裤\r\n",
       "    服饰 <|-- 破球鞋\r\n",
       "    服饰 <|-- 西装\r\n",
       "    服饰 <|-- 领带\r\n",
       "    服饰 <|-- 皮鞋`);\r\n",
       "                renderTarget.innerHTML = svg;\r\n",
       "                bindFunctions?.(renderTarget);\r\n",
       "            }\r\n",
       "            catch (error) {\r\n",
       "                console.log(error);\r\n",
       "            }\r\n",
       "</script>\r\n",
       "</div>\r\n"
      ]
     },
     "metadata": {},
     "output_type": "display_data"
    }
   ],
   "source": [
    "classDiagram\n",
    "    class 人{\n",
    "        +形象展示()\n",
    "    }\n",
    "    class 服饰{\n",
    "        <<abstract>>\n",
    "        +形象展示()\n",
    "    }\n",
    "    class 大T恤{\n",
    "        +形象展示()\n",
    "    }\n",
    "    class 垮裤{\n",
    "        +形象展示()\n",
    "    }\n",
    "    class 破球鞋{\n",
    "        +形象展示()\n",
    "    }\n",
    "    class 西装{\n",
    "        +形象展示()\n",
    "    }\n",
    "    class 领带{\n",
    "        +形象展示()\n",
    "    }\n",
    "    class 皮鞋{\n",
    "        +形象展示()\n",
    "    }\n",
    "    \n",
    "    服饰 <|-- 大T恤\n",
    "    服饰 <|-- 垮裤\n",
    "    服饰 <|-- 破球鞋\n",
    "    服饰 <|-- 西装\n",
    "    服饰 <|-- 领带\n",
    "    服饰 <|-- 皮鞋"
   ]
  },
  {
   "cell_type": "markdown",
   "metadata": {},
   "source": [
    "**Person类**"
   ]
  },
  {
   "cell_type": "code",
   "execution_count": 9,
   "metadata": {
    "dotnet_interactive": {
     "language": "csharp"
    },
    "polyglot_notebook": {
     "kernelName": "csharp"
    },
    "vscode": {
     "languageId": "polyglot-notebook"
    }
   },
   "outputs": [],
   "source": [
    "class Person\n",
    "{\n",
    "    private string _name;\n",
    "    public Person(string name)\n",
    "    {\n",
    "        _name = name;\n",
    "    }\n",
    "    public void Show()\n",
    "    {\n",
    "        Console.WriteLine($\"装扮的{_name}\");\n",
    "    }\n",
    "}"
   ]
  },
  {
   "cell_type": "markdown",
   "metadata": {},
   "source": [
    "**服饰抽象类**"
   ]
  },
  {
   "cell_type": "code",
   "execution_count": 10,
   "metadata": {
    "vscode": {
     "languageId": "polyglot-notebook"
    }
   },
   "outputs": [],
   "source": [
    "abstract class Finery\n",
    "{\n",
    "    public abstract void Show();\n",
    "}"
   ]
  },
  {
   "cell_type": "markdown",
   "metadata": {},
   "source": [
    "**各种服饰子类**"
   ]
  },
  {
   "cell_type": "code",
   "execution_count": 11,
   "metadata": {
    "vscode": {
     "languageId": "polyglot-notebook"
    }
   },
   "outputs": [],
   "source": [
    "class TShirts:Finery\n",
    "{\n",
    "    public override void Show()\n",
    "    {\n",
    "        Console.Write(\"大T恤 \");\n",
    "    }\n",
    "}\n",
    "\n",
    "class BigTrouser:Finery\n",
    "{\n",
    "    public override void Show()\n",
    "    {\n",
    "        Console.Write(\"垮裤 \");\n",
    "    }\n",
    "}\n",
    "\n",
    "class Sneakers:Finery\n",
    "{\n",
    "    public override void Show()\n",
    "    {\n",
    "        Console.Write(\"破球鞋 \");\n",
    "    }\n",
    "}\n",
    "\n",
    "class Suit:Finery\n",
    "{\n",
    "    public override void Show()\n",
    "    {\n",
    "        Console.Write(\"西装 \");\n",
    "    }\n",
    "}\n",
    "\n",
    "class Tie:Finery\n",
    "{\n",
    "    public override void Show()\n",
    "    {\n",
    "        Console.Write(\"领带 \");\n",
    "    }\n",
    "}\n",
    "\n",
    "class LeatherShose:Finery\n",
    "{\n",
    "    public override void Show()\n",
    "    {\n",
    "        Console.Write(\"皮鞋 \");\n",
    "    }\n",
    "}"
   ]
  },
  {
   "cell_type": "code",
   "execution_count": 13,
   "metadata": {
    "vscode": {
     "languageId": "polyglot-notebook"
    }
   },
   "outputs": [
    {
     "name": "stdout",
     "output_type": "stream",
     "text": [
      "\n",
      "第一种装扮\n",
      "大T恤 垮裤 破球鞋 装扮的小菜\n",
      "\n",
      "第二种装扮\n",
      "西装 领带 皮鞋 "
     ]
    }
   ],
   "source": [
    "Person xc = new Person(\"小菜\");\n",
    "Console.WriteLine(\"\\n第一种装扮\");\n",
    "Finery dtx = new TShirts();\n",
    "Finery kk = new BigTrouser();\n",
    "Finery pqx = new Sneakers();\n",
    "dtx.Show();\n",
    "kk.Show();\n",
    "pqx.Show();\n",
    "xc.Show();\n",
    "\n",
    "Console.WriteLine(\"\\n第二种装扮\");\n",
    "Finery xz = new Suit();\n",
    "Finery ld = new Tie();\n",
    "Finery px = new LeatherShose();\n",
    "xz.Show();\n",
    "ld.Show();\n",
    "px.Show();\n"
   ]
  },
  {
   "cell_type": "markdown",
   "metadata": {},
   "source": [
    "***把所需的功能按正确的顺序串联起来进行控制***"
   ]
  },
  {
   "cell_type": "markdown",
   "metadata": {},
   "source": [
    "### 装饰模式"
   ]
  },
  {
   "cell_type": "markdown",
   "metadata": {},
   "source": [
    ">**装饰模式（Decorator）**：动态的给一个对象添加一些额外的职责，就添加功能来说，装饰模式比生成子类更为灵活。"
   ]
  },
  {
   "cell_type": "code",
   "execution_count": 19,
   "metadata": {
    "dotnet_interactive": {
     "language": "mermaid"
    },
    "polyglot_notebook": {
     "kernelName": "mermaid"
    },
    "vscode": {
     "languageId": "polyglot-notebook"
    }
   },
   "outputs": [
    {
     "data": {
      "text/html": [
       "<div class=\"mermaidMarkdownContainer\" style=\"background-color:white\">\r\n",
       "<link rel=\"stylesheet\" href=\"https://cdnjs.cloudflare.com/ajax/libs/font-awesome/6.2.0/css/all.min.css\">\r\n",
       "<div id=\"2d62d306f4284edd8161893d564f399e\"></div>\r\n",
       "<script type=\"module\">\r\n",
       "\r\n",
       "            import mermaid from 'https://cdn.jsdelivr.net/npm/mermaid@10.6.1/dist/mermaid.esm.min.mjs';\r\n",
       "            let renderTarget = document.getElementById('2d62d306f4284edd8161893d564f399e');\r\n",
       "            try {\r\n",
       "                const {svg, bindFunctions} = await mermaid.mermaidAPI.render( \r\n",
       "                    'mermaid_2d62d306f4284edd8161893d564f399e', \r\n",
       "                    `---\r\n",
       "title: 装饰模式（Decorator）结构图\r\n",
       "---\r\n",
       "classDiagram\r\n",
       "    class Component{\r\n",
       "        <<abatract>>\r\n",
       "        +Operation()\r\n",
       "    }\r\n",
       "    class ConcreteComponent{\r\n",
       "        +Operation()\r\n",
       "    }\r\n",
       "    class Decorator{\r\n",
       "        <<abstract>>\r\n",
       "        -component\r\n",
       "        +Operation()\r\n",
       "    }\r\n",
       "    class ConcreteDecoratorA{\r\n",
       "        -addedState string\r\n",
       "        +Operation()\r\n",
       "    }\r\n",
       "    class ConcreteDecoratorB{\r\n",
       "        +Operation()\r\n",
       "        -AddedBehavior()\r\n",
       "    }\r\n",
       "    note for Component \"Component 是定义一个对象接口\\\\n可以给这些对象动态的添加职责\"\r\n",
       "    note for ConcreteComponent \"ConcreteComponent 是定义一个具体对象接口\\\\n也可以给这个对象动态的添一些职责\"\r\n",
       "    note for Decorator \"Decorator 封装抽象类\\\\n继承了Component,从外类\\\\n来扩展Component类的功能\\\\n但对于Component来说，是\\\\n无须知道Decorator的存在的\"\r\n",
       "    note for ConcreteDecoratorA\"ConcreteDecorator 就是具体的装饰对象，\\\\n起到给Component添加职责的功能\"\r\n",
       "    Component <|-- ConcreteComponent\r\n",
       "    Decorator o--> Component\r\n",
       "    Component <|-- Decorator\r\n",
       "    Decorator <|-- ConcreteDecoratorA\r\n",
       "    Decorator <|-- ConcreteDecoratorB`);\r\n",
       "                renderTarget.innerHTML = svg;\r\n",
       "                bindFunctions?.(renderTarget);\r\n",
       "            }\r\n",
       "            catch (error) {\r\n",
       "                console.log(error);\r\n",
       "            }\r\n",
       "</script>\r\n",
       "</div>\r\n"
      ]
     },
     "metadata": {},
     "output_type": "display_data"
    }
   ],
   "source": [
    "---\n",
    "title: 装饰模式（Decorator）结构图\n",
    "---\n",
    "classDiagram\n",
    "    class Component{\n",
    "        <<abatract>>\n",
    "        +Operation()\n",
    "    }\n",
    "    class ConcreteComponent{\n",
    "        +Operation()\n",
    "    }\n",
    "    class Decorator{\n",
    "        <<abstract>>\n",
    "        -component\n",
    "        +Operation()\n",
    "    }\n",
    "    class ConcreteDecoratorA{\n",
    "        -addedState string\n",
    "        +Operation()\n",
    "    }\n",
    "    class ConcreteDecoratorB{\n",
    "        +Operation()\n",
    "        -AddedBehavior()\n",
    "    }\n",
    "    note for Component \"Component 是定义一个对象接口\\n可以给这些对象动态的添加职责\"\n",
    "    note for ConcreteComponent \"ConcreteComponent 是定义一个具体对象接口\\n也可以给这个对象动态的添一些职责\"\n",
    "    note for Decorator \"Decorator 封装抽象类\\n继承了Component,从外类\\n来扩展Component类的功能\\n但对于Component来说，是\\n无须知道Decorator的存在的\"\n",
    "    note for ConcreteDecoratorA\"ConcreteDecorator 就是具体的装饰对象，\\n起到给Component添加职责的功能\"\n",
    "    Component <|-- ConcreteComponent\n",
    "    Decorator o--> Component\n",
    "    Component <|-- Decorator\n",
    "    Decorator <|-- ConcreteDecoratorA\n",
    "    Decorator <|-- ConcreteDecoratorB"
   ]
  },
  {
   "cell_type": "markdown",
   "metadata": {
    "vscode": {
     "languageId": "polyglot-notebook"
    }
   },
   "source": [
    "**Component是定义了一个对象接口，可以给这些对象动态的添加职责。ConcreteComponent是定义了一个具体的对象，也可以给这个对象添加一些职责。Decorator，装饰抽象类，继承了Component，从外类来扩展Component类的功能，但对于Component来说，是无须知道Decorator的存在的。至于ConcreteDecorator就是具体的装饰对象，起到给Component添加职责的功能**"
   ]
  },
  {
   "cell_type": "markdown",
   "metadata": {},
   "source": [
    "***代码的基本实现***"
   ]
  },
  {
   "cell_type": "markdown",
   "metadata": {},
   "source": [
    "**Component类**"
   ]
  },
  {
   "cell_type": "code",
   "execution_count": 20,
   "metadata": {
    "dotnet_interactive": {
     "language": "csharp"
    },
    "polyglot_notebook": {
     "kernelName": "csharp"
    },
    "vscode": {
     "languageId": "polyglot-notebook"
    }
   },
   "outputs": [],
   "source": [
    "abstract class Component\n",
    "{\n",
    "    public abstract void Operation();\n",
    "}"
   ]
  },
  {
   "cell_type": "markdown",
   "metadata": {},
   "source": [
    "**ConcreteComponent类**"
   ]
  },
  {
   "cell_type": "code",
   "execution_count": 21,
   "metadata": {
    "vscode": {
     "languageId": "polyglot-notebook"
    }
   },
   "outputs": [],
   "source": [
    "class ConcreteComponent:Component\n",
    "{\n",
    "    public override void Operation()\n",
    "    {\n",
    "        Console.WriteLine(\"具体对象的操作\");\n",
    "    }\n",
    "}"
   ]
  },
  {
   "cell_type": "markdown",
   "metadata": {},
   "source": [
    "**Decorator**"
   ]
  },
  {
   "cell_type": "code",
   "execution_count": 23,
   "metadata": {
    "vscode": {
     "languageId": "polyglot-notebook"
    }
   },
   "outputs": [],
   "source": [
    "abstract class Decorator : Component\n",
    "{\n",
    "    protected Component _component;\n",
    "    public void SetComponent(Component component)\n",
    "    {\n",
    "        _component = component;\n",
    "    }\n",
    "    public override void Operation()\n",
    "    {\n",
    "        if(_component != null)\n",
    "        {\n",
    "            _component.Operation();\n",
    "        }\n",
    "    }\n",
    "}"
   ]
  },
  {
   "cell_type": "markdown",
   "metadata": {},
   "source": [
    "**ConcreteDecorator类**"
   ]
  },
  {
   "cell_type": "code",
   "execution_count": 24,
   "metadata": {
    "vscode": {
     "languageId": "polyglot-notebook"
    }
   },
   "outputs": [],
   "source": [
    "class ConcreteComponentA:Decorator\n",
    "{\n",
    "    //本类独有的功能\n",
    "    private string addedState;\n",
    "    public override void Operation()\n",
    "    {\n",
    "        //首先运行原Component的Operation(),再执行本类的功能，如addedState,相当于对原Component进行了装饰\n",
    "        base.Operation();\n",
    "        addedState = \"New State\";\n",
    "        Console.WriteLine(\"具体装饰对象A的操作\");\n",
    "    }\n",
    "}\n",
    "class ConcreteComponentB:Decorator\n",
    "{\n",
    "    public override void Operation()\n",
    "    {\n",
    "        //首先运行原Component的Operation(),再执行本类的功能，如AddedBehavior(),相当于对原Component进行了装饰\n",
    "        base.Operation();\n",
    "        AddedBehavior();\n",
    "        Console.WriteLine(\"具体装饰对象B的操作\");\n",
    "    }\n",
    "    //本类独有的方法\n",
    "    private void AddedBehavior()\n",
    "    {\n",
    "\n",
    "    }\n",
    "}\n"
   ]
  },
  {
   "cell_type": "markdown",
   "metadata": {},
   "source": [
    "**客户端代码**"
   ]
  },
  {
   "cell_type": "code",
   "execution_count": 27,
   "metadata": {
    "vscode": {
     "languageId": "polyglot-notebook"
    }
   },
   "outputs": [
    {
     "name": "stdout",
     "output_type": "stream",
     "text": [
      "具体对象的操作\n",
      "具体装饰对象A的操作\n",
      "具体装饰对象B的操作\n"
     ]
    }
   ],
   "source": [
    "ConcreteComponent c = new ConcreteComponent();\n",
    "ConcreteComponentA d1 = new ConcreteComponentA();\n",
    "ConcreteComponentB d2 = new ConcreteComponentB();\n",
    "//装饰的方法是：首先使用ConcreteComponent实例化对象c,\n",
    "//然后再用ConcreteComponentA的实例化对象d1来包装C，\n",
    "//再用ConcreteComponentB的对象d2包装d1,最终执行d2的Operation()\n",
    "d1.SetComponent(c);\n",
    "d2.SetComponent(d1);\n",
    "d2.Operation();"
   ]
  },
  {
   "cell_type": "markdown",
   "metadata": {
    "vscode": {
     "languageId": "polyglot-notebook"
    }
   },
   "source": [
    "<font color=\"pink\">装饰模式利用SetComponent来对对象进行包装，这样每个装饰对象的实现就和如何使用这个对象分离开了，每个装饰对象只关系自己的功能，不需要关心如何被添加到对象链当中</font>"
   ]
  },
  {
   "cell_type": "markdown",
   "metadata": {},
   "source": [
    "对于刚才的例子如果只有一个ConcreteComponent类而没有抽象的Component类，那么Decorator类可以是ConcreteComponent的一个子类。同样道理，如果只有一个ConcreteDecorator类，那么就没有必要建立一个单独的Decorator类，而可以把Decorator和ConcreteDecorator的责任合并成一个类。"
   ]
  },
  {
   "cell_type": "markdown",
   "metadata": {},
   "source": [
    "#### 小菜扮靓V3.0 "
   ]
  },
  {
   "cell_type": "code",
   "execution_count": 30,
   "metadata": {
    "dotnet_interactive": {
     "language": "mermaid"
    },
    "polyglot_notebook": {
     "kernelName": "mermaid"
    },
    "vscode": {
     "languageId": "polyglot-notebook"
    }
   },
   "outputs": [
    {
     "data": {
      "text/html": [
       "<div class=\"mermaidMarkdownContainer\" style=\"background-color:white\">\r\n",
       "<link rel=\"stylesheet\" href=\"https://cdnjs.cloudflare.com/ajax/libs/font-awesome/6.2.0/css/all.min.css\">\r\n",
       "<div id=\"a466a4e2a520485bac76b7cc72883310\"></div>\r\n",
       "<script type=\"module\">\r\n",
       "\r\n",
       "            import mermaid from 'https://cdn.jsdelivr.net/npm/mermaid@10.6.1/dist/mermaid.esm.min.mjs';\r\n",
       "            let renderTarget = document.getElementById('a466a4e2a520485bac76b7cc72883310');\r\n",
       "            try {\r\n",
       "                const {svg, bindFunctions} = await mermaid.mermaidAPI.render( \r\n",
       "                    'mermaid_a466a4e2a520485bac76b7cc72883310', \r\n",
       "                    `classDiagram\r\n",
       "    class 人{\r\n",
       "        +形象展示()\r\n",
       "    }\r\n",
       "    class 服饰{\r\n",
       "        <<abstract>>\r\n",
       "        +形象展示()\r\n",
       "    }\r\n",
       "    class 大T恤{\r\n",
       "        +形象展示()\r\n",
       "    }\r\n",
       "    class 垮裤{\r\n",
       "        +形象展示()\r\n",
       "    }\r\n",
       "    class 破球鞋{\r\n",
       "        +形象展示()\r\n",
       "    }\r\n",
       "    class 西装{\r\n",
       "        +形象展示()\r\n",
       "    }\r\n",
       "    class 领带{\r\n",
       "        +形象展示()\r\n",
       "    }\r\n",
       "    class 皮鞋{\r\n",
       "        +形象展示()\r\n",
       "    }\r\n",
       "    人 <|-- 服饰\r\n",
       "    服饰 <|-- 大T恤\r\n",
       "    服饰 <|-- 垮裤\r\n",
       "    服饰 <|-- 破球鞋\r\n",
       "    服饰 <|-- 西装\r\n",
       "    服饰 <|-- 领带\r\n",
       "    服饰 <|-- 皮鞋`);\r\n",
       "                renderTarget.innerHTML = svg;\r\n",
       "                bindFunctions?.(renderTarget);\r\n",
       "            }\r\n",
       "            catch (error) {\r\n",
       "                console.log(error);\r\n",
       "            }\r\n",
       "</script>\r\n",
       "</div>\r\n"
      ]
     },
     "metadata": {},
     "output_type": "display_data"
    }
   ],
   "source": [
    "classDiagram\n",
    "    class 人{\n",
    "        +形象展示()\n",
    "    }\n",
    "    class 服饰{\n",
    "        <<abstract>>\n",
    "        +形象展示()\n",
    "    }\n",
    "    class 大T恤{\n",
    "        +形象展示()\n",
    "    }\n",
    "    class 垮裤{\n",
    "        +形象展示()\n",
    "    }\n",
    "    class 破球鞋{\n",
    "        +形象展示()\n",
    "    }\n",
    "    class 西装{\n",
    "        +形象展示()\n",
    "    }\n",
    "    class 领带{\n",
    "        +形象展示()\n",
    "    }\n",
    "    class 皮鞋{\n",
    "        +形象展示()\n",
    "    }\n",
    "    人 <|-- 服饰\n",
    "    服饰 <|-- 大T恤\n",
    "    服饰 <|-- 垮裤\n",
    "    服饰 <|-- 破球鞋\n",
    "    服饰 <|-- 西装\n",
    "    服饰 <|-- 领带\n",
    "    服饰 <|-- 皮鞋"
   ]
  },
  {
   "cell_type": "markdown",
   "metadata": {},
   "source": [
    "**Person类（ConcreteComponent）**"
   ]
  },
  {
   "cell_type": "code",
   "execution_count": 31,
   "metadata": {
    "vscode": {
     "languageId": "polyglot-notebook"
    }
   },
   "outputs": [],
   "source": [
    "class Person\n",
    "{\n",
    "    public Person()\n",
    "    {\n",
    "    }\n",
    "\n",
    "    private string _name;\n",
    "    public Person(string name)\n",
    "    {\n",
    "        _name = name;\n",
    "    }\n",
    "    public virtual void Show()\n",
    "    {\n",
    "        Console.WriteLine($\"装扮的{_name}\");\n",
    "    }\n",
    "}"
   ]
  },
  {
   "cell_type": "markdown",
   "metadata": {},
   "source": [
    "**服饰类（Decorator）**"
   ]
  },
  {
   "cell_type": "code",
   "execution_count": 32,
   "metadata": {
    "vscode": {
     "languageId": "polyglot-notebook"
    }
   },
   "outputs": [],
   "source": [
    "class Finery:Person\n",
    "{\n",
    "    protected Person _component;\n",
    "\n",
    "    public void Decorate(Person component)\n",
    "    {\n",
    "        _component = component;\n",
    "    }\n",
    "\n",
    "    public override void Show()\n",
    "    {\n",
    "        if(_component != null)\n",
    "        {   \n",
    "            _component.Show();\n",
    "        }\n",
    "    }\n",
    "}"
   ]
  },
  {
   "cell_type": "markdown",
   "metadata": {},
   "source": [
    "**具体服饰类（ConcreteDecorator）**"
   ]
  },
  {
   "cell_type": "code",
   "execution_count": 33,
   "metadata": {
    "vscode": {
     "languageId": "polyglot-notebook"
    }
   },
   "outputs": [],
   "source": [
    "class TShirts:Finery\n",
    "{\n",
    "    public override void Show()\n",
    "    {\n",
    "        Console.Write(\"大T恤 \");\n",
    "        base.Show();\n",
    "    }\n",
    "}\n",
    "\n",
    "class BigTrouser:Finery\n",
    "{\n",
    "    public override void Show()\n",
    "    {\n",
    "        Console.Write(\"垮裤 \");\n",
    "        base.Show();\n",
    "\n",
    "    }\n",
    "}\n",
    "\n",
    "class Sneakers:Finery\n",
    "{\n",
    "    public override void Show()\n",
    "    {\n",
    "        Console.Write(\"破球鞋 \");\n",
    "        base.Show();\n",
    "\n",
    "    }\n",
    "}\n",
    "\n",
    "class Suit:Finery\n",
    "{\n",
    "    public override void Show()\n",
    "    {\n",
    "        Console.Write(\"西装 \");\n",
    "        base.Show();\n",
    "\n",
    "    }\n",
    "}\n",
    "\n",
    "class Tie:Finery\n",
    "{\n",
    "    public override void Show()\n",
    "    {\n",
    "        Console.Write(\"领带 \");\n",
    "        base.Show();\n",
    "    }\n",
    "}\n",
    "\n",
    "class LeatherShose:Finery\n",
    "{\n",
    "    public override void Show()\n",
    "    {\n",
    "        Console.Write(\"皮鞋 \");\n",
    "        base.Show();\n",
    "    }\n",
    "}"
   ]
  },
  {
   "cell_type": "code",
   "execution_count": null,
   "metadata": {
    "vscode": {
     "languageId": "polyglot-notebook"
    }
   },
   "outputs": [],
   "source": []
  }
 ],
 "metadata": {
  "kernelspec": {
   "display_name": ".NET (C#)",
   "language": "C#",
   "name": ".net-csharp"
  },
  "language_info": {
   "name": "csharp"
  },
  "polyglot_notebook": {
   "kernelInfo": {
    "defaultKernelName": "csharp",
    "items": [
     {
      "aliases": [],
      "name": "csharp"
     }
    ]
   }
  }
 },
 "nbformat": 4,
 "nbformat_minor": 2
}
