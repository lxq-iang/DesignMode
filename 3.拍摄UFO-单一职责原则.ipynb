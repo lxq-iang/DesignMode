{
 "cells": [
  {
   "cell_type": "markdown",
   "metadata": {},
   "source": [
    "### 单一职责原则（SPR）,就一个类而言，应该仅有一个引起它变化的原因"
   ]
  },
  {
   "cell_type": "markdown",
   "metadata": {},
   "source": [
    "**如果一个类承担的职责过多，就等于吧这些职责耦合在一起，一个职责的变化可能会削弱或者抑制这个类完成其它职责的能力。这种耦合会导致脆弱的设计，当变化发生时，设计会遭受到意想不到的破坏**"
   ]
  },
  {
   "cell_type": "markdown",
   "metadata": {},
   "source": [
    "|**软件设计真正要做的许多内容，就是发现职责并把那些职责相互分离。** 其实要去判断是否应该分离出来，也不难，那就是**如果你能够想到多于一个的动机去改变一个类，那么这个类就具有多于一个的职责**，就应该考虑类的职责分离。"
   ]
  },
  {
   "cell_type": "markdown",
   "metadata": {},
   "source": []
  }
 ],
 "metadata": {
  "language_info": {
   "name": "csharp"
  }
 },
 "nbformat": 4,
 "nbformat_minor": 2
}
