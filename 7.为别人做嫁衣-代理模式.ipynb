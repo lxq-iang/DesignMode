{
 "cells": [
  {
   "cell_type": "markdown",
   "metadata": {},
   "source": [
    "## 为别人做嫁衣-代理模式"
   ]
  },
  {
   "cell_type": "markdown",
   "metadata": {},
   "source": [
    "### 没有代理的代码"
   ]
  },
  {
   "cell_type": "code",
   "execution_count": 6,
   "metadata": {
    "dotnet_interactive": {
     "language": "mermaid"
    },
    "polyglot_notebook": {
     "kernelName": "mermaid"
    },
    "vscode": {
     "languageId": "polyglot-notebook"
    }
   },
   "outputs": [
    {
     "data": {
      "text/html": [
       "<div class=\"mermaidMarkdownContainer\" style=\"background-color:white\">\r\n",
       "<link rel=\"stylesheet\" href=\"https://cdnjs.cloudflare.com/ajax/libs/font-awesome/6.2.0/css/all.min.css\">\r\n",
       "<div id=\"66f7a42ee4bc4c03a2a3171b948cc152\"></div>\r\n",
       "<script type=\"module\">\r\n",
       "\r\n",
       "            import mermaid from 'https://cdn.jsdelivr.net/npm/mermaid@10.6.1/dist/mermaid.esm.min.mjs';\r\n",
       "            let renderTarget = document.getElementById('66f7a42ee4bc4c03a2a3171b948cc152');\r\n",
       "            try {\r\n",
       "                const {svg, bindFunctions} = await mermaid.mermaidAPI.render( \r\n",
       "                    'mermaid_66f7a42ee4bc4c03a2a3171b948cc152', \r\n",
       "                    `classDiagram\r\n",
       "    class Pursuit{\r\n",
       "        +GiveDolls()\r\n",
       "        +GiveFlowers()\r\n",
       "        +GiveChocolate()\r\n",
       "    }\r\n",
       "    class SchoolGirl{\r\n",
       "        -name string\r\n",
       "    }\r\n",
       "    Pursuit --> SchoolGirl`);\r\n",
       "                renderTarget.innerHTML = svg;\r\n",
       "                bindFunctions?.(renderTarget);\r\n",
       "            }\r\n",
       "            catch (error) {\r\n",
       "                console.log(error);\r\n",
       "            }\r\n",
       "</script>\r\n",
       "</div>\r\n"
      ]
     },
     "metadata": {},
     "output_type": "display_data"
    }
   ],
   "source": [
    "classDiagram\n",
    "    class Pursuit{\n",
    "        +GiveDolls()\n",
    "        +GiveFlowers()\n",
    "        +GiveChocolate()\n",
    "    }\n",
    "    class SchoolGirl{\n",
    "        -name string\n",
    "    }\n",
    "    Pursuit --> SchoolGirl"
   ]
  },
  {
   "cell_type": "markdown",
   "metadata": {},
   "source": [
    "**追求者类**"
   ]
  },
  {
   "cell_type": "code",
   "execution_count": 2,
   "metadata": {
    "vscode": {
     "languageId": "polyglot-notebook"
    }
   },
   "outputs": [],
   "source": [
    "class Pursuit\n",
    "{\n",
    "    SchoolGirl _schoolGril;\n",
    "    public Pursuit(SchoolGirl schoolGirl)\n",
    "    {\n",
    "        _schoolGril = schoolGirl;\n",
    "    }\n",
    "    public void GiveDolls()\n",
    "    {\n",
    "        Console.WriteLine($\"{_schoolGril.Name} 送你洋娃娃\");\n",
    "    }\n",
    "    public void GiveFlowers()\n",
    "    {\n",
    "        Console.WriteLine($\"{_schoolGril.Name} 送你鲜花\");\n",
    "    }\n",
    "    public void GiveChocolate()\n",
    "    {\n",
    "        Console.WriteLine($\"{_schoolGril.Name} 送你巧克力\");\n",
    "    }\n",
    "}"
   ]
  },
  {
   "cell_type": "markdown",
   "metadata": {},
   "source": [
    "**被追求者类**"
   ]
  },
  {
   "cell_type": "code",
   "execution_count": 1,
   "metadata": {
    "dotnet_interactive": {
     "language": "csharp"
    },
    "polyglot_notebook": {
     "kernelName": "csharp"
    },
    "vscode": {
     "languageId": "polyglot-notebook"
    }
   },
   "outputs": [],
   "source": [
    "class SchoolGirl\n",
    "{\n",
    "    private string name;\n",
    "    public string Name\n",
    "    {\n",
    "        get{return name;}\n",
    "        set{name = value;}\n",
    "    }\n",
    "}"
   ]
  },
  {
   "cell_type": "markdown",
   "metadata": {},
   "source": [
    "**客户端调用代码**"
   ]
  },
  {
   "cell_type": "code",
   "execution_count": 8,
   "metadata": {
    "vscode": {
     "languageId": "polyglot-notebook"
    }
   },
   "outputs": [
    {
     "name": "stdout",
     "output_type": "stream",
     "text": [
      "李娇娇 送你洋娃娃\n",
      "李娇娇 送你鲜花\n",
      "李娇娇 送你巧克力\n"
     ]
    }
   ],
   "source": [
    "SchoolGirl jiaojiao = new SchoolGirl();\n",
    "jiaojiao.Name = \"李娇娇\";\n",
    "Pursuit zhuojiayi = new Pursuit(jiaojiao);//此时娇娇不认识桌贾易\n",
    "zhuojiayi.GiveDolls();\n",
    "zhuojiayi.GiveFlowers();\n",
    "zhuojiayi.GiveChocolate();"
   ]
  },
  {
   "cell_type": "markdown",
   "metadata": {},
   "source": [
    "### 只有代理的代码"
   ]
  },
  {
   "cell_type": "code",
   "execution_count": 9,
   "metadata": {
    "dotnet_interactive": {
     "language": "mermaid"
    },
    "polyglot_notebook": {
     "kernelName": "mermaid"
    },
    "vscode": {
     "languageId": "polyglot-notebook"
    }
   },
   "outputs": [
    {
     "data": {
      "text/html": [
       "<div class=\"mermaidMarkdownContainer\" style=\"background-color:white\">\r\n",
       "<link rel=\"stylesheet\" href=\"https://cdnjs.cloudflare.com/ajax/libs/font-awesome/6.2.0/css/all.min.css\">\r\n",
       "<div id=\"99142fcf4d904f7a879bea38b2a12c92\"></div>\r\n",
       "<script type=\"module\">\r\n",
       "\r\n",
       "            import mermaid from 'https://cdn.jsdelivr.net/npm/mermaid@10.6.1/dist/mermaid.esm.min.mjs';\r\n",
       "            let renderTarget = document.getElementById('99142fcf4d904f7a879bea38b2a12c92');\r\n",
       "            try {\r\n",
       "                const {svg, bindFunctions} = await mermaid.mermaidAPI.render( \r\n",
       "                    'mermaid_99142fcf4d904f7a879bea38b2a12c92', \r\n",
       "                    `classDiagram\r\n",
       "    class Proxy{\r\n",
       "        +GiveDolls()\r\n",
       "        +GiveFlowers()\r\n",
       "        +GiveChocolate()\r\n",
       "    }\r\n",
       "    class SchoolGirl{\r\n",
       "        -name string\r\n",
       "    }\r\n",
       "    Proxy --> SchoolGirl`);\r\n",
       "                renderTarget.innerHTML = svg;\r\n",
       "                bindFunctions?.(renderTarget);\r\n",
       "            }\r\n",
       "            catch (error) {\r\n",
       "                console.log(error);\r\n",
       "            }\r\n",
       "</script>\r\n",
       "</div>\r\n"
      ]
     },
     "metadata": {},
     "output_type": "display_data"
    }
   ],
   "source": [
    "classDiagram\n",
    "    class Proxy{\n",
    "        +GiveDolls()\n",
    "        +GiveFlowers()\n",
    "        +GiveChocolate()\n",
    "    }\n",
    "    class SchoolGirl{\n",
    "        -name string\n",
    "    }\n",
    "    Proxy --> SchoolGirl"
   ]
  },
  {
   "cell_type": "code",
   "execution_count": 10,
   "metadata": {
    "vscode": {
     "languageId": "polyglot-notebook"
    }
   },
   "outputs": [],
   "source": [
    "class Proxy\n",
    "{\n",
    "    SchoolGirl _schoolGril;\n",
    "    public Proxy(SchoolGirl schoolGirl)\n",
    "    {\n",
    "        _schoolGril = schoolGirl;\n",
    "    }\n",
    "    public void GiveDolls()\n",
    "    {\n",
    "        Console.WriteLine($\"{_schoolGril.Name} 送你洋娃娃\");\n",
    "    }\n",
    "    public void GiveFlowers()\n",
    "    {\n",
    "        Console.WriteLine($\"{_schoolGril.Name} 送你鲜花\");\n",
    "    }\n",
    "    public void GiveChocolate()\n",
    "    {\n",
    "        Console.WriteLine($\"{_schoolGril.Name} 送你巧克力\");\n",
    "    }\n",
    "}"
   ]
  },
  {
   "cell_type": "code",
   "execution_count": 11,
   "metadata": {
    "vscode": {
     "languageId": "polyglot-notebook"
    }
   },
   "outputs": [
    {
     "name": "stdout",
     "output_type": "stream",
     "text": [
      "李娇娇 送你洋娃娃\n",
      "李娇娇 送你鲜花\n",
      "李娇娇 送你巧克力\n"
     ]
    }
   ],
   "source": [
    "SchoolGirl jiaojiao = new SchoolGirl();\n",
    "jiaojiao.Name = \"李娇娇\";\n",
    "Proxy daili = new Proxy(jiaojiao);//此时追求者桌贾易类实例又不在了\n",
    "daili.GiveDolls();\n",
    "daili.GiveFlowers();\n",
    "daili.GiveChocolate();"
   ]
  },
  {
   "cell_type": "markdown",
   "metadata": {},
   "source": [
    "### 符合实际的代码"
   ]
  },
  {
   "cell_type": "code",
   "execution_count": 14,
   "metadata": {
    "dotnet_interactive": {
     "language": "mermaid"
    },
    "polyglot_notebook": {
     "kernelName": "mermaid"
    },
    "vscode": {
     "languageId": "polyglot-notebook"
    }
   },
   "outputs": [
    {
     "data": {
      "text/html": [
       "<div class=\"mermaidMarkdownContainer\" style=\"background-color:white\">\r\n",
       "<link rel=\"stylesheet\" href=\"https://cdnjs.cloudflare.com/ajax/libs/font-awesome/6.2.0/css/all.min.css\">\r\n",
       "<div id=\"d645de16e2e24de38675becbe363e3bf\"></div>\r\n",
       "<script type=\"module\">\r\n",
       "\r\n",
       "            import mermaid from 'https://cdn.jsdelivr.net/npm/mermaid@10.6.1/dist/mermaid.esm.min.mjs';\r\n",
       "            let renderTarget = document.getElementById('d645de16e2e24de38675becbe363e3bf');\r\n",
       "            try {\r\n",
       "                const {svg, bindFunctions} = await mermaid.mermaidAPI.render( \r\n",
       "                    'mermaid_d645de16e2e24de38675becbe363e3bf', \r\n",
       "                    `classDiagram\r\n",
       "    class GiveGift{\r\n",
       "        <<interface>>\r\n",
       "        +GiveDolls()\r\n",
       "        +GiveFlowers()\r\n",
       "        +GiveChocolate()\r\n",
       "    }\r\n",
       "    class Proxy{\r\n",
       "        +GiveDolls()\r\n",
       "        +GiveFlowers()\r\n",
       "        +GiveChocolate()\r\n",
       "    }\r\n",
       "    class Pursuit{\r\n",
       "        +GiveDolls()\r\n",
       "        +GiveFlowers()\r\n",
       "        +GiveChocolate()\r\n",
       "    }\r\n",
       "    Proxy --> Pursuit\r\n",
       "    Proxy ..|> GiveGift\r\n",
       "    Pursuit ..|> GiveGift\r\n",
       "`);\r\n",
       "                renderTarget.innerHTML = svg;\r\n",
       "                bindFunctions?.(renderTarget);\r\n",
       "            }\r\n",
       "            catch (error) {\r\n",
       "                console.log(error);\r\n",
       "            }\r\n",
       "</script>\r\n",
       "</div>\r\n"
      ]
     },
     "metadata": {},
     "output_type": "display_data"
    }
   ],
   "source": [
    "classDiagram\n",
    "    class GiveGift{\n",
    "        <<interface>>\n",
    "        +GiveDolls()\n",
    "        +GiveFlowers()\n",
    "        +GiveChocolate()\n",
    "    }\n",
    "    class Proxy{\n",
    "        +GiveDolls()\n",
    "        +GiveFlowers()\n",
    "        +GiveChocolate()\n",
    "    }\n",
    "    class Pursuit{\n",
    "        +GiveDolls()\n",
    "        +GiveFlowers()\n",
    "        +GiveChocolate()\n",
    "    }\n",
    "    Proxy --> Pursuit\n",
    "    Proxy ..|> GiveGift\n",
    "    Pursuit ..|> GiveGift\n"
   ]
  },
  {
   "cell_type": "markdown",
   "metadata": {},
   "source": [
    "**代理接口如下**"
   ]
  },
  {
   "cell_type": "code",
   "execution_count": 15,
   "metadata": {
    "vscode": {
     "languageId": "polyglot-notebook"
    }
   },
   "outputs": [],
   "source": [
    "interface GiveGift\n",
    "{\n",
    "    void GiveDolls();\n",
    "    void GiveFlowers();\n",
    "    void GiveChocolate();\n",
    "}"
   ]
  },
  {
   "cell_type": "markdown",
   "metadata": {},
   "source": [
    "**追求者类如下**"
   ]
  },
  {
   "cell_type": "code",
   "execution_count": 16,
   "metadata": {
    "vscode": {
     "languageId": "polyglot-notebook"
    }
   },
   "outputs": [],
   "source": [
    "class Pursuit\n",
    "{\n",
    "    SchoolGirl _schoolGril;\n",
    "    public Pursuit(SchoolGirl schoolGirl)\n",
    "    {\n",
    "        _schoolGril = schoolGirl;\n",
    "    }\n",
    "    public void GiveDolls()\n",
    "    {\n",
    "        Console.WriteLine($\"{_schoolGril.Name} 送你洋娃娃\");\n",
    "    }\n",
    "    public void GiveFlowers()\n",
    "    {\n",
    "        Console.WriteLine($\"{_schoolGril.Name} 送你鲜花\");\n",
    "    }\n",
    "    public void GiveChocolate()\n",
    "    {\n",
    "        Console.WriteLine($\"{_schoolGril.Name} 送你巧克力\");\n",
    "    }\n",
    "}"
   ]
  },
  {
   "cell_type": "markdown",
   "metadata": {},
   "source": [
    "**代理类如下**"
   ]
  },
  {
   "cell_type": "code",
   "execution_count": 17,
   "metadata": {
    "vscode": {
     "languageId": "polyglot-notebook"
    }
   },
   "outputs": [],
   "source": [
    "class Proxy:GiveGift\n",
    "{\n",
    "    Pursuit boy;\n",
    "    public Proxy(SchoolGirl girl)\n",
    "    {\n",
    "        boy = new Pursuit(girl);\n",
    "    }\n",
    "    public void GiveDolls()\n",
    "    {\n",
    "        boy.GiveDolls();\n",
    "    }\n",
    "    public void GiveFlowers()\n",
    "    {\n",
    "        boy.GiveFlowers();\n",
    "    }\n",
    "    public void GiveChocolate()\n",
    "    {\n",
    "        boy.GiveChocolate();\n",
    "    }\n",
    "}"
   ]
  },
  {
   "cell_type": "markdown",
   "metadata": {},
   "source": [
    "**客户端代码**\n",
    "- - -\n",
    "此时娇娇不认识追求她的人，却可以通过代理人得到礼物。追求她的人也是实际存在的"
   ]
  },
  {
   "cell_type": "code",
   "execution_count": 18,
   "metadata": {
    "vscode": {
     "languageId": "polyglot-notebook"
    }
   },
   "outputs": [
    {
     "name": "stdout",
     "output_type": "stream",
     "text": [
      "李娇娇 送你洋娃娃\n",
      "李娇娇 送你鲜花\n",
      "李娇娇 送你巧克力\n"
     ]
    }
   ],
   "source": [
    "SchoolGirl jiaojiao = new SchoolGirl();\n",
    "jiaojiao.Name = \"李娇娇\";\n",
    "Proxy daili = new Proxy(jiaojiao);//此时追求者桌贾易类实例又不在了\n",
    "daili.GiveDolls();\n",
    "daili.GiveFlowers();\n",
    "daili.GiveChocolate();"
   ]
  },
  {
   "cell_type": "markdown",
   "metadata": {},
   "source": [
    "## 代理模式"
   ]
  },
  {
   "cell_type": "markdown",
   "metadata": {},
   "source": [
    ">代理模式（Proxy），为其他对象提供一种代理可以控制这个对象的访问"
   ]
  },
  {
   "cell_type": "code",
   "execution_count": 22,
   "metadata": {
    "dotnet_interactive": {
     "language": "mermaid"
    },
    "polyglot_notebook": {
     "kernelName": "mermaid"
    },
    "vscode": {
     "languageId": "polyglot-notebook"
    }
   },
   "outputs": [
    {
     "data": {
      "text/html": [
       "<div class=\"mermaidMarkdownContainer\" style=\"background-color:white\">\r\n",
       "<link rel=\"stylesheet\" href=\"https://cdnjs.cloudflare.com/ajax/libs/font-awesome/6.2.0/css/all.min.css\">\r\n",
       "<div id=\"ae9d3afe908b49fc97ab46ff8eddf7c3\"></div>\r\n",
       "<script type=\"module\">\r\n",
       "\r\n",
       "            import mermaid from 'https://cdn.jsdelivr.net/npm/mermaid@10.6.1/dist/mermaid.esm.min.mjs';\r\n",
       "            let renderTarget = document.getElementById('ae9d3afe908b49fc97ab46ff8eddf7c3');\r\n",
       "            try {\r\n",
       "                const {svg, bindFunctions} = await mermaid.mermaidAPI.render( \r\n",
       "                    'mermaid_ae9d3afe908b49fc97ab46ff8eddf7c3', \r\n",
       "                    `classDiagram\r\n",
       "    class Subject{\r\n",
       "        <<abstract>>\r\n",
       "        +Request()\r\n",
       "    }\r\n",
       "    class RealSubject{\r\n",
       "        +Request()\r\n",
       "    }\r\n",
       "    class Proxy{\r\n",
       "        -realSubject\r\n",
       "        +Request()\r\n",
       "    }\r\n",
       "    class Client{\r\n",
       "    }\r\n",
       "    note for Subject \"Subject类，定义了RealSubject和Proxy的共用接口\\\\n这样就可以在任何使用RealSubject的地方使用Proxy\"\r\n",
       "    note for RealSubject \"RealSubject类，定义Proxy类做代表的真实实体\"\r\n",
       "    note for Proxy \"Proxy类，保存一个引用使得代理可以访问实体\\\\n并提供一个与Subject的接口相同的接口，\\\\n这样代理就可以用来替代实体\"\r\n",
       "    Subject <-- Client\r\n",
       "    Subject <|-- RealSubject\r\n",
       "    Subject <|-- Proxy \r\n",
       "    RealSubject <-- Proxy`);\r\n",
       "                renderTarget.innerHTML = svg;\r\n",
       "                bindFunctions?.(renderTarget);\r\n",
       "            }\r\n",
       "            catch (error) {\r\n",
       "                console.log(error);\r\n",
       "            }\r\n",
       "</script>\r\n",
       "</div>\r\n"
      ]
     },
     "metadata": {},
     "output_type": "display_data"
    }
   ],
   "source": [
    "classDiagram\n",
    "    class Subject{\n",
    "        <<abstract>>\n",
    "        +Request()\n",
    "    }\n",
    "    class RealSubject{\n",
    "        +Request()\n",
    "    }\n",
    "    class Proxy{\n",
    "        -realSubject\n",
    "        +Request()\n",
    "    }\n",
    "    class Client{\n",
    "    }\n",
    "    note for Subject \"Subject类，定义了RealSubject和Proxy的共用接口\\n这样就可以在任何使用RealSubject的地方使用Proxy\"\n",
    "    note for RealSubject \"RealSubject类，定义Proxy类做代表的真实实体\"\n",
    "    note for Proxy \"Proxy类，保存一个引用使得代理可以访问实体\\n并提供一个与Subject的接口相同的接口，\\n这样代理就可以用来替代实体\"\n",
    "    Subject <-- Client\n",
    "    Subject <|-- RealSubject\n",
    "    Subject <|-- Proxy \n",
    "    RealSubject <-- Proxy"
   ]
  },
  {
   "cell_type": "markdown",
   "metadata": {},
   "source": [
    "**Subject类，定义了RealSubject和Proxy的共用接口\\n这样就可以在任何使用RealSubject的地方使用Proxy**"
   ]
  },
  {
   "cell_type": "code",
   "execution_count": 23,
   "metadata": {
    "vscode": {
     "languageId": "polyglot-notebook"
    }
   },
   "outputs": [],
   "source": [
    "abstract class Subject\n",
    "{\n",
    "    public abstract void Request();\n",
    "}"
   ]
  },
  {
   "cell_type": "markdown",
   "metadata": {},
   "source": [
    "**RealSubject类，定义Proxy类做代表的真实实体**"
   ]
  },
  {
   "cell_type": "code",
   "execution_count": 24,
   "metadata": {
    "vscode": {
     "languageId": "polyglot-notebook"
    }
   },
   "outputs": [],
   "source": [
    "class RealSubject : Subject\n",
    "{\n",
    "    public override void Request()\n",
    "    {\n",
    "        Console.WriteLine(\"真实的请求\");\n",
    "    }\n",
    "}"
   ]
  },
  {
   "cell_type": "markdown",
   "metadata": {
    "vscode": {
     "languageId": "polyglot-notebook"
    }
   },
   "source": [
    "**Proxy类，保存一个引用使得代理可以访问实体\\n并提供一个与Subject的接口相同的接口，\\n这样代理就可以用来替代实体**"
   ]
  },
  {
   "cell_type": "code",
   "execution_count": 25,
   "metadata": {
    "dotnet_interactive": {
     "language": "csharp"
    },
    "polyglot_notebook": {
     "kernelName": "csharp"
    },
    "vscode": {
     "languageId": "polyglot-notebook"
    }
   },
   "outputs": [],
   "source": [
    "class Proxy : Subject\n",
    "{\n",
    "    private RealSubject _realSubject;\n",
    "    public override void Request()\n",
    "    {\n",
    "        if(_realSubject == null)\n",
    "        {\n",
    "            _realSubject = new RealSubject();\n",
    "        }\n",
    "        _realSubject.Request();\n",
    "    }\n",
    "}"
   ]
  },
  {
   "cell_type": "markdown",
   "metadata": {},
   "source": [
    "**客户端代码**"
   ]
  },
  {
   "cell_type": "code",
   "execution_count": 26,
   "metadata": {
    "vscode": {
     "languageId": "polyglot-notebook"
    }
   },
   "outputs": [
    {
     "name": "stdout",
     "output_type": "stream",
     "text": [
      "真实的请求\r\n"
     ]
    }
   ],
   "source": [
    "Proxy proxy = new Proxy();\n",
    "proxy.Request();\n"
   ]
  },
  {
   "cell_type": "markdown",
   "metadata": {
    "vscode": {
     "languageId": "polyglot-notebook"
    }
   },
   "source": [
    "### 代理模式的应用"
   ]
  },
  {
   "cell_type": "markdown",
   "metadata": {},
   "source": [
    "代理应用的场合：\n",
    "\n",
    "1. 远程代理：也就是为一个对象在不同的地址空间提供局部代表。这样可以隐藏一个对象对于在不同地址空间的事实 例如 WebService，当在应用程序中加入一个Web应用，引用一个WebService，此时会在项目中生成一个WebReference的文件夹和一些文件，其实这就是代理，使得客户端程序调用代理就可以解决远程访问的问题。\n",
    "2. 虚拟代理：根据需要创建开销很大的对象。通过它来存放实例化需要很长时间的真实对象。这样就可以达到性能最优化，比如打开一个很大的HTML网页时，里面可能有很多的文字和图片，但你还是可以很快打开它，此时你所看到的是所有的文字，但图片是一张一张地下载后才能看到。那些未打开的图片框，就是通过虚拟代理来代替了真实图片，此时代理存储了真实图片的路径和尺寸\n",
    "3. 安全应用：用来控制真实对象访问时的权限。一般用于对象应该有不同的访问权限的时候\n",
    "4. 智能指引：当调用真是的对象时，代理处理另外一些事。如计算真实对象的引用次数，这样当该对象没有引用时，可以自动释放它；或当第一次引用一个持久对象时，将它装入内存；或在访问一个实际对象时，检查是否已经锁定它，以确保其他对象不能改变它。他们都是通过代理在访问一个对象时附加一些内务处理。 "
   ]
  },
  {
   "cell_type": "markdown",
   "metadata": {},
   "source": []
  }
 ],
 "metadata": {
  "kernelspec": {
   "display_name": ".NET (C#)",
   "language": "C#",
   "name": ".net-csharp"
  },
  "language_info": {
   "name": "csharp"
  },
  "polyglot_notebook": {
   "kernelInfo": {
    "defaultKernelName": "csharp",
    "items": [
     {
      "aliases": [],
      "name": "csharp"
     }
    ]
   }
  }
 },
 "nbformat": 4,
 "nbformat_minor": 2
}
