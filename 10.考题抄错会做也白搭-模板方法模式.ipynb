{
 "cells": [
  {
   "cell_type": "markdown",
   "metadata": {},
   "source": [
    "### 重复=易错+难改"
   ]
  },
  {
   "cell_type": "code",
   "execution_count": 1,
   "metadata": {
    "dotnet_interactive": {
     "language": "mermaid"
    },
    "polyglot_notebook": {
     "kernelName": "mermaid"
    },
    "vscode": {
     "languageId": "polyglot-notebook"
    }
   },
   "outputs": [
    {
     "data": {
      "text/html": [
       "<div class=\"mermaidMarkdownContainer\" style=\"background-color:white\">\r\n",
       "<link rel=\"stylesheet\" href=\"https://cdnjs.cloudflare.com/ajax/libs/font-awesome/6.2.0/css/all.min.css\">\r\n",
       "<div id=\"d77ee15411d64533a65b54d513bf7d04\"></div>\r\n",
       "<script type=\"module\">\r\n",
       "\r\n",
       "            import mermaid from 'https://cdn.jsdelivr.net/npm/mermaid@10.6.1/dist/mermaid.esm.min.mjs';\r\n",
       "            let renderTarget = document.getElementById('d77ee15411d64533a65b54d513bf7d04');\r\n",
       "            try {\r\n",
       "                const {svg, bindFunctions} = await mermaid.mermaidAPI.render( \r\n",
       "                    'mermaid_d77ee15411d64533a65b54d513bf7d04', \r\n",
       "                    `classDiagram\r\n",
       "    class 学生甲抄的试卷{\r\n",
       "        +试题1()\r\n",
       "        +试题2()\r\n",
       "        +试题3()\r\n",
       "    }\r\n",
       "    class 学生乙抄的试卷{\r\n",
       "        +试题1()\r\n",
       "        +试题2()\r\n",
       "        +试题3()\r\n",
       "    }`);\r\n",
       "                renderTarget.innerHTML = svg;\r\n",
       "                bindFunctions?.(renderTarget);\r\n",
       "            }\r\n",
       "            catch (error) {\r\n",
       "                console.log(error);\r\n",
       "            }\r\n",
       "</script>\r\n",
       "</div>\r\n"
      ]
     },
     "metadata": {},
     "output_type": "display_data"
    }
   ],
   "source": [
    "classDiagram\n",
    "    class 学生甲抄的试卷{\n",
    "        +试题1()\n",
    "        +试题2()\n",
    "        +试题3()\n",
    "    }\n",
    "    class 学生乙抄的试卷{\n",
    "        +试题1()\n",
    "        +试题2()\n",
    "        +试题3()\n",
    "    }"
   ]
  },
  {
   "cell_type": "markdown",
   "metadata": {},
   "source": [
    "<font color=\"orange\">学生甲抄的试卷类</font>"
   ]
  },
  {
   "cell_type": "code",
   "execution_count": 2,
   "metadata": {
    "vscode": {
     "languageId": "polyglot-notebook"
    }
   },
   "outputs": [],
   "source": [
    "class TestPaperA\n",
    "{\n",
    "    public void TestQuestion1()\n",
    "    {\n",
    "        Console.WriteLine(\"杨过得到，后来给了郭靖，炼成倚天剑，屠龙刀的玄铁可能是[] a.球磨铸铁 b.马口铁 c.高速合金钢 d.碳素纤维\");\n",
    "        Console.WriteLine(\"答案：b\");\n",
    "    }\n",
    "    public void TestQuestion2()\n",
    "    {\n",
    "        Console.WriteLine(\"杨过，程英，陆无双产出了情花，造成[] a.使这植物不在害人 b.使一种珍惜物种灭绝 c.破坏了那个生物圈的生态平衡 d.造成了该地区的沙化\");\n",
    "        Console.WriteLine(\"答案：a\");\n",
    "    }\n",
    "    public void TestQuestion3()\n",
    "    {\n",
    "        Console.WriteLine(\"蓝凤凰致使华山师徒、桃谷六仙呕吐不止，如果你是大夫，会给他们开什么药[] a.阿司匹林 b.牛黄解毒片 c.氟哌酸 d.让他们喝大量生牛奶 e.以上全不对\");\n",
    "        Console.WriteLine(\"答案：c\");\n",
    "    }\n",
    "}\n"
   ]
  },
  {
   "cell_type": "markdown",
   "metadata": {},
   "source": [
    "<font color=\"orange\">学生乙抄的试卷类</font>"
   ]
  },
  {
   "cell_type": "code",
   "execution_count": 3,
   "metadata": {
    "vscode": {
     "languageId": "polyglot-notebook"
    }
   },
   "outputs": [],
   "source": [
    "class TestPaperB\n",
    "{\n",
    "    public void TestQuestion1()\n",
    "    {\n",
    "        Console.WriteLine(\"杨过得到，后来给了郭靖，炼成倚天剑，屠龙刀的玄铁可能是[] a.球磨铸铁 b.马口铁 c.高速合金钢 d.碳素纤维\");\n",
    "        Console.WriteLine(\"答案：d\");\n",
    "    }\n",
    "    public void TestQuestion2()\n",
    "    {\n",
    "        Console.WriteLine(\"杨过，程英，陆无双产出了情花，造成[] a.使这植物不在害人 b.使一种珍惜物种灭绝 c.破坏了那个生物圈的生态平衡 d.造成了该地区的沙化\");\n",
    "        Console.WriteLine(\"答案：b\");\n",
    "    }\n",
    "    public void TestQuestion3()\n",
    "    {\n",
    "        Console.WriteLine(\"蓝凤凰致使华山师徒、桃谷六仙呕吐不止，如果你是大夫，会给他们开什么药[] a.阿司匹林 b.牛黄解毒片 c.氟哌酸 d.让他们喝大量生牛奶 e.以上全不对\");\n",
    "        Console.WriteLine(\"答案：a\");\n",
    "    }\n",
    "}"
   ]
  },
  {
   "cell_type": "markdown",
   "metadata": {},
   "source": [
    "<font color=\"orange\">客户端代码</font>"
   ]
  },
  {
   "cell_type": "code",
   "execution_count": 4,
   "metadata": {
    "vscode": {
     "languageId": "polyglot-notebook"
    }
   },
   "outputs": [
    {
     "name": "stdout",
     "output_type": "stream",
     "text": [
      "学生甲抄的试卷：\n",
      "杨过得到，后来给了郭靖，炼成倚天剑，屠龙刀的玄铁可能是[] a.球磨铸铁 b.马口铁 c.高速合金钢 d.碳素纤维\n",
      "答案：b\n",
      "杨过，程英，陆无双产出了情花，造成[] a.使这植物不在害人 b.使一种珍惜物种灭绝 c.破坏了那个生物圈的生态平衡 d.造成了该地区的沙化\n",
      "答案：a\n",
      "蓝凤凰致使华山师徒、桃谷六仙呕吐不止，如果你是大夫，会给他们开什么药[] a.阿司匹林 b.牛黄解毒片 c.氟哌酸 d.让他们喝大量生牛奶 e.以上全不对\n",
      "答案：c\n",
      "学生乙抄的试卷：\n",
      "杨过得到，后来给了郭靖，炼成倚天剑，屠龙刀的玄铁可能是[] a.球磨铸铁 b.马口铁 c.高速合金钢 d.碳素纤维\n",
      "答案：d\n",
      "杨过，程英，陆无双产出了情花，造成[] a.使这植物不在害人 b.使一种珍惜物种灭绝 c.破坏了那个生物圈的生态平衡 d.造成了该地区的沙化\n",
      "答案：b\n",
      "蓝凤凰致使华山师徒、桃谷六仙呕吐不止，如果你是大夫，会给他们开什么药[] a.阿司匹林 b.牛黄解毒片 c.氟哌酸 d.让他们喝大量生牛奶 e.以上全不对\n",
      "答案：a\n"
     ]
    }
   ],
   "source": [
    "Console.WriteLine(\"学生甲抄的试卷：\");\n",
    "TestPaperA studentA = new TestPaperA();\n",
    "studentA.TestQuestion1();\n",
    "studentA.TestQuestion2();\n",
    "studentA.TestQuestion3();\n",
    "\n",
    "Console.WriteLine(\"学生乙抄的试卷：\");\n",
    "TestPaperB studentB = new TestPaperB();\n",
    "studentB.TestQuestion1();\n",
    "studentB.TestQuestion2();\n",
    "studentB.TestQuestion3();\n"
   ]
  },
  {
   "cell_type": "markdown",
   "metadata": {},
   "source": [
    "### 代码提炼"
   ]
  },
  {
   "cell_type": "markdown",
   "metadata": {},
   "source": [
    "<font color=\"orange\">试卷父类代码</font>"
   ]
  },
  {
   "cell_type": "code",
   "execution_count": 5,
   "metadata": {
    "vscode": {
     "languageId": "polyglot-notebook"
    }
   },
   "outputs": [],
   "source": [
    "class TestPaper\n",
    "{\n",
    "    public void TestQuestion1()\n",
    "    {\n",
    "        Console.WriteLine(\"杨过得到，后来给了郭靖，炼成倚天剑，屠龙刀的玄铁可能是[] a.球磨铸铁 b.马口铁 c.高速合金钢 d.碳素纤维\");\n",
    "    }\n",
    "    public void TestQuestion2()\n",
    "    {\n",
    "        Console.WriteLine(\"杨过，程英，陆无双产出了情花，造成[] a.使这植物不在害人 b.使一种珍惜物种灭绝 c.破坏了那个生物圈的生态平衡 d.造成了该地区的沙化\");\n",
    "    }\n",
    "    public void TestQuestion3()\n",
    "    {\n",
    "        Console.WriteLine(\"蓝凤凰致使华山师徒、桃谷六仙呕吐不止，如果你是大夫，会给他们开什么药[] a.阿司匹林 b.牛黄解毒片 c.氟哌酸 d.让他们喝大量生牛奶 e.以上全不对\");\n",
    "    }\n",
    "}"
   ]
  },
  {
   "cell_type": "markdown",
   "metadata": {},
   "source": [
    "<font color=\"orange\">学生子类代码</font>"
   ]
  },
  {
   "cell_type": "code",
   "execution_count": 8,
   "metadata": {
    "vscode": {
     "languageId": "polyglot-notebook"
    }
   },
   "outputs": [],
   "source": [
    "class TestPaperA: TestPaper\n",
    "{\n",
    "    public new void TestQuestion1()\n",
    "    {\n",
    "        base.TestQuestion1();\n",
    "        Console.WriteLine(\"答案：b\");\n",
    "    }\n",
    "    public new void TestQuestion2()\n",
    "    {\n",
    "        base.TestQuestion2();\n",
    "        Console.WriteLine(\"答案：b\");\n",
    "    }\n",
    "    public new void TestQuestion3()\n",
    "    {\n",
    "        base.TestQuestion3();\n",
    "        Console.WriteLine(\"答案：b\");\n",
    "    }\n",
    "}\n",
    "class TestPaperB: TestPaper\n",
    "{\n",
    "    public new void TestQuestion1()\n",
    "    {\n",
    "        base.TestQuestion1();\n",
    "        Console.WriteLine(\"答案：d\");\n",
    "    }\n",
    "    public new void TestQuestion2()\n",
    "    {\n",
    "        base.TestQuestion2();\n",
    "        Console.WriteLine(\"答案：b\");\n",
    "    }\n",
    "    public new void TestQuestion3()\n",
    "    {\n",
    "        base.TestQuestion3();\n",
    "        Console.WriteLine(\"答案：a\");\n",
    "    }\n",
    "}"
   ]
  },
  {
   "cell_type": "markdown",
   "metadata": {},
   "source": [
    "上述更改后还存在相同的东西，比如都有base.TestQuestion(),还有Console.WriteLine(\"答案：a\");，除了选项的ABCD，其他都是重复的\n",
    "- - -\n",
    "既然用了继承，并且肯定这个继承有意义，就应该成为子类的模板，所有重复的代码都应该上升到父类去，而不是让每个子类都去重复\n",
    "- - -\n",
    "> 模板方法：当我们要完成在某一细节层次一致的一个过程或一系列步骤，但其个别步骤在更详细的层次上实现可能不同时，我们通常考虑模板方法模式来处理"
   ]
  },
  {
   "cell_type": "markdown",
   "metadata": {},
   "source": [
    "### 使用模板方法优化试卷类"
   ]
  },
  {
   "cell_type": "markdown",
   "metadata": {},
   "source": [
    "<font color=\"orange\">试卷父类代码</font>"
   ]
  },
  {
   "cell_type": "code",
   "execution_count": 9,
   "metadata": {
    "vscode": {
     "languageId": "polyglot-notebook"
    }
   },
   "outputs": [],
   "source": [
    "class TestPaper\n",
    "{\n",
    "    public void TestQuestion1()\n",
    "    {\n",
    "        Console.WriteLine(\"杨过得到，后来给了郭靖，炼成倚天剑，屠龙刀的玄铁可能是[] a.球磨铸铁 b.马口铁 c.高速合金钢 d.碳素纤维\");\n",
    "        Console.WriteLine($\"答案：{Answer1()}\");\n",
    "    }\n",
    "    public void TestQuestion2()\n",
    "    {\n",
    "        Console.WriteLine(\"杨过，程英，陆无双产出了情花，造成[] a.使这植物不在害人 b.使一种珍惜物种灭绝 c.破坏了那个生物圈的生态平衡 d.造成了该地区的沙化\");\n",
    "        Console.WriteLine($\"答案：{Answer2()}\");\n",
    "    }\n",
    "    public void TestQuestion3()\n",
    "    {\n",
    "        Console.WriteLine(\"蓝凤凰致使华山师徒、桃谷六仙呕吐不止，如果你是大夫，会给他们开什么药[] a.阿司匹林 b.牛黄解毒片 c.氟哌酸 d.让他们喝大量生牛奶 e.以上全不对\");\n",
    "        Console.WriteLine($\"答案：{Answer3()}\");\n",
    "    }\n",
    "    protected virtual string Answer1()\n",
    "    {\n",
    "        return \"\";\n",
    "    }\n",
    "    protected virtual string Answer2()\n",
    "    {\n",
    "        return \"\";\n",
    "    }\n",
    "    protected virtual string Answer3()\n",
    "    {\n",
    "        return \"\";\n",
    "    }\n",
    "}"
   ]
  },
  {
   "cell_type": "markdown",
   "metadata": {},
   "source": [
    "<font color=\"orange\">学生子类代码</font>"
   ]
  },
  {
   "cell_type": "code",
   "execution_count": 10,
   "metadata": {
    "vscode": {
     "languageId": "polyglot-notebook"
    }
   },
   "outputs": [],
   "source": [
    "class TestPaperA: TestPaper\n",
    "{\n",
    "    protected override string Answer1()\n",
    "    {\n",
    "        return \"b\";\n",
    "    }\n",
    "    protected override string Answer2()\n",
    "    {\n",
    "        return \"b\";\n",
    "    }\n",
    "    protected override string Answer3()\n",
    "    {\n",
    "        return \"b\";\n",
    "    }\n",
    "}\n",
    "class TestPaperB: TestPaper\n",
    "{\n",
    "    protected override string Answer1()\n",
    "    {\n",
    "        return \"c\";\n",
    "    }\n",
    "    protected override string Answer2()\n",
    "    {\n",
    "        return \"a\";\n",
    "    }\n",
    "    protected override string Answer3()\n",
    "    {\n",
    "        return \"a\";\n",
    "    }\n",
    "}"
   ]
  },
  {
   "cell_type": "markdown",
   "metadata": {},
   "source": [
    "<font color=\"orange\">代码结构图</font>"
   ]
  },
  {
   "cell_type": "code",
   "execution_count": 11,
   "metadata": {
    "dotnet_interactive": {
     "language": "mermaid"
    },
    "polyglot_notebook": {
     "kernelName": "mermaid"
    },
    "vscode": {
     "languageId": "polyglot-notebook"
    }
   },
   "outputs": [
    {
     "data": {
      "text/html": [
       "<div class=\"mermaidMarkdownContainer\" style=\"background-color:white\">\r\n",
       "<link rel=\"stylesheet\" href=\"https://cdnjs.cloudflare.com/ajax/libs/font-awesome/6.2.0/css/all.min.css\">\r\n",
       "<div id=\"3c983b8b8fbc4ed4aa9ea0eae58bdb2a\"></div>\r\n",
       "<script type=\"module\">\r\n",
       "\r\n",
       "            import mermaid from 'https://cdn.jsdelivr.net/npm/mermaid@10.6.1/dist/mermaid.esm.min.mjs';\r\n",
       "            let renderTarget = document.getElementById('3c983b8b8fbc4ed4aa9ea0eae58bdb2a');\r\n",
       "            try {\r\n",
       "                const {svg, bindFunctions} = await mermaid.mermaidAPI.render( \r\n",
       "                    'mermaid_3c983b8b8fbc4ed4aa9ea0eae58bdb2a', \r\n",
       "                    `classDiagram\r\n",
       "    class 金庸小说考题卷{\r\n",
       "        <<abstract>>\r\n",
       "        +试题1()\r\n",
       "        +试题2()\r\n",
       "        +试题3()\r\n",
       "        #答案1() string\r\n",
       "        #答案2() string\r\n",
       "        #答案3() string\r\n",
       "    }\r\n",
       "    class 学生甲抄的试卷{\r\n",
       "        #答案1() string\r\n",
       "        #答案2() string\r\n",
       "        #答案3() string\r\n",
       "    }\r\n",
       "    class 学生乙抄的试卷{\r\n",
       "        #答案1() string\r\n",
       "        #答案2() string\r\n",
       "        #答案3() string\r\n",
       "    }\r\n",
       "    学生甲抄的试卷 --|> 金庸小说考题卷\r\n",
       "    学生乙抄的试卷 --|> 金庸小说考题卷`);\r\n",
       "                renderTarget.innerHTML = svg;\r\n",
       "                bindFunctions?.(renderTarget);\r\n",
       "            }\r\n",
       "            catch (error) {\r\n",
       "                console.log(error);\r\n",
       "            }\r\n",
       "</script>\r\n",
       "</div>\r\n"
      ]
     },
     "metadata": {},
     "output_type": "display_data"
    }
   ],
   "source": [
    "classDiagram\n",
    "    class 金庸小说考题卷{\n",
    "        <<abstract>>\n",
    "        +试题1()\n",
    "        +试题2()\n",
    "        +试题3()\n",
    "        #答案1() string\n",
    "        #答案2() string\n",
    "        #答案3() string\n",
    "    }\n",
    "    class 学生甲抄的试卷{\n",
    "        #答案1() string\n",
    "        #答案2() string\n",
    "        #答案3() string\n",
    "    }\n",
    "    class 学生乙抄的试卷{\n",
    "        #答案1() string\n",
    "        #答案2() string\n",
    "        #答案3() string\n",
    "    }\n",
    "    学生甲抄的试卷 --|> 金庸小说考题卷\n",
    "    学生乙抄的试卷 --|> 金庸小说考题卷"
   ]
  },
  {
   "cell_type": "markdown",
   "metadata": {},
   "source": [
    "<font color=\"orange\">客户端代码</font>"
   ]
  },
  {
   "cell_type": "code",
   "execution_count": 12,
   "metadata": {
    "vscode": {
     "languageId": "polyglot-notebook"
    }
   },
   "outputs": [
    {
     "name": "stdout",
     "output_type": "stream",
     "text": [
      "学生甲抄的试卷：\n",
      "杨过得到，后来给了郭靖，炼成倚天剑，屠龙刀的玄铁可能是[] a.球磨铸铁 b.马口铁 c.高速合金钢 d.碳素纤维\n",
      "答案：b\n",
      "杨过，程英，陆无双产出了情花，造成[] a.使这植物不在害人 b.使一种珍惜物种灭绝 c.破坏了那个生物圈的生态平衡 d.造成了该地区的沙化\n",
      "答案：b\n",
      "蓝凤凰致使华山师徒、桃谷六仙呕吐不止，如果你是大夫，会给他们开什么药[] a.阿司匹林 b.牛黄解毒片 c.氟哌酸 d.让他们喝大量生牛奶 e.以上全不对\n",
      "答案：b\n",
      "学生乙抄的试卷：\n",
      "杨过得到，后来给了郭靖，炼成倚天剑，屠龙刀的玄铁可能是[] a.球磨铸铁 b.马口铁 c.高速合金钢 d.碳素纤维\n",
      "答案：c\n",
      "杨过，程英，陆无双产出了情花，造成[] a.使这植物不在害人 b.使一种珍惜物种灭绝 c.破坏了那个生物圈的生态平衡 d.造成了该地区的沙化\n",
      "答案：a\n",
      "蓝凤凰致使华山师徒、桃谷六仙呕吐不止，如果你是大夫，会给他们开什么药[] a.阿司匹林 b.牛黄解毒片 c.氟哌酸 d.让他们喝大量生牛奶 e.以上全不对\n",
      "答案：a\n"
     ]
    }
   ],
   "source": [
    "Console.WriteLine(\"学生甲抄的试卷：\");\n",
    "//将子类变量声明改成父类，利用多态性，实现了代码的复用\n",
    "TestPaper studentA = new TestPaperA();\n",
    "studentA.TestQuestion1();\n",
    "studentA.TestQuestion2();\n",
    "studentA.TestQuestion3();\n",
    "\n",
    "Console.WriteLine(\"学生乙抄的试卷：\");\n",
    "//将子类变量声明改成父类，利用多态性，实现了代码的复用\n",
    "TestPaper studentB = new TestPaperB();\n",
    "studentB.TestQuestion1();\n",
    "studentB.TestQuestion2();\n",
    "studentB.TestQuestion3();\n"
   ]
  },
  {
   "cell_type": "markdown",
   "metadata": {},
   "source": [
    "### 模板方法模式"
   ]
  },
  {
   "cell_type": "markdown",
   "metadata": {},
   "source": [
    "> <font color=\"orange\">模板方法模式：定义一个操作中的算法的骨架，而将一些步骤延迟到子类中。模板方法使得子类可以不改变一个算法的结构即可重新定义该算法的某些特定步骤</font>"
   ]
  },
  {
   "cell_type": "code",
   "execution_count": 14,
   "metadata": {
    "dotnet_interactive": {
     "language": "mermaid"
    },
    "polyglot_notebook": {
     "kernelName": "mermaid"
    },
    "vscode": {
     "languageId": "polyglot-notebook"
    }
   },
   "outputs": [
    {
     "data": {
      "text/html": [
       "<div class=\"mermaidMarkdownContainer\" style=\"background-color:white\">\r\n",
       "<link rel=\"stylesheet\" href=\"https://cdnjs.cloudflare.com/ajax/libs/font-awesome/6.2.0/css/all.min.css\">\r\n",
       "<div id=\"4d5cd7cdd2494e84b69dfb2eeb85f56b\"></div>\r\n",
       "<script type=\"module\">\r\n",
       "\r\n",
       "            import mermaid from 'https://cdn.jsdelivr.net/npm/mermaid@10.6.1/dist/mermaid.esm.min.mjs';\r\n",
       "            let renderTarget = document.getElementById('4d5cd7cdd2494e84b69dfb2eeb85f56b');\r\n",
       "            try {\r\n",
       "                const {svg, bindFunctions} = await mermaid.mermaidAPI.render( \r\n",
       "                    'mermaid_4d5cd7cdd2494e84b69dfb2eeb85f56b', \r\n",
       "                    `---\r\n",
       "title: 模板方法模式（TemplateMethod）结构图\r\n",
       "---\r\n",
       "classDiagram\r\n",
       "    class AbstractClass{\r\n",
       "        <<abstract>>\r\n",
       "        +TemplateMethod()\r\n",
       "        +PremitiveOperation1()\r\n",
       "        +PremitiveOperation2()\r\n",
       "    }\r\n",
       "    class ConcreteClass{\r\n",
       "        +PremitiveOperation1()\r\n",
       "        +PremitiveOperation2()\r\n",
       "    }\r\n",
       "    note for AbstractClass \"实现了一个模板方法，定义了算法的骨架，具体子类将重定义PremitiveOperation以实现一个算法的步骤\"\r\n",
       "    note for ConcreteClass \"实现PremitiveOperation以完成算法中与特定子类相关的步骤\"\r\n",
       "    AbstractClass <|-- ConcreteClass`);\r\n",
       "                renderTarget.innerHTML = svg;\r\n",
       "                bindFunctions?.(renderTarget);\r\n",
       "            }\r\n",
       "            catch (error) {\r\n",
       "                console.log(error);\r\n",
       "            }\r\n",
       "</script>\r\n",
       "</div>\r\n"
      ]
     },
     "metadata": {},
     "output_type": "display_data"
    }
   ],
   "source": [
    "---\n",
    "title: 模板方法模式（TemplateMethod）结构图\n",
    "---\n",
    "classDiagram\n",
    "    class AbstractClass{\n",
    "        <<abstract>>\n",
    "        +TemplateMethod()\n",
    "        +PremitiveOperation1()\n",
    "        +PremitiveOperation2()\n",
    "    }\n",
    "    class ConcreteClass{\n",
    "        +PremitiveOperation1()\n",
    "        +PremitiveOperation2()\n",
    "    }\n",
    "    note for AbstractClass \"实现了一个模板方法，定义了算法的骨架，具体子类将重定义PremitiveOperation以实现一个算法的步骤\"\n",
    "    note for ConcreteClass \"实现PremitiveOperation以完成算法中与特定子类相关的步骤\"\n",
    "    AbstractClass <|-- ConcreteClass"
   ]
  },
  {
   "cell_type": "markdown",
   "metadata": {},
   "source": [
    "AbstractClass是抽象类，其实也就是一些抽象模板，定义并实现了一个模板方法。这个模板方法一般是一个具体方法，它给出了一个顶级的逻辑骨架，而逻辑的组成步骤在相应的抽象操作中，推迟到子类实现。顶级逻辑也有可能调用一些具体方法。"
   ]
  },
  {
   "cell_type": "code",
   "execution_count": 15,
   "metadata": {
    "vscode": {
     "languageId": "polyglot-notebook"
    }
   },
   "outputs": [],
   "source": [
    "abstract class AbstractClass\n",
    "{\n",
    "    //一些抽象行为，放到子类中去实现\n",
    "    public abstract void PremitiveOperation1();\n",
    "    public abstract void PremitiveOperation2();\n",
    "    //模板方法，给出了逻辑的骨架，而逻辑的组成是一些相应的抽象操作\n",
    "    public void TemplateMethod()\n",
    "    {\n",
    "        PremitiveOperation1();\n",
    "        PremitiveOperation2();\n",
    "        Console.WriteLine(\"\");\n",
    "    }\n",
    "}"
   ]
  },
  {
   "cell_type": "markdown",
   "metadata": {},
   "source": [
    "ConcreteClass,实现父类所定义的一个或多个抽象方法。每一个AbstractClass都可以有任意多个ConcreteClass与之对应，而每一个ConcreteClass都可以给出这些抽象方法（也就是顶级逻辑的组成步骤）的不同实现，从而使得顶级逻辑的实现各不相同"
   ]
  },
  {
   "cell_type": "code",
   "execution_count": 16,
   "metadata": {
    "vscode": {
     "languageId": "polyglot-notebook"
    }
   },
   "outputs": [],
   "source": [
    "class ConcreteClassA: AbstractClass\n",
    "{\n",
    "    public override void PremitiveOperation1()\n",
    "    {\n",
    "        Console.WriteLine(\"具体类A方法的1实现\");\n",
    "    }\n",
    "    public override void PremitiveOperation2()\n",
    "    {\n",
    "        Console.WriteLine(\"具体类A方法的2实现\");\n",
    "    }\n",
    "}\n",
    "class ConcreteClassB: AbstractClass\n",
    "{\n",
    "    public override void PremitiveOperation1()\n",
    "    {\n",
    "        Console.WriteLine(\"具体类B方法的1实现\");\n",
    "    }\n",
    "    public override void PremitiveOperation2()\n",
    "    {\n",
    "        Console.WriteLine(\"具体类B方法的2实现\");\n",
    "    }\n",
    "}"
   ]
  },
  {
   "cell_type": "markdown",
   "metadata": {},
   "source": [
    "客户端的调用"
   ]
  },
  {
   "cell_type": "code",
   "execution_count": 17,
   "metadata": {
    "vscode": {
     "languageId": "polyglot-notebook"
    }
   },
   "outputs": [
    {
     "name": "stdout",
     "output_type": "stream",
     "text": [
      "具体类A方法的1实现\n",
      "具体类A方法的2实现\n",
      "\n",
      "具体类B方法的1实现\n",
      "具体类B方法的2实现\n",
      "\n"
     ]
    }
   ],
   "source": [
    "AbstractClass c;\n",
    "c = new ConcreteClassA();\n",
    "c.TemplateMethod();\n",
    "\n",
    "c = new ConcreteClassB();\n",
    "c.TemplateMethod();"
   ]
  },
  {
   "cell_type": "markdown",
   "metadata": {
    "vscode": {
     "languageId": "polyglot-notebook"
    }
   },
   "source": [
    "### 模板方法模式的特点"
   ]
  },
  {
   "cell_type": "markdown",
   "metadata": {},
   "source": [
    "模板方法模式时通过把不变行为搬移到超类，去除子类中的重复代码来体现它的优势。模板方法提供了一个很好的代码复用平台。"
   ]
  },
  {
   "cell_type": "markdown",
   "metadata": {},
   "source": [
    "有时候，我们会遇到由一系列步骤构成的过程需要执行。这个过程从高层次上看是相同的，但是有些步骤的实现可能不同。这时候，我们通常就应该要考虑用模板方法模式了"
   ]
  },
  {
   "cell_type": "markdown",
   "metadata": {},
   "source": [
    "当不变的和可变的行为在方法的子类实现中混合在一起的时候，不变的行为就会在子类中重复出现。我们通过模板方法把这些行为搬到单一的地方，这样就帮助子类拜托重复的不变行为的纠缠。"
   ]
  },
  {
   "cell_type": "markdown",
   "metadata": {},
   "source": []
  }
 ],
 "metadata": {
  "kernelspec": {
   "display_name": ".NET (C#)",
   "language": "C#",
   "name": ".net-csharp"
  },
  "language_info": {
   "name": "csharp"
  },
  "polyglot_notebook": {
   "kernelInfo": {
    "defaultKernelName": "csharp",
    "items": [
     {
      "aliases": [],
      "name": "csharp"
     }
    ]
   }
  }
 },
 "nbformat": 4,
 "nbformat_minor": 2
}
